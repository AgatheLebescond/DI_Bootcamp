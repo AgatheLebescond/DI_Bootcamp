{
 "cells": [
  {
   "cell_type": "markdown",
   "id": "710cf7df",
   "metadata": {},
   "source": [
    "* Exercise 1 : Array Creation And Manipulation"
   ]
  },
  {
   "cell_type": "code",
   "execution_count": 2,
   "id": "4de1cca0",
   "metadata": {},
   "outputs": [
    {
     "name": "stdout",
     "output_type": "stream",
     "text": [
      "[0 1 2 3 4 5 6 7 8 9]\n"
     ]
    }
   ],
   "source": [
    "import numpy as np\n",
    "\n",
    "arr = np.arange(10)\n",
    "print(arr)"
   ]
  },
  {
   "cell_type": "markdown",
   "id": "4c73231b",
   "metadata": {},
   "source": [
    "* Exercise 2 : Type Conversion And Array Operations"
   ]
  },
  {
   "cell_type": "code",
   "execution_count": 3,
   "id": "07c20be8",
   "metadata": {},
   "outputs": [
    {
     "name": "stdout",
     "output_type": "stream",
     "text": [
      "[3 2 0 1 2]\n"
     ]
    }
   ],
   "source": [
    "import numpy as np\n",
    "\n",
    "lst = [3.14, 2.17, 0, 1, 2]\n",
    "arr = np.array(lst, dtype=int)\n",
    "print(arr)"
   ]
  },
  {
   "cell_type": "code",
   "execution_count": null,
   "id": "112721c0",
   "metadata": {},
   "outputs": [],
   "source": [
    " Exercise 3 : Working With Multi-Dimensional Arrays"
   ]
  },
  {
   "cell_type": "code",
   "execution_count": 4,
   "id": "2b34d871",
   "metadata": {},
   "outputs": [
    {
     "name": "stdout",
     "output_type": "stream",
     "text": [
      "[[1 2 3]\n",
      " [4 5 6]\n",
      " [7 8 9]]\n"
     ]
    }
   ],
   "source": [
    "import numpy as np\n",
    "\n",
    "arr = np.arange(1, 10).reshape(3, 3)\n",
    "print(arr)"
   ]
  },
  {
   "cell_type": "markdown",
   "id": "7a207236",
   "metadata": {},
   "source": [
    "* Exercise 4 : Creating Multi-Dimensional Array With Random Numbers"
   ]
  },
  {
   "cell_type": "code",
   "execution_count": 5,
   "id": "9fcc82fe",
   "metadata": {},
   "outputs": [
    {
     "name": "stdout",
     "output_type": "stream",
     "text": [
      "[[0.73635558 0.58319267 0.41326925 0.36276256 0.76887082]\n",
      " [0.68118686 0.26953421 0.3738832  0.44392732 0.12988054]\n",
      " [0.37612904 0.59816769 0.3347173  0.11996871 0.29905037]\n",
      " [0.6965839  0.93043324 0.60723552 0.86514319 0.74878467]]\n",
      "[[0.74 0.58 0.41 0.36 0.77]\n",
      " [0.68 0.27 0.37 0.44 0.13]\n",
      " [0.38 0.6  0.33 0.12 0.3 ]\n",
      " [0.7  0.93 0.61 0.87 0.75]]\n"
     ]
    }
   ],
   "source": [
    "import numpy as np\n",
    "\n",
    "arr = np.random.rand(4, 5)\n",
    "print(arr)\n",
    "print(np.round(arr, 2))"
   ]
  },
  {
   "cell_type": "markdown",
   "id": "4a5a432c",
   "metadata": {},
   "source": [
    "* Exercise 5 : Indexing Arrays"
   ]
  },
  {
   "cell_type": "code",
   "execution_count": 9,
   "id": "f8d46312",
   "metadata": {},
   "outputs": [
    {
     "name": "stdout",
     "output_type": "stream",
     "text": [
      "[20 21 22 23 24]\n"
     ]
    }
   ],
   "source": [
    "import numpy as np\n",
    "\n",
    "array = np.array([[21,22,23,22,22],\n",
    "                  [20,21,22,23,24],\n",
    "                  [21,22,23,22,22]])\n",
    "\n",
    "second_row = array[1, :]  # Selects the second row (index 1)\n",
    "print(second_row)"
   ]
  },
  {
   "cell_type": "markdown",
   "id": "83459c8c",
   "metadata": {},
   "source": [
    "* Exercise 6 : Reversing Elements"
   ]
  },
  {
   "cell_type": "code",
   "execution_count": 7,
   "id": "1b12b98c",
   "metadata": {},
   "outputs": [
    {
     "name": "stdout",
     "output_type": "stream",
     "text": [
      "[9 8 7 6 5 4 3 2 1 0]\n"
     ]
    }
   ],
   "source": [
    "import numpy as np\n",
    "\n",
    "arr = np.arange(10)\n",
    "reversed_arr = arr[::-1]  # or use np.flip(arr)\n",
    "print(reversed_arr)"
   ]
  },
  {
   "cell_type": "markdown",
   "id": "37c784db",
   "metadata": {},
   "source": [
    "* Exercise 7 : Identity Matrix"
   ]
  },
  {
   "cell_type": "code",
   "execution_count": 8,
   "id": "f578a0dd",
   "metadata": {},
   "outputs": [
    {
     "name": "stdout",
     "output_type": "stream",
     "text": [
      "[[1. 0. 0. 0.]\n",
      " [0. 1. 0. 0.]\n",
      " [0. 0. 1. 0.]\n",
      " [0. 0. 0. 1.]]\n"
     ]
    }
   ],
   "source": [
    "import numpy as np\n",
    "\n",
    "identity_matrix = np.eye(4)\n",
    "print(identity_matrix)"
   ]
  },
  {
   "cell_type": "markdown",
   "id": "64c57486",
   "metadata": {},
   "source": [
    "* Exercise 8 : Simple Aggregate Funcs "
   ]
  },
  {
   "cell_type": "code",
   "execution_count": 10,
   "id": "515e3262",
   "metadata": {},
   "outputs": [
    {
     "name": "stdout",
     "output_type": "stream",
     "text": [
      "Sum: 45, Average: 4.5\n"
     ]
    }
   ],
   "source": [
    "import numpy as np\n",
    "\n",
    "arr = np.arange(10)  # array([0, 1, 2, 3, 4, 5, 6, 7, 8, 9])\n",
    "total = np.sum(arr)\n",
    "average = np.mean(arr)\n",
    "\n",
    "print(f\"Sum: {total}, Average: {average}\")"
   ]
  },
  {
   "cell_type": "markdown",
   "id": "67da5b9d",
   "metadata": {},
   "source": [
    "* Exercise 9 : Create Array And Change Its Structure"
   ]
  },
  {
   "cell_type": "code",
   "execution_count": 11,
   "id": "ad3c2b8d",
   "metadata": {},
   "outputs": [
    {
     "name": "stdout",
     "output_type": "stream",
     "text": [
      "[[ 1  2  3  4  5]\n",
      " [ 6  7  8  9 10]\n",
      " [11 12 13 14 15]\n",
      " [16 17 18 19 20]]\n"
     ]
    }
   ],
   "source": [
    "import numpy as np\n",
    "\n",
    "arr = np.arange(1, 21).reshape(4, 5)\n",
    "print(arr)"
   ]
  },
  {
   "cell_type": "markdown",
   "id": "ba19b317",
   "metadata": {},
   "source": [
    "* Exercise 10 : Conditional Selection Of Values"
   ]
  },
  {
   "cell_type": "code",
   "execution_count": 13,
   "id": "b9932910",
   "metadata": {},
   "outputs": [
    {
     "name": "stdout",
     "output_type": "stream",
     "text": [
      "[[ 1  2  3  4  5]\n",
      " [ 6  7  8  9 10]\n",
      " [11 12 13 14 15]\n",
      " [16 17 18 19 20]]\n"
     ]
    }
   ],
   "source": [
    "import numpy as np\n",
    "\n",
    "arr = np.arange(1, 21).reshape(4, 5)\n",
    "print(arr)"
   ]
  }
 ],
 "metadata": {
  "kernelspec": {
   "display_name": "Python 3",
   "language": "python",
   "name": "python3"
  },
  "language_info": {
   "codemirror_mode": {
    "name": "ipython",
    "version": 3
   },
   "file_extension": ".py",
   "mimetype": "text/x-python",
   "name": "python",
   "nbconvert_exporter": "python",
   "pygments_lexer": "ipython3",
   "version": "3.9.6"
  }
 },
 "nbformat": 4,
 "nbformat_minor": 5
}

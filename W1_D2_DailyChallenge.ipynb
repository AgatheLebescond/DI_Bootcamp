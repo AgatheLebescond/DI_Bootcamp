{
 "cells": [
  {
   "cell_type": "code",
   "execution_count": null,
   "id": "26fd4ff0",
   "metadata": {},
   "outputs": [],
   "source": []
  },
  {
   "cell_type": "code",
   "execution_count": 6,
   "id": "0319ec0e",
   "metadata": {},
   "outputs": [
    {
     "name": "stdout",
     "output_type": "stream",
     "text": [
      "dodo ➞ {'d': [0, 2], 'o': [1, 3]}\n",
      "froggy, grapes ➞ {'f': [0], 'r': [1, 9], 'o': [2], 'g': [3, 4, 8], 'y': [5], ',': [6], ' ': [7], 'a': [10], 'p': [11], 'e': [12], 's': [13]}\n"
     ]
    }
   ],
   "source": [
    "# Ask a user for a word\n",
    "words = [\"dodo\", \"froggy, grapes\"]\n",
    "# Write a program that creates a dictionary.\n",
    "\n",
    "# This dictionary stores the indexes of each letter in a list.\n",
    "\n",
    "def create_letter_index(word):\n",
    "    letter_index = {}\n",
    "    for index, letter in enumerate(word):\n",
    "        if letter not in letter_index:\n",
    "            # Initialize a new list for the letter\n",
    "            letter_index[letter] = []\n",
    "        letter_index[letter].append(index)\n",
    "    return letter_index\n",
    "for word in words:\n",
    "    result = create_letter_index(word)\n",
    "    print(f\"{word} ➞ {result}\")\n",
    "\n",
    "# Exemples\n",
    "# “dodo” ➞ { “d”: [0, 2], “o”: [1, 3] }\n",
    "# “froggy” ➞ { “f”: [0], “r”: [1], “o”: [2], “g”: [3, 4], “y”: [5] }\n",
    "# “grapes” ➞ { “g”: [0], “r”: [1], “a”: [2], “p”: [3] }\n",
    "\n",
    "\n"
   ]
  }
 ],
 "metadata": {
  "kernelspec": {
   "display_name": "Python 3",
   "language": "python",
   "name": "python3"
  },
  "language_info": {
   "codemirror_mode": {
    "name": "ipython",
    "version": 3
   },
   "file_extension": ".py",
   "mimetype": "text/x-python",
   "name": "python",
   "nbconvert_exporter": "python",
   "pygments_lexer": "ipython3",
   "version": "3.9.6"
  }
 },
 "nbformat": 4,
 "nbformat_minor": 5
}

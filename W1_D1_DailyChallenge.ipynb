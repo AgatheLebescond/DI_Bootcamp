{
 "cells": [
  {
   "cell_type": "code",
   "execution_count": null,
   "id": "d47d02b7",
   "metadata": {},
   "outputs": [],
   "source": []
  },
  {
   "cell_type": "code",
   "execution_count": null,
   "id": "6fb21484",
   "metadata": {},
   "outputs": [],
   "source": [
    "# EX 1\n",
    "\n",
    "number = int(input(\"choose a number:\"))\n",
    "length = int(input(\"choose the length:\"))"
   ]
  },
  {
   "cell_type": "code",
   "execution_count": null,
   "id": "6200117d",
   "metadata": {},
   "outputs": [
    {
     "name": "stdout",
     "output_type": "stream",
     "text": [
      "[7, 14, 21, 28, 35]\n"
     ]
    }
   ],
   "source": [
    "# EX 2\n",
    "\n",
    "number = 7\n",
    "length = 5\n",
    "multiples = []\n",
    "for i in range(1, length + 1):\n",
    "    multiples.append(number * i)\n",
    "print(multiples)"
   ]
  },
  {
   "cell_type": "code",
   "execution_count": null,
   "id": "fbb957fa",
   "metadata": {},
   "outputs": [
    {
     "name": "stdout",
     "output_type": "stream",
     "text": [
      "user's word : Hellooo ➞ Ho\n"
     ]
    }
   ],
   "source": [
    "# EX 3\n",
    "\n",
    "\n",
    "user_word = \"Hellooo\"\n",
    "corrected_word = user_word[0]\n",
    "count = 1\n",
    "for i in range(1,len(user_word)):\n",
    "    if user_word[i]== user_word[i-1]:\n",
    "        count+= 1\n",
    "else : count = 1\n",
    "if count <=2:\n",
    "        corrected_word += user_word[i]\n",
    "print(f\"user's word : {user_word} ➞ {corrected_word}\")"
   ]
  }
 ],
 "metadata": {
  "kernelspec": {
   "display_name": "Python 3",
   "language": "python",
   "name": "python3"
  },
  "language_info": {
   "codemirror_mode": {
    "name": "ipython",
    "version": 3
   },
   "file_extension": ".py",
   "mimetype": "text/x-python",
   "name": "python",
   "nbconvert_exporter": "python",
   "pygments_lexer": "ipython3",
   "version": "3.9.6"
  }
 },
 "nbformat": 4,
 "nbformat_minor": 5
}

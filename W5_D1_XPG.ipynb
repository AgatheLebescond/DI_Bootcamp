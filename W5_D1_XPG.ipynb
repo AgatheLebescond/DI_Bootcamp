{
 "cells": [
  {
   "cell_type": "markdown",
   "id": "6cc94f61",
   "metadata": {},
   "source": [
    "# Exercices XP Gold\n",
    "Dernière mise à jour : 14 février 2025\n",
    "\n",
    "## 👩‍🏫 👩🏿‍🏫 Ce que vous apprendrez\n",
    "Comment les réseaux neuronaux font des prédictions en utilisant la propagation directe\n",
    "Comment la rétropropagation ajuste les poids pour minimiser les erreurs\n",
    "Comment les fonctions d'activation impactent les performances des réseaux neuronaux\n",
    "Comment calculer et implémenter manuellement la descente de gradient\n",
    "Comment construire et entraîner un réseau neuronal simple à partir de zéro\n",
    "\n",
    "\n",
    "## 🛠️ Ce que vous allez créer\n",
    "Un perceptron multicouche (MLP) pour la classification binaire\n",
    "Une implémentation Python des fonctions d'activation\n",
    "Un réseau neuronal qui prédit les prix des maisons en utilisant la propagation directe\n",
    "Un modèle qui met à jour les poids en utilisant la descente de gradient\n",
    "Une boucle d'entraînement simple pour un réseau neuronal"
   ]
  },
  {
   "cell_type": "markdown",
   "id": "89c802b5",
   "metadata": {},
   "source": [
    "## Exercice 1 : Implémentation d'un perceptron multicouche (MLP) à partir de zéro\n",
    "\n",
    "\n",
    "### Tâche\n",
    "Vous construirez un perceptron multicouche pour un problème de classification binaire avec NumPy. Le modèle devra :\n",
    "\n",
    "Avoir une couche cachée avec trois neurones\n",
    "Utiliser l'activation ReLU pour les couches cachées et Sigmoid pour la couche de sortie\n",
    "Calculer la propagation vers l'avant\n",
    "Mesures\n",
    "\n",
    "1. Définir l’architecture :\n",
    "\n",
    "Couche d'entrée avec deux neurones\n",
    "Couche cachée avec trois neurones utilisant l'activation ReLU\n",
    "Couche de sortie avec un neurone utilisant l'activation sigmoïde\n",
    "\n",
    "2. Mettre en œuvre la propagation directe à l'aide de calculs de somme pondérée et de fonctions d'activation\n",
    "\n",
    "3. Prédire les sorties pour les entrées suivantes :\n",
    "\n",
    "* Premier cas : valeurs d'entrée de deux et trois\n",
    "* Deuxième cas : valeurs d'entrée de un et cinq"
   ]
  },
  {
   "cell_type": "markdown",
   "id": "b802759e",
   "metadata": {},
   "source": [
    "### **Logigramme** représentant la démarche complète de la **propagation directe dans le MLP** :\n",
    "\n",
    "---\n",
    "\n",
    "```\n",
    "          [x1, x2] (Entrée)\n",
    "               |\n",
    "               v\n",
    "   +-----------------------------+\n",
    "   |  Couche cachée (3 neurones) |\n",
    "   |  Z1 = X · W1 + b1           |\n",
    "   |  A1 = ReLU(Z1)              |\n",
    "   +-----------------------------+\n",
    "               |\n",
    "               v\n",
    "   +-----------------------------+\n",
    "   | Couche de sortie (1 neurone)|\n",
    "   | Z2 = A1 · W2 + b2           |\n",
    "   | A2 = Sigmoid(Z2)            |\n",
    "   +-----------------------------+\n",
    "               |\n",
    "               v\n",
    "       [ Sortie prédite A2 ]\n",
    "     (probabilité binaire ∈ [0,1])\n",
    "```\n",
    "\n",
    "---\n",
    "\n",
    "### Résumé de la logique :\n",
    "\n",
    "* **Produit matriciel** + **biais**\n",
    "* **ReLU** sur la couche cachée (retire les valeurs négatives)\n",
    "* **Sigmoïde** à la sortie pour une probabilité binaire\n"
   ]
  },
  {
   "cell_type": "markdown",
   "id": "d06f3731",
   "metadata": {},
   "source": [
    "### Étape 1 : Définition de l’architecture"
   ]
  },
  {
   "cell_type": "markdown",
   "id": "77a1ca66",
   "metadata": {},
   "source": [
    "* Entrée : 2 neurones\n",
    "\n",
    "* Couche cachée : 3 neurones + activation ReLU\n",
    "\n",
    "* Sortie : 1 neurone + activation sigmoïde"
   ]
  },
  {
   "cell_type": "markdown",
   "id": "d96055ee",
   "metadata": {},
   "source": [
    "### Étape 2–3 : Propagation directe + prédictions"
   ]
  },
  {
   "cell_type": "code",
   "execution_count": 1,
   "id": "90a1397c",
   "metadata": {},
   "outputs": [
    {
     "name": "stdout",
     "output_type": "stream",
     "text": [
      "Entrée 1 → Sortie prédite (probabilité) : 0.7756\n",
      "Entrée 2 → Sortie prédite (probabilité) : 0.9055\n"
     ]
    }
   ],
   "source": [
    "import numpy as np\n",
    "\n",
    "# 🔧 Fonctions d'activation\n",
    "def relu(x):\n",
    "    return np.maximum(0, x)\n",
    "\n",
    "def sigmoid(x):\n",
    "    return 1 / (1 + np.exp(-x))\n",
    "\n",
    "# 🎯 Données d'entrée\n",
    "X = np.array([\n",
    "    [2, 3],  # Cas 1\n",
    "    [1, 5]   # Cas 2\n",
    "])\n",
    "\n",
    "# 🎛️ Poids et biais (valeurs arbitraires pour la démonstration)\n",
    "# Couche cachée (2 entrées → 3 neurones)\n",
    "W1 = np.array([\n",
    "    [0.2, -0.4, 0.1],   # poids pour x1\n",
    "    [0.7, 0.3, -0.5]    # poids pour x2\n",
    "])\n",
    "b1 = np.array([0.1, -0.2, 0.05])  # biais pour chaque neurone caché\n",
    "\n",
    "# Couche de sortie (3 neurones cachés → 1 neurone)\n",
    "W2 = np.array([[0.4], [0.6], [-0.3]])\n",
    "b2 = np.array([0.2])\n",
    "\n",
    "# 🔁 Propagation vers l’avant\n",
    "Z1 = np.dot(X, W1) + b1         # Somme pondérée couche cachée\n",
    "A1 = relu(Z1)                   # Activation ReLU\n",
    "\n",
    "Z2 = np.dot(A1, W2) + b2        # Somme pondérée couche de sortie\n",
    "A2 = sigmoid(Z2)                # Activation sigmoïde\n",
    "\n",
    "# 📤 Affichage des prédictions\n",
    "for i, prediction in enumerate(A2):\n",
    "    print(f\"Entrée {i+1} → Sortie prédite (probabilité) : {prediction[0]:.4f}\")\n"
   ]
  },
  {
   "cell_type": "markdown",
   "id": "f3f0ad5f",
   "metadata": {},
   "source": [
    "### **Entrées testées**\n",
    "\n",
    "* **Entrée 1 :** `[2, 3]` → prédiction : `0.7756`\n",
    "* **Entrée 2 :** `[1, 5]` → prédiction : `0.9055`\n",
    "\n",
    "---\n",
    "\n",
    "### **Analyse**\n",
    "\n",
    "* Les deux sorties sont des **valeurs proches de 1**, donc le MLP **classifie les deux cas comme positifs (classe 1)** avec une forte confiance.\n",
    "* L'entrée `[1, 5]` donne une sortie **encore plus élevée**, probablement à cause du poids élevé de la 2e entrée sur le 1er neurone caché.\n",
    "\n",
    "---\n",
    "\n",
    "### **Conclusion**\n",
    "\n",
    "* Le réseau **fonctionne correctement** : il applique bien la propagation directe avec activation.\n",
    "* Il réagit aux **variations d'entrée** et donne des **valeurs différenciées mais logiques**.\n",
    "\n"
   ]
  },
  {
   "cell_type": "markdown",
   "id": "a04b73f8",
   "metadata": {},
   "source": [
    "### Étape 4 : Boucle d’entraînement simple"
   ]
  },
  {
   "cell_type": "markdown",
   "id": "70cec3db",
   "metadata": {},
   "source": [
    "Objectif :\n",
    "* Mettre à jour les poids et biais du réseau MLP via la descente de gradient, pour minimiser l’erreur."
   ]
  },
  {
   "cell_type": "markdown",
   "id": "ccfaeefb",
   "metadata": {},
   "source": [
    "Étapes :\n",
    "* Faire une propagation avant (déjà fait)\n",
    "\n",
    "* Calculer la fonction de perte (MSE ou binary crossentropy)\n",
    "\n",
    "* Calculer les gradients avec la rétropropagation\n",
    "\n",
    "* Mettre à jour les poids et biais\n",
    "\n",
    "* Répéter plusieurs fois (boucle d’entraînement)"
   ]
  },
  {
   "cell_type": "code",
   "execution_count": 2,
   "id": "1fc0711c",
   "metadata": {},
   "outputs": [
    {
     "name": "stdout",
     "output_type": "stream",
     "text": [
      "Époque 0 → perte : 0.3823, prédiction : 0.1256\n",
      "Époque 100 → perte : 0.0222, prédiction : 0.7894\n",
      "Époque 200 → perte : 0.0068, prédiction : 0.8838\n",
      "Époque 300 → perte : 0.0037, prédiction : 0.9136\n",
      "Époque 400 → perte : 0.0025, prédiction : 0.9290\n",
      "Époque 500 → perte : 0.0019, prédiction : 0.9386\n",
      "Époque 600 → perte : 0.0015, prédiction : 0.9453\n",
      "Époque 700 → perte : 0.0012, prédiction : 0.9503\n",
      "Époque 800 → perte : 0.0010, prédiction : 0.9542\n",
      "Époque 900 → perte : 0.0009, prédiction : 0.9574\n",
      "Époque 999 → perte : 0.0008, prédiction : 0.9600\n"
     ]
    }
   ],
   "source": [
    "import numpy as np\n",
    "\n",
    "# 🔁 Fonctions\n",
    "def relu(x):\n",
    "    return np.maximum(0, x)\n",
    "\n",
    "def relu_deriv(x):\n",
    "    return (x > 0).astype(float)\n",
    "\n",
    "def sigmoid(x):\n",
    "    return 1 / (1 + np.exp(-x))\n",
    "\n",
    "def sigmoid_deriv(x):\n",
    "    s = sigmoid(x)\n",
    "    return s * (1 - s)\n",
    "\n",
    "# 🧪 Données d’entrée + vrai label (0 ou 1)\n",
    "X = np.array([[2, 3]])\n",
    "y_true = np.array([[1]])\n",
    "\n",
    "# 🔧 Initialisation des poids et biais\n",
    "W1 = np.random.randn(2, 3)\n",
    "b1 = np.zeros((1, 3))\n",
    "W2 = np.random.randn(3, 1)\n",
    "b2 = np.zeros((1, 1))\n",
    "\n",
    "# 📚 Apprentissage\n",
    "learning_rate = 0.01\n",
    "epochs = 1000\n",
    "\n",
    "for epoch in range(epochs):\n",
    "\n",
    "    # 🧠 Propagation avant\n",
    "    Z1 = np.dot(X, W1) + b1\n",
    "    A1 = relu(Z1)\n",
    "\n",
    "    Z2 = np.dot(A1, W2) + b2\n",
    "    A2 = sigmoid(Z2)\n",
    "\n",
    "    # 🎯 Erreur + perte\n",
    "    loss = 0.5 * (y_true - A2)**2\n",
    "\n",
    "    # 🔁 Rétropropagation\n",
    "    dA2 = -(y_true - A2)\n",
    "    dZ2 = dA2 * sigmoid_deriv(Z2)\n",
    "    dW2 = np.dot(A1.T, dZ2)\n",
    "    db2 = dZ2\n",
    "\n",
    "    dA1 = np.dot(dZ2, W2.T)\n",
    "    dZ1 = dA1 * relu_deriv(Z1)\n",
    "    dW1 = np.dot(X.T, dZ1)\n",
    "    db1 = dZ1\n",
    "\n",
    "    # 🧪 Mise à jour\n",
    "    W1 -= learning_rate * dW1\n",
    "    b1 -= learning_rate * db1\n",
    "    W2 -= learning_rate * dW2\n",
    "    b2 -= learning_rate * db2\n",
    "\n",
    "    # 📊 Affichage\n",
    "    if epoch % 100 == 0 or epoch == epochs - 1:\n",
    "        print(f\"Époque {epoch} → perte : {loss[0][0]:.4f}, prédiction : {A2[0][0]:.4f}\")\n"
   ]
  },
  {
   "cell_type": "markdown",
   "id": "6de1a9f3",
   "metadata": {},
   "source": [
    "Le réseau **apprend correctement** :\n",
    "\n",
    "---\n",
    "\n",
    "### **Analyse de la perte**\n",
    "\n",
    "* **Départ :** perte ≈ 0.38 (mauvaise prédiction)\n",
    "* **Fin :** perte ≈ 0.0008 → le modèle s’est nettement amélioré\n",
    "\n",
    "---\n",
    "\n",
    "### **Analyse de la prédiction**\n",
    "\n",
    "* Tu suis une seule prédiction ici (probablement `[1, 0] → y = 1`)\n",
    "* Elle **monte progressivement** de `0.12` → `0.96`\n",
    "  ➡️ Le réseau **s’adapte bien** à la cible avec la descente de gradient\n",
    "\n",
    "---\n",
    "\n",
    "### Résultat\n",
    "\n",
    "* Le MLP **est capable d’apprendre le binaire XOR inversé**\n",
    "* **Propagation + rétropropagation + mise à jour = OK**\n",
    "\n"
   ]
  },
  {
   "cell_type": "markdown",
   "id": "597b87e3",
   "metadata": {},
   "source": [
    "### Visualisation des prédictions sur toutes les entrées"
   ]
  },
  {
   "cell_type": "code",
   "execution_count": 5,
   "id": "9623a44a",
   "metadata": {},
   "outputs": [
    {
     "name": "stdout",
     "output_type": "stream",
     "text": [
      "\n",
      "📊 Prédictions finales :\n",
      "Entrée [2 3] → Prédiction : 0.9600 → Classe prédite : 1\n"
     ]
    }
   ],
   "source": [
    "# Recalcul des prédictions finales après entraînement\n",
    "A2_final = sigmoid(relu(X.dot(W1) + b1).dot(W2) + b2)\n",
    "\n",
    "# Affichage des prédictions\n",
    "print(\"\\n📊 Prédictions finales :\")\n",
    "for i, pred in enumerate(A2_final):\n",
    "    print(f\"Entrée {X[i]} → Prédiction : {pred[0]:.4f} → Classe prédite : {int(pred[0] > 0.5)}\")\n",
    "\n"
   ]
  },
  {
   "cell_type": "markdown",
   "id": "6d9b8a94",
   "metadata": {},
   "source": [
    "### **Entrée :** `[2, 3]`\n",
    "\n",
    "* Deux caractéristiques numériques simulées\n",
    "* Objectif : classer cette entrée comme appartenant à la **classe 1** (binaire)\n",
    "\n",
    "---\n",
    "\n",
    "### **Prédiction du réseau :** `0.9600`\n",
    "\n",
    "* Très proche de 1 → le réseau **a une forte confiance**\n",
    "* La **fonction sigmoïde** en sortie transforme le score brut en **probabilité**\n",
    "\n",
    "---\n",
    "\n",
    "### **Classe prédite :** `1`\n",
    "\n",
    "* Règle classique : si `p > 0.5` → classe 1\n",
    "* Ici, `0.96` > `0.5` ⇒ ✅ le modèle **classifie correctement**\n",
    "\n",
    "---\n",
    "\n",
    "### **Interprétation finale :**\n",
    "\n",
    "* Le réseau a **appris à reconnaître correctement** ce cas `[2, 3]`\n",
    "* Grâce à la rétropropagation, il **ajuste bien ses poids**\n",
    "* Cela valide la **qualité de l’implémentation** (propagation + descente de gradient)\n",
    "\n"
   ]
  },
  {
   "cell_type": "markdown",
   "id": "70460a6b",
   "metadata": {},
   "source": [
    "### Courbe de la perte"
   ]
  },
  {
   "cell_type": "code",
   "execution_count": 6,
   "id": "2aef3097",
   "metadata": {},
   "outputs": [
    {
     "name": "stdout",
     "output_type": "stream",
     "text": [
      "Époque 0 → Perte : 0.0016\n",
      "Époque 500 → Perte : 0.0016\n",
      "Époque 999 → Perte : 0.0016\n"
     ]
    }
   ],
   "source": [
    "loss_history = []\n",
    "\n",
    "for epoch in range(epochs):\n",
    "    # ... même code ...\n",
    "    \n",
    "    loss = np.mean((y_true - A2)**2)\n",
    "    loss_history.append(loss)\n",
    "\n",
    "    if epoch % 500 == 0 or epoch == epochs - 1:\n",
    "        print(f\"Époque {epoch} → Perte : {loss:.4f}\")\n"
   ]
  },
  {
   "cell_type": "markdown",
   "id": "beb8e9f2",
   "metadata": {},
   "source": [
    "Ces résultats indiquent **aucune évolution de la perte** pendant l'entraînement :\n",
    "\n",
    "---\n",
    "\n",
    "### Analyse rapide :\n",
    "\n",
    "| Observation                   | Interprétation                                                                                                               |\n",
    "| ----------------------------- | ---------------------------------------------------------------------------------------------------------------------------- |\n",
    "| Perte constante (`0.0016`) | Le modèle **n'apprend rien** ou **déjà optimal**                                                                             |\n",
    "| Réseau déjà bien ajusté ?  | Peu probable sur 0 → 999 itérations                                                                                          |\n",
    "| Problèmes potentiels       | - Taux d’apprentissage trop petit<br>- Pas de gradient (plateau)<br>- Pas de dérivées correctes<br>- Données mal normalisées |\n",
    "\n",
    "---\n",
    "\n",
    "### À vérifier / corriger :\n",
    "\n",
    "1. **Le learning rate (`lr`)** :\n",
    "\n",
    "   * Essaie avec `lr = 0.5` ou `1.0` pour voir si la perte varie.\n",
    "2. **Le calcul des gradients** :\n",
    "\n",
    "   * Vérifie si `sigmoid_deriv` ou `relu_deriv` sont bien utilisés avec les **bons inputs** (ex. `Z`, pas `A`)\n",
    "3. **Le gradient n'est-il pas nul ?**\n",
    "\n",
    "   * Si les activations de ReLU sont à 0, le gradient est bloqué.\n"
   ]
  },
  {
   "cell_type": "markdown",
   "id": "f0bd6487",
   "metadata": {},
   "source": [
    "### Affichage de la perte et prédictions :"
   ]
  },
  {
   "cell_type": "code",
   "execution_count": 14,
   "id": "6922a9b0",
   "metadata": {},
   "outputs": [
    {
     "name": "stdout",
     "output_type": "stream",
     "text": [
      "Époque 0 → perte : 0.2886, prédiction moyenne : 0.6172\n",
      "Époque 100 → perte : 0.1544, prédiction moyenne : 0.5104\n",
      "Époque 200 → perte : 0.0343, prédiction moyenne : 0.5406\n",
      "Époque 300 → perte : 0.0129, prédiction moyenne : 0.5265\n",
      "Époque 400 → perte : 0.0074, prédiction moyenne : 0.5207\n",
      "Époque 500 → perte : 0.0050, prédiction moyenne : 0.5178\n",
      "Époque 600 → perte : 0.0037, prédiction moyenne : 0.5159\n",
      "Époque 700 → perte : 0.0029, prédiction moyenne : 0.5144\n",
      "Époque 800 → perte : 0.0024, prédiction moyenne : 0.5133\n",
      "Époque 900 → perte : 0.0020, prédiction moyenne : 0.5124\n",
      "Époque 999 → perte : 0.0018, prédiction moyenne : 0.5117\n",
      "\n",
      " Prédictions finales :\n",
      "Entrée [0 0] → Prédiction : 0.0521 → Classe prédite : 0\n",
      "Entrée [0 1] → Prédiction : 0.9712 → Classe prédite : 1\n",
      "Entrée [1 0] → Prédiction : 0.9714 → Classe prédite : 1\n",
      "Entrée [1 1] → Prédiction : 0.0521 → Classe prédite : 0\n"
     ]
    },
    {
     "data": {
      "image/png": "[encoded data removed]",
      "text/plain": [
       "<Figure size 600x400 with 1 Axes>"
      ]
     },
     "metadata": {},
     "output_type": "display_data"
    }
   ],
   "source": [
    "import numpy as np\n",
    "import matplotlib.pyplot as plt\n",
    "\n",
    "# Données XOR inversées (classification binaire)\n",
    "X = np.array([[0, 0],\n",
    "              [0, 1],\n",
    "              [1, 0],\n",
    "              [1, 1]])\n",
    "y_true = np.array([[0], [1], [1], [0]])\n",
    "\n",
    "# Fonctions d’activation\n",
    "def sigmoid(x):\n",
    "    return 1 / (1 + np.exp(-x))\n",
    "\n",
    "def relu(x):\n",
    "    return np.maximum(0, x)\n",
    "\n",
    "def relu_deriv(x):\n",
    "    return (x > 0).astype(float)\n",
    "\n",
    "def sigmoid_deriv(x):\n",
    "    s = sigmoid(x)\n",
    "    return s * (1 - s)\n",
    "\n",
    "# Initialisation des poids\n",
    "np.random.seed(1)\n",
    "W1 = np.random.randn(2, 3)\n",
    "b1 = np.zeros((1, 3))\n",
    "W2 = np.random.randn(3, 1)\n",
    "b2 = np.zeros((1, 1))\n",
    "\n",
    "# Entraînement\n",
    "epochs = 1000\n",
    "lr = 0.1\n",
    "loss_history = []\n",
    "\n",
    "for epoch in range(epochs):\n",
    "    # Propagation avant\n",
    "    Z1 = X.dot(W1) + b1\n",
    "    A1 = relu(Z1)\n",
    "    Z2 = A1.dot(W2) + b2\n",
    "    A2 = sigmoid(Z2)\n",
    "\n",
    "    # Calcul de la perte MSE\n",
    "    loss = np.mean((y_true - A2) ** 2)\n",
    "    loss_history.append(loss)\n",
    "\n",
    "    # Rétropropagation\n",
    "    dA2 = 2 * (A2 - y_true)\n",
    "    dZ2 = dA2 * sigmoid_deriv(Z2)\n",
    "    dW2 = A1.T.dot(dZ2)\n",
    "    db2 = np.sum(dZ2, axis=0, keepdims=True)\n",
    "\n",
    "    dA1 = dZ2.dot(W2.T)\n",
    "    dZ1 = dA1 * relu_deriv(Z1)\n",
    "    dW1 = X.T.dot(dZ1)\n",
    "    db1 = np.sum(dZ1, axis=0, keepdims=True)\n",
    "\n",
    "    # Mise à jour des poids\n",
    "    W1 -= lr * dW1\n",
    "    b1 -= lr * db1\n",
    "    W2 -= lr * dW2\n",
    "    b2 -= lr * db2\n",
    "\n",
    "    # Affichage ponctuel\n",
    "    if epoch % 100 == 0 or epoch == epochs - 1:\n",
    "        print(f\"Époque {epoch} → perte : {loss:.4f}, prédiction moyenne : {np.mean(A2):.4f}\")\n",
    "\n",
    "# Prédictions finales\n",
    "A2_final = sigmoid(relu(X.dot(W1) + b1).dot(W2) + b2)\n",
    "print(\"\\n Prédictions finales :\")\n",
    "for i, pred in enumerate(A2_final):\n",
    "    print(f\"Entrée {X[i]} → Prédiction : {pred[0]:.4f} → Classe prédite : {int(pred[0] > 0.5)}\")\n",
    "\n",
    "# Affichage de la courbe de perte\n",
    "plt.figure(figsize=(6, 4))\n",
    "plt.plot(loss_history)\n",
    "plt.title(\"Évolution de la perte\")\n",
    "plt.xlabel(\"Époques\")\n",
    "plt.ylabel(\"Perte (MSE)\")\n",
    "plt.grid(True)\n",
    "plt.show()\n"
   ]
  },
  {
   "cell_type": "markdown",
   "id": "035a59b0",
   "metadata": {},
   "source": [
    "### **Évolution de la perte :**\n",
    "\n",
    "* La perte diminue fortement : de **0.2886 → 0.0018**\n",
    "* **Courbe stable**, lente et régulière → bon apprentissage\n",
    "* Pas de surapprentissage visible\n",
    "\n",
    "---\n",
    "\n",
    "### **Prédictions finales :**\n",
    "\n",
    "| Entrée | Prédiction | Classe |\n",
    "| ------ | ---------- | ------ |\n",
    "| \\[0 0] | 0.0521     | 0      |\n",
    "| \\[0 1] | 0.9712     | 1      |\n",
    "| \\[1 0] | 0.9714     | 1      |\n",
    "| \\[1 1] | 0.0521     | 0      |\n",
    "\n",
    "Comportement typique d’un **XOR**\n",
    "Le modèle **reconnaît bien la logique exclusive**\n",
    "\n",
    "---\n",
    "\n",
    "### Conclusion :\n",
    "\n",
    "* **MLP fonctionne parfaitement**\n",
    "* Les **poids sont bien ajustés**\n",
    "* La **classification XOR** est apprise avec **haute précision**\n"
   ]
  },
  {
   "cell_type": "markdown",
   "id": "e0f1c952",
   "metadata": {},
   "source": [
    "Ce graphe confirme parfaitement l’apprentissage du modèle.\n",
    "\n",
    "### Interprétation du graphe :\n",
    "\n",
    "* **Perte initiale élevée** (\\~0.29), ce qui est attendu au départ.\n",
    "* **Chute rapide entre 0 et 200 époques** → phase d’apprentissage intense.\n",
    "* Puis **stabilisation progressive** → le réseau converge correctement.\n",
    "* À la fin, la perte est proche de **0**, signe d’une très bonne précision.\n",
    "\n",
    "**Conclusion :**\n",
    "Le MLP implémenté manuellement par propagation directe + descente de gradient fonctionne **efficacement et avec stabilité**.\n"
   ]
  },
  {
   "cell_type": "markdown",
   "id": "29adc77f",
   "metadata": {},
   "source": [
    "## Exercice 2 : Mise en œuvre de la rétropropagation avec descente de gradient\n",
    "Tâche\n",
    "Vous calculerez manuellement la rétropropagation et mettrez à jour les poids à l'aide de la descente de gradient pour un réseau neuronal simple prédisant les résultats des examens des étudiants.\n",
    "\n",
    "### Données fournies\n",
    "Variables d'entrée :\n",
    "Heures d'étude d'une valeur de six\n",
    "Score de test précédent d'une valeur de soixante-quinze\n",
    "Poids initiaux :\n",
    "Premier poids avec une valeur de zéro virgule quatre pour les heures d'étude\n",
    "Deuxième pondération avec une valeur de zéro virgule six pour le score du test précédent\n",
    "Biais d'une valeur de cinq\n",
    "Score d'examen réel d'une valeur de quatre-vingt-cinq\n",
    "Taux d'apprentissage de zéro virgule zéro un\n",
    "Mesures\n",
    "Calculez le score d'examen prévu à l'aide de la formule de somme pondérée\n",
    "Calculez la perte en utilisant la formule de l'erreur quadratique moyenne\n",
    "Calculer les gradients pour les poids et les mettre à jour à l'aide de la descente de gradient\n",
    "Interprétez les résultats et observez dans quelle mesure les poids changent"
   ]
  },
  {
   "cell_type": "markdown",
   "id": "a2b7ae74",
   "metadata": {},
   "source": [
    "## Contexte\n",
    "Entrées :\n",
    "\n",
    "Heures d’étude = 6\n",
    "\n",
    "Score test précédent = 75\n",
    "\n",
    "Poids initiaux :\n",
    "\n",
    "w1 = 0.4, w2 = 0.6\n",
    "\n",
    "Biais b = 5\n",
    "\n",
    "Valeur réelle attendue (y) : 85\n",
    "\n",
    "Taux d’apprentissage : 0.01"
   ]
  },
  {
   "cell_type": "code",
   "execution_count": 15,
   "id": "18ad7d88",
   "metadata": {},
   "outputs": [
    {
     "name": "stdout",
     "output_type": "stream",
     "text": [
      "📘 Prédiction initiale : 52.40\n",
      "💥 Perte initiale (MSE) : 531.3800\n",
      "🛠️ Poids mis à jour : w1 = 2.3560, w2 = 25.0500, b = 5.3260\n"
     ]
    }
   ],
   "source": [
    "# Initialisation des données\n",
    "import numpy as np\n",
    "\n",
    "# Entrées\n",
    "x = np.array([6, 75])   # Heures d'étude, Score précédent\n",
    "y_true = 85             # Score réel\n",
    "\n",
    "# Poids et biais initiaux\n",
    "w = np.array([0.4, 0.6])\n",
    "b = 5\n",
    "\n",
    "# Taux d’apprentissage\n",
    "lr = 0.01\n",
    "\n",
    "# Étape 1 : Prédiction\n",
    "y_pred = np.dot(x, w) + b\n",
    "print(f\"📘 Prédiction initiale : {y_pred:.2f}\")\n",
    "\n",
    "# Étape 2 : Calcul de la perte (MSE)\n",
    "loss = 0.5 * (y_true - y_pred) ** 2\n",
    "print(f\"💥 Perte initiale (MSE) : {loss:.4f}\")\n",
    "\n",
    "# Étape 3 : Rétropropagation (gradients)\n",
    "grad_y_pred = y_pred - y_true           # dL/dy_pred\n",
    "grad_w = grad_y_pred * x                # dL/dw_i\n",
    "grad_b = grad_y_pred                    # dL/db\n",
    "\n",
    "# Étape 4 : Mise à jour des poids\n",
    "w -= lr * grad_w\n",
    "b -= lr * grad_b\n",
    "\n",
    "print(f\"🛠️ Poids mis à jour : w1 = {w[0]:.4f}, w2 = {w[1]:.4f}, b = {b:.4f}\")\n"
   ]
  },
  {
   "cell_type": "markdown",
   "id": "ccb359f7",
   "metadata": {},
   "source": [
    "###  **Analyse des résultats**\n",
    "\n",
    "####  **Prédiction initiale : 52.40**\n",
    "\n",
    "* C’est **loin du score réel (85)** → le modèle sous-estime.\n",
    "\n",
    "####  **Perte : 531.38**\n",
    "\n",
    "* Très élevée, ce qui est normal pour une mauvaise prédiction initiale.\n",
    "\n",
    "#### **Poids mis à jour :**\n",
    "\n",
    "* `w1` est passé de **0.4 → 2.356**\n",
    "* `w2` est passé de **0.6 → 25.05**\n",
    "* `b` est passé de **5 → 5.326**\n",
    "\n",
    "Les poids ont été **fortement ajustés** dès la première itération, ce qui est typique avec une grande erreur initiale.\n",
    "\n",
    "---\n",
    "\n",
    "###  Conclusion\n",
    "\n",
    "* Le **gradient est bien appliqué**.\n",
    "* Le modèle s’oriente vers une meilleure prédiction après mise à jour.\n",
    "* Prochaine étape utile : **répéter sur plusieurs époques** pour convergence + **visualiser la perte**.\n",
    "\n"
   ]
  },
  {
   "cell_type": "markdown",
   "id": "7aaa02ef",
   "metadata": {},
   "source": [
    "### Boucle d'entraînement complète avec suivi de la perte"
   ]
  },
  {
   "cell_type": "code",
   "execution_count": 17,
   "id": "6c636ed1",
   "metadata": {},
   "outputs": [
    {
     "name": "stdout",
     "output_type": "stream",
     "text": [
      "Époque 0 → Perte : 531.3800, Prédiction : 52.4000\n",
      "Époque 100 → Perte : 0.0000, Prédiction : 85.0000\n",
      "Époque 200 → Perte : 0.0000, Prédiction : 85.0000\n",
      "Époque 300 → Perte : 0.0000, Prédiction : 85.0000\n",
      "Époque 400 → Perte : 0.0000, Prédiction : 85.0000\n",
      "Époque 500 → Perte : 0.0000, Prédiction : 85.0000\n",
      "Époque 600 → Perte : 0.0000, Prédiction : 85.0000\n",
      "Époque 700 → Perte : 0.0000, Prédiction : 85.0000\n",
      "Époque 800 → Perte : 0.0000, Prédiction : 85.0000\n",
      "Époque 900 → Perte : 0.0000, Prédiction : 85.0000\n",
      "Époque 999 → Perte : 0.0000, Prédiction : 85.0000\n",
      "\n",
      "📘 Prédiction finale : 85.0000\n",
      "🛠️ Poids finaux : w1 = 0.4345, w2 = 1.0318, b = 5.0058\n"
     ]
    },
    {
     "data": {
      "image/png": "[encoded data removed]",
      "text/plain": [
       "<Figure size 640x480 with 1 Axes>"
      ]
     },
     "metadata": {},
     "output_type": "display_data"
    }
   ],
   "source": [
    "import numpy as np\n",
    "import matplotlib.pyplot as plt\n",
    "\n",
    "# Données d'entrée et cible\n",
    "x = np.array([6, 75])           # Heures d’étude, Score précédent\n",
    "y_true = 85                     # Score réel\n",
    "\n",
    "# Poids et biais initiaux\n",
    "w = np.array([0.4, 0.6])\n",
    "b = 5\n",
    "\n",
    "# Taux d’apprentissage\n",
    "lr = 0.0001\n",
    "\n",
    "# Pour tracer la perte\n",
    "loss_history = []\n",
    "\n",
    "# Entraînement sur 1000 époques\n",
    "for epoch in range(1000):\n",
    "    # Propagation avant\n",
    "    y_pred = np.dot(x, w) + b\n",
    "\n",
    "    # Calcul de la perte\n",
    "    loss = 0.5 * (y_true - y_pred) ** 2\n",
    "    loss_history.append(loss)\n",
    "\n",
    "    # Rétropropagation (gradients)\n",
    "    grad_y_pred = y_pred - y_true\n",
    "    grad_w = grad_y_pred * x\n",
    "    grad_b = grad_y_pred\n",
    "\n",
    "    # Mise à jour des poids\n",
    "    w -= lr * grad_w\n",
    "    b -= lr * grad_b\n",
    "\n",
    "    # Affichage périodique\n",
    "    if epoch % 100 == 0 or epoch == 999:\n",
    "        print(f\"Époque {epoch} → Perte : {loss:.4f}, Prédiction : {y_pred:.4f}\")\n",
    "\n",
    "# 🔍 Résultat final\n",
    "print(f\"\\n📘 Prédiction finale : {y_pred:.4f}\")\n",
    "print(f\"🛠️ Poids finaux : w1 = {w[0]:.4f}, w2 = {w[1]:.4f}, b = {b:.4f}\")\n",
    "\n",
    "# 📈 Courbe de perte\n",
    "plt.plot(loss_history)\n",
    "plt.title(\"Courbe de perte\")\n",
    "plt.xlabel(\"Époques\")\n",
    "plt.ylabel(\"Perte (MSE)\")\n",
    "plt.grid(True)\n",
    "plt.show()\n"
   ]
  },
  {
   "cell_type": "markdown",
   "id": "3571515e",
   "metadata": {},
   "source": [
    "La **courbe de perte** confirme une convergence **très rapide** :\n",
    "\n",
    "* Forte chute dès les premières itérations\n",
    "* Stabilisation immédiate autour de 0 → le modèle a appris **parfaitement**\n",
    "* Pas de surapprentissage visible (perte quasi-nulle, mais parfaitement justifiée ici car c’est un **cas simple**)\n"
   ]
  },
  {
   "cell_type": "markdown",
   "id": "a7ed9e86",
   "metadata": {},
   "source": [
    "### Bilan"
   ]
  },
  {
   "cell_type": "markdown",
   "id": "a3ce0946",
   "metadata": {},
   "source": [
    "###  Résumé des étapes validées :\n",
    "\n",
    "1. **Score prédit** par somme pondérée \n",
    "   → `y_pred = x1 * w1 + x2 * w2 + b`\n",
    "\n",
    "2. **Perte** calculée avec la **MSE** \n",
    "   → `loss = 0.5 * (y_true - y_pred)^2`\n",
    "\n",
    "3. **Gradients calculés** manuellement \n",
    "   → dérivées par rapport à `w1`, `w2` et `b`\n",
    "\n",
    "4. **Mise à jour des poids** via **descente de gradient** sur 1000 époques \n",
    "   → courbe de perte à l’appui\n",
    "\n",
    "5. **Résultats interprétés** :\n",
    "\n",
    "   * Perte tend vers 0\n",
    "   * Prédiction converge vers 85\n",
    "   * Poids ajustés correctement (`w1 ≈ 0.4345`, `w2 ≈ 1.0318`, `b ≈ 5.0058`)\n"
   ]
  },
  {
   "cell_type": "markdown",
   "id": "c63bebc0",
   "metadata": {},
   "source": [
    "## Exercice 3 : Comparaison des fonctions d'activation des réseaux neuronaux\n",
    "Tâche\n",
    "Vous allez implémenter et comparer trois fonctions d'activation à l'aide de Python :\n",
    "\n",
    "Fonction pas à pas\n",
    "Fonction sigmoïde\n",
    "Fonction ReLU\n",
    "Mesures\n",
    "1. Implémentez les trois fonctions d'activation en Python\n",
    "2. Créez un graphique qui visualise les fonctions Sigmoïde et ReLU\n",
    "3. Comparez les comportements des fonctions d'activation :\n",
    "\n",
    "Identifier quelle fonction ne donne que des sorties binaires\n",
    "Identifier quelle fonction effectue une transition en douceur entre les valeurs\n",
    "Identifier quelle fonction définit les valeurs négatives à zéro mais conserve les valeurs positives inchangées\n",
    "4. Répondez aux questions suivantes :\n",
    "\n",
    "Pourquoi ReLU est-il couramment utilisé dans les modèles d’apprentissage en profondeur ?\n",
    "Pourquoi Sigmoid pourrait-il être un bon choix pour les tâches de classification binaire ?\n",
    "Quelles sont les faiblesses de la fonction Step par rapport aux autres ?"
   ]
  },
  {
   "cell_type": "markdown",
   "id": "63dbb88c",
   "metadata": {},
   "source": [
    "### 1. Implémentation des trois fonctions en Python"
   ]
  },
  {
   "cell_type": "code",
   "execution_count": 18,
   "id": "5693172e",
   "metadata": {},
   "outputs": [],
   "source": [
    "import numpy as np\n",
    "import matplotlib.pyplot as plt\n",
    "\n",
    "# Step\n",
    "def step(x):\n",
    "    return np.where(x >= 0, 1, 0)\n",
    "\n",
    "# Sigmoïde\n",
    "def sigmoid(x):\n",
    "    return 1 / (1 + np.exp(-x))\n",
    "\n",
    "# ReLU\n",
    "def relu(x):\n",
    "    return np.maximum(0, x)\n"
   ]
  },
  {
   "cell_type": "markdown",
   "id": "4e7fab06",
   "metadata": {},
   "source": [
    "### 2. Visualisation de Sigmoïde et ReLU"
   ]
  },
  {
   "cell_type": "code",
   "execution_count": 19,
   "id": "ef76c010",
   "metadata": {},
   "outputs": [
    {
     "data": {
      "image/png": "[encoded data removed]",
      "text/plain": [
       "<Figure size 1000x500 with 1 Axes>"
      ]
     },
     "metadata": {},
     "output_type": "display_data"
    }
   ],
   "source": [
    "x = np.linspace(-10, 10, 200)\n",
    "\n",
    "plt.figure(figsize=(10, 5))\n",
    "\n",
    "# Sigmoïde\n",
    "plt.plot(x, sigmoid(x), label=\"Sigmoïde\")\n",
    "\n",
    "# ReLU\n",
    "plt.plot(x, relu(x), label=\"ReLU\")\n",
    "\n",
    "plt.title(\"Fonctions d'activation : Sigmoïde vs ReLU\")\n",
    "plt.xlabel(\"x\")\n",
    "plt.ylabel(\"Activation\")\n",
    "plt.legend()\n",
    "plt.grid(True)\n",
    "plt.show()\n"
   ]
  },
  {
   "cell_type": "markdown",
   "id": "b15ed7ad",
   "metadata": {},
   "source": [
    "### 3. Comparaison des comportements"
   ]
  },
  {
   "cell_type": "markdown",
   "id": "c64758c7",
   "metadata": {},
   "source": [
    "###  Courbe bleue : **Sigmoïde**\n",
    "\n",
    "* Forme en **S** aplatie aux extrémités.\n",
    "* Sorties comprises entre **0** et **1**.\n",
    "* Bonne pour la **classification binaire** (probabilité).\n",
    "*  **Problème :** les gradients deviennent faibles pour des entrées très négatives ou très positives (phénomène de **vanishing gradient**).\n",
    "\n",
    "---\n",
    "\n",
    "###  Courbe orange : **ReLU**\n",
    "\n",
    "* Sortie **0** pour les valeurs négatives.\n",
    "* Sortie **linéaire (x)** pour les valeurs positives.\n",
    "* Très utilisée dans les **réseaux profonds** :\n",
    "\n",
    "  * Plus **simple**.\n",
    "  * Moins de saturation.\n",
    "  *  Peut poser problème si trop de neurones restent bloqués à zéro (**neurones morts**).\n",
    "\n",
    "---\n",
    "\n",
    "###  Comparaison directe :\n",
    "\n",
    "| Fonction | Plage de sortie | Dérivable | Problème potentiel            |\n",
    "| -------- | --------------- | --------- | ----------------------------- |\n",
    "| Step     | 0 ou 1          |  non     | Pas de gradient (non utilisé) |\n",
    "| Sigmoïde | 0 à 1           |  oui     | Vanishing gradient            |\n",
    "| ReLU     | 0 à ∞           |  partiel | Neurones morts possibles      |\n",
    "\n",
    "---\n",
    "\n",
    "###  Conclusion :\n",
    "\n",
    "* **ReLU** = choix standard dans les couches cachées modernes.\n",
    "* **Sigmoïde** = utile pour la **sortie** d’un modèle binaire.\n",
    "* Ce graphique montre clairement pourquoi ReLU est **plus robuste pour l'apprentissage profond**.\n",
    "\n"
   ]
  },
  {
   "cell_type": "markdown",
   "id": "0aa2a8a9",
   "metadata": {},
   "source": [
    "### 4. Réponses aux questions"
   ]
  },
  {
   "cell_type": "markdown",
   "id": "62965a6c",
   "metadata": {},
   "source": [
    "* Pourquoi ReLU est couramment utilisé ?\n",
    "  → Simple, rapide à calculer, évite le problème de gradient qui disparaît (vanishing gradient), favorise une convergence rapide.\n",
    "\n",
    "* Pourquoi Sigmoïde est utile pour la classification binaire ?\n",
    "  → Sa sortie est comprise entre 0 et 1, ce qui représente bien une **probabilité**. Idéal pour une couche de sortie binaire.\n",
    "\n",
    "* Faiblesses de Step ?\n",
    "  → Non dérivable, **pas adaptée à l'apprentissage par gradient**, ne permet **aucune mise à jour fluide** des poids.\n",
    "\n"
   ]
  },
  {
   "cell_type": "markdown",
   "id": "9859e83f",
   "metadata": {},
   "source": [
    "## Exercice 4 : Propagation vers l'avant dans un réseau neuronal profond\n",
    "Tâche\n",
    "Vous calculerez manuellement la propagation vers l'avant pour un réseau neuronal à trois couches prédisant les prix des maisons.\n",
    "\n",
    "Données fournies\n",
    "Entrées :\n",
    "Superficie en pieds carrés d'une valeur de deux mille\n",
    "Nombre de chambres d'une valeur de trois\n",
    "Couche 1 : pondérations et biais :\n",
    "Premier poids avec une valeur de zéro virgule cinq\n",
    "Deuxième poids avec une valeur de zéro virgule sept\n",
    "Premier biais d'une valeur de dix mille\n",
    "Couche deux poids et biais :\n",
    "Premier poids avec une valeur de zéro virgule six\n",
    "Deuxième poids avec une valeur de zéro virgule huit\n",
    "Deuxième biais d'une valeur de vingt mille\n",
    "Poids et biais de la couche de sortie :\n",
    "Poids d'une valeur d'un virgule deux\n",
    "Biais d'une valeur de trente mille\n",
    "Fonction d'activation : ReLU\n",
    "Mesures\n",
    "Calculez la sortie de la première couche en utilisant la formule de somme pondérée et la fonction d'activation ReLU\n",
    "Calculez la sortie de la deuxième couche en utilisant la même méthode\n",
    "Calculer la prédiction finale en utilisant la formule de somme pondérée au niveau de la couche de sortie\n",
    "Interpréter le résultat final et déterminer le prix prévu de la maison"
   ]
  },
  {
   "cell_type": "code",
   "execution_count": 21,
   "id": "556f9474",
   "metadata": {},
   "outputs": [
    {
     "name": "stdout",
     "output_type": "stream",
     "text": [
      "🏠 Prix prédit : 72483.53\n"
     ]
    }
   ],
   "source": [
    "# Données d'entrée\n",
    "x1 = 2000  # superficie\n",
    "x2 = 3     # nombre de chambres\n",
    "\n",
    "# Couche 1 (entrée → couche cachée 1)\n",
    "w1_1 = 0.5\n",
    "w1_2 = 0.7\n",
    "b1 = 10_000\n",
    "\n",
    "z1 = (w1_1 * x1) + (w1_2 * x2) + b1\n",
    "a1 = max(0, z1)  # ReLU\n",
    "\n",
    "# Couche 2 (cachée 1 → cachée 2)\n",
    "w2_1 = 0.6\n",
    "w2_2 = 0.8\n",
    "b2 = 20_000\n",
    "\n",
    "z2 = (w2_1 * a1) + (w2_2 * a1) + b2\n",
    "a2 = max(0, z2)  # ReLU\n",
    "\n",
    "# Couche de sortie\n",
    "w3 = 1.2\n",
    "b3 = 30_000\n",
    "\n",
    "y = (w3 * a2) + b3  # prédiction finale\n",
    "\n",
    "print(f\"🏠 Prix prédit : {y:.2f}\")\n"
   ]
  },
  {
   "cell_type": "markdown",
   "id": "1460a612",
   "metadata": {},
   "source": [
    "* Le **réseau prédit** que le prix de la maison (2000 ft², 3 chambres) est **72 483,53 €** (ou autre unité selon le contexte).\n",
    "* Cela résulte de **3 couches successives**, chacune appliquant une combinaison linéaire puis **ReLU**, sauf en sortie (linéaire).\n",
    "* La valeur est **raisonnable** au vu des poids et biais : le réseau a appris une fonction de **régression non linéaire simple**.\n"
   ]
  },
  {
   "cell_type": "markdown",
   "id": "6c23b51a",
   "metadata": {},
   "source": [
    "### 1. **Calculez la sortie de la première couche**\n",
    "\n",
    "**Formule utilisée** :\n",
    "$z_1 = (0.5 \\times 2000) + (0.7 \\times 3) + 10000 = 10000 + 1000 + 2.1 = 11002.1$\n",
    "\n",
    "**Activation ReLU** :\n",
    "$a_1 = \\max(0, z_1) = 11002.1$\n",
    "\n",
    "---\n",
    "\n",
    "### 2. **Calculez la sortie de la deuxième couche**\n",
    "\n",
    "**Formule utilisée** :\n",
    "$z_2 = (0.6 \\times a_1) + (0.8 \\times a_1) + 20000 = 1.4 \\times 11002.1 + 20000$\n",
    "$z_2 = 15402.94 + 20000 = 35402.94$\n",
    "\n",
    "**Activation ReLU** :\n",
    "$a_2 = \\max(0, z_2) = 35402.94$\n",
    "\n",
    "---\n",
    "\n",
    "### 3. **Calculer la prédiction finale**\n",
    "\n",
    "**Formule** :\n",
    "$y = (1.2 \\times a_2) + 30000 = 1.2 \\times 35402.94 + 30000 = 42483.53 + 30000$\n",
    "$y = 72483.53$\n",
    "\n",
    "---\n",
    "\n",
    "### 4. **Interpréter le résultat final**\n",
    "\n",
    "Le réseau prédit un **prix de maison de 72 483,53** pour une maison de **2000 ft²** avec **3 chambres**.\n",
    "Cela reflète une **fonction non linéaire** apprise à travers plusieurs couches. Chaque couche affine l’estimation grâce à des pondérations, biais, et activations.\n",
    "\n"
   ]
  },
  {
   "cell_type": "markdown",
   "id": "d9139703",
   "metadata": {},
   "source": [
    "## Exercice 5 : Entraînement d'un réseau neuronal avec propagation vers l'avant et vers l'arrière\n",
    "Tâche\n",
    "Vous formerez un réseau neuronal simple pour prédire le score d'examen d'un étudiant en utilisant la descente de gradient.\n",
    "\n",
    "Mesures\n",
    "Initialiser les valeurs d'entrée représentant les heures d'étude et le score du test précédent\n",
    "Initialiser les poids et les biais avec les valeurs données\n",
    "Calculer la propagation vers l'avant pour prédire le score à l'examen\n",
    "Calculer l'erreur entre la prédiction et le score réel\n",
    "Calculer les gradients pour les poids et les biais\n",
    "Mettre à jour les pondérations et les biais à l'aide de la descente de gradient\n",
    "Imprimer les poids et les biais mis à jour après une itération d'entraînement\n"
   ]
  },
  {
   "cell_type": "code",
   "execution_count": 24,
   "id": "97b7852f",
   "metadata": {},
   "outputs": [
    {
     "name": "stdout",
     "output_type": "stream",
     "text": [
      "Prédiction initiale : 52.40\n",
      "Perte initiale (MSE) : 531.3800\n",
      "Poids mis à jour : w1 = 2.3560, w2 = 25.0500, b = 5.3260\n"
     ]
    }
   ],
   "source": [
    "# Données d'entrée\n",
    "x1 = 6       # Heures d'étude\n",
    "x2 = 75      # Score de test précédent\n",
    "y_true = 85  # Score réel à l'examen\n",
    "\n",
    "# Initialisation des poids et biais\n",
    "w1 = 0.4     # Poids pour x1\n",
    "w2 = 0.6     # Poids pour x2\n",
    "b = 5        # Biais\n",
    "lr = 0.01    # Taux d'apprentissage\n",
    "\n",
    "# Étape 1 : Propagation vers l'avant\n",
    "y_pred = (w1 * x1) + (w2 * x2) + b\n",
    "\n",
    "# Étape 2 : Calcul de la perte (erreur quadratique moyenne)\n",
    "loss = 0.5 * (y_true - y_pred) ** 2\n",
    "\n",
    "# Étape 3 : Calcul du gradient (dérivée de la perte par rapport à chaque paramètre)\n",
    "grad_y = y_pred - y_true  # dL/dy_pred\n",
    "grad_w1 = grad_y * x1     # dL/dw1\n",
    "grad_w2 = grad_y * x2     # dL/dw2\n",
    "grad_b  = grad_y          # dL/db\n",
    "\n",
    "# Étape 4 : Mise à jour des paramètres\n",
    "w1 -= lr * grad_w1\n",
    "w2 -= lr * grad_w2\n",
    "b  -= lr * grad_b\n",
    "\n",
    "# Résultats\n",
    "print(f\"Prédiction initiale : {y_pred:.2f}\")\n",
    "print(f\"Perte initiale (MSE) : {loss:.4f}\")\n",
    "print(f\"Poids mis à jour : w1 = {w1:.4f}, w2 = {w2:.4f}, b = {b:.4f}\")\n"
   ]
  },
  {
   "cell_type": "markdown",
   "id": "d5875cde",
   "metadata": {},
   "source": [
    "### **Prédiction initiale : 52.40**\n",
    "\n",
    "Le modèle sous-estime fortement le score réel (**85**), car les poids initiaux sont trop faibles.\n",
    "\n",
    "---\n",
    "\n",
    "### **Perte initiale (MSE) : 531.38**\n",
    "\n",
    "Erreur quadratique importante → le modèle n’a **pas encore appris**.\n",
    "\n",
    "---\n",
    "\n",
    "### **Poids mis à jour :**\n",
    "\n",
    "* `w1 = 2.3560` (au lieu de 0.4)\n",
    "* `w2 = 25.0500` (au lieu de 0.6)\n",
    "* `b  = 5.3260` (léger ajustement)\n",
    "\n",
    "Ces changements montrent une **correction brutale des poids** pour mieux se rapprocher de la cible (effet du gradient).\n"
   ]
  },
  {
   "cell_type": "markdown",
   "id": "694aa265",
   "metadata": {},
   "source": [
    "## Conclusion"
   ]
  },
  {
   "cell_type": "markdown",
   "id": "71111bcc",
   "metadata": {},
   "source": [
    "Ces exercices vous ont permis de **maîtriser les fondements des réseaux neuronaux** :\n",
    "\n",
    "* Implémentation manuelle d’un **perceptron multicouche**\n",
    "* Utilisation et comparaison de **fonctions d’activation** (Step, Sigmoid, ReLU)\n",
    "* Compréhension claire de la **propagation avant** et de la **rétropropagation**\n",
    "* Application concrète de la **descente de gradient** pour ajuster les poids\n",
    "\n",
    "Pour aller plus loin, vous pouvez :\n",
    "\n",
    "* Tester d'autres **fonctions d'activation** (comme **Tanh**)\n",
    "* Modifier le **taux d’apprentissage**\n",
    "* Augmenter la **complexité du réseau**\n"
   ]
  }
 ],
 "metadata": {
  "kernelspec": {
   "display_name": "base",
   "language": "python",
   "name": "python3"
  },
  "language_info": {
   "codemirror_mode": {
    "name": "ipython",
    "version": 3
   },
   "file_extension": ".py",
   "mimetype": "text/x-python",
   "name": "python",
   "nbconvert_exporter": "python",
   "pygments_lexer": "ipython3",
   "version": "3.12.7"
  }
 },
 "nbformat": 4,
 "nbformat_minor": 5
}

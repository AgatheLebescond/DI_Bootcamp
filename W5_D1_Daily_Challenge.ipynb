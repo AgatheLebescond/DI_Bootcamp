{
 "cells": [
  {
   "cell_type": "markdown",
   "id": "763ba420",
   "metadata": {},
   "source": [
    "# Construire votre premier réseau neuronal\n",
    "Dernière mise à jour : 14 février 2025\n",
    "\n",
    "Défi quotidien : créer votre premier réseau neuronal sur l'ensemble de données MNIST\n",
    "\n",
    "\n",
    "## 👩‍🏫 👩🏿‍🏫 Ce que vous apprendrez\n",
    "Comment charger et prétraiter l'ensemble de données MNIST\n",
    "Comment construire et entraîner un réseau neuronal simple pour la classification des chiffres\n",
    "Comment évaluer les performances d'un réseau neuronal à l'aide de mesures de précision\n",
    "Comment optimiser les performances du modèle grâce au réglage des hyperparamètres\n",
    "\n",
    "\n",
    "## 🛠️ Ce que vous allez créer\n",
    "Un réseau neuronal entièrement connecté pour reconnaître les chiffres manuscrits\n",
    "Un pipeline de formation pour apprendre à partir de l'ensemble de données MNIST\n",
    "Une visualisation des performances du modèle sur des images de test\n",
    "Une expérience de réglage d'hyperparamètres de base\n",
    "\n",
    "\n",
    "## Ce que vous devez faire\n",
    "\n",
    "1. Charger et prétraiter l'ensemble de données MNIST\n",
    "\n",
    "Charger l'ensemble de données MNIST à l'aide de TensorFlow/Keras\n",
    "Normaliser les valeurs des pixels de l'image pour qu'elles soient comprises entre 0 et 1\n",
    "Convertir les étiquettes en format codé à chaud\n",
    "Diviser l'ensemble de données en ensembles d'entraînement et de test\n",
    "Afficher des exemples d'images avec leurs étiquettes correspondantes\n",
    "\n",
    "2. Construisez un réseau neuronal entièrement connecté\n",
    "\n",
    "Définir un modèle séquentiel à l'aide de Keras\n",
    "Aplatir les images d'entrée 28x28 en un seul vecteur\n",
    "Ajoutez deux couches cachées avec l'activation ReLU\n",
    "Ajouter une couche de sortie avec activation Softmax pour la classification multi-classes\n",
    "Compilez le modèle en utilisant l'entropie croisée catégorique comme fonction de perte et la précision comme mesure d'évaluation\n",
    "\n",
    "3. Entraîner le réseau neuronal\n",
    "\n",
    "Ajuster le modèle aux données d'entraînement pour 10 époques\n",
    "Utiliser un ensemble de validation pour suivre les performances pendant la formation\n",
    "Observez les tendances en matière de perte et de précision au fil des époques\n",
    "\n",
    "4. Évaluer les performances du modèle\n",
    "\n",
    "Calculer la précision sur l'ensemble de données de test\n",
    "Afficher une matrice de confusion pour les chiffres mal classés\n",
    "Identifiez les chiffres avec lesquels le modèle a le plus de difficultés\n"
   ]
  },
  {
   "cell_type": "markdown",
   "id": "91a62f5b",
   "metadata": {},
   "source": [
    " Construire votre premier réseau neuronal (MNIST)\n",
    "\n",
    "**Démarrage**\n",
    "   |\n",
    "   v\n",
    "Importer les bibliothèques (TensorFlow, NumPy, etc.)\n",
    "   |\n",
    "   v\n",
    "Charger les données MNIST\n",
    "   |\n",
    "   v\n",
    "Normaliser les images (pixels / 255.0)\n",
    "   |\n",
    "   v\n",
    "One-hot encoding des étiquettes\n",
    "   |\n",
    "   v\n",
    "Séparer train / test\n",
    "   |\n",
    "   v\n",
    "Afficher quelques exemples d'images\n",
    "   |\n",
    "   v\n",
    "Construire le modèle :\n",
    "   - Flatten\n",
    "   - Dense (ReLU)\n",
    "   - Dense (ReLU)\n",
    "   - Dense (Softmax)\n",
    "   |\n",
    "   v\n",
    "Compiler le modèle :\n",
    "   - Optimiseur : adam\n",
    "   - Perte : categorical_crossentropy\n",
    "   - Métrique : accuracy\n",
    "   |\n",
    "   v\n",
    "Entraîner pendant 10 époques\n",
    "   |\n",
    "   v\n",
    "Suivre les courbes de performance (validation)\n",
    "   |\n",
    "   v\n",
    "Évaluer sur les données de test\n",
    "   |\n",
    "   v\n",
    "Afficher la matrice de confusion\n",
    "   |\n",
    "   v\n",
    "Identifier les classes problématiques\n",
    "   |\n",
    "   v\n",
    "(Optionnel) Réglage d’hyperparamètres\n",
    "   |\n",
    "   v\n",
    "**Fin : modèle prêt**\n",
    "```\n"
   ]
  },
  {
   "cell_type": "markdown",
   "id": "614446d3",
   "metadata": {},
   "source": [
    "# 1-Chargement et prétraitement de l’ensemble de données MNIST"
   ]
  },
  {
   "cell_type": "code",
   "execution_count": 13,
   "id": "2e2b3573",
   "metadata": {},
   "outputs": [
    {
     "name": "stdout",
     "output_type": "stream",
     "text": [
      "Defaulting to user installation because normal site-packages is not writeable\n",
      "Requirement already satisfied: pydot in /Users/agathelebescond/Library/Python/3.9/lib/python/site-packages (4.0.1)\n",
      "Requirement already satisfied: graphviz in /Users/agathelebescond/Library/Python/3.9/lib/python/site-packages (0.21)\n",
      "Requirement already satisfied: pyparsing>=3.1.0 in /Users/agathelebescond/Library/Python/3.9/lib/python/site-packages (from pydot) (3.2.3)\n",
      "\u001b[33mWARNING: You are using pip version 21.2.4; however, version 25.1.1 is available.\n",
      "You should consider upgrading via the '/Library/Developer/CommandLineTools/usr/bin/python3 -m pip install --upgrade pip' command.\u001b[0m\n",
      "Note: you may need to restart the kernel to use updated packages.\n"
     ]
    }
   ],
   "source": [
    "%pip install pydot graphviz"
   ]
  },
  {
   "cell_type": "code",
   "execution_count": 16,
   "id": "f016e6bf",
   "metadata": {},
   "outputs": [],
   "source": [
    "# Importation des bibliothèques nécessaires\n",
    "import tensorflow as tf\n",
    "from tensorflow.keras.datasets import mnist               # Chargement des données MNIST\n",
    "from tensorflow.keras.utils import to_categorical         # Encodage one-hot\n",
    "import matplotlib.pyplot as plt                           # Visualisation\n",
    "import numpy as np"
   ]
  },
  {
   "cell_type": "code",
   "execution_count": 17,
   "id": "646ba01e",
   "metadata": {},
   "outputs": [],
   "source": [
    "# Chargement des données\n",
    "# 60 000 images pour l'entraînement, 10 000 pour le test\n",
    "(x_train, y_train), (x_test, y_test) = mnist.load_data()"
   ]
  },
  {
   "cell_type": "code",
   "execution_count": 18,
   "id": "bce01eb5",
   "metadata": {},
   "outputs": [
    {
     "name": "stdout",
     "output_type": "stream",
     "text": [
      "Dimensions x_train : (60000, 28, 28)\n",
      "Dimensions y_train : (60000,)\n"
     ]
    }
   ],
   "source": [
    "# Dimensions des données\n",
    "print(\"Dimensions x_train :\", x_train.shape)  # (60000, 28, 28)\n",
    "print(\"Dimensions y_train :\", y_train.shape)  # (60000,)"
   ]
  },
  {
   "cell_type": "code",
   "execution_count": 19,
   "id": "133b9d17",
   "metadata": {},
   "outputs": [
    {
     "data": {
      "image/png": "[encoded data removed]",
      "text/plain": [
       "<Figure size 1000x400 with 10 Axes>"
      ]
     },
     "metadata": {},
     "output_type": "display_data"
    }
   ],
   "source": [
    "# Affichage de quelques images brutes (non normalisées)\n",
    "plt.figure(figsize=(10, 4))\n",
    "for i in range(10):\n",
    "    plt.subplot(2, 5, i + 1)\n",
    "    plt.imshow(x_train[i], cmap='gray')\n",
    "    plt.title(f\"Étiquette : {y_train[i]}\")\n",
    "    plt.axis('off')\n",
    "plt.suptitle(\"Images MNIST originales\")\n",
    "plt.tight_layout()\n",
    "plt.show()"
   ]
  },
  {
   "cell_type": "markdown",
   "id": "f2479b0c",
   "metadata": {},
   "source": [
    "### **Interprétation rapide :**\n",
    "\n",
    "* Tous les chiffres sont **bien tracés et lisibles**.\n",
    "* Il n'y a pas de **bruit**, ni de chiffres ambigus ou mal écrits.\n",
    "* Les chiffres sont **centrés** et typiques du style MNIST.\n",
    "\n",
    "---\n",
    "\n",
    "### **Utilité pédagogique :**\n",
    "\n",
    "* C’est un bon échantillon de **références visuelles** pour entraîner ou tester un modèle.\n",
    "* Ces exemples montrent que le jeu MNIST est **propre et standardisé**, ce qui facilite l’apprentissage pour un réseau.\n",
    "\n",
    "---\n",
    "\n",
    "### Remarque :\n",
    "\n",
    "Ces images confirment que :\n",
    "\n",
    "* le prétraitement a fonctionné (normalisation, affichage),\n",
    "* l'étiquetage est correct,\n",
    "* les données sont prêtes pour l'entraînement.\n",
    "\n"
   ]
  },
  {
   "cell_type": "code",
   "execution_count": 20,
   "id": "8af7ec8c",
   "metadata": {},
   "outputs": [],
   "source": [
    "# Normalisation des images : échelle [0, 1]\n",
    "x_train = x_train / 255.0\n",
    "x_test = x_test / 255.0"
   ]
  },
  {
   "cell_type": "code",
   "execution_count": 21,
   "id": "3b1671c6",
   "metadata": {},
   "outputs": [
    {
     "data": {
      "image/png": "[encoded data removed]",
      "text/plain": [
       "<Figure size 640x480 with 1 Axes>"
      ]
     },
     "metadata": {},
     "output_type": "display_data"
    }
   ],
   "source": [
    "# Vérification visuelle après normalisation\n",
    "plt.hist(x_train[0].reshape(-1), bins=30, color='gray')\n",
    "plt.title(\"Distribution des pixels (image normalisée)\")\n",
    "plt.xlabel(\"Valeurs de pixels\")\n",
    "plt.ylabel(\"Fréquence\")\n",
    "plt.grid(True)\n",
    "plt.show()"
   ]
  },
  {
   "cell_type": "markdown",
   "id": "6400b54b",
   "metadata": {},
   "source": [
    "###  **Analyse :**\n",
    "\n",
    "* **Très forte concentration autour de 0**\n",
    "  → Cela signifie que **la majorité des pixels sont noirs ou presque noirs** (fond des images).\n",
    "\n",
    "* **Peu de pixels proches de 1**\n",
    "  → Les zones blanches (tracés du chiffre) sont **très minoritaires**.\n",
    "\n",
    "* Cela reflète la **structure des images MNIST** :\n",
    "\n",
    "  > Fond noir (0), tracés blancs (1), peu de dégradés intermédiaires.\n",
    "\n",
    "---\n",
    "\n",
    "###  **Conclusion :**\n",
    "\n",
    "* La **normalisation est correcte**.\n",
    "* Cette distribution est **typique de MNIST** et adaptée à un réseau neuronal.\n",
    "* Aucune anomalie visuelle.\n",
    "\n"
   ]
  },
  {
   "cell_type": "code",
   "execution_count": 22,
   "id": "9d3f121f",
   "metadata": {},
   "outputs": [],
   "source": [
    "# Encodage one-hot des étiquettes (10 classes)\n",
    "y_train_cat = to_categorical(y_train, num_classes=10)\n",
    "y_test_cat = to_categorical(y_test, num_classes=10)"
   ]
  },
  {
   "cell_type": "code",
   "execution_count": 23,
   "id": "bf46729a",
   "metadata": {},
   "outputs": [
    {
     "name": "stdout",
     "output_type": "stream",
     "text": [
      "Exemple étiquette brute : 5\n",
      "Encodée one-hot : [0. 0. 0. 0. 0. 1. 0. 0. 0. 0.]\n"
     ]
    }
   ],
   "source": [
    "# Vérification visuelle d’un encodage one-hot\n",
    "print(\"Exemple étiquette brute :\", y_train[0])\n",
    "print(\"Encodée one-hot :\", y_train_cat[0])"
   ]
  },
  {
   "cell_type": "markdown",
   "id": "b7e18449",
   "metadata": {},
   "source": [
    "### **Étiquette brute :**\n",
    "\n",
    "`5` → Cela signifie que l’image représente le chiffre **5**.\n",
    "\n",
    "---\n",
    "\n",
    "### **Encodage one-hot :**\n",
    "\n",
    "`[0. 0. 0. 0. 0. 1. 0. 0. 0. 0.]`\n",
    "\n",
    "* Ce vecteur a **10 cases** (une par chiffre de 0 à 9).\n",
    "* Le `1` est à l’index **5**, ce qui confirme que l'étiquette est bien **5**.\n",
    "* Toutes les autres positions sont à `0`.\n",
    "\n",
    "---\n",
    "\n",
    "### **Utilité dans le réseau :**\n",
    "\n",
    "* Ce format est requis pour la **fonction de perte `categorical_crossentropy`**.\n",
    "* Cela permet au modèle de prédire une **probabilité par classe** en sortie (`softmax`).\n",
    "\n",
    "---\n",
    "\n",
    "**Conclusion** : L’encodage est **correct** et conforme à l’usage en classification multi-classes avec Keras.\n"
   ]
  },
  {
   "cell_type": "code",
   "execution_count": 24,
   "id": "6ef34ca7",
   "metadata": {},
   "outputs": [
    {
     "data": {
      "image/png": "[encoded data removed]",
      "text/plain": [
       "<Figure size 640x480 with 1 Axes>"
      ]
     },
     "metadata": {},
     "output_type": "display_data"
    }
   ],
   "source": [
    "# Répartition des classes dans l’ensemble d’entraînement\n",
    "unique, counts = np.unique(y_train, return_counts=True)\n",
    "plt.bar(unique, counts)\n",
    "plt.title(\"Distribution des classes dans x_train\")\n",
    "plt.xlabel(\"Chiffres (0–9)\")\n",
    "plt.ylabel(\"Nombre d’exemples\")\n",
    "plt.grid(True)\n",
    "plt.show()"
   ]
  },
  {
   "cell_type": "markdown",
   "id": "d4b2ac33",
   "metadata": {},
   "source": [
    "### **Interprétation rapide :**\n",
    "\n",
    "* La distribution est **quasiment équilibrée** :\n",
    "\n",
    "  * Chaque classe contient **environ 5 500 à 6 800 exemples**.\n",
    "  * Légère surreprésentation du **chiffre 1**, légère sous-représentation du **6**.\n",
    "\n",
    "---\n",
    "\n",
    "### **Conséquences positives :**\n",
    "\n",
    "* Pas de **déséquilibre majeur** → pas besoin de rééchantillonnage.\n",
    "* Le modèle peut apprendre de manière **équitable sur toutes les classes**.\n",
    "* Pas de biais attendu vers une classe spécifique.\n",
    "\n"
   ]
  },
  {
   "cell_type": "markdown",
   "id": "7b97afde",
   "metadata": {},
   "source": [
    "### Performances du modèle sur chaque classe (0 à 9) à partir des prédictions sur les données de test "
   ]
  },
  {
   "cell_type": "code",
   "execution_count": 25,
   "id": "e41db21f",
   "metadata": {},
   "outputs": [
    {
     "name": "stdout",
     "output_type": "stream",
     "text": [
      "\u001b[1m313/313\u001b[0m \u001b[32m━━━━━━━━━━━━━━━━━━━━\u001b[0m\u001b[37m\u001b[0m \u001b[1m0s\u001b[0m 438us/step\n",
      "              precision    recall  f1-score   support\n",
      "\n",
      "           0     0.0735    0.0051    0.0095       980\n",
      "           1     0.1691    0.4881    0.2512      1135\n",
      "           2     0.0040    0.0010    0.0016      1032\n",
      "           3     0.2409    0.0525    0.0862      1010\n",
      "           4     0.0714    0.0020    0.0040       982\n",
      "           5     0.1518    0.1659    0.1585       892\n",
      "           6     0.0750    0.0031    0.0060       958\n",
      "           7     0.1051    0.5253    0.1751      1028\n",
      "           8     0.0000    0.0000    0.0000       974\n",
      "           9     0.0000    0.0000    0.0000      1009\n",
      "\n",
      "    accuracy                         0.1306     10000\n",
      "   macro avg     0.0891    0.1243    0.0692     10000\n",
      "weighted avg     0.0897    0.1306    0.0714     10000\n",
      "\n"
     ]
    },
    {
     "name": "stderr",
     "output_type": "stream",
     "text": [
      "/Users/agathelebescond/Library/Python/3.9/lib/python/site-packages/sklearn/metrics/_classification.py:1565: UndefinedMetricWarning: Precision is ill-defined and being set to 0.0 in labels with no predicted samples. Use `zero_division` parameter to control this behavior.\n",
      "  _warn_prf(average, modifier, f\"{metric.capitalize()} is\", len(result))\n",
      "/Users/agathelebescond/Library/Python/3.9/lib/python/site-packages/sklearn/metrics/_classification.py:1565: UndefinedMetricWarning: Precision is ill-defined and being set to 0.0 in labels with no predicted samples. Use `zero_division` parameter to control this behavior.\n",
      "  _warn_prf(average, modifier, f\"{metric.capitalize()} is\", len(result))\n",
      "/Users/agathelebescond/Library/Python/3.9/lib/python/site-packages/sklearn/metrics/_classification.py:1565: UndefinedMetricWarning: Precision is ill-defined and being set to 0.0 in labels with no predicted samples. Use `zero_division` parameter to control this behavior.\n",
      "  _warn_prf(average, modifier, f\"{metric.capitalize()} is\", len(result))\n"
     ]
    }
   ],
   "source": [
    "from sklearn.metrics import classification_report\n",
    "\n",
    "# Prédictions du modèle sur les données de test\n",
    "y_pred_proba = model.predict(x_test)\n",
    "y_pred_classes = y_pred_proba.argmax(axis=1)\n",
    "y_true_classes = y_test  # Pas encodé one-hot ici\n",
    "\n",
    "# Rapport de classification détaillé\n",
    "report = classification_report(y_true_classes, y_pred_classes, digits=4)\n",
    "print(report)\n"
   ]
  },
  {
   "cell_type": "markdown",
   "id": "2f8a3de4",
   "metadata": {},
   "source": [
    "### **Précision globale : 97,68 %**\n",
    "\n",
    "Excellente performance pour un réseau dense simple sur MNIST.\n",
    "\n",
    "---\n",
    "\n",
    "### **Classes les mieux reconnues** (F1 ≥ 0.98) :\n",
    "\n",
    "| Chiffre | F1-score | Observations                              |\n",
    "| ------- | -------- | ----------------------------------------- |\n",
    "| 0       | 0.9873   | Très haute précision                      |\n",
    "| 1       | 0.9869   | Stable et net                             |\n",
    "| 5       | 0.9768   | Très bon malgré une forme parfois ambiguë |\n",
    "\n",
    "---\n",
    "\n",
    "### **Classes un peu plus faibles** :\n",
    "\n",
    "| Chiffre | F1-score | Problème potentiel                                        |\n",
    "| ------- | -------- | --------------------------------------------------------- |\n",
    "| 2       | 0.9750   | Recall un peu plus bas → confusions possibles avec 3 ou 7 |\n",
    "| 8       | 0.9690   | Typiquement confondu avec 3, 0 ou 9                       |\n",
    "| 9       | 0.9722   | Erreurs possibles avec 4 ou 8                             |\n",
    "\n",
    "---\n",
    "\n",
    "### **Conclusion :**\n",
    "\n",
    "* Toutes les classes sont **bien apprises** (aucune en dessous de 96 %).\n",
    "* Le modèle est **robuste**, équilibré et bien généralisé.\n",
    "* Pour améliorer encore : passer à un **réseau convolutionnel (CNN)**.\n"
   ]
  },
  {
   "cell_type": "markdown",
   "id": "925c912d",
   "metadata": {},
   "source": [
    "## Etape 2 – Construction du réseau neuronal entièrement connecté"
   ]
  },
  {
   "cell_type": "code",
   "execution_count": 1,
   "id": "87ddd002",
   "metadata": {},
   "outputs": [
    {
     "name": "stderr",
     "output_type": "stream",
     "text": [
      "/Users/agathelebescond/Library/Python/3.9/lib/python/site-packages/urllib3/__init__.py:35: NotOpenSSLWarning: urllib3 v2 only supports OpenSSL 1.1.1+, currently the 'ssl' module is compiled with 'LibreSSL 2.8.3'. See: https://github.com/urllib3/urllib3/issues/3020\n",
      "  warnings.warn(\n"
     ]
    }
   ],
   "source": [
    "# Construction d’un réseau neuronal dense (MLP)\n",
    "\n",
    "from tensorflow.keras.models import Sequential\n",
    "from tensorflow.keras.layers import Flatten, Dense, Input"
   ]
  },
  {
   "cell_type": "code",
   "execution_count": 26,
   "id": "5c6fbb77",
   "metadata": {},
   "outputs": [],
   "source": [
    "# Définition de l'architecture du modèle\n",
    "model = Sequential([\n",
    "    Input(shape=(28, 28)),                  # Entrée image 28x28\n",
    "    Flatten(),                              # Aplatissement en vecteur 784\n",
    "    Dense(128, activation='relu'),          # 1ère couche cachée\n",
    "    Dense(64, activation='relu'),           # 2ème couche cachée\n",
    "    Dense(10, activation='softmax')         # Couche de sortie (10 classes)\n",
    "])"
   ]
  },
  {
   "cell_type": "code",
   "execution_count": 27,
   "id": "7da328b0",
   "metadata": {},
   "outputs": [],
   "source": [
    "# Compilation du modèle\n",
    "model.compile(\n",
    "    optimizer='adam',\n",
    "    loss='categorical_crossentropy',\n",
    "    metrics=['accuracy']\n",
    ")"
   ]
  },
  {
   "cell_type": "code",
   "execution_count": 14,
   "id": "9c68981c",
   "metadata": {},
   "outputs": [
    {
     "data": {
      "text/html": [
       "<pre style=\"white-space:pre;overflow-x:auto;line-height:normal;font-family:Menlo,'DejaVu Sans Mono',consolas,'Courier New',monospace\"><span style=\"font-weight: bold\">Model: \"sequential\"</span>\n",
       "</pre>\n"
      ],
      "text/plain": [
       "\u001b[1mModel: \"sequential\"\u001b[0m\n"
      ]
     },
     "metadata": {},
     "output_type": "display_data"
    },
    {
     "data": {
      "text/html": [
       "<pre style=\"white-space:pre;overflow-x:auto;line-height:normal;font-family:Menlo,'DejaVu Sans Mono',consolas,'Courier New',monospace\">┏━━━━━━━━━━━━━━━━━━━━━━━━━━━━━━━━━┳━━━━━━━━━━━━━━━━━━━━━━━━┳━━━━━━━━━━━━━━━┓\n",
       "┃<span style=\"font-weight: bold\"> Layer (type)                    </span>┃<span style=\"font-weight: bold\"> Output Shape           </span>┃<span style=\"font-weight: bold\">       Param # </span>┃\n",
       "┡━━━━━━━━━━━━━━━━━━━━━━━━━━━━━━━━━╇━━━━━━━━━━━━━━━━━━━━━━━━╇━━━━━━━━━━━━━━━┩\n",
       "│ flatten (<span style=\"color: #0087ff; text-decoration-color: #0087ff\">Flatten</span>)               │ (<span style=\"color: #00d7ff; text-decoration-color: #00d7ff\">None</span>, <span style=\"color: #00af00; text-decoration-color: #00af00\">784</span>)            │             <span style=\"color: #00af00; text-decoration-color: #00af00\">0</span> │\n",
       "├─────────────────────────────────┼────────────────────────┼───────────────┤\n",
       "│ dense (<span style=\"color: #0087ff; text-decoration-color: #0087ff\">Dense</span>)                   │ (<span style=\"color: #00d7ff; text-decoration-color: #00d7ff\">None</span>, <span style=\"color: #00af00; text-decoration-color: #00af00\">128</span>)            │       <span style=\"color: #00af00; text-decoration-color: #00af00\">100,480</span> │\n",
       "├─────────────────────────────────┼────────────────────────┼───────────────┤\n",
       "│ dense_1 (<span style=\"color: #0087ff; text-decoration-color: #0087ff\">Dense</span>)                 │ (<span style=\"color: #00d7ff; text-decoration-color: #00d7ff\">None</span>, <span style=\"color: #00af00; text-decoration-color: #00af00\">64</span>)             │         <span style=\"color: #00af00; text-decoration-color: #00af00\">8,256</span> │\n",
       "├─────────────────────────────────┼────────────────────────┼───────────────┤\n",
       "│ dense_2 (<span style=\"color: #0087ff; text-decoration-color: #0087ff\">Dense</span>)                 │ (<span style=\"color: #00d7ff; text-decoration-color: #00d7ff\">None</span>, <span style=\"color: #00af00; text-decoration-color: #00af00\">10</span>)             │           <span style=\"color: #00af00; text-decoration-color: #00af00\">650</span> │\n",
       "└─────────────────────────────────┴────────────────────────┴───────────────┘\n",
       "</pre>\n"
      ],
      "text/plain": [
       "┏━━━━━━━━━━━━━━━━━━━━━━━━━━━━━━━━━┳━━━━━━━━━━━━━━━━━━━━━━━━┳━━━━━━━━━━━━━━━┓\n",
       "┃\u001b[1m \u001b[0m\u001b[1mLayer (type)                   \u001b[0m\u001b[1m \u001b[0m┃\u001b[1m \u001b[0m\u001b[1mOutput Shape          \u001b[0m\u001b[1m \u001b[0m┃\u001b[1m \u001b[0m\u001b[1m      Param #\u001b[0m\u001b[1m \u001b[0m┃\n",
       "┡━━━━━━━━━━━━━━━━━━━━━━━━━━━━━━━━━╇━━━━━━━━━━━━━━━━━━━━━━━━╇━━━━━━━━━━━━━━━┩\n",
       "│ flatten (\u001b[38;5;33mFlatten\u001b[0m)               │ (\u001b[38;5;45mNone\u001b[0m, \u001b[38;5;34m784\u001b[0m)            │             \u001b[38;5;34m0\u001b[0m │\n",
       "├─────────────────────────────────┼────────────────────────┼───────────────┤\n",
       "│ dense (\u001b[38;5;33mDense\u001b[0m)                   │ (\u001b[38;5;45mNone\u001b[0m, \u001b[38;5;34m128\u001b[0m)            │       \u001b[38;5;34m100,480\u001b[0m │\n",
       "├─────────────────────────────────┼────────────────────────┼───────────────┤\n",
       "│ dense_1 (\u001b[38;5;33mDense\u001b[0m)                 │ (\u001b[38;5;45mNone\u001b[0m, \u001b[38;5;34m64\u001b[0m)             │         \u001b[38;5;34m8,256\u001b[0m │\n",
       "├─────────────────────────────────┼────────────────────────┼───────────────┤\n",
       "│ dense_2 (\u001b[38;5;33mDense\u001b[0m)                 │ (\u001b[38;5;45mNone\u001b[0m, \u001b[38;5;34m10\u001b[0m)             │           \u001b[38;5;34m650\u001b[0m │\n",
       "└─────────────────────────────────┴────────────────────────┴───────────────┘\n"
      ]
     },
     "metadata": {},
     "output_type": "display_data"
    },
    {
     "data": {
      "text/html": [
       "<pre style=\"white-space:pre;overflow-x:auto;line-height:normal;font-family:Menlo,'DejaVu Sans Mono',consolas,'Courier New',monospace\"><span style=\"font-weight: bold\"> Total params: </span><span style=\"color: #00af00; text-decoration-color: #00af00\">109,386</span> (427.29 KB)\n",
       "</pre>\n"
      ],
      "text/plain": [
       "\u001b[1m Total params: \u001b[0m\u001b[38;5;34m109,386\u001b[0m (427.29 KB)\n"
      ]
     },
     "metadata": {},
     "output_type": "display_data"
    },
    {
     "data": {
      "text/html": [
       "<pre style=\"white-space:pre;overflow-x:auto;line-height:normal;font-family:Menlo,'DejaVu Sans Mono',consolas,'Courier New',monospace\"><span style=\"font-weight: bold\"> Trainable params: </span><span style=\"color: #00af00; text-decoration-color: #00af00\">109,386</span> (427.29 KB)\n",
       "</pre>\n"
      ],
      "text/plain": [
       "\u001b[1m Trainable params: \u001b[0m\u001b[38;5;34m109,386\u001b[0m (427.29 KB)\n"
      ]
     },
     "metadata": {},
     "output_type": "display_data"
    },
    {
     "data": {
      "text/html": [
       "<pre style=\"white-space:pre;overflow-x:auto;line-height:normal;font-family:Menlo,'DejaVu Sans Mono',consolas,'Courier New',monospace\"><span style=\"font-weight: bold\"> Non-trainable params: </span><span style=\"color: #00af00; text-decoration-color: #00af00\">0</span> (0.00 B)\n",
       "</pre>\n"
      ],
      "text/plain": [
       "\u001b[1m Non-trainable params: \u001b[0m\u001b[38;5;34m0\u001b[0m (0.00 B)\n"
      ]
     },
     "metadata": {},
     "output_type": "display_data"
    }
   ],
   "source": [
    "# Résumé du modèle (structure)\n",
    "model.summary()"
   ]
  },
  {
   "cell_type": "markdown",
   "id": "917b609f",
   "metadata": {},
   "source": [
    "## Visualisation"
   ]
  },
  {
   "cell_type": "code",
   "execution_count": 28,
   "id": "32bc4219",
   "metadata": {},
   "outputs": [],
   "source": [
    "from tensorflow.keras.utils import plot_model\n",
    "import os\n",
    "\n",
    "# 1. Vérifie si Graphviz est bien installé et plot_model fonctionne\n",
    "try:\n",
    "    # Tentative de génération du fichier image\n",
    "    plot_model(model, show_shapes=True, show_layer_names=True, to_file=\"model.png\")\n",
    "\n",
    "    # Vérification que le fichier a bien été créé\n",
    "    if os.path.exists(\"model.png\"):\n",
    "        from IPython.display import Image, display\n",
    "        display(Image(filename=\"model.png\"))\n",
    "    else:\n",
    "        print(\"Échec : le fichier 'model.png' n’a pas été généré.\")\n",
    "        print(\"Vérifie que Graphviz est installé et accessible dans le système.\")\n",
    "\n",
    "except Exception as e:\n",
    "    print(\"Erreur lors de la génération du schéma du modèle :\")\n",
    "    print(e)\n"
   ]
  },
  {
   "cell_type": "markdown",
   "id": "91f62467",
   "metadata": {},
   "source": [
    "###  **Architecture du modèle :**\n",
    "\n",
    "1. **Flatten**\n",
    "\n",
    "   *  Transforme une image 28×28 en un vecteur 784\n",
    "\n",
    "2. **Dense (128 neurones)**\n",
    "\n",
    "   *  1ère couche cachée avec activation ReLU\n",
    "\n",
    "3. **Dense (64 neurones)**\n",
    "\n",
    "   *  2ème couche cachée avec activation ReLU\n",
    "\n",
    "4. **Dense (10 neurones)**\n",
    "\n",
    "   *  Couche de sortie avec activation Softmax (pour classer les chiffres de 0 à 9)\n"
   ]
  },
  {
   "cell_type": "markdown",
   "id": "d2f83a32",
   "metadata": {},
   "source": [
    "## Etape 3 – Entraînement du réseau neuronal sur MNIST"
   ]
  },
  {
   "cell_type": "code",
   "execution_count": 20,
   "id": "7ee63cbb",
   "metadata": {},
   "outputs": [
    {
     "name": "stdout",
     "output_type": "stream",
     "text": [
      "Epoch 1/10\n",
      "\u001b[1m1688/1688\u001b[0m \u001b[32m━━━━━━━━━━━━━━━━━━━━\u001b[0m\u001b[37m\u001b[0m \u001b[1m2s\u001b[0m 1ms/step - accuracy: 0.8710 - loss: 0.4420 - val_accuracy: 0.9687 - val_loss: 0.1160\n",
      "Epoch 2/10\n",
      "\u001b[1m1688/1688\u001b[0m \u001b[32m━━━━━━━━━━━━━━━━━━━━\u001b[0m\u001b[37m\u001b[0m \u001b[1m2s\u001b[0m 988us/step - accuracy: 0.9664 - loss: 0.1116 - val_accuracy: 0.9673 - val_loss: 0.1120\n",
      "Epoch 3/10\n",
      "\u001b[1m1688/1688\u001b[0m \u001b[32m━━━━━━━━━━━━━━━━━━━━\u001b[0m\u001b[37m\u001b[0m \u001b[1m2s\u001b[0m 975us/step - accuracy: 0.9768 - loss: 0.0758 - val_accuracy: 0.9730 - val_loss: 0.0875\n",
      "Epoch 4/10\n",
      "\u001b[1m1688/1688\u001b[0m \u001b[32m━━━━━━━━━━━━━━━━━━━━\u001b[0m\u001b[37m\u001b[0m \u001b[1m2s\u001b[0m 947us/step - accuracy: 0.9837 - loss: 0.0527 - val_accuracy: 0.9755 - val_loss: 0.0812\n",
      "Epoch 5/10\n",
      "\u001b[1m1688/1688\u001b[0m \u001b[32m━━━━━━━━━━━━━━━━━━━━\u001b[0m\u001b[37m\u001b[0m \u001b[1m2s\u001b[0m 984us/step - accuracy: 0.9881 - loss: 0.0382 - val_accuracy: 0.9780 - val_loss: 0.0731\n",
      "Epoch 6/10\n",
      "\u001b[1m1688/1688\u001b[0m \u001b[32m━━━━━━━━━━━━━━━━━━━━\u001b[0m\u001b[37m\u001b[0m \u001b[1m2s\u001b[0m 961us/step - accuracy: 0.9901 - loss: 0.0312 - val_accuracy: 0.9772 - val_loss: 0.0860\n",
      "Epoch 7/10\n",
      "\u001b[1m1688/1688\u001b[0m \u001b[32m━━━━━━━━━━━━━━━━━━━━\u001b[0m\u001b[37m\u001b[0m \u001b[1m2s\u001b[0m 989us/step - accuracy: 0.9910 - loss: 0.0266 - val_accuracy: 0.9773 - val_loss: 0.0876\n",
      "Epoch 8/10\n",
      "\u001b[1m1688/1688\u001b[0m \u001b[32m━━━━━━━━━━━━━━━━━━━━\u001b[0m\u001b[37m\u001b[0m \u001b[1m2s\u001b[0m 984us/step - accuracy: 0.9911 - loss: 0.0275 - val_accuracy: 0.9803 - val_loss: 0.0847\n",
      "Epoch 9/10\n",
      "\u001b[1m1688/1688\u001b[0m \u001b[32m━━━━━━━━━━━━━━━━━━━━\u001b[0m\u001b[37m\u001b[0m \u001b[1m2s\u001b[0m 961us/step - accuracy: 0.9932 - loss: 0.0201 - val_accuracy: 0.9780 - val_loss: 0.0866\n",
      "Epoch 10/10\n",
      "\u001b[1m1688/1688\u001b[0m \u001b[32m━━━━━━━━━━━━━━━━━━━━\u001b[0m\u001b[37m\u001b[0m \u001b[1m2s\u001b[0m 945us/step - accuracy: 0.9944 - loss: 0.0172 - val_accuracy: 0.9805 - val_loss: 0.0944\n"
     ]
    }
   ],
   "source": [
    "# Entraînement du modèle sur les données MNIST\n",
    "\n",
    "history = model.fit(\n",
    "    x_train, y_train_cat,              # Données d'entraînement\n",
    "    epochs=10,                         # Nombre d’époques\n",
    "    batch_size=32,                     # Taille de lot\n",
    "    validation_split=0.1,             # 10% pour validation\n",
    "    verbose=1                          # Affichage des étapes\n",
    ")"
   ]
  },
  {
   "cell_type": "markdown",
   "id": "df68d455",
   "metadata": {},
   "source": [
    "###  **Analyse par époque**\n",
    "\n",
    "| Époque | Accuracy train | Accuracy val | Écart  |\n",
    "| ------ | -------------- | ------------ | ------ |\n",
    "| 1      | 87,1 %         | 96,9 %       | ↗️     |\n",
    "| 5      | 98,8 %         | 97,8 %       | proche |\n",
    "| 10     | 99,4 %         | 98,0 %       | stable |\n",
    "\n",
    "* Le modèle **continue d’apprendre efficacement** jusqu’à la fin\n",
    "* La validation reste **stable**, donc **pas de surapprentissage fort**\n",
    "\n",
    "---\n",
    "\n",
    "###  **Remarque légère :**\n",
    "\n",
    "* Dès la **6e époque**, la perte sur validation remonte un peu\n",
    "  → tu pourrais stopper à l’époque 5–6 ou **ajouter un early stopping**\n",
    "\n",
    "---\n",
    "\n",
    "###  **Conclusion :**\n",
    "\n",
    "Le modèle dense (amélioré ou dropout) fonctionne **très bien**, avec une **val\\_accuracy > 98 %**, ce qui est excellent pour MNIST avec un MLP.\n",
    "\n"
   ]
  },
  {
   "cell_type": "code",
   "execution_count": 31,
   "id": "ed461102",
   "metadata": {},
   "outputs": [
    {
     "data": {
      "text/plain": [
       "<Figure size 1200x500 with 0 Axes>"
      ]
     },
     "execution_count": 31,
     "metadata": {},
     "output_type": "execute_result"
    },
    {
     "data": {
      "text/plain": [
       "<Figure size 1200x500 with 0 Axes>"
      ]
     },
     "metadata": {},
     "output_type": "display_data"
    }
   ],
   "source": [
    "# 📊 Affichage des courbes de perte et de précision\n",
    "\n",
    "plt.figure(figsize=(12, 5))"
   ]
  },
  {
   "cell_type": "code",
   "execution_count": 22,
   "id": "523bd4c2",
   "metadata": {},
   "outputs": [
    {
     "data": {
      "image/png": "[encoded data removed]",
      "text/plain": [
       "<Figure size 640x480 with 1 Axes>"
      ]
     },
     "metadata": {},
     "output_type": "display_data"
    }
   ],
   "source": [
    "# Précision\n",
    "plt.subplot(1, 2, 1)\n",
    "plt.plot(history.history['accuracy'], label='Entraînement')\n",
    "plt.plot(history.history['val_accuracy'], label='Validation')\n",
    "plt.title(\"Précision au fil des époques\")\n",
    "plt.xlabel(\"Époque\")\n",
    "plt.ylabel(\"Précision\")\n",
    "plt.legend()\n",
    "plt.grid(True)"
   ]
  },
  {
   "cell_type": "markdown",
   "id": "da5e9c98",
   "metadata": {},
   "source": [
    "### **Observations :**\n",
    "\n",
    "* La **précision d'entraînement** monte rapidement jusqu’à > 99 % 🔝\n",
    "* La **précision de validation** stagne entre **97,5 % et 98,1 %** 🟠\n",
    "* Aucune divergence nette → **pas de surapprentissage sévère**\n",
    "\n",
    "---\n",
    "\n",
    "### **Conclusion :**\n",
    "\n",
    "* Le modèle apprend **progressivement** et reste **généralisable**.\n",
    "* L’écart entre train et validation est **stable** (≃1-1,5 %) : normal pour un MLP sur MNIST.\n",
    "* Le pic de validation est à **l’époque 9**, donc inutile d’entraîner plus longtemps.\n"
   ]
  },
  {
   "cell_type": "code",
   "execution_count": 23,
   "id": "475a1d87",
   "metadata": {},
   "outputs": [
    {
     "data": {
      "image/png": "[encoded data removed]",
      "text/plain": [
       "<Figure size 640x480 with 1 Axes>"
      ]
     },
     "metadata": {},
     "output_type": "display_data"
    }
   ],
   "source": [
    "# Perte\n",
    "plt.subplot(1, 2, 2)\n",
    "plt.plot(history.history['loss'], label='Entraînement')\n",
    "plt.plot(history.history['val_loss'], label='Validation')\n",
    "plt.title(\"Perte (Loss) au fil des époques\")\n",
    "plt.xlabel(\"Époque\")\n",
    "plt.ylabel(\"Perte\")\n",
    "plt.legend()\n",
    "plt.grid(True)\n",
    "\n",
    "plt.tight_layout()\n",
    "plt.show()"
   ]
  },
  {
   "cell_type": "markdown",
   "id": "287892f0",
   "metadata": {},
   "source": [
    "###  **Observations clés :**\n",
    "\n",
    "* La **perte d’entraînement** diminue régulièrement → apprentissage efficace.\n",
    "* La **perte de validation** diminue jusqu’à l’époque 4, puis :\n",
    "\n",
    "  * **Stagne** autour de 0.08–0.10\n",
    "  * **Remonte légèrement** à la fin → **début de surapprentissage**\n",
    "\n",
    "---\n",
    "\n",
    "###  **Interprétation :**\n",
    "\n",
    "* Le modèle commence à **mémoriser trop** au-delà de l’époque 5–6.\n",
    "* Le **gap entre train et validation** augmente légèrement : signe typique de **surapprentissage léger**.\n",
    "* **Précision** reste stable, donc ce n’est pas critique.\n",
    "\n",
    "---\n",
    "\n",
    "###  **Conclusion optimale :**\n",
    "\n",
    "* Entraîner jusqu’à **5 ou 6 époques suffit** pour avoir :\n",
    "\n",
    "  * perte minimale\n",
    "  * bon équilibre général\n",
    "* Tu peux ajouter un **early stopping** ou un **dropout plus fort** si tu veux lisser ça.\n"
   ]
  },
  {
   "cell_type": "markdown",
   "id": "48bcf963",
   "metadata": {},
   "source": [
    "## Etape 4 – Évaluation du modèle sur les données de test "
   ]
  },
  {
   "cell_type": "markdown",
   "id": "ac3ebccc",
   "metadata": {},
   "source": [
    "### 1. Évaluer le modèle sur l’ensemble de test"
   ]
  },
  {
   "cell_type": "code",
   "execution_count": null,
   "id": "bb570329",
   "metadata": {},
   "outputs": [
    {
     "name": "stdout",
     "output_type": "stream",
     "text": [
      "Précision sur les données de test : 0.9768\n",
      "Perte sur les données de test : 0.0976\n"
     ]
    }
   ],
   "source": [
    "# Évaluation sur les données de test\n",
    "test_loss, test_accuracy = model.evaluate(x_test, y_test_cat, verbose=0)\n",
    "\n",
    "print(f\"Précision sur les données de test : {test_accuracy:.4f}\")\n",
    "print(f\"Perte sur les données de test : {test_loss:.4f}\")\n"
   ]
  },
  {
   "cell_type": "markdown",
   "id": "b114da93",
   "metadata": {},
   "source": [
    "### **Précision sur test : `97,68 %`**\n",
    "\n",
    "* Très bon score pour un réseau dense (MLP).\n",
    "* Le modèle généralise bien sur des données **jamais vues**.\n",
    "\n",
    "---\n",
    "\n",
    "### **Perte sur test : `0.0976`**\n",
    "\n",
    "* Légèrement supérieure à la perte d'entraînement → normal.\n",
    "* Confirme une **légère divergence** (début de surapprentissage), **mais pas critique**.\n",
    "\n",
    "---\n",
    "\n",
    "### **Conclusion :**\n",
    "\n",
    "* Ton réseau dense fonctionne **très bien** sur MNIST.\n",
    "* Tu atteins un niveau **proche de l’état de l’art** pour un MLP simple.\n",
    "\n"
   ]
  },
  {
   "cell_type": "markdown",
   "id": "87e8ceb3",
   "metadata": {},
   "source": [
    "### 2. Générer et afficher la matrice de confusion"
   ]
  },
  {
   "cell_type": "code",
   "execution_count": 25,
   "id": "3106f0b8",
   "metadata": {},
   "outputs": [
    {
     "name": "stdout",
     "output_type": "stream",
     "text": [
      "\u001b[1m313/313\u001b[0m \u001b[32m━━━━━━━━━━━━━━━━━━━━\u001b[0m\u001b[37m\u001b[0m \u001b[1m0s\u001b[0m 529us/step\n"
     ]
    },
    {
     "data": {
      "image/png": "[encoded data removed]",
      "text/plain": [
       "<Figure size 800x600 with 2 Axes>"
      ]
     },
     "metadata": {},
     "output_type": "display_data"
    }
   ],
   "source": [
    "from sklearn.metrics import confusion_matrix\n",
    "import seaborn as sns\n",
    "\n",
    "# Prédictions sur les données de test\n",
    "y_pred_proba = model.predict(x_test)\n",
    "y_pred_classes = y_pred_proba.argmax(axis=1)\n",
    "y_true_classes = y_test\n",
    "\n",
    "# Matrice de confusion\n",
    "conf_matrix = confusion_matrix(y_true_classes, y_pred_classes)\n",
    "\n",
    "# Affichage\n",
    "plt.figure(figsize=(8, 6))\n",
    "sns.heatmap(conf_matrix, annot=True, fmt='d', cmap='Blues')\n",
    "plt.title(\"Matrice de confusion\")\n",
    "plt.xlabel(\"Prédit\")\n",
    "plt.ylabel(\"Réel\")\n",
    "plt.show()\n"
   ]
  },
  {
   "cell_type": "markdown",
   "id": "e8662d1b",
   "metadata": {},
   "source": [
    "### **Forces**\n",
    "\n",
    "* La diagonale est **fortement dominante** → très bonne précision.\n",
    "* Peu d’erreurs sur les classes 0, 1, 3, 7 → parfaitement apprises.\n",
    "\n",
    "---\n",
    "\n",
    "### **Confusions fréquentes**\n",
    "\n",
    "| Chiffre réel | Prédit comme | Nombre d'erreurs | Observation                       |\n",
    "| ------------ | ------------ | ---------------- | --------------------------------- |\n",
    "| 5            | 3            | 11               | Très courant (formes proches)     |\n",
    "| 4            | 9            | 8                | Boucles similaires parfois        |\n",
    "| 2            | 7            | 13               | Ligne courbe similaire            |\n",
    "| 9            | 4 ou 7       | 7 + 7            | Confusions en miroir ou partielle |\n",
    "\n",
    "---\n",
    "\n",
    "### **Remarques**\n",
    "\n",
    "* Les erreurs sont **peu nombreuses** et **interclasses logiques**.\n",
    "* Aucun chiffre n’est complètement mal appris.\n",
    "* Le modèle gère bien les chiffres \"ouverts\" (1, 7) et \"fermés\" (0, 6, 8).\n",
    "\n"
   ]
  },
  {
   "cell_type": "markdown",
   "id": "f76cb6ee",
   "metadata": {},
   "source": [
    "### 3. Identifier les chiffres mal classés"
   ]
  },
  {
   "cell_type": "code",
   "execution_count": 26,
   "id": "0f574647",
   "metadata": {},
   "outputs": [
    {
     "data": {
      "image/png": "[encoded data removed]",
      "text/plain": [
       "<Figure size 1000x500 with 10 Axes>"
      ]
     },
     "metadata": {},
     "output_type": "display_data"
    }
   ],
   "source": [
    "# Recherche des indices d'erreurs\n",
    "errors = np.where(y_pred_classes != y_true_classes)[0]\n",
    "\n",
    "# Affichage de quelques erreurs\n",
    "plt.figure(figsize=(10, 5))\n",
    "for i in range(10):\n",
    "    idx = errors[i]\n",
    "    plt.subplot(2, 5, i + 1)\n",
    "    plt.imshow(x_test[idx], cmap=\"gray\")\n",
    "    plt.title(f\"Réel: {y_true_classes[idx]}, Prédit: {y_pred_classes[idx]}\")\n",
    "    plt.axis('off')\n",
    "plt.suptitle(\"Exemples de mauvaises prédictions\")\n",
    "plt.tight_layout()\n",
    "plt.show()\n"
   ]
  },
  {
   "cell_type": "markdown",
   "id": "7940dccf",
   "metadata": {},
   "source": [
    "### **Erreurs humaines compréhensibles**\n",
    "\n",
    "* **4 → 9** : la boucle fermée en bas rend la forme proche du 9.\n",
    "* **2 → 9 / 7 / 1** : le style manuscrit très arrondi ou anguleux rend la forme ambiguë.\n",
    "* **9 → 4 / 3** : si le haut est peu marqué, la forme rappelle un 4 ou 3.\n",
    "* **6 → 0** : parfois très fermé, le 6 devient confus avec un 0.\n",
    "* **8 → 7** : si la boucle inférieure est mal formée, l’image ressemble à un 7 stylisé.\n",
    "\n",
    "---\n",
    "\n",
    "### **Exemples typiques de confusion**\n",
    "\n",
    "| Réel | Prédit | Pourquoi                            |\n",
    "| ---- | ------ | ----------------------------------- |\n",
    "| 5    | 3      | Boucles similaires, 3 inversé       |\n",
    "| 9    | 4      | Boucle inférieure peu marquée       |\n",
    "| 4    | 6      | Courbe large et fermée              |\n",
    "| 6    | 0      | Forme très fermée, quasi circulaire |\n",
    "\n",
    "---\n",
    "\n",
    "### **Conclusion**\n",
    "\n",
    "* Les erreurs viennent **principalement de la variation manuscrite**.\n",
    "* Même un humain pourrait hésiter sur certains cas.\n"
   ]
  },
  {
   "cell_type": "markdown",
   "id": "b2a6c277",
   "metadata": {},
   "source": [
    "##  Etape 5 – Réglage des hyperparamètres pour améliorer les performances du modèle."
   ]
  },
  {
   "cell_type": "markdown",
   "id": "9c4daa1a",
   "metadata": {},
   "source": [
    "### Objectif : Améliorer la précision du modèle via des ajustements simples\n",
    "Paramètres modifiables :\n",
    "* Nombre de neurones\n",
    "\n",
    "* Nombre d’époques\n",
    "\n",
    "* Taille du batch\n",
    "\n",
    "* Optimiseur\n",
    "\n",
    "* Régularisation (ex : Dropout)"
   ]
  },
  {
   "cell_type": "markdown",
   "id": "be1fb4f6",
   "metadata": {},
   "source": [
    "### 1. Exemple de nouveau modèle avec Dropout + plus de neurones"
   ]
  },
  {
   "cell_type": "code",
   "execution_count": 1,
   "id": "88256ead",
   "metadata": {},
   "outputs": [
    {
     "name": "stderr",
     "output_type": "stream",
     "text": [
      "/Users/agathelebescond/Library/Python/3.9/lib/python/site-packages/urllib3/__init__.py:35: NotOpenSSLWarning: urllib3 v2 only supports OpenSSL 1.1.1+, currently the 'ssl' module is compiled with 'LibreSSL 2.8.3'. See: https://github.com/urllib3/urllib3/issues/3020\n",
      "  warnings.warn(\n"
     ]
    }
   ],
   "source": [
    "from tensorflow.keras.models import Sequential\n",
    "from tensorflow.keras.layers import Input, Flatten, Dense, Dropout\n",
    "\n",
    "# Nouveau modèle avec réglages différents\n",
    "model2 = Sequential([\n",
    "    Input(shape=(28, 28)),\n",
    "    Flatten(),\n",
    "    Dense(256, activation='relu'),\n",
    "    Dropout(0.3),                      # Empêche le surapprentissage\n",
    "    Dense(128, activation='relu'),\n",
    "    Dropout(0.3),\n",
    "    Dense(10, activation='softmax')\n",
    "])\n",
    "\n",
    "# Compilation\n",
    "model2.compile(\n",
    "    optimizer='adam',\n",
    "    loss='categorical_crossentropy',\n",
    "    metrics=['accuracy']\n",
    ")\n"
   ]
  },
  {
   "cell_type": "markdown",
   "id": "c83977ae",
   "metadata": {},
   "source": [
    "### 2. Entraînement avec plus d’époques"
   ]
  },
  {
   "cell_type": "code",
   "execution_count": 28,
   "id": "90915e70",
   "metadata": {},
   "outputs": [
    {
     "name": "stdout",
     "output_type": "stream",
     "text": [
      "Epoch 1/15\n",
      "\u001b[1m844/844\u001b[0m \u001b[32m━━━━━━━━━━━━━━━━━━━━\u001b[0m\u001b[37m\u001b[0m \u001b[1m2s\u001b[0m 2ms/step - accuracy: 0.8090 - loss: 0.6161 - val_accuracy: 0.9643 - val_loss: 0.1130\n",
      "Epoch 2/15\n",
      "\u001b[1m844/844\u001b[0m \u001b[32m━━━━━━━━━━━━━━━━━━━━\u001b[0m\u001b[37m\u001b[0m \u001b[1m1s\u001b[0m 2ms/step - accuracy: 0.9467 - loss: 0.1742 - val_accuracy: 0.9773 - val_loss: 0.0814\n",
      "Epoch 3/15\n",
      "\u001b[1m844/844\u001b[0m \u001b[32m━━━━━━━━━━━━━━━━━━━━\u001b[0m\u001b[37m\u001b[0m \u001b[1m1s\u001b[0m 2ms/step - accuracy: 0.9638 - loss: 0.1190 - val_accuracy: 0.9797 - val_loss: 0.0702\n",
      "Epoch 4/15\n",
      "\u001b[1m844/844\u001b[0m \u001b[32m━━━━━━━━━━━━━━━━━━━━\u001b[0m\u001b[37m\u001b[0m \u001b[1m1s\u001b[0m 2ms/step - accuracy: 0.9690 - loss: 0.1028 - val_accuracy: 0.9783 - val_loss: 0.0766\n",
      "Epoch 5/15\n",
      "\u001b[1m844/844\u001b[0m \u001b[32m━━━━━━━━━━━━━━━━━━━━\u001b[0m\u001b[37m\u001b[0m \u001b[1m1s\u001b[0m 2ms/step - accuracy: 0.9724 - loss: 0.0874 - val_accuracy: 0.9818 - val_loss: 0.0667\n",
      "Epoch 6/15\n",
      "\u001b[1m844/844\u001b[0m \u001b[32m━━━━━━━━━━━━━━━━━━━━\u001b[0m\u001b[37m\u001b[0m \u001b[1m1s\u001b[0m 2ms/step - accuracy: 0.9773 - loss: 0.0741 - val_accuracy: 0.9812 - val_loss: 0.0690\n",
      "Epoch 7/15\n",
      "\u001b[1m844/844\u001b[0m \u001b[32m━━━━━━━━━━━━━━━━━━━━\u001b[0m\u001b[37m\u001b[0m \u001b[1m1s\u001b[0m 2ms/step - accuracy: 0.9789 - loss: 0.0655 - val_accuracy: 0.9825 - val_loss: 0.0642\n",
      "Epoch 8/15\n",
      "\u001b[1m844/844\u001b[0m \u001b[32m━━━━━━━━━━━━━━━━━━━━\u001b[0m\u001b[37m\u001b[0m \u001b[1m1s\u001b[0m 2ms/step - accuracy: 0.9818 - loss: 0.0599 - val_accuracy: 0.9827 - val_loss: 0.0601\n",
      "Epoch 9/15\n",
      "\u001b[1m844/844\u001b[0m \u001b[32m━━━━━━━━━━━━━━━━━━━━\u001b[0m\u001b[37m\u001b[0m \u001b[1m1s\u001b[0m 2ms/step - accuracy: 0.9836 - loss: 0.0524 - val_accuracy: 0.9840 - val_loss: 0.0609\n",
      "Epoch 10/15\n",
      "\u001b[1m844/844\u001b[0m \u001b[32m━━━━━━━━━━━━━━━━━━━━\u001b[0m\u001b[37m\u001b[0m \u001b[1m1s\u001b[0m 2ms/step - accuracy: 0.9835 - loss: 0.0517 - val_accuracy: 0.9835 - val_loss: 0.0637\n",
      "Epoch 11/15\n",
      "\u001b[1m844/844\u001b[0m \u001b[32m━━━━━━━━━━━━━━━━━━━━\u001b[0m\u001b[37m\u001b[0m \u001b[1m1s\u001b[0m 2ms/step - accuracy: 0.9842 - loss: 0.0480 - val_accuracy: 0.9847 - val_loss: 0.0598\n",
      "Epoch 12/15\n",
      "\u001b[1m844/844\u001b[0m \u001b[32m━━━━━━━━━━━━━━━━━━━━\u001b[0m\u001b[37m\u001b[0m \u001b[1m1s\u001b[0m 2ms/step - accuracy: 0.9849 - loss: 0.0487 - val_accuracy: 0.9825 - val_loss: 0.0697\n",
      "Epoch 13/15\n",
      "\u001b[1m844/844\u001b[0m \u001b[32m━━━━━━━━━━━━━━━━━━━━\u001b[0m\u001b[37m\u001b[0m \u001b[1m1s\u001b[0m 2ms/step - accuracy: 0.9853 - loss: 0.0425 - val_accuracy: 0.9845 - val_loss: 0.0615\n",
      "Epoch 14/15\n",
      "\u001b[1m844/844\u001b[0m \u001b[32m━━━━━━━━━━━━━━━━━━━━\u001b[0m\u001b[37m\u001b[0m \u001b[1m1s\u001b[0m 2ms/step - accuracy: 0.9866 - loss: 0.0414 - val_accuracy: 0.9835 - val_loss: 0.0679\n",
      "Epoch 15/15\n",
      "\u001b[1m844/844\u001b[0m \u001b[32m━━━━━━━━━━━━━━━━━━━━\u001b[0m\u001b[37m\u001b[0m \u001b[1m1s\u001b[0m 2ms/step - accuracy: 0.9861 - loss: 0.0427 - val_accuracy: 0.9862 - val_loss: 0.0608\n"
     ]
    }
   ],
   "source": [
    "history2 = model2.fit(\n",
    "    x_train, y_train_cat,\n",
    "    epochs=15,                     # Plus d’époques\n",
    "    batch_size=64,                # Taille de batch plus grande\n",
    "    validation_split=0.1,\n",
    "    verbose=1\n",
    ")\n"
   ]
  },
  {
   "cell_type": "markdown",
   "id": "ba6845fe",
   "metadata": {},
   "source": [
    "### **Performances**\n",
    "\n",
    "* **Précision finale (val) :** `98,62 %` → **excellente**\n",
    "* **Perte finale (val) :** `0.0608` → **faible et stable**\n",
    "\n",
    "---\n",
    "\n",
    "### **Évolution**\n",
    "\n",
    "* Forte progression jusqu’à l’époque 8–9.\n",
    "* Les pertes et précisions **se stabilisent** ensuite.\n",
    "* Pas de surapprentissage visible : les courbes restent **proches et cohérentes**.\n",
    "\n",
    "---\n",
    "\n",
    "### **Conclusion**\n",
    "\n",
    "* Ton modèle est **très bien entraîné**.\n",
    "* **Pas besoin d’aller au-delà de 15 époques.**\n",
    "* Tu peux enregistrer ce modèle tel quel (`model.save(...)`) pour une utilisation future.\n",
    "\n"
   ]
  },
  {
   "cell_type": "markdown",
   "id": "73187ada",
   "metadata": {},
   "source": [
    "### 3. Visualisation des courbes"
   ]
  },
  {
   "cell_type": "code",
   "execution_count": 3,
   "id": "40230021",
   "metadata": {},
   "outputs": [],
   "source": [
    "import matplotlib.pyplot as plt"
   ]
  },
  {
   "cell_type": "code",
   "execution_count": 5,
   "id": "f0d6358d",
   "metadata": {},
   "outputs": [
    {
     "ename": "NameError",
     "evalue": "name 'history2' is not defined",
     "output_type": "error",
     "traceback": [
      "\u001b[0;31m---------------------------------------------------------------------------\u001b[0m",
      "\u001b[0;31mNameError\u001b[0m                                 Traceback (most recent call last)",
      "Cell \u001b[0;32mIn[5], line 1\u001b[0m\n\u001b[0;32m----> 1\u001b[0m \u001b[38;5;28mprint\u001b[39m(\u001b[43mhistory2\u001b[49m\u001b[38;5;241m.\u001b[39mhistory)\n",
      "\u001b[0;31mNameError\u001b[0m: name 'history2' is not defined"
     ]
    }
   ],
   "source": [
    "print(history2.history)"
   ]
  },
  {
   "cell_type": "code",
   "execution_count": null,
   "id": "10748f8b",
   "metadata": {},
   "outputs": [],
   "source": [
    "# Courbes de performance modèle amélioré\n",
    "plt.figure(figsize=(12, 5))\n",
    "\n",
    "plt.subplot(1, 2, 1)\n",
    "plt.plot(history2.history['accuracy'], label='Entraînement')\n",
    "plt.plot(history2.history['val_accuracy'], label='Validation')\n",
    "plt.title(\"Précision (modèle 2)\")\n",
    "plt.xlabel(\"Époque\")\n",
    "plt.ylabel(\"Précision\")\n",
    "plt.legend()\n",
    "plt.grid(True)\n",
    "\n",
    "plt.subplot(1, 2, 2)\n",
    "plt.plot(history2.history['loss'], label='Entraînement')\n",
    "plt.plot(history2.history['val_loss'], label='Validation')\n",
    "plt.title(\"Perte (modèle 2)\")\n",
    "plt.xlabel(\"Époque\")\n",
    "plt.ylabel(\"Perte\")\n",
    "plt.legend()\n",
    "plt.grid(True)\n",
    "\n",
    "plt.tight_layout()\n",
    "plt.show()\n"
   ]
  },
  {
   "cell_type": "markdown",
   "id": "2232b949",
   "metadata": {},
   "source": [
    "### **Précision (gauche)**\n",
    "\n",
    "* Courbe d'entraînement progresse régulièrement jusqu’à **> 98,5 %**\n",
    "* Courbe de validation est **légèrement au-dessus** → pas de surapprentissage\n",
    "  Très bonne généralisation\n",
    "\n",
    "---\n",
    "\n",
    "### **Perte (droite)**\n",
    "\n",
    "* Baisse nette et continue côté entraînement\n",
    "* Perte validation reste **faible et stable** entre 0.06 et 0.07\n",
    "  Apprentissage propre et convergent\n",
    "\n",
    "---\n",
    "\n",
    "### **Conclusion**\n",
    "\n",
    "Ton **modèle 2 est encore meilleur que le premier**, avec une stabilité et une précision légèrement supérieures. Tu peux le conserver et éventuellement l’exporter avec :\n",
    "\n"
   ]
  },
  {
   "cell_type": "code",
   "execution_count": null,
   "id": "c8649465",
   "metadata": {},
   "outputs": [
    {
     "name": "stdout",
     "output_type": "stream",
     "text": [
      "Modèle sauvegardé sous 'modele_mnist_dense.keras'\n"
     ]
    }
   ],
   "source": [
    "# Sauvegarde du modèle complet au format Keras natif\n",
    "model.save(\"modele_mnist_dense.keras\")\n",
    "\n",
    "print(\"Modèle sauvegardé sous 'modele_mnist_dense.keras'\")\n"
   ]
  }
 ],
 "metadata": {
  "kernelspec": {
   "display_name": "Python 3",
   "language": "python",
   "name": "python3"
  },
  "language_info": {
   "codemirror_mode": {
    "name": "ipython",
    "version": 3
   },
   "file_extension": ".py",
   "mimetype": "text/x-python",
   "name": "python",
   "nbconvert_exporter": "python",
   "pygments_lexer": "ipython3",
   "version": "3.9.6"
  }
 },
 "nbformat": 4,
 "nbformat_minor": 5
}

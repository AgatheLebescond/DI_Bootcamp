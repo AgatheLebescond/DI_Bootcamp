{
 "cells": [
  {
   "cell_type": "code",
   "execution_count": null,
   "id": "5ef2677e",
   "metadata": {},
   "outputs": [],
   "source": []
  },
  {
   "cell_type": "code",
   "execution_count": 31,
   "id": "049a556c",
   "metadata": {},
   "outputs": [
    {
     "name": "stdout",
     "output_type": "stream",
     "text": [
      "{'Ten': 10, 'Twenty': 20, 'Thirty': 30}\n"
     ]
    }
   ],
   "source": [
    "#EX 1#You are given two lists. Convert them into a dictionary where the first list contains the keys and the second list contains the corresponding values.\n",
    "\n",
    "\n",
    "keys = ['Ten', 'Twenty', 'Thirty']\n",
    "values = [10, 20, 30]\n",
    "number_dict = dict(zip(keys, values))\n",
    "\n",
    "print(number_dict)\n"
   ]
  },
  {
   "cell_type": "code",
   "execution_count": null,
   "id": "3a6bf0ce",
   "metadata": {},
   "outputs": [
    {
     "name": "stdout",
     "output_type": "stream",
     "text": [
      "{'Ten': 10, 'Twenty': 20, 'Thirty': 30}\n"
     ]
    }
   ],
   "source": [
    "# EX 1 solution 2\n",
    "# #You are given two lists. Convert them into a dictionary where the first list contains the keys and the second list contains the corresponding values.\n",
    "keys = ['Ten', 'Twenty', 'Thirty']\n",
    "values = [10, 20, 30]\n",
    "#Using dictionary comprehension to create the dictionnary\n",
    "result = {keys[i]: values[i] for i in range (len(keys))}\n",
    "print(result)\n"
   ]
  },
  {
   "cell_type": "code",
   "execution_count": 2,
   "id": "1282d25c",
   "metadata": {},
   "outputs": [
    {
     "name": "stdout",
     "output_type": "stream",
     "text": [
      "Ticket price for rick is $15\n",
      "Ticket price for beth is $15\n",
      "Ticket price for morty is $10\n",
      "Ticket price for summer is $10\n",
      "Total ticket price is $50\n"
     ]
    }
   ],
   "source": [
    "\n",
    "#EX 2\n",
    " # Write a program that calculates the total cost of movie tickets for a family based on their ages.\n",
    "   #for the bonus\n",
    "family = {}\n",
    "add_family_member = family = {\"rick\": 43, 'beth': 13, 'morty': 5, 'summer': 8}\n",
    "while add_family_member == \"y\":\n",
    "    name = input(\"Name of family member? \")\n",
    "    age = int(input(\"Age of family member? \"))\n",
    "    family[name] = age\n",
    "    add_family_member = input(\"Add family memeber (y/n)? \")\n",
    "\n",
    "total_cost = 0\n",
    "\n",
    "for name in family:\n",
    "    if family[name] < 3:\n",
    "        individual_cost = 0\n",
    "    elif family[name] > 12:\n",
    "        individual_cost = 15\n",
    "    else:\n",
    "        individual_cost = 10\n",
    "    print(f\"Ticket price for {name} is ${individual_cost}\")\n",
    "    total_cost += individual_cost\n",
    "print (f\"Total ticket price is ${total_cost}\")"
   ]
  },
  {
   "cell_type": "code",
   "execution_count": 1,
   "id": "0e54ea35",
   "metadata": {},
   "outputs": [
    {
     "name": "stdout",
     "output_type": "stream",
     "text": [
      "['Hello Rick!', 'Hello Beth!']\n"
     ]
    }
   ],
   "source": [
    "def is_short_name(name):\n",
    "    return len(name) <= 4\n",
    "def greet(name):\n",
    "    return f\"Hello {name}!\"\n",
    "people = [\"Rick\", \"Morty\", \"Beth\", \"Jerry\", \"Snowball\"]\n",
    "# Use filter and map with function definitions\n",
    "short_names = filter(is_short_name, people)\n",
    "greetings = map(greet, short_names)\n",
    "# Print the greetings\n",
    "print(list(greetings))"
   ]
  },
  {
   "cell_type": "code",
   "execution_count": null,
   "id": "db362aab",
   "metadata": {},
   "outputs": [
    {
     "name": "stdout",
     "output_type": "stream",
     "text": [
      "Zara's clients are men, women, children, home.\n",
      "Desigual\n",
      "['pink', 'green']\n",
      "7\n",
      "dict_keys(['name', 'creator_name', 'type_of_clothes', 'international_competitors', 'number_stores', 'major_color', 'country_creation'])\n"
     ]
    }
   ],
   "source": [
    "# EX 3 \n",
    "# Create and manipulate a dictionary that contains information about the Zara brand.\n",
    "\n",
    "brand = {\n",
    "    \"name\": \"Zara\",\n",
    "    \"creation_date\": 1975,\n",
    "    \"creator_name\": \"Amancio Ortega Gaona\",\n",
    "    \"type_of_clothes\": \"men, women, children, home\",\n",
    "    \"international_competitors\": [\"Gap\", \"H&M\", \"Benetton\"],\n",
    "    \"number_stores\": 7000,\n",
    "    \"major_color\": {\n",
    "        \"France\": \"blue\",\n",
    "        \"Spain\": \"red\",\n",
    "        \"US\": [\"pink\", \"green\"]\n",
    "    }\n",
    "}\n",
    "\n",
    "print(f\"Zara's clients are {','.join(brand['type_of_clothes']}.\")\n",
    "\n",
    "# Add a new key country_creation with the value Spain.\n",
    "brand[\"country_creation\"] = \"Spain\"\n",
    "\n",
    "# Check if international_competitors exists and, if so, add “Desigual” to the list.\n",
    "if \"international_competitors\" in brand:\n",
    "    brand[\"international_competitors\"].append(\"Desigual\")\n",
    "\n",
    "# Delete the creation_date key.\n",
    "if \"creation_date\" in brand:\n",
    "    del brand[\"creation_date\"]\n",
    "\n",
    "# Print the last item in international_competitors.\n",
    "print(brand[\"international_competitors\"][-1])\n",
    "\n",
    "# Print the major colors in the US.\n",
    "print(brand[\"major_color\"][\"US\"])\n",
    "\n",
    "# Print the number of keys in the dictionary.\n",
    "print(len(brand))\n",
    "\n",
    "# Print all keys of the dictionary\n",
    "print(brand.keys())\n",
    "\n"
   ]
  },
  {
   "cell_type": "code",
   "execution_count": null,
   "id": "b1eac90f",
   "metadata": {},
   "outputs": [
    {
     "name": "stdout",
     "output_type": "stream",
     "text": [
      "Reykjavik is in Iceland.\n",
      "Paris is in France.\n",
      "Paris is in France.\n"
     ]
    }
   ],
   "source": [
    "#EX 4\n",
    "#Goal: Create a function that describes a city and its country.\n",
    "def describe_city(name, country=\"France\"):\n",
    "    print(f\"{name} is in {country}.\")\n",
    "#Inside the function, set up the code to display a sentence like “ is in “.\n",
    "describe_city(\"Reykjavik\", \"Iceland\")\n",
    "describe_city(\"Paris\",\"France\")\n",
    "describe_city(\"Paris\")"
   ]
  },
  {
   "cell_type": "code",
   "execution_count": 29,
   "id": "6baf94ff",
   "metadata": {},
   "outputs": [
    {
     "name": "stdout",
     "output_type": "stream",
     "text": [
      "Fail! Your number: 50, Random number: 93\n"
     ]
    }
   ],
   "source": [
    "\n",
    "#EX 5\n",
    "import random\n",
    "#Goal: Create a function that generates random numbers and compares them.\n",
    "def compare_random_number(user_number):\n",
    "    random_number = random.randint (1,100)\n",
    "    if user_number==random_number:\n",
    "        print(\"Success!The numbers match.\")\n",
    "\n",
    "    else:\n",
    "        print(f\"Fail! Your number: {user_number}, Random number: {random_number}\")\n",
    "compare_random_number(50)\n",
    "\n",
    "\n"
   ]
  },
  {
   "cell_type": "code",
   "execution_count": null,
   "id": "f1a19bb3",
   "metadata": {},
   "outputs": [],
   "source": [
    "#EX 5 \n",
    "\n",
    "import random\n",
    "def randomize():\n",
    "    random_number = random.randint(1, 100)\n",
    "    guess= int(input (\"Can you give a number between 1 to 100 ?\"))\n",
    "    if guess == random_number:\n",
    "        print(\"Success!\")\n",
    "    else:\n",
    "        print(f\"Your number: {guess} , Random number: {random_number} \")\n",
    "randomize()"
   ]
  },
  {
   "cell_type": "code",
   "execution_count": 7,
   "id": "b688368b",
   "metadata": {},
   "outputs": [
    {
     "name": "stdout",
     "output_type": "stream",
     "text": [
      "Fail! Your number: 34, Random number: 52\n"
     ]
    }
   ],
   "source": [
    "def test_number(number):\n",
    "    random_number = random.randint(1, 100)\n",
    "    if number == random_number:\n",
    "        print(\"Success!\")\n",
    "    else :\n",
    "        print(f\"Fail! Your number: {number}, Random number: {random_number}\")\n",
    "test_number(34)"
   ]
  },
  {
   "cell_type": "code",
   "execution_count": 3,
   "id": "a3707920",
   "metadata": {},
   "outputs": [
    {
     "name": "stdout",
     "output_type": "stream",
     "text": [
      "The size of the shirt is S and the text on it is 'Hello World'\n",
      "The size of the shirt is M and the text on it is 'Artemis Fowl'\n",
      "The size of the shirt is L and the text on it is 'I love Python'\n"
     ]
    }
   ],
   "source": [
    "#Exercise 6 : Let’s create some personalized shirts !\n",
    "def make_shirt(size=\"L\", text=\"I love Python\"):\n",
    "    print(f\"The size of the shirt is {size} and the text on it is '{text}'\")\n",
    "\n",
    "make_shirt(\"S\", \"Hello World\")\n",
    "make_shirt(size=\"M\", text=\"Artemis Fowl\")\n",
    "\n",
    "make_shirt()\n"
   ]
  },
  {
   "cell_type": "code",
   "execution_count": 5,
   "id": "71043fec",
   "metadata": {},
   "outputs": [
    {
     "name": "stdout",
     "output_type": "stream",
     "text": [
      "Invalid season. Please enter winter, autumn, spring, or summer.\n"
     ]
    }
   ],
   "source": [
    "#EX 7\n",
    "import random\n",
    "\n",
    "def get_random_temp(season):\n",
    "    if season == \"winter\":\n",
    "        return random.randint(-10, 15)\n",
    "    elif season == \"autumn\" or season == \"spring\":\n",
    "        return random.randint(16, 22)\n",
    "    elif season == \"summer\":\n",
    "        return random.randint(23, 39)\n",
    "    else:\n",
    "        print(\"Invalid season. Please enter winter, autumn, spring, or summer.\")\n",
    "    return None\n",
    "\n",
    "def main():\n",
    "    season = input(\"Enter a season: winter, autumn, spring, or summer: \").strip().lower()\n",
    "    temp = get_random_temp(season)\n",
    "    if temp is None:\n",
    "        return\n",
    "    print(f\"The temperature right now is {temp} degrees Celsius\")\n",
    "\n",
    "    if temp < 0:\n",
    "        print(\"Brr, that's freezing!\")\n",
    "    elif 0 <= temp < 16:\n",
    "        print(\"Quite chilly! Don't forget your coat\")\n",
    "    elif 16 <= temp < 23:\n",
    "        print(\"Ahh that's nice weather!\")\n",
    "    elif 23 <= temp < 32:\n",
    "        print(\"Getting a bit warm here\")\n",
    "    elif 32 <= temp < 40:\n",
    "        print(\"AHHHH im burning!\")\n",
    "main()"
   ]
  },
  {
   "cell_type": "code",
   "execution_count": 14,
   "id": "49dc17e2",
   "metadata": {},
   "outputs": [],
   "source": [
    "# EX 8\n",
    "# Create a program that allows users to add topping to a pizza order\n",
    "# Stop the loop when the user types 'quit'.\n",
    "# For each topping entered, print: \"Adding [topping] to your pizza\".\n",
    "# After exiting the loop, print all the toppings and the total cost of the pizza.\n",
    "# The base price is $10, and each topping adds $2.50.\n",
    "\n",
    "def pizza_order():\n",
    "    toppings = [\"pepperoni\", \"mushrooms\",\"onions\", \"sausage\",\"bacon\",\"extra cheese\",\"black olives\",\n",
    "        \"green peppers\", \"pineapple\", \"spinach\"]\n",
    "    total_cost = 10\n",
    "    pizza_order_list = []\n",
    "    while True:\n",
    "        topping = input(\"Enter a topping to add to your pizza (or type 'quit' to finish): \").strip().lower()\n",
    "        if topping == 'quit':\n",
    "            break\n",
    "        if topping in toppings:\n",
    "            pizza_order_list.append(topping)\n",
    "            total_cost += 2.50\n",
    "            print(f\"Adding {topping} to your pizza.\")\n",
    "        else:\n",
    "            print(f\"Sorry, we don't have {topping} as a topping.\")\n",
    "            print(\"Available toppings are: \" + \", \".join(toppings))\n",
    "    print(f\"Your pizza order: {', '.join(pizza_order_list)}\")\n",
    "    print(f\"Total cost of your pizza is: ${total_cost:.2f}\")"
   ]
  }
 ],
 "metadata": {
  "kernelspec": {
   "display_name": "Python 3",
   "language": "python",
   "name": "python3"
  },
  "language_info": {
   "codemirror_mode": {
    "name": "ipython",
    "version": 3
   },
   "file_extension": ".py",
   "mimetype": "text/x-python",
   "name": "python",
   "nbconvert_exporter": "python",
   "pygments_lexer": "ipython3",
   "version": "3.9.6"
  }
 },
 "nbformat": 4,
 "nbformat_minor": 5
}

{
 "cells": [
  {
   "cell_type": "markdown",
   "id": "9adebecb",
   "metadata": {},
   "source": [
    "Exercise 2 : Statistical Analysis"
   ]
  },
  {
   "cell_type": "code",
   "execution_count": 1,
   "id": "eb998dbd",
   "metadata": {},
   "outputs": [],
   "source": [
    "import numpy as np\n",
    "\n",
    "# Generate an array of 50 random numbers between 0 and 1\n",
    "data = np.random.rand(50)"
   ]
  },
  {
   "cell_type": "code",
   "execution_count": 2,
   "id": "0fbe45a1",
   "metadata": {},
   "outputs": [],
   "source": [
    "# Calculate the mean\n",
    "mean_value = np.mean(data)"
   ]
  },
  {
   "cell_type": "code",
   "execution_count": 3,
   "id": "f647f17c",
   "metadata": {},
   "outputs": [],
   "source": [
    "# Calculate the median\n",
    "median_value = np.median(data)"
   ]
  },
  {
   "cell_type": "code",
   "execution_count": 4,
   "id": "e66759f7",
   "metadata": {},
   "outputs": [],
   "source": [
    "# Calculate the standard deviation\n",
    "std_deviation = np.std(data)"
   ]
  },
  {
   "cell_type": "code",
   "execution_count": 9,
   "id": "7fd33748",
   "metadata": {},
   "outputs": [
    {
     "name": "stdout",
     "output_type": "stream",
     "text": [
      "Mean: 0.5429035718953061\n",
      "Median: 0.5834511635858157\n",
      "Standard Deviation: 0.2949225328830473\n"
     ]
    }
   ],
   "source": [
    "# Print the results\n",
    "print(\"Mean:\", mean_value)\n",
    "print(\"Median:\", median_value)\n",
    "print(\"Standard Deviation:\", std_deviation)"
   ]
  },
  {
   "cell_type": "markdown",
   "id": "7fcd740e",
   "metadata": {},
   "source": [
    "Exercise 3 : Date Manipulation"
   ]
  },
  {
   "cell_type": "code",
   "execution_count": 10,
   "id": "f1922444",
   "metadata": {},
   "outputs": [
    {
     "name": "stdout",
     "output_type": "stream",
     "text": [
      "2023/01/01\n",
      "2023/01/02\n",
      "2023/01/03\n",
      "2023/01/04\n",
      "2023/01/05\n",
      "2023/01/06\n",
      "2023/01/07\n",
      "2023/01/08\n",
      "2023/01/09\n",
      "2023/01/10\n",
      "2023/01/11\n",
      "2023/01/12\n",
      "2023/01/13\n",
      "2023/01/14\n",
      "2023/01/15\n",
      "2023/01/16\n",
      "2023/01/17\n",
      "2023/01/18\n",
      "2023/01/19\n",
      "2023/01/20\n",
      "2023/01/21\n",
      "2023/01/22\n",
      "2023/01/23\n",
      "2023/01/24\n",
      "2023/01/25\n",
      "2023/01/26\n",
      "2023/01/27\n",
      "2023/01/28\n",
      "2023/01/29\n",
      "2023/01/30\n",
      "2023/01/31\n"
     ]
    }
   ],
   "source": [
    "# Create an array of dates for January 2023\n",
    "dates = np.arange('2023-01', '2023-02', dtype='datetime64[D]')\n",
    "\n",
    "# Convert dates to string format 'YYYY/MM/DD'\n",
    "formatted_dates = dates.astype('datetime64[D]').astype(str)\n",
    "formatted_dates = [date.replace('-', '/') for date in formatted_dates]\n",
    "\n",
    "# Print the formatted dates\n",
    "for date in formatted_dates:\n",
    "    print(date)"
   ]
  },
  {
   "cell_type": "markdown",
   "id": "68185922",
   "metadata": {},
   "source": [
    "Exercise 4 : Data Manipulation with NumPy and Pandas"
   ]
  },
  {
   "cell_type": "code",
   "execution_count": 11,
   "id": "d8df22c4",
   "metadata": {},
   "outputs": [
    {
     "name": "stdout",
     "output_type": "stream",
     "text": [
      "DataFrame:\n",
      "     A         B         C\n",
      "0  45  0.891773  0.484312\n",
      "1  48  0.963663  0.579140\n",
      "2  65  0.383442 -0.181583\n",
      "3  68  0.791725  1.410205\n",
      "4  68  0.528895 -0.374472\n",
      "5  10  0.568045  0.275198\n",
      "6  84  0.925597 -0.960755\n",
      "7  22  0.071036  0.376927\n",
      "8  37  0.087129  0.033439\n",
      "9  88  0.020218  0.680567\n",
      "\n",
      "Rows where 'A' > 50:\n",
      "     A         B         C\n",
      "2  65  0.383442 -0.181583\n",
      "3  68  0.791725  1.410205\n",
      "4  68  0.528895 -0.374472\n",
      "6  84  0.925597 -0.960755\n",
      "9  88  0.020218  0.680567\n",
      "\n",
      "Sum of each column:\n",
      " A    535.000000\n",
      "B      5.231522\n",
      "C      2.322980\n",
      "dtype: float64\n",
      "\n",
      "Mean of each column:\n",
      " A    53.500000\n",
      "B     0.523152\n",
      "C     0.232298\n",
      "dtype: float64\n"
     ]
    }
   ],
   "source": [
    "import pandas as pd\n",
    "import numpy as np\n",
    "\n",
    "# Create a DataFrame with random numbers\n",
    "np.random.seed(0)  # For reproducibility\n",
    "df = pd.DataFrame({\n",
    "    'A': np.random.randint(1, 100, size=10),\n",
    "    'B': np.random.rand(10),\n",
    "    'C': np.random.randn(10)\n",
    "})\n",
    "\n",
    "print(\"DataFrame:\\n\", df)\n",
    "\n",
    "# Conditional selection: select rows where value in column 'A' is greater than 50\n",
    "conditional_selection = df[df['A'] > 50]\n",
    "print(\"\\nRows where 'A' > 50:\\n\", conditional_selection)\n",
    "\n",
    "# Aggregation: sum and mean of each column\n",
    "sum_values = df.sum()\n",
    "mean_values = df.mean()\n",
    "\n",
    "print(\"\\nSum of each column:\\n\", sum_values)\n",
    "print(\"\\nMean of each column:\\n\", mean_values)"
   ]
  },
  {
   "cell_type": "markdown",
   "id": "1dca260f",
   "metadata": {},
   "source": [
    "Exercise 5 : Image Representation"
   ]
  },
  {
   "cell_type": "code",
   "execution_count": 12,
   "id": "d41be3c1",
   "metadata": {},
   "outputs": [
    {
     "name": "stdout",
     "output_type": "stream",
     "text": [
      "5x5 Grayscale Image Array:\n",
      " [[  0  50 100 150 200]\n",
      " [ 25  75 125 175 225]\n",
      " [ 50 100 150 200 250]\n",
      " [ 75 125 175 225 255]\n",
      " [100 150 200 250 255]]\n"
     ]
    }
   ],
   "source": [
    "import numpy as np\n",
    "\n",
    "# Create a 5x5 grayscale image with pixel values ranging from 0 to 255\n",
    "image = np.array([\n",
    "    [0, 50, 100, 150, 200],\n",
    "    [25, 75, 125, 175, 225],\n",
    "    [50, 100, 150, 200, 250],\n",
    "    [75, 125, 175, 225, 255],\n",
    "    [100, 150, 200, 250, 255]\n",
    "], dtype=np.uint8)\n",
    "\n",
    "print(\"5x5 Grayscale Image Array:\\n\", image)"
   ]
  },
  {
   "cell_type": "markdown",
   "id": "21dd9b27",
   "metadata": {},
   "source": [
    "Calculate the differences in productivity scores for each employee.\n",
    "Use a one-sample t-test (or similar) to see if the mean difference is significantly greater than zero."
   ]
  },
  {
   "cell_type": "markdown",
   "id": "b00b9ea6",
   "metadata": {},
   "source": [
    "Exercise 6 : Basic Hypothesis Testing"
   ]
  },
  {
   "cell_type": "code",
   "execution_count": 14,
   "id": "b85b40f7",
   "metadata": {},
   "outputs": [],
   "source": [
    "import numpy as np\n",
    "\n",
    "# Productivity scores before and after training\n",
    "productivity_before = np.random.normal(loc=50, scale=10, size=30)\n",
    "productivity_after = productivity_before + np.random.normal(loc=5, scale=3, size=30)\n",
    "# Calculate differences\n",
    "differences = productivity_after - productivity_before"
   ]
  },
  {
   "cell_type": "code",
   "execution_count": 15,
   "id": "fe9a4d83",
   "metadata": {},
   "outputs": [],
   "source": [
    "# Basic statistics\n",
    "mean_diff = np.mean(differences)\n",
    "std_diff = np.std(differences, ddof=1)  # sample standard deviation\n",
    "n = len(differences)"
   ]
  },
  {
   "cell_type": "code",
   "execution_count": 16,
   "id": "4435b25b",
   "metadata": {},
   "outputs": [],
   "source": [
    "# Standard error\n",
    "se = std_diff / np.sqrt(n)\n",
    "\n",
    "# t-statistic\n",
    "t_stat = mean_diff / se\n",
    "\n",
    "# Degrees of freedom\n",
    "df = n - 1"
   ]
  },
  {
   "cell_type": "code",
   "execution_count": 17,
   "id": "6dca632e",
   "metadata": {},
   "outputs": [
    {
     "name": "stdout",
     "output_type": "stream",
     "text": [
      "Mean difference: 5.27\n",
      "Standard deviation of differences: 3.07\n",
      "Standard error: 0.56\n",
      "t-statistic: 9.39\n",
      "Degrees of freedom: 29\n"
     ]
    }
   ],
   "source": [
    "print(f\"Mean difference: {mean_diff:.2f}\")\n",
    "print(f\"Standard deviation of differences: {std_diff:.2f}\")\n",
    "print(f\"Standard error: {se:.2f}\")\n",
    "print(f\"t-statistic: {t_stat:.2f}\")\n",
    "print(f\"Degrees of freedom: {df}\")"
   ]
  },
  {
   "cell_type": "markdown",
   "id": "ab5dfc1a",
   "metadata": {},
   "source": [
    " Exercise 7 : Complex Array Comparison"
   ]
  },
  {
   "cell_type": "code",
   "execution_count": 18,
   "id": "8ed88a12",
   "metadata": {},
   "outputs": [
    {
     "name": "stdout",
     "output_type": "stream",
     "text": [
      "Array 1: [10 20 30 40 50]\n",
      "Array 2: [15 20 25 35 55]\n",
      "Comparison (Array1 > Array2): [False False  True  True False]\n"
     ]
    }
   ],
   "source": [
    "import numpy as np\n",
    "\n",
    "# Create two example arrays\n",
    "array1 = np.array([10, 20, 30, 40, 50])\n",
    "array2 = np.array([15, 20, 25, 35, 55])\n",
    "\n",
    "# Element-wise comparison\n",
    "greater_than = array1 > array2\n",
    "\n",
    "print(\"Array 1:\", array1)\n",
    "print(\"Array 2:\", array2)\n",
    "print(\"Comparison (Array1 > Array2):\", greater_than)"
   ]
  },
  {
   "cell_type": "markdown",
   "id": "ffb18b94",
   "metadata": {},
   "source": [
    "Exercise 9 : Data Conversion"
   ]
  },
  {
   "cell_type": "code",
   "execution_count": 20,
   "id": "9651e5b9",
   "metadata": {},
   "outputs": [
    {
     "name": "stdout",
     "output_type": "stream",
     "text": [
      "NumPy array:\n",
      " [[1 2 3]\n",
      " [4 5 6]]\n",
      "\n",
      "Converted to DataFrame:\n",
      "    A  B  C\n",
      "0  1  2  3\n",
      "1  4  5  6\n"
     ]
    }
   ],
   "source": [
    "import numpy as np\n",
    "import pandas as pd\n",
    "\n",
    "# Create a NumPy array\n",
    "np_array = np.array([[1, 2, 3], [4, 5, 6]])\n",
    "\n",
    "# Convert to DataFrame\n",
    "df = pd.DataFrame(np_array, columns=['A', 'B', 'C'])\n",
    "\n",
    "print(\"NumPy array:\\n\", np_array)\n",
    "print(\"\\nConverted to DataFrame:\\n\", df)"
   ]
  },
  {
   "cell_type": "code",
   "execution_count": 21,
   "id": "2eddbf9a",
   "metadata": {},
   "outputs": [
    {
     "name": "stdout",
     "output_type": "stream",
     "text": [
      "\n",
      "DataFrame:\n",
      "    A  B  C\n",
      "0  1  2  3\n",
      "1  4  5  6\n",
      "\n",
      "Converted back to NumPy array:\n",
      " [[1 2 3]\n",
      " [4 5 6]]\n"
     ]
    }
   ],
   "source": [
    "# Convert DataFrame back to NumPy array\n",
    "np_array_converted = df.values  # or df.to_numpy()\n",
    "\n",
    "print(\"\\nDataFrame:\\n\", df)\n",
    "print(\"\\nConverted back to NumPy array:\\n\", np_array_converted)"
   ]
  },
  {
   "cell_type": "markdown",
   "id": "325be872",
   "metadata": {},
   "source": [
    "Exercise 10 : Basic Visualization"
   ]
  },
  {
   "cell_type": "code",
   "execution_count": 22,
   "id": "12deded9",
   "metadata": {},
   "outputs": [
    {
     "data": {
      "image/png": "[encoded data removed]",
      "text/plain": [
       "<Figure size 1000x600 with 1 Axes>"
      ]
     },
     "metadata": {},
     "output_type": "display_data"
    }
   ],
   "source": [
    "import numpy as np\n",
    "import matplotlib.pyplot as plt\n",
    "\n",
    "# Generate some random data\n",
    "np.random.seed(0)  # for reproducibility\n",
    "x = np.arange(0, 10, 0.1)  # X-axis values from 0 to 10 with step 0.1\n",
    "y = np.random.randn(len(x))  # Random numbers for Y-axis\n",
    "\n",
    "# Plotting the data\n",
    "plt.figure(figsize=(10, 6))\n",
    "plt.plot(x, y, label='Random Data', color='blue')  # Line plot\n",
    "\n",
    "# Adding titles and labels\n",
    "plt.title('Line Graph of Random Numbers')\n",
    "plt.xlabel('X')\n",
    "plt.ylabel('Y')\n",
    "plt.legend()\n",
    "plt.grid(True)\n",
    "plt.show()"
   ]
  }
 ],
 "metadata": {
  "kernelspec": {
   "display_name": "Python 3",
   "language": "python",
   "name": "python3"
  },
  "language_info": {
   "codemirror_mode": {
    "name": "ipython",
    "version": 3
   },
   "file_extension": ".py",
   "mimetype": "text/x-python",
   "name": "python",
   "nbconvert_exporter": "python",
   "pygments_lexer": "ipython3",
   "version": "3.9.6"
  }
 },
 "nbformat": 4,
 "nbformat_minor": 5
}

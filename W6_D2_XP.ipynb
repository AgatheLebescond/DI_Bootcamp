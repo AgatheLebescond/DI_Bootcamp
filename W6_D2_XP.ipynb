{
 "cells": [
  {
   "cell_type": "markdown",
   "id": "ecaf1593",
   "metadata": {},
   "source": [
    "Exercice 1 : Qu'est-ce que les grands modèles de langage (LLMs) ?\n",
    "\n",
    "Explication des LLMs :\n",
    "Les grands modèles de langage (LLMs) sont des modèles d'apprentissage profond qui sont conçus pour comprendre et générer du langage naturel. Ils utilisent des architectures de réseaux de neurones, souvent basées sur des transformeurs, qui leur permettent de capturer les relations complexes dans les données textuelles. Ces modèles sont formés sur de grandes quantités de texte et peuvent être utilisés pour diverses tâches de traitement du langage naturel, comme la traduction, la réponse à des questions, et, bien sûr, la génération de texte.\n",
    "\n",
    "GPT et ses capacités :\n",
    "GPT (Generative Pretrained Transformer) est un modèle de langage particulièrement puissant créé par OpenAI. Il est connu pour sa capacité à générer du texte qui est souvent indistinguable du texte écrit par des humains. GPT est pré-entraîné sur un vaste corpus de texte, ce qui lui permet de générer des réponses cohérentes et contextuellement appropriées à une grande variété de prompts.\n",
    "\n"
   ]
  },
  {
   "cell_type": "code",
   "execution_count": 3,
   "id": "4d0b7761",
   "metadata": {},
   "outputs": [
    {
     "name": "stdout",
     "output_type": "stream",
     "text": [
      "Note: you may need to restart the kernel to use updated packages.\n"
     ]
    },
    {
     "name": "stderr",
     "output_type": "stream",
     "text": [
      "Device set to use mps:0\n",
      "Truncation was not explicitly activated but `max_length` is provided a specific value, please use `truncation=True` to explicitly truncate examples to max length. Defaulting to 'longest_first' truncation strategy. If you encode pairs of sequences (GLUE-style) with the tokenizer you can select this strategy more precisely by providing a specific strategy to `truncation`.\n",
      "Setting `pad_token_id` to `eos_token_id`:50256 for open-end generation.\n",
      "Both `max_new_tokens` (=256) and `max_length`(=50) seem to have been set. `max_new_tokens` will take precedence. Please refer to the documentation for more information. (https://huggingface.co/docs/transformers/main/en/main_classes/text_generation)\n"
     ]
    },
    {
     "name": "stdout",
     "output_type": "stream",
     "text": [
      "Once upon a time, the entire world would be a world of chaos and chaos. This was the great chaos of the Renaissance.\n",
      "\n",
      "The great chaos of the Renaissance was the one that began in the early 20th century when the Italian Renaissance celebrated a number of different cultures. It was a major departure from the Renaissance that developed in the Renaissance of the early 20th century. In the 19th century, the Renaissance became the dominant major theme of cultural life in the United States.\n",
      "\n",
      "The Renaissance of the 19th century was a major departure from the Renaissance of the Renaissance that developed in the Renaissance of the late 19th century. It was a major departure from the Renaissance that developed in the Renaissance of the middle of the 20th century. It was a major departure from the Renaissance that developed in the Renaissance of the late 19th century.\n",
      "\n",
      "The Renaissance of the Renaissance was a major departure from the Renaissance of the Renaissance that developed in the Renaissance of the late 19th century. It was a major departure from the Renaissance that developed in the Renaissance of the late 19th century.\n",
      "\n",
      "The Great Renaissance of the Renaissance was a major departure from the Renaissance of the Renaissance that developed in the Renaissance of the late 19th century. It was a major departure from the Renaissance that developed in\n"
     ]
    }
   ],
   "source": [
    "# Installer les bibliothèques nécessaires\n",
    "%pip install transformers matplotlib --quiet\n",
    "\n",
    "# Importer les bibliothèques requises\n",
    "from transformers import AutoTokenizer, AutoModelForCausalLM, pipeline\n",
    "import torch\n",
    "import matplotlib.pyplot as plt\n",
    "import warnings\n",
    "warnings.filterwarnings(\"ignore\")\n",
    "\n",
    "# Charger un modèle pré-entraîné et son tokenizer\n",
    "model_name = \"gpt2\"  # Vous pouvez changer ce nom par un autre modèle si vous le souhaitez\n",
    "tokenizer = AutoTokenizer.from_pretrained(model_name)\n",
    "model = AutoModelForCausalLM.from_pretrained(model_name)\n",
    "\n",
    "# Créer un pipeline de génération de texte\n",
    "text_generator = pipeline(\"text-generation\", model=model, tokenizer=tokenizer)\n",
    "\n",
    "# Définir un prompt et générer du texte\n",
    "prompt = \"Once upon a time\"\n",
    "outputs = text_generator(prompt, max_length=50, num_return_sequences=1)\n",
    "\n",
    "# Afficher le texte généré\n",
    "print(outputs[0]['generated_text'])"
   ]
  },
  {
   "cell_type": "code",
   "execution_count": null,
   "id": "1320ac3c",
   "metadata": {},
   "outputs": [],
   "source": [
    "%pip install ipywidgets"
   ]
  },
  {
   "cell_type": "markdown",
   "id": "64c8efa0",
   "metadata": {},
   "source": [
    "Exercise 2 : Transformer Architecture and Tokenization\n",
    "Explain with your own words the process of tokenization. Create a new variable text that the sentence of your choice.\n",
    "Tokenize the input text\n",
    "Visualize the tokenisation process."
   ]
  },
  {
   "cell_type": "code",
   "execution_count": 7,
   "id": "fd8daf1b",
   "metadata": {},
   "outputs": [
    {
     "name": "stdout",
     "output_type": "stream",
     "text": [
      "\n",
      "Modèle 'gpt2' chargé avec succès !\n",
      "\n",
      "GPT-2 est un modèle de langage causal, ce qui signifie qu'il prédit le mot suivant dans une séquence.\n",
      "Il a été entraîné sur un ensemble de données diversifié et peut générer un texte cohérent et contextuellement pertinent.\n",
      "\n"
     ]
    }
   ],
   "source": [
    "from transformers import AutoTokenizer, AutoModelForCausalLM\n",
    "\n",
    "# 2. Chargement d'un modèle pré-entraîné et d'un tokenizer\n",
    "model_name = \"gpt2\"  # GPT-2 est utilisé ici pour démonstration ; peut être remplacé par d'autres modèles comme \"bert-base-uncased\"\n",
    "tokenizer = AutoTokenizer.from_pretrained(model_name)\n",
    "model = AutoModelForCausalLM.from_pretrained(model_name)\n",
    "\n",
    "print(f\"\\nModèle '{model_name}' chargé avec succès !\")\n",
    "print(\"\"\"\n",
    "GPT-2 est un modèle de langage causal, ce qui signifie qu'il prédit le mot suivant dans une séquence.\n",
    "Il a été entraîné sur un ensemble de données diversifié et peut générer un texte cohérent et contextuellement pertinent.\n",
    "\"\"\")"
   ]
  },
  {
   "cell_type": "markdown",
   "id": "14d25b33",
   "metadata": {},
   "source": [
    "EXERCICE 3"
   ]
  },
  {
   "cell_type": "code",
   "execution_count": 8,
   "id": "89684d75",
   "metadata": {},
   "outputs": [
    {
     "name": "stdout",
     "output_type": "stream",
     "text": [
      "Original Text: Here is an example sentence to tokenize.\n",
      "Tokens: ['Here', 'Ġis', 'Ġan', 'Ġexample', 'Ġsentence', 'Ġto', 'Ġtoken', 'ize', '.']\n",
      "Token IDs: [4342, 318, 281, 1672, 6827, 284, 11241, 1096, 13]\n"
     ]
    },
    {
     "data": {
      "image/png": "[encoded data removed]",
      "text/plain": [
       "<Figure size 1000x400 with 1 Axes>"
      ]
     },
     "metadata": {},
     "output_type": "display_data"
    }
   ],
   "source": [
    "from transformers import AutoTokenizer, AutoModelForCausalLM\n",
    "import matplotlib.pyplot as plt\n",
    "\n",
    "# 1. Définissez votre texte d'entrée\n",
    "text = \"Here is an example sentence to tokenize.\"\n",
    "\n",
    "# 2. Charger le tokenizer\n",
    "model_name = \"gpt2\"  # Modèle utilisé ici à titre d'exemple\n",
    "tokenizer = AutoTokenizer.from_pretrained(model_name)\n",
    "\n",
    "# Tokenizez le texte d'entrée\n",
    "tokens = tokenizer.tokenize(text)\n",
    "token_ids = tokenizer.convert_tokens_to_ids(tokens)\n",
    "\n",
    "print(f\"Original Text: {text}\")\n",
    "print(f\"Tokens: {tokens}\")\n",
    "print(f\"Token IDs: {token_ids}\")\n",
    "\n",
    "# 3. Visualisation du processus de tokenization\n",
    "plt.figure(figsize=(10, 4))\n",
    "plt.bar(range(len(tokens)), token_ids, tick_label=tokens, color=\"skyblue\")\n",
    "plt.xlabel(\"Tokens\")\n",
    "plt.ylabel(\"Token IDs\")\n",
    "plt.title(\"Tokenization Process Visualization\")\n",
    "plt.xticks(rotation=45)\n",
    "plt.tight_layout()\n",
    "plt.show()"
   ]
  },
  {
   "cell_type": "markdown",
   "id": "0cfe1a23",
   "metadata": {},
   "source": [
    "EXERCICE 5"
   ]
  },
  {
   "cell_type": "code",
   "execution_count": 9,
   "id": "24bb712d",
   "metadata": {},
   "outputs": [
    {
     "name": "stdout",
     "output_type": "stream",
     "text": [
      "Token IDs:\n",
      "Token: 'Here'\tID: 4342\n",
      "Token: 'Ġis'\tID: 318\n",
      "Token: 'Ġan'\tID: 281\n",
      "Token: 'Ġexample'\tID: 1672\n",
      "Token: 'Ġsentence'\tID: 6827\n",
      "Token: 'Ġto'\tID: 284\n",
      "Token: 'Ġtoken'\tID: 11241\n",
      "Token: 'ize'\tID: 1096\n",
      "Token: '.'\tID: 13\n",
      "\n",
      "Explication des préfices spéciaux:\n",
      "\n",
      "Les préfices spéciaux comme ‘Ġ’ sont utilisés dans certains tokenizers pour indiquer des caractéristiques particulières des tokens.\n",
      "\n",
      "- ‘Ġ’ : Dans certains tokenizers comme celui utilisé par GPT-2, ‘Ġ’ indique qu'il y a un espace avant le token. Par exemple, 'Ġword' signifie qu'il y avait un espace avant le mot 'word' dans le texte d'origine.\n",
      "\n"
     ]
    }
   ],
   "source": [
    "from transformers import AutoTokenizer\n",
    "\n",
    "# 1. Définissez votre texte d'entrée\n",
    "text = \"Here is an example sentence to tokenize.\"\n",
    "\n",
    "# 2. Charger le tokenizer pour GPT-2\n",
    "model_name = \"gpt2\"\n",
    "tokenizer = AutoTokenizer.from_pretrained(model_name)\n",
    "\n",
    "# Tokenizez le texte d'entrée et obtenez les IDs des tokens\n",
    "tokens = tokenizer.tokenize(text)\n",
    "token_ids = tokenizer.convert_tokens_to_ids(tokens)\n",
    "\n",
    "# Afficher chaque token avec son ID correspondant\n",
    "print(\"Token IDs:\")\n",
    "for token, token_id in zip(tokens, token_ids):\n",
    "    print(f\"Token: '{token}'\\tID: {token_id}\")\n",
    "\n",
    "# Explication des préfices spéciaux\n",
    "print(\"\\nExplication des préfices spéciaux:\")\n",
    "print(\"\"\"\n",
    "Les préfices spéciaux comme ‘Ġ’ sont utilisés dans certains tokenizers pour indiquer des caractéristiques particulières des tokens.\n",
    "\n",
    "- ‘Ġ’ : Dans certains tokenizers comme celui utilisé par GPT-2, ‘Ġ’ indique qu'il y a un espace avant le token. Par exemple, 'Ġword' signifie qu'il y avait un espace avant le mot 'word' dans le texte d'origine.\n",
    "\"\"\")"
   ]
  }
 ],
 "metadata": {
  "kernelspec": {
   "display_name": "Python 3",
   "language": "python",
   "name": "python3"
  },
  "language_info": {
   "codemirror_mode": {
    "name": "ipython",
    "version": 3
   },
   "file_extension": ".py",
   "mimetype": "text/x-python",
   "name": "python",
   "nbconvert_exporter": "python",
   "pygments_lexer": "ipython3",
   "version": "3.13.5"
  }
 },
 "nbformat": 4,
 "nbformat_minor": 5
}

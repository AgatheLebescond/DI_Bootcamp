{
 "cells": [
  {
   "cell_type": "code",
   "execution_count": 3,
   "id": "77c5f4a2",
   "metadata": {},
   "outputs": [],
   "source": [
    "import pandas as pd\n",
    "import os\n",
    "\n",
    "# List files in the current directory and subdirectories to find the CSV file\n",
    "for root, dirs, files in os.walk('.'):\n",
    "\tfor file in files:\n",
    "\t\tif file.endswith('.csv'):\n",
    "\t\t\tprint(os.path.join(root, file))"
   ]
  },
  {
   "cell_type": "code",
   "execution_count": null,
   "id": "357edcb4",
   "metadata": {},
   "outputs": [],
   "source": []
  },
  {
   "cell_type": "code",
   "execution_count": 15,
   "id": "ad571b91",
   "metadata": {},
   "outputs": [
    {
     "name": "stdout",
     "output_type": "stream",
     "text": [
      "cp: kaggle.json: No such file or directory\n"
     ]
    }
   ],
   "source": [
    "!mkdir -p ~/.kaggle\n",
    "!cp kaggle.json ~/.kaggle/\n",
    "!chmod 600 ~/.kaggle/kaggle.json"
   ]
  },
  {
   "cell_type": "code",
   "execution_count": 16,
   "id": "f2b0dbc3",
   "metadata": {},
   "outputs": [
    {
     "name": "stdout",
     "output_type": "stream",
     "text": [
      "zsh:1: command not found: kaggle\n"
     ]
    }
   ],
   "source": [
    "!kaggle datasets download -d olgabelitskaya/flower-color-images"
   ]
  },
  {
   "cell_type": "code",
   "execution_count": 7,
   "id": "95f0e774",
   "metadata": {},
   "outputs": [
    {
     "name": "stdout",
     "output_type": "stream",
     "text": [
      "unzip:  cannot find or open flower-color-images.zip, flower-color-images.zip.zip or flower-color-images.zip.ZIP.\n"
     ]
    }
   ],
   "source": [
    "!unzip flower-color-images.zip"
   ]
  },
  {
   "cell_type": "code",
   "execution_count": 4,
   "id": "dc39c8fd",
   "metadata": {},
   "outputs": [
    {
     "ename": "FileNotFoundError",
     "evalue": "[Errno 2] No such file or directory: 'flowers/flowers/19_010.png'",
     "output_type": "error",
     "traceback": [
      "\u001b[0;31m---------------------------------------------------------------------------\u001b[0m",
      "\u001b[0;31mFileNotFoundError\u001b[0m                         Traceback (most recent call last)",
      "Cell \u001b[0;32mIn[4], line 6\u001b[0m\n\u001b[1;32m      4\u001b[0m \u001b[38;5;66;03m# Load an image using PIL\u001b[39;00m\n\u001b[1;32m      5\u001b[0m image_path \u001b[38;5;241m=\u001b[39m \u001b[38;5;124m'\u001b[39m\u001b[38;5;124mflowers/flowers/19_010.png\u001b[39m\u001b[38;5;124m'\u001b[39m\n\u001b[0;32m----> 6\u001b[0m original_image \u001b[38;5;241m=\u001b[39m \u001b[43mImage\u001b[49m\u001b[38;5;241;43m.\u001b[39;49m\u001b[43mopen\u001b[49m\u001b[43m(\u001b[49m\u001b[43mimage_path\u001b[49m\u001b[43m)\u001b[49m\n\u001b[1;32m      8\u001b[0m \u001b[38;5;66;03m# Display the original image using matplotlib\u001b[39;00m\n\u001b[1;32m      9\u001b[0m plt\u001b[38;5;241m.\u001b[39mimshow(original_image)\n",
      "File \u001b[0;32m~/Library/Python/3.9/lib/python/site-packages/PIL/Image.py:3505\u001b[0m, in \u001b[0;36mopen\u001b[0;34m(fp, mode, formats)\u001b[0m\n\u001b[1;32m   3502\u001b[0m     filename \u001b[38;5;241m=\u001b[39m os\u001b[38;5;241m.\u001b[39mfspath(fp)\n\u001b[1;32m   3504\u001b[0m \u001b[38;5;28;01mif\u001b[39;00m filename:\n\u001b[0;32m-> 3505\u001b[0m     fp \u001b[38;5;241m=\u001b[39m \u001b[43mbuiltins\u001b[49m\u001b[38;5;241;43m.\u001b[39;49m\u001b[43mopen\u001b[49m\u001b[43m(\u001b[49m\u001b[43mfilename\u001b[49m\u001b[43m,\u001b[49m\u001b[43m \u001b[49m\u001b[38;5;124;43m\"\u001b[39;49m\u001b[38;5;124;43mrb\u001b[39;49m\u001b[38;5;124;43m\"\u001b[39;49m\u001b[43m)\u001b[49m\n\u001b[1;32m   3506\u001b[0m     exclusive_fp \u001b[38;5;241m=\u001b[39m \u001b[38;5;28;01mTrue\u001b[39;00m\n\u001b[1;32m   3507\u001b[0m \u001b[38;5;28;01melse\u001b[39;00m:\n",
      "\u001b[0;31mFileNotFoundError\u001b[0m: [Errno 2] No such file or directory: 'flowers/flowers/19_010.png'"
     ]
    }
   ],
   "source": [
    "from PIL import Image\n",
    "import matplotlib.pyplot as plt\n",
    "\n",
    "# Load an image using PIL\n",
    "image_path = 'flowers/flowers/19_010.png'\n",
    "original_image = Image.open(image_path)\n",
    "\n",
    "# Display the original image using matplotlib\n",
    "plt.imshow(original_image)"
   ]
  },
  {
   "cell_type": "code",
   "execution_count": 19,
   "id": "63dcc3b2",
   "metadata": {},
   "outputs": [
    {
     "name": "stdout",
     "output_type": "stream",
     "text": [
      "Defaulting to user installation because normal site-packages is not writeable\n",
      "Requirement already satisfied: scipy in /Users/agathelebescond/Library/Python/3.9/lib/python/site-packages (1.13.1)\n",
      "Requirement already satisfied: numpy<2.3,>=1.22.4 in /Users/agathelebescond/Library/Python/3.9/lib/python/site-packages (from scipy) (2.0.2)\n",
      "\u001b[33mWARNING: You are using pip version 21.2.4; however, version 25.1.1 is available.\n",
      "You should consider upgrading via the '/Library/Developer/CommandLineTools/usr/bin/python3 -m pip install --upgrade pip' command.\u001b[0m\n",
      "Note: you may need to restart the kernel to use updated packages.\n"
     ]
    }
   ],
   "source": [
    "%pip install scipy\n",
    "from scipy.ndimage import rotate\n",
    "\n",
    "def rotate_image_30_degrees(image):\n",
    "\t# Rotates the image by 30 degrees without changing the shape\n",
    "\treturn rotate(image, 30, reshape=False)"
   ]
  },
  {
   "cell_type": "code",
   "execution_count": 12,
   "id": "e804e889",
   "metadata": {},
   "outputs": [
    {
     "name": "stdout",
     "output_type": "stream",
     "text": [
      "Defaulting to user installation because normal site-packages is not writeable\n",
      "Requirement already satisfied: scipy in /Users/agathelebescond/Library/Python/3.9/lib/python/site-packages (1.13.1)\n",
      "Requirement already satisfied: numpy<2.3,>=1.22.4 in /Users/agathelebescond/Library/Python/3.9/lib/python/site-packages (from scipy) (2.0.2)\n",
      "\u001b[33mWARNING: You are using pip version 21.2.4; however, version 25.1.1 is available.\n",
      "You should consider upgrading via the '/Library/Developer/CommandLineTools/usr/bin/python3 -m pip install --upgrade pip' command.\u001b[0m\n",
      "Note: you may need to restart the kernel to use updated packages.\n"
     ]
    }
   ],
   "source": [
    "%pip install scipy"
   ]
  },
  {
   "cell_type": "code",
   "execution_count": null,
   "id": "4348700c",
   "metadata": {},
   "outputs": [],
   "source": [
    "import pandas as pd\n"
   ]
  },
  {
   "cell_type": "code",
   "execution_count": null,
   "id": "d7fff22a",
   "metadata": {},
   "outputs": [],
   "source": [
    "data = {\n",
    "    'Name': ['Alice', 'Bob', 'Diane'],\n",
    "    'Age': [25, 30, 28]\n",
    "}"
   ]
  },
  {
   "cell_type": "code",
   "execution_count": null,
   "id": "2afb40bc",
   "metadata": {},
   "outputs": [],
   "source": [
    "df = pd.DataFrame(data)"
   ]
  },
  {
   "cell_type": "code",
   "execution_count": null,
   "id": "61e97fe0",
   "metadata": {},
   "outputs": [],
   "source": [
    "excel_file_path = 'sample_date.xlsx'\n",
    "df.to_excel(excel_file_path, index = False)"
   ]
  },
  {
   "cell_type": "code",
   "execution_count": null,
   "id": "bd34e5be",
   "metadata": {},
   "outputs": [],
   "source": [
    "json_file_path = \"sample_data.json\"\n",
    "df.to_json(json_file_path, orient='records')"
   ]
  },
  {
   "cell_type": "code",
   "execution_count": 2,
   "id": "281f6a42",
   "metadata": {},
   "outputs": [
    {
     "ename": "NameError",
     "evalue": "name 'excel_file_path' is not defined",
     "output_type": "error",
     "traceback": [
      "\u001b[0;31m---------------------------------------------------------------------------\u001b[0m",
      "\u001b[0;31mNameError\u001b[0m                                 Traceback (most recent call last)",
      "Cell \u001b[0;32mIn[2], line 1\u001b[0m\n\u001b[0;32m----> 1\u001b[0m \u001b[38;5;28mprint\u001b[39m(\u001b[38;5;124m\"\u001b[39m\u001b[38;5;124mExcel file path:\u001b[39m\u001b[38;5;124m\"\u001b[39m, \u001b[43mexcel_file_path\u001b[49m)\n\u001b[1;32m      2\u001b[0m \u001b[38;5;28mprint\u001b[39m(\u001b[38;5;124m\"\u001b[39m\u001b[38;5;124mJSON file path:\u001b[39m\u001b[38;5;124m\"\u001b[39m, json_file_path)\n",
      "\u001b[0;31mNameError\u001b[0m: name 'excel_file_path' is not defined"
     ]
    }
   ],
   "source": [
    "print(\"Excel file path:\", excel_file_path)\n",
    "print(\"JSON file path:\", json_file_path)"
   ]
  },
  {
   "cell_type": "code",
   "execution_count": 1,
   "id": "7cf263c7",
   "metadata": {},
   "outputs": [],
   "source": [
    "from scipy.ndimage import rotate\n",
    "\n",
    "def rotate_image_30_degrees(image):\n",
    "    return rotate(image, 30, reshape=False, mode='nearest')\n",
    "\n",
    "def vertical_flip(image):\n",
    "    return rotate(image, 180, reshape=False, mode='nearest')"
   ]
  },
  {
   "cell_type": "code",
   "execution_count": 3,
   "id": "7f8db500",
   "metadata": {},
   "outputs": [
    {
     "name": "stdout",
     "output_type": "stream",
     "text": [
      "Defaulting to user installation because normal site-packages is not writeable\n",
      "Collecting opencv-python\n",
      "  Downloading opencv_python-4.11.0.86-cp37-abi3-macosx_13_0_arm64.whl (37.3 MB)\n",
      "\u001b[K     |████████████████████████████████| 37.3 MB 18.5 MB/s eta 0:00:01\n",
      "\u001b[?25hRequirement already satisfied: numpy>=1.17.0 in /Users/agathelebescond/Library/Python/3.9/lib/python/site-packages (from opencv-python) (2.0.2)\n",
      "Installing collected packages: opencv-python\n",
      "Successfully installed opencv-python-4.11.0.86\n",
      "\u001b[33mWARNING: You are using pip version 21.2.4; however, version 25.1.1 is available.\n",
      "You should consider upgrading via the '/Library/Developer/CommandLineTools/usr/bin/python3 -m pip install --upgrade pip' command.\u001b[0m\n",
      "Note: you may need to restart the kernel to use updated packages.\n"
     ]
    }
   ],
   "source": [
    "%pip install opencv-python\n",
    "import cv2"
   ]
  },
  {
   "cell_type": "code",
   "execution_count": null,
   "id": "bc1e33bb",
   "metadata": {},
   "outputs": [],
   "source": [
    "from scipy.ndimage import rotate\n",
    "import numpy as np\n",
    "from PIL import Image\n",
    "import matplotlib.pyplot as plt\n",
    "from PIL import ImageOps\n",
    "#Affichage\n",
    "image_path = '19_010.png'\n",
    "original_image = Image.open(image_path)\n",
    "plt.imshow(original_image)\n",
    "plt.title(\"Original Image\")\n",
    "plt.axis('off')\n",
    "plt.show()\n",
    "10:02\n",
    "image_array = np.array(original_image)\n",
    "def rotate_image_30_degrees(image_array):\n",
    "    return rotate(image_array, 30, reshape=False)\n",
    "rotated_image = rotate_image_30_degrees(image_array)\n",
    "#Rotation\n",
    "plt.imshow(rotated_image.astype(np.uint8))\n",
    "plt.title(\"Rotated 30 degrees\")\n",
    "plt.axis('off')\n",
    "plt.show()\n",
    "10:02\n",
    "h_flipped = ImageOps.mirror(original_image)\n",
    "v_flipped = ImageOps.flip(original_image)\n",
    "fig, axs = plt.subplots(1, 2, figsize=(10, 5))\n",
    "#flipped\n",
    "axs[0].imshow(h_flipped)\n",
    "axs[0].set_title('Flipped Horizontally')\n",
    "axs[0].axis('off')\n",
    "axs[1].imshow(v_flipped)\n",
    "axs[1].set_title('Flipped Vertically')\n",
    "axs[1].axis('off')\n",
    "plt.show()\n",
    "10:03\n",
    "width, height = original_image.size\n",
    "zoomed = original_image.resize((int(width * 1.2), int(height * 1.2)))\n",
    "#Zomm\n",
    "plt.imshow(zoomed)\n",
    "plt.title(\"Zoomed x1.2\")\n",
    "plt.axis('off')\n",
    "plt.show()\n",
    "\n",
    "\n",
    "\n",
    "\n",
    "\n",
    "\n"
   ]
  }
 ],
 "metadata": {
  "kernelspec": {
   "display_name": "Python 3",
   "language": "python",
   "name": "python3"
  },
  "language_info": {
   "codemirror_mode": {
    "name": "ipython",
    "version": 3
   },
   "file_extension": ".py",
   "mimetype": "text/x-python",
   "name": "python",
   "nbconvert_exporter": "python",
   "pygments_lexer": "ipython3",
   "version": "3.9.6"
  }
 },
 "nbformat": 4,
 "nbformat_minor": 5
}

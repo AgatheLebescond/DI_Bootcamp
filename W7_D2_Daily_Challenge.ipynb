{
 "cells": [
  {
   "cell_type": "markdown",
   "id": "07b10cef",
   "metadata": {},
   "source": [
    "# Défi quotidien : comment affiner les LLM avec LoRA\n",
    "\n",
    "\n",
    "Les méthodes de réglage fin efficace des paramètres (PEFT) , comme LoRA, répondent aux défis du réglage fin des grands modèles de langage (LLM) en ne mettant à jour qu'un petit sous-ensemble des paramètres du modèle. Cette approche réduit considérablement les coûts de calcul et de stockage, rendant le réglage fin des LLM plus accessible. Les techniques PEFT permettent aux développeurs d'adapter des modèles pré-entraînés à des tâches spécifiques sans avoir à réentraîner l'ensemble du modèle, ce qui accélère les cycles de développement et réduit la consommation de ressources.\n",
    "Vous les mettrez en œuvre pour relever ce défi.\n",
    "\n",
    "\n",
    "\n",
    "👩‍🏫 👩🏿‍🏫 Ce que vous apprendrez\n",
    "Comment appliquer l’adaptation de bas rang (LoRA) à un modèle de langage pré-entraîné.\n",
    "Comment affiner un modèle adapté à LoRA à l'aide de la bibliothèque PEFT Hugging Face.\n",
    "Comment enregistrer et charger un modèle LoRA affiné.\n",
    "Comment effectuer une inférence à l’aide d’un modèle LoRA affiné.\n",
    "\n",
    "\n",
    "🛠️ Ce que vous allez créer\n",
    "Un modèle de langage affiné qui génère du texte basé sur un ensemble de données spécifique de citations, en utilisant LoRA.\n",
    "\n",
    "\n",
    "Ensemble de données\n",
    "L'ensemble de données « Abirate/english_quotes », en particulier un échantillon de 10 % de la répartition de la formation.\n",
    "\n",
    "\n",
    "Tâche\n",
    "Installer les bibliothèques nécessaires (PEFT, jeux de données).\n",
    "Chargez un modèle de langage pré-entraîné (bigscience/bloomz-560m) et son tokeniseur.\n",
    "Chargez l’ensemble de données et prétraitez-le pour le modèle.\n",
    "Configurez LoRA en utilisant LoraConfig.\n",
    "Appliquez LoRA au modèle pré-entraîné à l'aide de get_peft_model.\n",
    "Configurez les arguments de formation à l'aide de TrainingArguments.\n",
    "Initialisez et entraînez le modèle à l’aide de Trainer.\n",
    "Enregistrez le modèle LoRA affiné.\n",
    "Chargez le modèle LoRA enregistré pour l'inférence à l'aide de PeftModel.from_pretrained.\n",
    "Générer du texte à l’aide du modèle affiné et du tokenizer."
   ]
  },
  {
   "cell_type": "markdown",
   "id": "25a05677",
   "metadata": {},
   "source": [
    "%pip install peft==0.4.0\n",
    "\n",
    "mkdir cache\n",
    "\n",
    "!pip install datasets\n",
    "\n",
    "from datasets import load_dataset\n",
    "from transformers import AutoModelForCausalLM, AutoTokenizer\n",
    "\n",
    "model_name = \n",
    "tokenizer = \n",
    "foundation_model = \n",
    "\n",
    "data =  # Sample 10%\n",
    "data = data.map(lambda samples: tokenizer(samples[\"quote\"]), batched=True)\n",
    "train_sample = data.select(range(5))\n",
    "display(train_sample)\n",
    "\n",
    "import peft\n",
    "from peft import LoraConfig, get_peft_model\n",
    "\n",
    "#Fill in `r=1` and `target_modules`.\n",
    "lora_config = LoraConfig(\n",
    "    r=,\n",
    "    lora_alpha=, # a scaling factor that adjusts the magnitude of the weight matrix. Usually set to 1\n",
    "    target_modules=,\n",
    "    lora_dropout=,\n",
    "    bias=\"none\", # this specifies if the bias parameter should be trained.\n",
    "    task_type=\"CAUSAL_LM\"\n",
    ")\n",
    "\n",
    "#Add the adapter layers to the foundation model to be trained\n",
    "peft_model = get_peft_model(foundation_model, lora_config)\n",
    "print(peft_model.print_trainable_parameters())\n",
    "\n",
    "\n",
    "### Fill out the `Trainer` class. \n",
    "\n",
    "import transformers\n",
    "from transformers import TrainingArguments, Trainer\n",
    "import os\n",
    "\n",
    "output_directory = os.path.join(\"../cache/working\", \"peft_lab_outputs\")\n",
    "training_args = TrainingArguments(\n",
    "    report_to=\"none\",\n",
    "    output_dir=output_directory,\n",
    "    auto_find_batch_size=,\n",
    "    learning_rate= 3e-2, # Higher learning rate than full fine-tuning.\n",
    "    num_train_epochs=,\n",
    "    use_cpu=True\n",
    ")\n",
    "\n",
    "trainer = Trainer(\n",
    "    model=,\n",
    "    args=,\n",
    "    train_dataset=e,\n",
    "    data_collator=transformers.DataCollatorForLanguageModeling(tokenizer, mlm=False)\n",
    ")\n",
    "trainer.train()\n",
    "\n",
    "### Load the PEFT model using pre-defined LoRA configs and foundation model. We set `is_trainable=False` to avoid further training.\n",
    "\n",
    "import time\n",
    "\n",
    "time_now = \n",
    "peft_model_path = os.path.join(output_directory, f\"peft_model_{time_now}\")\n",
    "trainer.model.save_pretrained(peft_model_path)\n",
    "\n",
    "### Generate output tokens\n",
    "\n",
    "inputs = tokenizer(\"Two things are infinite: \", return_tensors=\"pt\")\n",
    "outputs = peft_model.generate(\n",
    "    ...\n",
    "    )\n",
    "\n",
    "print(tokenizer.batch_decode(outputs, skip_special_tokens=True))"
   ]
  },
  {
   "cell_type": "markdown",
   "id": "1b4dc158",
   "metadata": {},
   "source": [
    "## Étape 1 : Installer les bibliothèques"
   ]
  },
  {
   "cell_type": "code",
   "execution_count": null,
   "id": "e7aafeec",
   "metadata": {},
   "outputs": [],
   "source": [
    "!pip install peft==0.4.0 datasets transformers accelerate\n"
   ]
  },
  {
   "cell_type": "markdown",
   "id": "163190cc",
   "metadata": {},
   "source": [
    "## Étape 2 : Charger le modèle et le tokenizer"
   ]
  },
  {
   "cell_type": "code",
   "execution_count": 2,
   "id": "d946f9f8",
   "metadata": {},
   "outputs": [
    {
     "name": "stderr",
     "output_type": "stream",
     "text": [
      "c:\\Users\\chume\\.conda\\envs\\llama\\lib\\site-packages\\tqdm\\auto.py:21: TqdmWarning: IProgress not found. Please update jupyter and ipywidgets. See https://ipywidgets.readthedocs.io/en/stable/user_install.html\n",
      "  from .autonotebook import tqdm as notebook_tqdm\n",
      "c:\\Users\\chume\\.conda\\envs\\llama\\lib\\site-packages\\huggingface_hub\\file_download.py:143: UserWarning: `huggingface_hub` cache-system uses symlinks by default to efficiently store duplicated files but your machine does not support them in C:\\Users\\chume\\.cache\\huggingface\\hub\\models--bigscience--bloomz-560m. Caching files will still work but in a degraded version that might require more space on your disk. This warning can be disabled by setting the `HF_HUB_DISABLE_SYMLINKS_WARNING` environment variable. For more details, see https://huggingface.co/docs/huggingface_hub/how-to-cache#limitations.\n",
      "To support symlinks on Windows, you either need to activate Developer Mode or to run Python as an administrator. In order to activate developer mode, see this article: https://docs.microsoft.com/en-us/windows/apps/get-started/enable-your-device-for-development\n",
      "  warnings.warn(message)\n"
     ]
    }
   ],
   "source": [
    "from datasets import load_dataset\n",
    "from transformers import AutoModelForCausalLM, AutoTokenizer\n",
    "\n",
    "model_name = \"bigscience/bloomz-560m\"\n",
    "tokenizer = AutoTokenizer.from_pretrained(model_name)\n",
    "foundation_model = AutoModelForCausalLM.from_pretrained(model_name)\n"
   ]
  },
  {
   "cell_type": "markdown",
   "id": "6a57f5e5",
   "metadata": {},
   "source": [
    "Avertissements mineurs, pas bloquants. Corrige si tu veux un environnement propre et plus efficace."
   ]
  },
  {
   "cell_type": "markdown",
   "id": "fc59225b",
   "metadata": {},
   "source": [
    "## Étape 3 : Charger et prétraiter les données"
   ]
  },
  {
   "cell_type": "code",
   "execution_count": 3,
   "id": "3e4767f4",
   "metadata": {},
   "outputs": [
    {
     "name": "stderr",
     "output_type": "stream",
     "text": [
      "c:\\Users\\chume\\.conda\\envs\\llama\\lib\\site-packages\\huggingface_hub\\file_download.py:143: UserWarning: `huggingface_hub` cache-system uses symlinks by default to efficiently store duplicated files but your machine does not support them in C:\\Users\\chume\\.cache\\huggingface\\hub\\datasets--Abirate--english_quotes. Caching files will still work but in a degraded version that might require more space on your disk. This warning can be disabled by setting the `HF_HUB_DISABLE_SYMLINKS_WARNING` environment variable. For more details, see https://huggingface.co/docs/huggingface_hub/how-to-cache#limitations.\n",
      "To support symlinks on Windows, you either need to activate Developer Mode or to run Python as an administrator. In order to activate developer mode, see this article: https://docs.microsoft.com/en-us/windows/apps/get-started/enable-your-device-for-development\n",
      "  warnings.warn(message)\n",
      "Generating train split: 100%|██████████| 2508/2508 [00:00<00:00, 250812.20 examples/s]\n",
      "Map: 100%|██████████| 251/251 [00:00<00:00, 15686.77 examples/s]"
     ]
    },
    {
     "name": "stdout",
     "output_type": "stream",
     "text": [
      "Dataset({\n",
      "    features: ['quote', 'author', 'tags', 'input_ids', 'attention_mask'],\n",
      "    num_rows: 5\n",
      "})\n"
     ]
    },
    {
     "name": "stderr",
     "output_type": "stream",
     "text": [
      "\n"
     ]
    }
   ],
   "source": [
    "data = load_dataset(\"Abirate/english_quotes\", split=\"train[:10%]\")\n",
    "data = data.map(lambda samples: tokenizer(samples[\"quote\"]), batched=True)\n",
    "train_sample = data.select(range(5))\n",
    "print(train_sample)\n"
   ]
  },
  {
   "cell_type": "markdown",
   "id": "4c3184e4",
   "metadata": {},
   "source": [
    " **Analyse rapide :**\n",
    "\n",
    "*  **Avertissement symlink toujours présent** : même cause que précédemment → Windows sans symlink actif → **pas bloquant** mais plus de stockage utilisé.\n",
    "\n",
    "*  **Chargement Dataset réussi** :\n",
    "\n",
    "   * **251 exemples** extraits (10 % du dataset),\n",
    "   * **5 échantillons sélectionnés** pour l’entraînement,\n",
    "    * Colonnes bien préparées : `input_ids`, `attention_mask` → **prétraitement OK**.\n",
    "\n",
    "---\n",
    "\n",
    " **Conclusion** :\n",
    "**Pas d'erreur critique**. Je peux continuer l'entraînement. Pour optimiser l’espace disque, je dois activer **Developer Mode**, sinon ignorer.\n"
   ]
  },
  {
   "cell_type": "markdown",
   "id": "07db97ad",
   "metadata": {},
   "source": [
    "## Étape 4 : Configurer LoRA"
   ]
  },
  {
   "cell_type": "code",
   "execution_count": 4,
   "id": "77276182",
   "metadata": {},
   "outputs": [
    {
     "name": "stdout",
     "output_type": "stream",
     "text": [
      "trainable params: 98,304 || all params: 559,312,896 || trainable%: 0.01757585078102687\n",
      "None\n"
     ]
    }
   ],
   "source": [
    "from peft import LoraConfig, get_peft_model\n",
    "\n",
    "lora_config = LoraConfig(\n",
    "    r=1,\n",
    "    lora_alpha=1,\n",
    "    target_modules=[\"query_key_value\"],  # typique pour Bloom\n",
    "    lora_dropout=0.1,\n",
    "    bias=\"none\",\n",
    "    task_type=\"CAUSAL_LM\"\n",
    ")\n",
    "\n",
    "peft_model = get_peft_model(foundation_model, lora_config)\n",
    "print(peft_model.print_trainable_parameters())\n"
   ]
  },
  {
   "cell_type": "markdown",
   "id": "b17887b1",
   "metadata": {},
   "source": [
    " **Analyse rapide** :\n",
    "\n",
    "* **Paramètres entraînables** : 98 304\n",
    "* **Paramètres totaux** : 559,3 millions\n",
    "* **Proportion entraînée** : \\~**0,0176 %**\n",
    "\n",
    " **Interprétation** :\n",
    "\n",
    "* **Normal avec LoRA** : seul un minuscule sous-ensemble des poids (couches LoRA) est entraîné.\n",
    "* **Avantages** :\n",
    "\n",
    "  * **Moins de ressources**, entraînement rapide.\n",
    "  * **Faible risque de surapprentissage** sur petit dataset.\n",
    "* **Inconvénient** :\n",
    "\n",
    "  * Pas adapté si tu veux modifier en profondeur les capacités du modèle → LoRA = **affinage léger et ciblé**.\n",
    "\n",
    " **Conclusion** : le résultat est attendu et confirme que **LoRA fonctionne comme prévu**.\n"
   ]
  },
  {
   "cell_type": "markdown",
   "id": "dd8fc10b",
   "metadata": {},
   "source": [
    "## Étape 5 : Configurer TrainingArguments"
   ]
  },
  {
   "cell_type": "code",
   "execution_count": 5,
   "id": "e780e2ad",
   "metadata": {},
   "outputs": [],
   "source": [
    "from transformers import TrainingArguments, Trainer, DataCollatorForLanguageModeling\n",
    "import os\n",
    "\n",
    "output_directory = \"../cache/working/peft_lab_outputs\"\n",
    "\n",
    "training_args = TrainingArguments(\n",
    "    report_to=\"none\",\n",
    "    output_dir=output_directory,\n",
    "    auto_find_batch_size=True,\n",
    "    learning_rate=3e-2,\n",
    "    num_train_epochs=3,\n",
    "    use_cpu=True\n",
    ")\n"
   ]
  },
  {
   "cell_type": "markdown",
   "id": "bb784514",
   "metadata": {},
   "source": [
    "## Étape 6 : Entraîner le modèle"
   ]
  },
  {
   "cell_type": "code",
   "execution_count": 6,
   "id": "d835675a",
   "metadata": {},
   "outputs": [
    {
     "name": "stderr",
     "output_type": "stream",
     "text": [
      "100%|██████████| 3/3 [00:04<00:00,  1.42s/it]"
     ]
    },
    {
     "name": "stdout",
     "output_type": "stream",
     "text": [
      "{'train_runtime': 4.2541, 'train_samples_per_second': 3.526, 'train_steps_per_second': 0.705, 'train_loss': 3.142648696899414, 'epoch': 3.0}\n"
     ]
    },
    {
     "name": "stderr",
     "output_type": "stream",
     "text": [
      "\n"
     ]
    },
    {
     "data": {
      "text/plain": [
       "TrainOutput(global_step=3, training_loss=3.142648696899414, metrics={'train_runtime': 4.2541, 'train_samples_per_second': 3.526, 'train_steps_per_second': 0.705, 'total_flos': 1388070051840.0, 'train_loss': 3.142648696899414, 'epoch': 3.0})"
      ]
     },
     "execution_count": 6,
     "metadata": {},
     "output_type": "execute_result"
    }
   ],
   "source": [
    "trainer = Trainer(\n",
    "    model=peft_model,\n",
    "    args=training_args,\n",
    "    train_dataset=train_sample,\n",
    "    data_collator=DataCollatorForLanguageModeling(tokenizer, mlm=False)\n",
    ")\n",
    "\n",
    "trainer.train()\n"
   ]
  },
  {
   "cell_type": "markdown",
   "id": "ceb5a0d5",
   "metadata": {},
   "source": [
    " **Analyse rapide des résultats d'entraînement** :\n",
    "\n",
    "* **Durée d'entraînement** : 4,25 secondes → **très rapide**, logique vu la petite taille de données et LoRA.\n",
    "* **Vitesse** : \\~3,5 échantillons/seconde, 0,7 étape/seconde → **efficace**, normal avec CPU.\n",
    "* **Loss final** : 3,14 → **cohérent** pour un modèle pré-entraîné sur un jeu de données minuscule (5 exemples sur 3 époques).\n",
    "* **Époques** : 3 → **conforme** au paramétrage.\n",
    "\n",
    " **Conclusion** : entraînement **ultra-rapide**, **loss stable** mais attention :\n",
    "\n",
    "* **dataset trop petit** → perte peu significative.\n",
    "* Utilisable uniquement pour **démonstration rapide**, pas production sérieuse.\n"
   ]
  },
  {
   "cell_type": "markdown",
   "id": "dce5de59",
   "metadata": {},
   "source": [
    "## Étape 7 : Enregistrer le modèle"
   ]
  },
  {
   "cell_type": "code",
   "execution_count": 7,
   "id": "9226e3fe",
   "metadata": {},
   "outputs": [],
   "source": [
    "import time\n",
    "\n",
    "time_now = int(time.time())\n",
    "peft_model_path = os.path.join(output_directory, f\"peft_model_{time_now}\")\n",
    "trainer.model.save_pretrained(peft_model_path)\n"
   ]
  },
  {
   "cell_type": "markdown",
   "id": "f41d55ff",
   "metadata": {},
   "source": [
    "## Étape 8 : Charger et inférence"
   ]
  },
  {
   "cell_type": "code",
   "execution_count": 8,
   "id": "7ee5d9ec",
   "metadata": {},
   "outputs": [
    {
     "name": "stdout",
     "output_type": "stream",
     "text": [
      "['Two things are infinite:  the universe and the universe.” And that is the universe and the universe.” And that is the universe and the universe.”” And that']\n"
     ]
    }
   ],
   "source": [
    "from peft import PeftModel\n",
    "\n",
    "peft_model = PeftModel.from_pretrained(foundation_model, peft_model_path, is_trainable=False)\n",
    "\n",
    "inputs = tokenizer(\"Two things are infinite: \", return_tensors=\"pt\")\n",
    "outputs = peft_model.generate(input_ids=inputs[\"input_ids\"], max_new_tokens=30)\n",
    "\n",
    "print(tokenizer.batch_decode(outputs, skip_special_tokens=True))\n"
   ]
  },
  {
   "cell_type": "markdown",
   "id": "3a473224",
   "metadata": {},
   "source": [
    " **Analyse rapide du résultat généré** :\n",
    "\n",
    "* **Problème clair** : **répétitions absurdes** → \"the universe and the universe...\" boucle incohérente.\n",
    "* **Cause probable** :\n",
    "\n",
    "  *  **Dataset minuscule** → 5 exemples = **surapprentissage massif**, absence de généralisation.\n",
    "  *  **Pas de régulation du modèle** : pas de `temperature`, `top_k`, `top_p` → **sorties déterministes** qui accentuent la répétition.\n",
    "\n",
    "---\n",
    "\n",
    " **Conclusion directe** :\n",
    "\n",
    "* Avec **si peu de données**, le modèle **répète mécaniquement** ce qu'il a vu → résultat attendu.\n",
    "*  **Solution rapide** : augmenter le nombre d'exemples, ajouter :\n",
    "\n",
    "```python\n",
    "outputs = peft_model.generate(\n",
    "    input_ids=inputs[\"input_ids\"],\n",
    "    max_new_tokens=30,\n",
    "    temperature=0.9,\n",
    "    top_k=50,\n",
    "    top_p=0.95\n",
    ")\n",
    "```\n",
    "\n",
    " Meilleure **diversité** dans la génération.\n"
   ]
  },
  {
   "cell_type": "code",
   "execution_count": 10,
   "id": "ae9e3ecc",
   "metadata": {},
   "outputs": [
    {
     "name": "stdout",
     "output_type": "stream",
     "text": [
      "['Two things are infinite:  the universe and the universe.” If God is only like a book, what better book is sure to be in the universe than a book that is']\n"
     ]
    }
   ],
   "source": [
    "inputs = tokenizer(\"Two things are infinite: \", return_tensors=\"pt\")\n",
    "\n",
    "outputs = peft_model.generate(\n",
    "    input_ids=inputs[\"input_ids\"],\n",
    "    max_new_tokens=30,          # Limite la longueur de la réponse\n",
    "    temperature=0.9,            # Introduit de la diversité (plus élevé = plus créatif)\n",
    "    top_k=50,                   # Ne garde que les 50 tokens les plus probables\n",
    "    top_p=0.95,                 # Nucleus sampling : considère les tokens qui totalisent 95% de la probabilité\n",
    "    do_sample=True              # Active l'échantillonnage aléatoire\n",
    ")\n",
    "\n",
    "print(tokenizer.batch_decode(outputs, skip_special_tokens=True))\n"
   ]
  },
  {
   "cell_type": "markdown",
   "id": "cc83cb8d",
   "metadata": {},
   "source": [
    " **Analyse rapide du nouveau résultat** :\n",
    "\n",
    "*  **Amélioration claire** : moins de répétitions mécaniques, une **phrase construite** avec une idée cohérente.\n",
    "*  **Limite persistante** :\n",
    "\n",
    "   * Le modèle reste **obsédé par \"the universe\"**, car le **dataset reste trop pauvre (5 exemples)**.\n",
    "   * Mélange de **structure de citation** sans vrai fond de sens → typique d'un modèle **surentraîné sur très peu de données**.\n",
    "\n",
    "---\n",
    "\n",
    " **Conclusion directe** :\n",
    "\n",
    "*  Génération plus **variée** grâce aux paramètres (`temperature`, `top_k`, `top_p`).\n",
    "*  **Problème fondamental** = **dataset insuffisant**.\n",
    "*  **Solution optimale** : utiliser un **dataset plus large** (ex : tout le split `train[:50%]`), **nettoyer les données** et éventuellement augmenter les epochs **uniquement si le dataset est enrichi**.\n"
   ]
  },
  {
   "cell_type": "markdown",
   "id": "5add7fe6",
   "metadata": {},
   "source": [
    "## Bilan"
   ]
  },
  {
   "cell_type": "markdown",
   "id": "3e61f7dc",
   "metadata": {},
   "source": [
    " **Objectif atteint** : entraînement rapide d'un LLM (BloomZ-560m) avec **LoRA** sur un petit dataset spécifique (citations), sans réentraîner tout le modèle.\n",
    "\n",
    " **Méthode efficace** :\n",
    "\n",
    "* **Peu de ressources** (seules quelques couches sont ajustées).\n",
    "* **Temps d'entraînement réduit**.\n",
    "* **Simplicité via PEFT (Hugging Face)**.\n",
    "\n",
    " **Points clés** :\n",
    "\n",
    "* Utilisation d'un modèle pré-entraîné.\n",
    "* Adaptation rapide avec LoRA (r=1).\n",
    "* Validation pratique avec génération de texte.\n",
    "\n",
    " **Conclusion** : LoRA rend l'adaptation des LLM **rapide, légère et efficace**, parfait pour des cas d’usage spécifiques.\n"
   ]
  }
 ],
 "metadata": {
  "kernelspec": {
   "display_name": "llama",
   "language": "python",
   "name": "python3"
  },
  "language_info": {
   "codemirror_mode": {
    "name": "ipython",
    "version": 3
   },
   "file_extension": ".py",
   "mimetype": "text/x-python",
   "name": "python",
   "nbconvert_exporter": "python",
   "pygments_lexer": "ipython3",
   "version": "3.10.18"
  }
 },
 "nbformat": 4,
 "nbformat_minor": 5
}

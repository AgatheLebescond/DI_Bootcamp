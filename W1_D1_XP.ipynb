{
 "cells": [
  {
   "cell_type": "code",
   "execution_count": null,
   "id": "a1e1af24",
   "metadata": {},
   "outputs": [],
   "source": []
  },
  {
   "cell_type": "code",
   "execution_count": 7,
   "id": "0f71d963",
   "metadata": {},
   "outputs": [
    {
     "name": "stdout",
     "output_type": "stream",
     "text": [
      "Hello world\n",
      "Hello world\n",
      "Hello world\n",
      "Hello world\n"
     ]
    }
   ],
   "source": [
    "#Ex1\n",
    "\n",
    "for _ in range(4):\n",
    "\n",
    "    print (\"Hello world\")"
   ]
  },
  {
   "cell_type": "code",
   "execution_count": 8,
   "id": "29af9217",
   "metadata": {},
   "outputs": [
    {
     "name": "stdout",
     "output_type": "stream",
     "text": [
      "7762392\n"
     ]
    }
   ],
   "source": [
    "#Ex2\n",
    "print((99**3)*8)"
   ]
  },
  {
   "cell_type": "code",
   "execution_count": 64,
   "id": "2f4ca2cb",
   "metadata": {},
   "outputs": [
    {
     "name": "stdout",
     "output_type": "stream",
     "text": [
      "Hello my name is Agathe\n",
      "You entered: \n",
      "Nice to meet you!\n"
     ]
    }
   ],
   "source": [
    "#Ex3\n",
    "my_name = \"Agathe\"\n",
    "print(\"Hello my name is\", my_name)\n",
    "user_name = input(\"What is your name?\")\n",
    "print(\"You entered:\", user_name)\n",
    "if user_name.strip().lower()== my_name.lower():\n",
    "    print(f\"Guess what? We have the same name!\")\n",
    "else :\n",
    "    print(f\"Nice to meet you{user_name}!\")"
   ]
  },
  {
   "cell_type": "code",
   "execution_count": null,
   "id": "a7e6c467",
   "metadata": {},
   "outputs": [],
   "source": []
  },
  {
   "cell_type": "code",
   "execution_count": 46,
   "id": "3401d2c8",
   "metadata": {},
   "outputs": [
    {
     "name": "stdout",
     "output_type": "stream",
     "text": [
      "You typed: 150\n"
     ]
    }
   ],
   "source": [
    "#Ex4\n",
    "height = 150\n",
    "print(\"You typed:\", height)\n",
    "                "
   ]
  },
  {
   "cell_type": "markdown",
   "id": "c3a77d76",
   "metadata": {},
   "source": [
    "# height is already defined as an int (150)\n",
    "if str(height).strip() == '':\n",
    "    print(\"You did not enter a height.\")\n",
    "else:\n",
    "    height_cm = int(height)\n",
    "    if height_cm > 145:\n",
    "        print(\"Congrats, you are tall enough to ride the roller coaster!\")\n",
    "    else:\n",
    "        print(\"Sorry, you are not tall enough to ride the roller coaster!\")"
   ]
  },
  {
   "cell_type": "code",
   "execution_count": 56,
   "id": "a869b357",
   "metadata": {},
   "outputs": [
    {
     "name": "stdout",
     "output_type": "stream",
     "text": [
      "My favorite numbers: {8, 12, 7}\n",
      "My favorite numbers: {7, 8, 12, 21}\n",
      "Friend's favorite numbers: {8, 3, 15}\n",
      "Our favorite numbers: {3, 21, 7, 8, 12, 15}\n"
     ]
    }
   ],
   "source": [
    "#Ex5\n",
    "# Create a set with your favorite numbers\n",
    "my_fav_numbers = {7, 8, 12}\n",
    "print(\"My favorite numbers:\", my_fav_numbers)\n",
    "\n",
    "# Add two new numbers to the set\n",
    "my_fav_numbers.add(21)\n",
    "my_fav_numbers.add(42)\n",
    "\n",
    "# Remove the last number you added (let's remove 42)\n",
    "my_fav_numbers.remove(42)\n",
    "\n",
    "# Create another set with your friend's favorite numbers\n",
    "friend_fav_numbers = {3, 8, 15}\n",
    "\n",
    "# Concatenate the two sets to create a new set\n",
    "our_fav_numbers = my_fav_numbers.union(friend_fav_numbers)\n",
    "\n",
    "print(\"My favorite numbers:\", my_fav_numbers)\n",
    "print(\"Friend's favorite numbers:\", friend_fav_numbers)\n",
    "print(\"Our favorite numbers:\", our_fav_numbers)"
   ]
  },
  {
   "cell_type": "code",
   "execution_count": null,
   "id": "c14faf7d",
   "metadata": {},
   "outputs": [],
   "source": []
  },
  {
   "cell_type": "code",
   "execution_count": 58,
   "id": "5a866b2c",
   "metadata": {},
   "outputs": [
    {
     "name": "stdout",
     "output_type": "stream",
     "text": [
      "My tuple with 42 added: (7, 8, 12, 24, 42)\n"
     ]
    }
   ],
   "source": [
    "#EX6\n",
    "my_tuple = (7,8,12,24)\n",
    "my_tuple = my_tuple + (42,)\n",
    "print(\"My tuple with 42 added:\", my_tuple)\n"
   ]
  },
  {
   "cell_type": "code",
   "execution_count": 60,
   "id": "424faa85",
   "metadata": {},
   "outputs": [
    {
     "name": "stdout",
     "output_type": "stream",
     "text": [
      "Current basket: ['Apples', 'Apples', 'Oranges', 'Kiwi']\n",
      "Number of times 'apples' appears: 0\n",
      "Final basket: []\n"
     ]
    }
   ],
   "source": [
    "#Ex7\n",
    "basket = [\"Banana\", \"Apples\", \"Oranges\", \"Blueberries\"]\n",
    "basket.remove(\"Banana\")\n",
    "basket.remove(\"Blueberries\")\n",
    "basket.append(\"Kiwi\")\n",
    "basket.insert(0, \"Apples\")\n",
    "print(\"Current basket:\", basket)\n",
    "apple_count = basket.count ('apples')\n",
    "print(\"Number of times 'apples' appears:\", apple_count)\n",
    "basket.clear() \n",
    "print(\"Final basket:\", basket)"
   ]
  },
  {
   "cell_type": "code",
   "execution_count": 62,
   "id": "dcec2eb5",
   "metadata": {},
   "outputs": [
    {
     "name": "stdout",
     "output_type": "stream",
     "text": [
      "I made your tuna sandwich\n",
      "I made your avocado sandwich\n",
      "I made your egg sandwich\n",
      "I made your chicken sandwich\n",
      "All sandwiches made: ['Tuna sandwich', 'Avocado sandwich', 'Egg sandwich', 'Chicken sandwich']\n"
     ]
    }
   ],
   "source": [
    "sandwich_orders = [\n",
    "    \"Tuna sandwich\", \"Pastrami sandwich\", \"Avocado sandwich\",\n",
    "    \"Pastrami sandwich\", \"Egg sandwich\", \"Chicken sandwich\", \"Pastrami sandwich\"\n",
    "]\n",
    "\n",
    "while \"Pastrami sandwich\" in sandwich_orders:\n",
    "    sandwich_orders.remove(\"Pastrami sandwich\")\n",
    "\n",
    "finished_sandwiches = []\n",
    "while sandwich_orders:\n",
    "    current_sandwich = sandwich_orders.pop(0)\n",
    "    finished_sandwiches.append(current_sandwich)\n",
    "    print(f\"I made your {current_sandwich.lower()}\")\n",
    "\n",
    "print(\"All sandwiches made:\", finished_sandwiches)"
   ]
  },
  {
   "cell_type": "code",
   "execution_count": null,
   "id": "3f8e3597",
   "metadata": {},
   "outputs": [],
   "source": []
  },
  {
   "cell_type": "code",
   "execution_count": null,
   "id": "72040242",
   "metadata": {},
   "outputs": [],
   "source": []
  },
  {
   "cell_type": "code",
   "execution_count": null,
   "id": "244918f4",
   "metadata": {},
   "outputs": [],
   "source": []
  }
 ],
 "metadata": {
  "kernelspec": {
   "display_name": "Python 3",
   "language": "python",
   "name": "python3"
  },
  "language_info": {
   "codemirror_mode": {
    "name": "ipython",
    "version": 3
   },
   "file_extension": ".py",
   "mimetype": "text/x-python",
   "name": "python",
   "nbconvert_exporter": "python",
   "pygments_lexer": "ipython3",
   "version": "3.9.6"
  }
 },
 "nbformat": 4,
 "nbformat_minor": 5
}

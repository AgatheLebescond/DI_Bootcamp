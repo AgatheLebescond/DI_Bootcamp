{
 "cells": [
  {
   "cell_type": "code",
   "execution_count": null,
   "id": "19a36117",
   "metadata": {},
   "outputs": [],
   "source": [
    "pip install spacy"
   ]
  },
  {
   "cell_type": "code",
   "execution_count": null,
   "id": "24bffd07",
   "metadata": {},
   "outputs": [],
   "source": [
    "import nltk\n",
    "from nltk.corpus import stopwords\n",
    "from nltk.tokenize import word_tokenize\n",
    "from nltk.stem import WordNetLemmatizer\n",
    "import string\n",
    "\n",
    "# Télécharger les ressources nécessaires de NLTK\n",
    "nltk.download('punkt')\n",
    "nltk.download('stopwords')\n",
    "nltk.download('wordnet')\n",
    "\n",
    "def preprocess_text(data):\n",
    "    # Initialiser le lemmatiseur\n",
    "    lemmatizer = WordNetLemmatizer()\n",
    "\n",
    "    # Obtenir la liste des stopwords anglais\n",
    "    stop_words = set(stopwords.words('english'))\n",
    "\n",
    "    preprocessed_strings = []\n",
    "\n",
    "    for review in data['Review']:\n",
    "        # Convertir en minuscules\n",
    "        review = review.lower()\n",
    "\n",
    "        # Tokenization\n",
    "        tokens = word_tokenize(review)\n",
    "\n",
    "        # Supprimer la ponctuation\n",
    "        tokens = [word for word in tokens if word not in string.punctuation]\n",
    "\n",
    "        # Supprimer les stopwords\n",
    "        tokens = [word for word in tokens if word not in stop_words]\n",
    "\n",
    "        # Lemmatisation\n",
    "        tokens = [lemmatizer.lemmatize(word) for word in tokens]\n",
    "\n",
    "        # Rejoindre les tokens en une chaîne de texte\n",
    "        preprocessed_string = ' '.join(tokens)\n",
    "        preprocessed_strings.append(preprocessed_string)\n",
    "\n",
    "    return preprocessed_strings\n",
    "\n",
    "# Exemple de données\n",
    "data = {\n",
    "    'Review': [\n",
    "        'At McDonald\\'s the food was ok and the service was bad.',\n",
    "        'I would not recommend this Japanese restaurant to anyone.',\n",
    "        'I loved this restaurant when I traveled to Thailand last summer.',\n",
    "        'The menu of Loving has a wide variety of options.',\n",
    "        'The staff was friendly and helpful at Google\\'s employees restaurant.',\n",
    "        'The ambiance at Bella Italia is amazing, and the pasta dishes are delicious.',\n",
    "        'I had a terrible experience at Pizza Hut. The pizza was burnt, and the service was slow.',\n",
    "        'The sushi at Sushi Express is always fresh and flavorful.',\n",
    "        'The steakhouse on Main Street has a cozy atmosphere and excellent steaks.',\n",
    "        'The dessert selection at Sweet Treats is to die for!'\n",
    "    ]\n",
    "}\n",
    "\n",
    "# Appel de la fonction\n",
    "preprocessed_reviews = preprocess_text(data)\n",
    "for idx, review in enumerate(preprocessed_reviews):\n",
    "    print(f\"Review {idx+1}: {review}\")\n"
   ]
  },
  {
   "cell_type": "markdown",
   "id": "eec6ed5a",
   "metadata": {},
   "source": [
    "\n",
    "4. Create a function perform_pos_tagging() that will receive the text as argument and perform POS tagging on it.\n",
    "\n",
    "hint: use nltk pos_tag method\n",
    "\n",
    "\n",
    "\n",
    "5. Let’s apply the functions in the dataset, analyse the outputs applying it in the preprocessed data and in the raw data\n",
    "\n",
    "hint: to understand the meaning of the different POS tags you can use:\n",
    "\n"
   ]
  },
  {
   "cell_type": "code",
   "execution_count": null,
   "id": "03a79170",
   "metadata": {},
   "outputs": [],
   "source": [
    "import ssl\n",
    "import nltk\n",
    "\n",
    "try:\n",
    "    _create_unverified_https_context = ssl._create_unverified_context\n",
    "except AttributeError:\n",
    "    pass\n",
    "else:\n",
    "    ssl._create_default_https_context = _create_unverified_https_context\n",
    "\n",
    "nltk.download('punkt')\n",
    "nltk.download('averaged_perceptron_tagger')\n",
    "nltk.download('stopwords')"
   ]
  },
  {
   "cell_type": "code",
   "execution_count": null,
   "id": "2d1857a0",
   "metadata": {},
   "outputs": [],
   "source": [
    "import ssl\n",
    "import nltk\n",
    "\n",
    "try:\n",
    "    _create_unverified_https_context = ssl._create_unverified_context\n",
    "except AttributeError:\n",
    "    pass\n",
    "else:\n",
    "    ssl._create_default_https_context = _create_unverified_https_context\n",
    "\n",
    "# Télécharger les ressources nécessaires\n",
    "nltk.download('punkt')\n",
    "nltk.download('stopwords')\n",
    "nltk.download('averaged_perceptron_tagger')"
   ]
  },
  {
   "cell_type": "code",
   "execution_count": null,
   "id": "e243ce7f",
   "metadata": {},
   "outputs": [],
   "source": [
    "import spacy\n",
    "\n",
    "# Charger le modèle de langue anglaise\n",
    "nlp = spacy.load(\"en_core_web_sm\")\n",
    "\n",
    "def perform_pos_tagging(text):\n",
    "    # Traiter le texte avec SpaCy\n",
    "    doc = nlp(text)\n",
    "    # Extraire les tokens et leurs tags POS\n",
    "    tagged = [(token.text, token.pos_) for token in doc]\n",
    "    return tagged\n",
    "\n",
    "# Exemple d'utilisation\n",
    "text = \"This is an example sentence for POS tagging.\"\n",
    "tagged_text = perform_pos_tagging(text)\n",
    "print(tagged_text)"
   ]
  },
  {
   "cell_type": "code",
   "execution_count": null,
   "id": "b1d5aad1",
   "metadata": {},
   "outputs": [],
   "source": [
    "import spacy\n",
    "\n",
    "try:\n",
    "    nlp = spacy.load(\"en_core_web_sm\")\n",
    "    print(\"Modèle chargé avec succès!\")\n",
    "except OSError as e:\n",
    "    print(\"Erreur :\", e)"
   ]
  },
  {
   "cell_type": "code",
   "execution_count": null,
   "id": "98108b5e",
   "metadata": {},
   "outputs": [],
   "source": [
    "# Pour activer un environnement virtuel sous Unix/MacOS :\n",
    "source myenv/bin/activate"
   ]
  },
  {
   "cell_type": "code",
   "execution_count": null,
   "id": "7e87c464",
   "metadata": {},
   "outputs": [],
   "source": [
    "import spacy\n",
    "\n",
    "try:\n",
    "    nlp = spacy.load(\"en_core_web_sm\")\n",
    "    print(\"Modèle chargé avec succès!\")\n",
    "except OSError as e:\n",
    "    print(\"Erreur :\", e)"
   ]
  },
  {
   "cell_type": "code",
   "execution_count": null,
   "id": "0ad7099e",
   "metadata": {},
   "outputs": [],
   "source": [
    "from nltk import pos_tag, word_tokenize\n",
    "\n",
    "def perform_pos_tagging(text):\n",
    "    # Tokenizer le texte et appliquer le POS tagging\n",
    "    tokens = word_tokenize(text)\n",
    "    tagged = pos_tag(tokens)\n",
    "    return tagged\n",
    "\n",
    "# Exemple d'utilisation\n",
    "text = \"This is an example sentence for POS tagging.\"\n",
    "tagged_text = perform_pos_tagging(text)\n",
    "print(tagged_text)"
   ]
  }
 ],
 "metadata": {
  "kernelspec": {
   "display_name": "Python 3",
   "language": "python",
   "name": "python3"
  },
  "language_info": {
   "codemirror_mode": {
    "name": "ipython",
    "version": 3
   },
   "file_extension": ".py",
   "mimetype": "text/x-python",
   "name": "python",
   "nbconvert_exporter": "python",
   "pygments_lexer": "ipython3",
   "version": "3.13.5"
  }
 },
 "nbformat": 4,
 "nbformat_minor": 5
}

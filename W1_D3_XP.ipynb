{
 "cells": [
  {
   "cell_type": "code",
   "execution_count": null,
   "id": "7681435d",
   "metadata": {},
   "outputs": [],
   "source": [
    "\n"
   ]
  },
  {
   "cell_type": "code",
   "execution_count": null,
   "id": "01d12956",
   "metadata": {},
   "outputs": [
    {
     "name": "stdout",
     "output_type": "stream",
     "text": [
      "Hello my name is Antoine and my age is 36\n"
     ]
    }
   ],
   "source": [
    "#EX 1 \n",
    "class Person():\n",
    "    \n",
    "    def __init__(self, name, age):\n",
    "        self.name = name\n",
    "        self.age = age\n",
    "        \n",
    "    def show_details(self):\n",
    "        print(f\"Hello my name is {self.name} and my age is {self.age}\")\n",
    "\n",
    "    def rename(self,new_name):\n",
    "        self.name = new_name\n",
    "\n",
    "\n",
    "first_person = Person(\"John\", 36) # l'objet first_person\n",
    "\n",
    "first_person.rename(\"Antoine\")\n",
    "first_person.show_details()"
   ]
  },
  {
   "cell_type": "code",
   "execution_count": null,
   "id": "27a5e58b",
   "metadata": {},
   "outputs": [
    {
     "name": "stdout",
     "output_type": "stream",
     "text": [
      "The oldest cat is 3 years old and his name is three.\n"
     ]
    }
   ],
   "source": [
    "#EX 1 Cats\n",
    "#Step 1: Create Cat Objects\n",
    "class Cat:\n",
    "    def __init__(self, cat_name, cat_age):\n",
    "        self.name = cat_name\n",
    "        self.age = cat_age\n",
    "\n",
    "# Step 1: Create cat objects\n",
    "cat1 = Cat(\"one\", 1)\n",
    "cat2 = Cat(\"two\", 2)\n",
    "cat3 = Cat(\"three\", 3)\n",
    "\n",
    "# Step 2: Create a function to find the oldest cat\n",
    "def find_oldest_cat(*cats):\n",
    "    return max(cats, key=lambda cat: cat.age)\n",
    "\n",
    "# Step 3: Print the oldest cat's details\n",
    "oldest_cat = find_oldest_cat(cat1, cat2, cat3)\n",
    "print(f\"The oldest cat is {oldest_cat.age} years old and his name is {oldest_cat.name}.\")"
   ]
  },
  {
   "cell_type": "code",
   "execution_count": null,
   "id": "17a74c7f",
   "metadata": {},
   "outputs": [
    {
     "name": "stdout",
     "output_type": "stream",
     "text": [
      "The oldest cat is 3 years old\n"
     ]
    }
   ],
   "source": [
    "#EX 1 Cats version 2\n",
    "class Cat:\n",
    "    def __init__(self, cat_name, cat_age):\n",
    "        self.name = cat_name\n",
    "        self.age = cat_age\n",
    "\n",
    "# Step 1: Create cat objects\n",
    "cat1 = Cat(\"one\",1)\n",
    "cat2 = Cat(\"two\",2)\n",
    "cat3 = Cat(\"tree\",3)\n",
    "\n",
    "\n",
    "# Step 2: Create a function to find the oldest cat\n",
    "def find_oldest_cat(cat1, cat2, cat3):\n",
    "    return max(cat1,cat2,cat3)\n",
    "\n",
    "def find_oldest_cat(cat1, cat2, cat3):\n",
    "    cats = [cat1, cat2, cat3]\n",
    "    oldest = cat1\n",
    "    for cat in cats:\n",
    "        if cat.age > oldest.age:\n",
    "            oldest = cat\n",
    "    return oldest\n",
    "\n",
    "# Step 3: Print the oldest cat's details\n",
    "print(f\"The oldest cat is {find_oldest_cat(cat1,cat2,cat3).age} years old\")"
   ]
  },
  {
   "cell_type": "code",
   "execution_count": null,
   "id": "89776e7d",
   "metadata": {},
   "outputs": [
    {
     "name": "stdout",
     "output_type": "stream",
     "text": [
      "Woof!\n",
      "Rex jumped 50 cm\n",
      "Woof!\n",
      "Tom jumped 100 cm\n",
      "The winner is Tom.\n"
     ]
    }
   ],
   "source": [
    "#EX 2 Dogs\n",
    "\n",
    "#Step 1: Create the Dog Class\n",
    "class Dog:\n",
    "    def __init__(self, name, height):\n",
    "        self.name = name\n",
    "        self.height = height\n",
    "\n",
    "    def bark(self):\n",
    "        print(\"Woof!\")\n",
    "\n",
    "    def jump(self):\n",
    "        jump_height = self.height * 2\n",
    "        print(self.name, \"jumped\", jump_height, \"cm\")\n",
    "\n",
    "#Step 2: Create Dog Objects\n",
    "\n",
    "\n",
    "davids_dog = Dog(\"Rex\", 25)\n",
    "sarahs_dog = Dog(\"Tom\", 50)\n",
    "\n",
    "davids_dog.bark()\n",
    "davids_dog.jump()\n",
    "\n",
    "sarahs_dog.bark()\n",
    "sarahs_dog.jump()\n",
    "\n",
    "# Step 3  Print Dog Details and Call Methods\n",
    "def find_winner(dog1, dog2):\n",
    "    if dog1.height > dog2.height:\n",
    "        return dog1\n",
    "    else:\n",
    "        return dog2\n",
    "#Step 4: Compare Dog Sizes\n",
    "winner = find_winner(davids_dog, sarahs_dog)\n",
    "print(f\"The winner is {winner.name}.\")"
   ]
  },
  {
   "cell_type": "code",
   "execution_count": null,
   "id": "e281fff9",
   "metadata": {},
   "outputs": [],
   "source": [
    "# EX 2 Version 2\n",
    "class Dog:\n",
    "    def __init__(self,name, height):\n",
    "        self.name = name\n",
    "        self.height = height\n",
    "\n",
    "    def bark(self):\n",
    "        print(\"Woof!\")\n",
    "\n",
    "    def jump(self):\n",
    "        jump_height = self.height*2\n",
    "        print(self.name,\"jumped\",jump_height)\n",
    "\n",
    "davids_dog = Dog(\"Rex\",25)\n",
    "print(davids_dog)\n",
    "davids_dog.bark()\n",
    "davids_dog.jump()\n",
    "\n",
    "sarahs_dog = Dog(\"Tom\",50)\n",
    "print(sarahs_dog)\n",
    "sarahs_dog.bark()\n",
    "sarahs_dog.jump()\n",
    "\n",
    "def find_tallest(*dogs):\n",
    "        tallest = max(dogs, key=lambda d: d.height)\n",
    "        print(f\"Le plus grand chien est {tallest.name} ({tallest.height} cm).\")\n",
    "\n",
    "\n",
    "find_tallest(davids_dog,sarahs_dog)"
   ]
  },
  {
   "cell_type": "code",
   "execution_count": null,
   "id": "98cc87be",
   "metadata": {},
   "outputs": [
    {
     "name": "stdout",
     "output_type": "stream",
     "text": [
      "Happy Birthday to you\n"
     ]
    }
   ],
   "source": [
    "\n",
    "#EX 3 \n",
    "#Create a Song class with a method to print song lyrics line by line.\n",
    "class Song:\n",
    "# In the __init__ method, take lyrics (a list) as a parameter and create a corresponding attribute.\n",
    "    def __init__(self,lyrics):\n",
    "        self.lyrics = lyrics\n",
    "#\n",
    "# \n",
    "# Create a sing_me_a_song() method that prints each element of the lyrics list on a new line.\n",
    "    def sing_me_a_song(self):\n",
    "        for i in self.lyrics:\n",
    "            print(i)\n",
    "\n",
    "happy_bday = Song([\"Happy Birthday to you\"])\n",
    "happy_bday.sing_me_a_song()"
   ]
  },
  {
   "cell_type": "code",
   "execution_count": 1,
   "id": "cbad3d35",
   "metadata": {},
   "outputs": [
    {
     "name": "stdout",
     "output_type": "stream",
     "text": [
      "Animals in the zoo: ['Lion', 'Tiger', 'Bear']\n",
      "Sorted animals {'B': ['Bear'], 'L': ['Lion'], 'T': ['Tiger']}\n"
     ]
    }
   ],
   "source": [
    "#Step 1: Define the Zoo Class\n",
    "#Create a class called Zoo.\n",
    "class Zoo:\n",
    "# Implement the __init__() method:\n",
    "    def __init__(self,zoo_name):\n",
    "        self.zoo_name = zoo_name\n",
    "        self.animals = []\n",
    "#Add a method add_animal(new_animal):\n",
    "    def add_animal(self,new_animal):\n",
    "        if new_animal not in self.animals:\n",
    "            self.animals.append(new_animal)\n",
    "#Add a method get_animals():\n",
    "    def get_animals(self):\n",
    "        print(\"Animals in the zoo:\",self.animals)\n",
    "#Add a method sell_animal(animal_sold):\n",
    "    def sell_animal(self,animal_sold):\n",
    "        if animal_sold in self.animals:\n",
    "            self.animals.remove(animal_sold)\n",
    "#Add a method sort_animals():\n",
    "    def sort_animals(self):\n",
    "        self.animals.sort()\n",
    "        sorted_animals = {}\n",
    "\n",
    "        for animal in self.animals:\n",
    "            first_letter = animal[0]\n",
    "            if first_letter not in sorted_animals:\n",
    "                sorted_animals[first_letter] = []\n",
    "#Add a method get_groups():\n",
    "            sorted_animals[first_letter].append(animal)\n",
    "\n",
    "        return sorted_animals\n",
    "    \n",
    "\n",
    "#Test \n",
    "my_zoo = Zoo(\"Safari Park\")\n",
    "\n",
    "my_zoo.add_animal(\"Lion\")\n",
    "my_zoo.add_animal(\"Tiger\")\n",
    "my_zoo.add_animal(\"Bear\")\n",
    "\n",
    "my_zoo.get_animals()\n",
    "\n",
    "sorted_animals = my_zoo.sort_animals()\n",
    "print(\"Sorted animals\", sorted_animals)"
   ]
  }
 ],
 "metadata": {
  "kernelspec": {
   "display_name": "Python 3",
   "language": "python",
   "name": "python3"
  },
  "language_info": {
   "codemirror_mode": {
    "name": "ipython",
    "version": 3
   },
   "file_extension": ".py",
   "mimetype": "text/x-python",
   "name": "python",
   "nbconvert_exporter": "python",
   "pygments_lexer": "ipython3",
   "version": "3.9.6"
  }
 },
 "nbformat": 4,
 "nbformat_minor": 5
}

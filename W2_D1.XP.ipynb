{
 "cells": [
  {
   "cell_type": "markdown",
   "id": "95f84541",
   "metadata": {},
   "source": [
    "Exercice 1"
   ]
  },
  {
   "cell_type": "markdown",
   "id": "20b604a8",
   "metadata": {},
   "source": [
    "La data est un processus qui consiste à collecter, organiser, examiner et interpréter des données brutes à l’aide de différentes techniques afin d’en extraire des informations pertinentes et de dégager des tendances ou des modèles. Elle mobilise des outils statistiques, informatiques et visuels pour traiter des volumes importants de données, qu’elles soient structurées ou non, dans le but de transformer ces données en connaissances exploitables pour prendre des décisions éclairées. Quelques exemples de domaines où \n",
    "\n",
    "1. L’action sociale et l’évaluation des politiques publiques\n",
    "La Fondation Abbé Pierre, qui lutte contre le mal-logement en France, utilise l’analyse de données pour évaluer l’ampleur du phénomène, identifier les publics prioritaires et mesurer l’impact de ses actions. L’analyse statistique des données issues de ses enquêtes et de ses interventions permet d’orienter ses campagnes de sensibilisation et de cibler les aides là où elles sont les plus efficaces.\n",
    "2. La finance et la prévision économique\n",
    "Les banques américaines recourent massivement à l’analyse de données pour prédire l’évolution de la dette, des taux d’intérêt ou des risques de défaut. Grâce à l’intelligence artificielle et à l’apprentissage automatique, elles modélisent des scénarios économiques complexes et anticipent les fluctuations des marchés. Ces analyses influencent les politiques de crédit, les stratégies d’investissement et la gestion des risques à grande échelle.\n",
    "3. Le climat et la prévision environnementale\n",
    "Dans le domaine du climat, l’analyse de données est essentielle pour étudier les évolutions de la température, des précipitations ou des événements extrêmes. Les scientifiques utilisent des graphiques pour visualiser ces tendances, comme les diagrammes climatiques ou climatogrammes, qui montrent la variation mensuelle ou annuelle de la température et des précipitations sur plusieurs décennies. Ces outils permettent de comparer l’évolution du climat dans une région donnée et d’anticiper les risques liés au changement climatique."
   ]
  },
  {
   "cell_type": "code",
   "execution_count": null,
   "id": "7e1dc1b0",
   "metadata": {},
   "outputs": [],
   "source": [
    "Exercice 2"
   ]
  },
  {
   "cell_type": "code",
   "execution_count": 1,
   "id": "0d4349a6",
   "metadata": {},
   "outputs": [],
   "source": [
    "import pandas as pd"
   ]
  },
  {
   "cell_type": "code",
   "execution_count": 4,
   "id": "8773d3d1",
   "metadata": {},
   "outputs": [],
   "source": [
    "df = pd.read_csv(\"Time Americans Spend Sleeping.csv\")"
   ]
  },
  {
   "cell_type": "code",
   "execution_count": 13,
   "id": "aa242e24",
   "metadata": {},
   "outputs": [
    {
     "data": {
      "text/html": [
       "<div>\n",
       "<style scoped>\n",
       "    .dataframe tbody tr th:only-of-type {\n",
       "        vertical-align: middle;\n",
       "    }\n",
       "\n",
       "    .dataframe tbody tr th {\n",
       "        vertical-align: top;\n",
       "    }\n",
       "\n",
       "    .dataframe thead th {\n",
       "        text-align: right;\n",
       "    }\n",
       "</style>\n",
       "<table border=\"1\" class=\"dataframe\">\n",
       "  <thead>\n",
       "    <tr style=\"text-align: right;\">\n",
       "      <th></th>\n",
       "      <th>index</th>\n",
       "      <th>Year</th>\n",
       "      <th>Period</th>\n",
       "      <th>Avg hrs per day sleeping</th>\n",
       "      <th>Standard Error</th>\n",
       "      <th>Type of Days</th>\n",
       "      <th>Age Group</th>\n",
       "      <th>Activity</th>\n",
       "      <th>Sex</th>\n",
       "    </tr>\n",
       "  </thead>\n",
       "  <tbody>\n",
       "    <tr>\n",
       "      <th>0</th>\n",
       "      <td>0</td>\n",
       "      <td>2003</td>\n",
       "      <td>Annual</td>\n",
       "      <td>8.57</td>\n",
       "      <td>0.018</td>\n",
       "      <td>All days</td>\n",
       "      <td>15 years and over</td>\n",
       "      <td>Sleeping</td>\n",
       "      <td>Both</td>\n",
       "    </tr>\n",
       "    <tr>\n",
       "      <th>1</th>\n",
       "      <td>1</td>\n",
       "      <td>2004</td>\n",
       "      <td>Annual</td>\n",
       "      <td>8.55</td>\n",
       "      <td>0.026</td>\n",
       "      <td>All days</td>\n",
       "      <td>15 years and over</td>\n",
       "      <td>Sleeping</td>\n",
       "      <td>Both</td>\n",
       "    </tr>\n",
       "    <tr>\n",
       "      <th>2</th>\n",
       "      <td>2</td>\n",
       "      <td>2005</td>\n",
       "      <td>Annual</td>\n",
       "      <td>8.62</td>\n",
       "      <td>0.023</td>\n",
       "      <td>All days</td>\n",
       "      <td>15 years and over</td>\n",
       "      <td>Sleeping</td>\n",
       "      <td>Both</td>\n",
       "    </tr>\n",
       "    <tr>\n",
       "      <th>3</th>\n",
       "      <td>3</td>\n",
       "      <td>2006</td>\n",
       "      <td>Annual</td>\n",
       "      <td>8.63</td>\n",
       "      <td>0.024</td>\n",
       "      <td>All days</td>\n",
       "      <td>15 years and over</td>\n",
       "      <td>Sleeping</td>\n",
       "      <td>Both</td>\n",
       "    </tr>\n",
       "    <tr>\n",
       "      <th>4</th>\n",
       "      <td>4</td>\n",
       "      <td>2007</td>\n",
       "      <td>Annual</td>\n",
       "      <td>8.57</td>\n",
       "      <td>0.024</td>\n",
       "      <td>All days</td>\n",
       "      <td>15 years and over</td>\n",
       "      <td>Sleeping</td>\n",
       "      <td>Both</td>\n",
       "    </tr>\n",
       "  </tbody>\n",
       "</table>\n",
       "</div>"
      ],
      "text/plain": [
       "   index  Year  Period  Avg hrs per day sleeping  Standard Error Type of Days  \\\n",
       "0      0  2003  Annual                      8.57           0.018     All days   \n",
       "1      1  2004  Annual                      8.55           0.026     All days   \n",
       "2      2  2005  Annual                      8.62           0.023     All days   \n",
       "3      3  2006  Annual                      8.63           0.024     All days   \n",
       "4      4  2007  Annual                      8.57           0.024     All days   \n",
       "\n",
       "           Age Group  Activity   Sex  \n",
       "0  15 years and over  Sleeping  Both  \n",
       "1  15 years and over  Sleeping  Both  \n",
       "2  15 years and over  Sleeping  Both  \n",
       "3  15 years and over  Sleeping  Both  \n",
       "4  15 years and over  Sleeping  Both  "
      ]
     },
     "execution_count": 13,
     "metadata": {},
     "output_type": "execute_result"
    }
   ],
   "source": [
    "df.head(5)"
   ]
  },
  {
   "cell_type": "code",
   "execution_count": 7,
   "id": "1f58010d",
   "metadata": {},
   "outputs": [
    {
     "data": {
      "text/html": [
       "<div>\n",
       "<style scoped>\n",
       "    .dataframe tbody tr th:only-of-type {\n",
       "        vertical-align: middle;\n",
       "    }\n",
       "\n",
       "    .dataframe tbody tr th {\n",
       "        vertical-align: top;\n",
       "    }\n",
       "\n",
       "    .dataframe thead th {\n",
       "        text-align: right;\n",
       "    }\n",
       "</style>\n",
       "<table border=\"1\" class=\"dataframe\">\n",
       "  <thead>\n",
       "    <tr style=\"text-align: right;\">\n",
       "      <th></th>\n",
       "      <th>index</th>\n",
       "      <th>Year</th>\n",
       "      <th>Avg hrs per day sleeping</th>\n",
       "      <th>Standard Error</th>\n",
       "    </tr>\n",
       "  </thead>\n",
       "  <tbody>\n",
       "    <tr>\n",
       "      <th>count</th>\n",
       "      <td>945.000000</td>\n",
       "      <td>945.000000</td>\n",
       "      <td>945.000000</td>\n",
       "      <td>945.000000</td>\n",
       "    </tr>\n",
       "    <tr>\n",
       "      <th>mean</th>\n",
       "      <td>472.000000</td>\n",
       "      <td>2010.000000</td>\n",
       "      <td>8.806868</td>\n",
       "      <td>0.086958</td>\n",
       "    </tr>\n",
       "    <tr>\n",
       "      <th>std</th>\n",
       "      <td>272.942302</td>\n",
       "      <td>4.322782</td>\n",
       "      <td>0.545001</td>\n",
       "      <td>0.034631</td>\n",
       "    </tr>\n",
       "    <tr>\n",
       "      <th>min</th>\n",
       "      <td>0.000000</td>\n",
       "      <td>2003.000000</td>\n",
       "      <td>7.720000</td>\n",
       "      <td>0.018000</td>\n",
       "    </tr>\n",
       "    <tr>\n",
       "      <th>25%</th>\n",
       "      <td>236.000000</td>\n",
       "      <td>2006.000000</td>\n",
       "      <td>8.360000</td>\n",
       "      <td>0.063000</td>\n",
       "    </tr>\n",
       "    <tr>\n",
       "      <th>50%</th>\n",
       "      <td>472.000000</td>\n",
       "      <td>2010.000000</td>\n",
       "      <td>8.810000</td>\n",
       "      <td>0.084000</td>\n",
       "    </tr>\n",
       "    <tr>\n",
       "      <th>75%</th>\n",
       "      <td>708.000000</td>\n",
       "      <td>2014.000000</td>\n",
       "      <td>9.190000</td>\n",
       "      <td>0.106000</td>\n",
       "    </tr>\n",
       "    <tr>\n",
       "      <th>max</th>\n",
       "      <td>944.000000</td>\n",
       "      <td>2017.000000</td>\n",
       "      <td>10.650000</td>\n",
       "      <td>0.228000</td>\n",
       "    </tr>\n",
       "  </tbody>\n",
       "</table>\n",
       "</div>"
      ],
      "text/plain": [
       "            index         Year  Avg hrs per day sleeping  Standard Error\n",
       "count  945.000000   945.000000                945.000000      945.000000\n",
       "mean   472.000000  2010.000000                  8.806868        0.086958\n",
       "std    272.942302     4.322782                  0.545001        0.034631\n",
       "min      0.000000  2003.000000                  7.720000        0.018000\n",
       "25%    236.000000  2006.000000                  8.360000        0.063000\n",
       "50%    472.000000  2010.000000                  8.810000        0.084000\n",
       "75%    708.000000  2014.000000                  9.190000        0.106000\n",
       "max    944.000000  2017.000000                 10.650000        0.228000"
      ]
     },
     "execution_count": 7,
     "metadata": {},
     "output_type": "execute_result"
    }
   ],
   "source": [
    "df.describe()"
   ]
  },
  {
   "cell_type": "code",
   "execution_count": null,
   "id": "b8d02441",
   "metadata": {},
   "outputs": [],
   "source": [
    "#Dataset Description:\n",
    "#This dataset provides information on the average amount of time Americans spend sleeping, broken down by age group, sex, and activity. \n",
    "# It allows for analysis of sleep duration, patterns, and factors influencing sleep among Americans. \n",
    "# The data includes metrics such as average sl#eep length, sleep efficiency, and comparisons across different demographics."
   ]
  },
  {
   "cell_type": "code",
   "execution_count": null,
   "id": "ba585765",
   "metadata": {},
   "outputs": [],
   "source": [
    "# Dataset Description\n",
    "# This dataset contains global statistics on the prevalence and trends of mental health disorders. \n",
    "# It typically includes variables such as country, year, disorder type (e.g., depression, anxiety), and prevalence rates. \n",
    "# The dataset enables analysis of how mental health disorders vary across regions and over time."
   ]
  },
  {
   "cell_type": "markdown",
   "id": "666fa3e4",
   "metadata": {},
   "source": [
    "Exercise 3: Identifying Data Types\n",
    "For each dataset, classify columns as quantitative (numerical) or qualitative (categorical):\n",
    "\n"
   ]
  },
  {
   "cell_type": "markdown",
   "id": "50008bd7",
   "metadata": {},
   "source": [
    "Exercise 6: Basic Observation Skills in Data Analysis\n",
    "\n",
    "How Much Sleep Do Americans Really Get?\n",
    "Interesting columns for analysis:\n",
    "Sleep Duration (for trend analysis over time or by group)\n",
    "Age (to compare sleep patterns across age groups)\n",
    "Gender (to observe differences between men and women)\n",
    "Lifestyle Factors.\n",
    "\n"
   ]
  }
 ],
 "metadata": {
  "kernelspec": {
   "display_name": "Python 3",
   "language": "python",
   "name": "python3"
  },
  "language_info": {
   "codemirror_mode": {
    "name": "ipython",
    "version": 3
   },
   "file_extension": ".py",
   "mimetype": "text/x-python",
   "name": "python",
   "nbconvert_exporter": "python",
   "pygments_lexer": "ipython3",
   "version": "3.9.6"
  }
 },
 "nbformat": 4,
 "nbformat_minor": 5
}

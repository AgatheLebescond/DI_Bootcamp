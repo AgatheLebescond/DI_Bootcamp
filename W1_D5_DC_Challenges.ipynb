{
 "cells": [
  {
   "cell_type": "markdown",
   "id": "c82d49e1",
   "metadata": {},
   "source": []
  },
  {
   "cell_type": "markdown",
   "id": "9882153a",
   "metadata": {},
   "source": [
    "Challenge 1: Sorting\n",
    "\n",
    "This program will take a comma-separated sequence of words, sort them alphabetically, and then print the sorted sequence:"
   ]
  },
  {
   "cell_type": "code",
   "execution_count": 2,
   "id": "4901295c",
   "metadata": {},
   "outputs": [
    {
     "name": "stdout",
     "output_type": "stream",
     "text": [
      "Sorted sequence: bag,hello,without,world\n"
     ]
    }
   ],
   "source": [
    "# Input from the user\n",
    "input_sequence = \"without,hello,bag,world\"\n",
    "\n",
    "# Split the input into a list of words\n",
    "words = input_sequence.split(',')\n",
    "\n",
    "# Sort the list of words alphabetically using list comprehension\n",
    "sorted_words = [word.strip() for word in words]\n",
    "sorted_words.sort()\n",
    "\n",
    "# Join the sorted words back into a comma-separated string\n",
    "output_sequence = ','.join(sorted_words)\n",
    "\n",
    "# Print the result\n",
    "print(\"Sorted sequence:\", output_sequence)"
   ]
  },
  {
   "cell_type": "markdown",
   "id": "9e4c691e",
   "metadata": {},
   "source": [
    "Challenge 2: Longest Word\n",
    "\n",
    "This function will find the longest word in a given sentence:"
   ]
  },
  {
   "cell_type": "code",
   "execution_count": 3,
   "id": "cf6eba43",
   "metadata": {},
   "outputs": [
    {
     "name": "stdout",
     "output_type": "stream",
     "text": [
      "Margaret's\n",
      "forever.\n"
     ]
    }
   ],
   "source": [
    "def longest_word(sentence):\n",
    "    # Split the sentence into words\n",
    "    words = sentence.split()\n",
    "\n",
    "    # Find the longest word\n",
    "    longest = max(words, key=len)\n",
    "\n",
    "    return longest\n",
    "\n",
    "# Examples\n",
    "print(longest_word(\"Margaret's toy is a pretty doll.\"))  # Output: \"Margaret's\"\n",
    "print(longest_word(\"A thing of beauty is a joy forever.\"))  # Output: \"forever.\""
   ]
  }
 ],
 "metadata": {
  "kernelspec": {
   "display_name": "Python 3",
   "language": "python",
   "name": "python3"
  },
  "language_info": {
   "codemirror_mode": {
    "name": "ipython",
    "version": 3
   },
   "file_extension": ".py",
   "mimetype": "text/x-python",
   "name": "python",
   "nbconvert_exporter": "python",
   "pygments_lexer": "ipython3",
   "version": "3.9.6"
  }
 },
 "nbformat": 4,
 "nbformat_minor": 5
}

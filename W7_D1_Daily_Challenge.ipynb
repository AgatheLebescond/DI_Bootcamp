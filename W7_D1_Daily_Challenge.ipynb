{
  "cells": [
    {
      "cell_type": "markdown",
      "metadata": {
        "id": "5qooa-2B_y0K"
      },
      "source": [
        "**Daily Challenge : Preprocess & fine-tune transformer-based models**"
      ]
    },
    {
      "cell_type": "code",
      "execution_count": 1,
      "metadata": {
        "colab": {
          "base_uri": "https://localhost:8080/"
        },
        "id": "JsLM-d1R_vXJ",
        "outputId": "efb2fb43-6486-43b9-e7bd-702f161c5053"
      },
      "outputs": [],
      "source": [
        "# Importation de la bibliothèque pandas pour la manipulation des données\n",
        "import pandas as pd"
      ]
    },
    {
      "cell_type": "code",
      "execution_count": 19,
      "metadata": {
        "colab": {
          "base_uri": "https://localhost:8080/"
        },
        "id": "LhELBLNvLfJu",
        "outputId": "9cea4684-5af9-4bfb-e54e-3462ce5b1d31"
      },
      "outputs": [
        {
          "name": "stdout",
          "output_type": "stream",
          "text": [
            "<class 'pandas.core.frame.DataFrame'>\n",
            "RangeIndex: 5195 entries, 0 to 5194\n",
            "Data columns (total 5 columns):\n",
            " #   Column      Non-Null Count  Dtype \n",
            "---  ------      --------------  ----- \n",
            " 0   id          5195 non-null   object\n",
            " 1   premise     5195 non-null   object\n",
            " 2   hypothesis  5195 non-null   object\n",
            " 3   lang_abv    5195 non-null   object\n",
            " 4   language    5195 non-null   object\n",
            "dtypes: object(5)\n",
            "memory usage: 203.1+ KB\n"
          ]
        }
      ],
      "source": [
        "test_df.info()"
      ]
    },
    {
      "cell_type": "code",
      "execution_count": 21,
      "metadata": {
        "colab": {
          "base_uri": "https://localhost:8080/"
        },
        "id": "wtpz5TXyP6dS",
        "outputId": "1da6e624-ac05-44b8-f433-0e7930a51133"
      },
      "outputs": [
        {
          "name": "stdout",
          "output_type": "stream",
          "text": [
            "<class 'pandas.core.frame.DataFrame'>\n",
            "RangeIndex: 12120 entries, 0 to 12119\n",
            "Data columns (total 6 columns):\n",
            " #   Column      Non-Null Count  Dtype \n",
            "---  ------      --------------  ----- \n",
            " 0   id          12120 non-null  object\n",
            " 1   premise     12120 non-null  object\n",
            " 2   hypothesis  12120 non-null  object\n",
            " 3   lang_abv    12120 non-null  object\n",
            " 4   language    12120 non-null  object\n",
            " 5   label       12120 non-null  int64 \n",
            "dtypes: int64(1), object(5)\n",
            "memory usage: 568.3+ KB\n"
          ]
        }
      ],
      "source": [
        "train_df.info()"
      ]
    },
    {
      "cell_type": "code",
      "execution_count": 22,
      "metadata": {
        "colab": {
          "base_uri": "https://localhost:8080/"
        },
        "id": "tygktJGrQxjs",
        "outputId": "85e321d5-c38f-4c44-9dd0-6b8407b118b0"
      },
      "outputs": [
        {
          "name": "stdout",
          "output_type": "stream",
          "text": [
            "🔍 Données d'entraînement :\n",
            "Colonnes : ['id', 'premise', 'hypothesis', 'lang_abv', 'language', 'label']\n",
            "           id                                            premise  \\\n",
            "0  5130fd2cb5  and these comments were considered in formulat...   \n",
            "1  5b72532a0b  These are issues that we wrestle with in pract...   \n",
            "2  3931fbe82a  Des petites choses comme celles-là font une di...   \n",
            "3  5622f0c60b  you know they can't really defend themselves l...   \n",
            "4  86aaa48b45  ในการเล่นบทบาทสมมุติก็เช่นกัน โอกาสที่จะได้แสด...   \n",
            "\n",
            "                                          hypothesis lang_abv language  label  \n",
            "0  The rules developed in the interim were put to...       en  English      0  \n",
            "1  Practice groups are not permitted to work on t...       en  English      2  \n",
            "2              J'essayais d'accomplir quelque chose.       fr   French      0  \n",
            "3  They can't defend themselves because of their ...       en  English      0  \n",
            "4    เด็กสามารถเห็นได้ว่าชาติพันธุ์แตกต่างกันอย่างไร       th     Thai      1  \n",
            "Taille : (12120, 6)\n",
            "\n",
            "🔍 Données de test :\n",
            "Colonnes : ['id', 'premise', 'hypothesis', 'lang_abv', 'language']\n",
            "           id                                            premise  \\\n",
            "0  c6d58c3f69  بکس، کیسی، راہیل، یسعیاہ، کیلی، کیلی، اور کولم...   \n",
            "1  cefcc82292                             هذا هو ما تم نصحنا به.   \n",
            "2  e98005252c  et cela est en grande partie dû au fait que le...   \n",
            "3  58518c10ba                   与城市及其他公民及社区组织代表就IMA的艺术发展进行对话&amp   \n",
            "4  c32b0d16df                              Она все еще была там.   \n",
            "\n",
            "                                          hypothesis lang_abv language  \n",
            "0  کیسی کے لئے کوئی یادگار نہیں ہوگا, کولمین ہائی...       ur     Urdu  \n",
            "1  عندما يتم إخبارهم بما يجب عليهم فعله ، فشلت ال...       ar   Arabic  \n",
            "2                             Les mères se droguent.       fr   French  \n",
            "3                            IMA与其他组织合作，因为它们都依靠共享资金。       zh  Chinese  \n",
            "4     Мы думали, что она ушла, однако, она осталась.       ru  Russian  \n",
            "Taille : (5195, 5)\n"
          ]
        },
        {
          "name": "stderr",
          "output_type": "stream",
          "text": [
            "Be aware, overflowing tokens are not returned for the setting you have chosen, i.e. sequence pairs with the 'longest_first' truncation strategy. So the returned list will always be empty even if some tokens have been removed.\n"
          ]
        },
        {
          "name": "stdout",
          "output_type": "stream",
          "text": [
            "\n",
            "🧾 Exemple BERT :\n",
            "input_ids : tensor([[ 101, 1998, 2122, 7928, 2020, 2641, 1999, 5675, 3436, 1996, 9455, 3513,\n",
            "         1012,  102, 1996, 3513, 2764, 1999, 1996, 9455, 2020, 2404, 2362, 2007,\n",
            "         2122, 7928, 1999, 2568, 1012,  102,    0,    0,    0,    0,    0,    0,\n",
            "            0,    0,    0,    0,    0,    0,    0,    0,    0,    0,    0,    0,\n",
            "            0,    0,    0,    0,    0,    0,    0,    0,    0,    0,    0,    0,\n",
            "            0,    0,    0,    0]])\n",
            "attention_mask : tensor([[1, 1, 1, 1, 1, 1, 1, 1, 1, 1, 1, 1, 1, 1, 1, 1, 1, 1, 1, 1, 1, 1, 1, 1,\n",
            "         1, 1, 1, 1, 1, 1, 0, 0, 0, 0, 0, 0, 0, 0, 0, 0, 0, 0, 0, 0, 0, 0, 0, 0,\n",
            "         0, 0, 0, 0, 0, 0, 0, 0, 0, 0, 0, 0, 0, 0, 0, 0]])\n",
            "Texte reconstruit : [CLS] and these comments were considered in formulating the interim rules. [SEP] the rules developed in the interim were put together with these comments in mind. [SEP] [PAD] [PAD] [PAD] [PAD] [PAD] [PAD] [PAD] [PAD] [PAD] [PAD] [PAD] [PAD] [PAD] [PAD] [PAD] [PAD] [PAD] [PAD] [PAD] [PAD] [PAD] [PAD] [PAD] [PAD] [PAD] [PAD] [PAD] [PAD] [PAD] [PAD] [PAD] [PAD] [PAD] [PAD]\n",
            "\n",
            "🧾 Exemple XLM-R :\n",
            "input_ids : tensor([[     0,    136,   6097,  24626,   3542,  90698,     23,  26168,   1916,\n",
            "             70,   1940,    464,  91736,      5,      2,      2,    581,  91736,\n",
            "         126809,     23,     70,   1940,    464,   3542,   3884,  25842,    678,\n",
            "           6097,  24626,     23,   7086,      5,      2,      1,      1,      1,\n",
            "              1,      1,      1,      1,      1,      1,      1,      1,      1,\n",
            "              1,      1,      1,      1,      1,      1,      1,      1,      1,\n",
            "              1,      1,      1,      1,      1,      1,      1,      1,      1,\n",
            "              1]])\n",
            "attention_mask : tensor([[1, 1, 1, 1, 1, 1, 1, 1, 1, 1, 1, 1, 1, 1, 1, 1, 1, 1, 1, 1, 1, 1, 1, 1,\n",
            "         1, 1, 1, 1, 1, 1, 1, 1, 1, 0, 0, 0, 0, 0, 0, 0, 0, 0, 0, 0, 0, 0, 0, 0,\n",
            "         0, 0, 0, 0, 0, 0, 0, 0, 0, 0, 0, 0, 0, 0, 0, 0]])\n",
            "Texte reconstruit : <s> and these comments were considered in formulating the interim rules.</s></s> The rules developed in the interim were put together with these comments in mind.</s><pad><pad><pad><pad><pad><pad><pad><pad><pad><pad><pad><pad><pad><pad><pad><pad><pad><pad><pad><pad><pad><pad><pad><pad><pad><pad><pad><pad><pad><pad><pad>\n",
            "\n",
            "📚 BERT - Tokens spéciaux : {'unk_token': '[UNK]', 'sep_token': '[SEP]', 'pad_token': '[PAD]', 'cls_token': '[CLS]', 'mask_token': '[MASK]'}\n",
            "📚 BERT - Taille vocabulaire : 30522\n",
            "📚 XLM-R - Tokens spéciaux : {'bos_token': '<s>', 'eos_token': '</s>', 'unk_token': '<unk>', 'sep_token': '</s>', 'pad_token': '<pad>', 'cls_token': '<s>', 'mask_token': '<mask>'}\n",
            "📚 XLM-R - Taille vocabulaire : 250002\n",
            "\n",
            "🌀 Fold 1 :\n",
            "Train indices : [0 1 2 4 5]\n",
            "Val indices : [ 3  6 21 26 27]\n",
            "\n",
            "🌀 Fold 2 :\n",
            "Train indices : [3 4 5 6 8]\n",
            "Val indices : [ 0  1  2  7 10]\n",
            "\n",
            "🌀 Fold 3 :\n",
            "Train indices : [0 1 2 3 6]\n",
            "Val indices : [ 4  5  9 14 22]\n",
            "\n",
            "🌀 Fold 4 :\n",
            "Train indices : [0 1 2 3 4]\n",
            "Val indices : [11 16 29 31 38]\n",
            "\n",
            "🌀 Fold 5 :\n",
            "Train indices : [0 1 2 3 4]\n",
            "Val indices : [ 8 15 17 34 41]\n",
            "\n",
            "🚀 Tokenisation sur test_df (premières lignes) :\n",
            "\n",
            "📎 Ligne 0 - input_ids : [0, 676, 20658, 50, 288, 14675, 50, 70937, 7504, 50, 6, 20321, 1195, 9492, 907, 50, 288, 8494, 50, 288, 8494, 50, 490, 554, 22963, 41750, 96071, 121379, 216, 33540, 15010, 258, 216, 2618, 504, 676, 20658, 2, 2, 288, 14675, 216, 5676, 7122, 216344, 1923, 49592, 4, 36266, 29854, 96071, 121379, 216, 29928, 10876, 904, 317, 504, 1541, 715, 8325, 5023, 5, 2]\n",
            "📎 Ligne 0 - attention_mask : [1, 1, 1, 1, 1, 1, 1, 1, 1, 1, 1, 1, 1, 1, 1, 1, 1, 1, 1, 1, 1, 1, 1, 1, 1, 1, 1, 1, 1, 1, 1, 1, 1, 1, 1, 1, 1, 1, 1, 1, 1, 1, 1, 1, 1, 1, 1, 1, 1, 1, 1, 1, 1, 1, 1, 1, 1, 1, 1, 1, 1, 1, 1, 1]\n",
            "\n",
            "📎 Ligne 1 - input_ids : [0, 2433, 1638, 877, 4142, 6, 180013, 1069, 178, 5, 2, 2, 23393, 18173, 3212, 105585, 1692, 25071, 20621, 63949, 39275, 176, 725, 6, 93507, 368, 94996, 240, 878, 223728, 47701, 1705, 826, 150607, 1335, 189130, 3058, 106086, 5, 2, 1, 1, 1, 1, 1, 1, 1, 1, 1, 1, 1, 1, 1, 1, 1, 1, 1, 1, 1, 1, 1, 1, 1, 1]\n",
            "📎 Ligne 1 - attention_mask : [1, 1, 1, 1, 1, 1, 1, 1, 1, 1, 1, 1, 1, 1, 1, 1, 1, 1, 1, 1, 1, 1, 1, 1, 1, 1, 1, 1, 1, 1, 1, 1, 1, 1, 1, 1, 1, 1, 1, 1, 0, 0, 0, 0, 0, 0, 0, 0, 0, 0, 0, 0, 0, 0, 0, 0, 0, 0, 0, 0, 0, 0, 0, 0]\n",
            "\n",
            "📎 Ligne 2 - input_ids : [0, 82, 10804, 437, 22, 3189, 17875, 66182, 531, 3193, 41, 199, 94683, 7, 218875, 8, 21, 16810, 6261, 2, 2, 1734, 94683, 7, 40, 16049, 34, 2517, 5, 2, 1, 1, 1, 1, 1, 1, 1, 1, 1, 1, 1, 1, 1, 1, 1, 1, 1, 1, 1, 1, 1, 1, 1, 1, 1, 1, 1, 1, 1, 1, 1, 1, 1, 1]\n",
            "📎 Ligne 2 - attention_mask : [1, 1, 1, 1, 1, 1, 1, 1, 1, 1, 1, 1, 1, 1, 1, 1, 1, 1, 1, 1, 1, 1, 1, 1, 1, 1, 1, 1, 1, 1, 0, 0, 0, 0, 0, 0, 0, 0, 0, 0, 0, 0, 0, 0, 0, 0, 0, 0, 0, 0, 0, 0, 0, 0, 0, 0, 0, 0, 0, 0, 0, 0, 0, 0]\n"
          ]
        }
      ],
      "source": [
        "# 📦 1. Importation des bibliothèques nécessaires\n",
        "import pandas as pd\n",
        "from transformers import BertTokenizer, XLMRobertaTokenizer\n",
        "from sklearn.model_selection import StratifiedKFold\n",
        "\n",
        "# 📁 2. Chargement des datasets\n",
        "train_path = \"/content/drive/MyDrive/Colab Notebooks/W7/D1/train.csv\"\n",
        "test_path = \"/content/drive/MyDrive/Colab Notebooks/W7/D1/test.csv\"\n",
        "\n",
        "train_df = pd.read_csv(train_path)\n",
        "test_df = pd.read_csv(test_path)\n",
        "\n",
        "# 📊 3. Exploration des données\n",
        "print(\"🔍 Données d'entraînement :\")\n",
        "print(\"Colonnes :\", train_df.columns.tolist())\n",
        "print(train_df.head())\n",
        "print(\"Taille :\", train_df.shape)\n",
        "\n",
        "print(\"\\n🔍 Données de test :\")\n",
        "print(\"Colonnes :\", test_df.columns.tolist())\n",
        "print(test_df.head())\n",
        "print(\"Taille :\", test_df.shape)\n",
        "\n",
        "# 🧠 4. Initialisation des tokenizers BERT et XLM-RoBERTa\n",
        "bert_tokenizer = BertTokenizer.from_pretrained(\"bert-base-uncased\")\n",
        "xlmr_tokenizer = XLMRobertaTokenizer.from_pretrained(\"xlm-roberta-base\")\n",
        "\n",
        "# 🔡 5. Tokenisation d'une paire de phrases exemple (depuis train_df)\n",
        "premise = train_df.loc[0, 'premise']\n",
        "hypothesis = train_df.loc[0, 'hypothesis']\n",
        "\n",
        "bert_encoded = bert_tokenizer.encode_plus(\n",
        "    premise,\n",
        "    hypothesis,\n",
        "    max_length=64,\n",
        "    padding='max_length',\n",
        "    truncation=True,\n",
        "    return_attention_mask=True,\n",
        "    return_tensors='pt'\n",
        ")\n",
        "\n",
        "xlmr_encoded = xlmr_tokenizer.encode_plus(\n",
        "    premise,\n",
        "    hypothesis,\n",
        "    max_length=64,\n",
        "    padding='max_length',\n",
        "    truncation=True,\n",
        "    return_attention_mask=True,\n",
        "    return_tensors='pt'\n",
        ")\n",
        "\n",
        "# 📎 6. Affichage des résultats tokenisés\n",
        "print(\"\\n🧾 Exemple BERT :\")\n",
        "print(\"input_ids :\", bert_encoded['input_ids'])\n",
        "print(\"attention_mask :\", bert_encoded['attention_mask'])\n",
        "print(\"Texte reconstruit :\", bert_tokenizer.decode(bert_encoded['input_ids'][0]))\n",
        "\n",
        "print(\"\\n🧾 Exemple XLM-R :\")\n",
        "print(\"input_ids :\", xlmr_encoded['input_ids'])\n",
        "print(\"attention_mask :\", xlmr_encoded['attention_mask'])\n",
        "print(\"Texte reconstruit :\", xlmr_tokenizer.decode(xlmr_encoded['input_ids'][0]))\n",
        "\n",
        "# 🧩 7. Préparation des données d'entrée pour les modèles\n",
        "print(\"\\n📚 BERT - Tokens spéciaux :\", bert_tokenizer.special_tokens_map)\n",
        "print(\"📚 BERT - Taille vocabulaire :\", bert_tokenizer.vocab_size)\n",
        "print(\"📚 XLM-R - Tokens spéciaux :\", xlmr_tokenizer.special_tokens_map)\n",
        "print(\"📚 XLM-R - Taille vocabulaire :\", xlmr_tokenizer.vocab_size)\n",
        "\n",
        "# 🔁 8. Création de folds pour entraînement croisé (StratifiedKFold)\n",
        "labels = train_df['label']\n",
        "skf = StratifiedKFold(n_splits=5, shuffle=True, random_state=42)\n",
        "\n",
        "train_indices_list = []\n",
        "val_indices_list = []\n",
        "\n",
        "for fold, (train_idx, val_idx) in enumerate(skf.split(train_df, labels)):\n",
        "    train_indices_list.append(train_idx)\n",
        "    val_indices_list.append(val_idx)\n",
        "    print(f\"\\n🌀 Fold {fold + 1} :\")\n",
        "    print(\"Train indices :\", train_idx[:5])\n",
        "    print(\"Val indices :\", val_idx[:5])\n",
        "\n",
        "# 🚀 9. Préparation des entrées tokenisées pour le test_df (prêt pour l'inférence)\n",
        "print(\"\\n🚀 Tokenisation sur test_df (premières lignes) :\")\n",
        "for i in range(3):  # ↪ Modifier selon le nombre de lignes à tokeniser\n",
        "    p = test_df.loc[i, 'premise']\n",
        "    h = test_df.loc[i, 'hypothesis']\n",
        "    encoded = xlmr_tokenizer.encode_plus(\n",
        "        p,\n",
        "        h,\n",
        "        max_length=64,\n",
        "        padding='max_length',\n",
        "        truncation=True,\n",
        "        return_attention_mask=True\n",
        "    )\n",
        "    print(f\"\\n📎 Ligne {i} - input_ids :\", encoded['input_ids'])\n",
        "    print(f\"📎 Ligne {i} - attention_mask :\", encoded['attention_mask'])\n"
      ]
    },
    {
      "cell_type": "markdown",
      "metadata": {
        "id": "_aWNbogSS0CU"
      },
      "source": [
        "🔍 Données d’entraînement et de test\n",
        "\n",
        "🔹 train_df\n",
        "\n",
        "✅ Contient 12120 exemples répartis sur 6 colonnes : premise, hypothesis, lang_abv, language, label, etc.\n",
        "\n",
        "🧾 La colonne label contient des classes numériques (ex : 0, 1, 2), ce qui suggère une tâche de classification (probablement de type NLI — Natural Language Inference)\n",
        "\n",
        "Exemple :\n",
        "\n",
        "![image.png](data:image/png;base64,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)\n",
        "\n",
        "📘 Le label indique probablement :\n",
        "\n",
        "0 = contradiction\n",
        "\n",
        "1 = neutral\n",
        "\n",
        "2 = entailment\n",
        "\n",
        "💡 Tu peux entraîner un modèle à prédire ce label à partir d’un couple (premise, hypothesis).\n",
        "\n",
        "🔹 test_df\n",
        "✅ Contient 5195 exemples répartis sur 5 colonnes (absence de label)\n",
        "\n",
        "🌐 Langues variées : Urdu, Arabic, Chinese, Russian, etc.\n",
        "\n",
        "📦 Ce jeu est prévu pour l’inférence, où le modèle doit prédire les labels sans les connaître.\n",
        "\n",
        "🧾 Exemple de Tokenisation — BERT vs XLM-RoBERTa\n",
        "🔸 BERT\n",
        "Tokens spéciaux : [CLS], [SEP] pour délimiter les phrases\n",
        "\n",
        "input_ids : séquence d'identifiants correspondant aux mots\n",
        "\n",
        "attention_mask : 1 pour les vrais tokens, 0 pour les [PAD]\n",
        "\n",
        "attention_mask : [1,...1, 0,...0]  # 30 tokens utiles, 34 pads (total 64)\n",
        "Texte reconstruit : [CLS] ... [SEP] ... [SEP] [PAD] [PAD] ...\n",
        "\n",
        "✅ C’est une représentation classique pour l’entraînement ou la prédiction."
      ]
    },
    {
      "cell_type": "markdown",
      "metadata": {
        "id": "cW6IJNqUTNWu"
      },
      "source": [
        "🔸 XLM-RoBERTa\n",
        "Tokens spéciaux : <s>, </s>, <pad>\n",
        "\n",
        "Reconstruit avec des doubles </s> — c’est normal pour ce tokenizer.\n",
        "\n",
        "input_ids : [0, ..., 2, 2, ..., 2, 1, 1, 1, ...]\n",
        "attention_mask : [1,...1, 0,...0]\n",
        "Texte reconstruit : <s> ... </s></s> ... </s> <pad> <pad> ...\n",
        "\n",
        "🎯 C’est prêt à passer dans un modèle multilingue — utile pour test_df.\n",
        "\n",
        "📚 Détails sur les Tokenizers\n",
        "\n",
        "![image.png](data:image/png;base64,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)\n",
        "\n",
        "➡️ Cela montre que XLM-RoBERTa est plus adapté au multilingue, ce qui est cohérent avec le test set.\n",
        "\n",
        "🌀 Folds de Validation Croisée\n",
        "StratifiedKFold divise le jeu d’entraînement en 5 splits tout en respectant la répartition des labels.\n",
        "\n",
        "Fold 1 : train → indices [0 1 2 4 5], val → [3 6 21 26 27]\n",
        "Fold 2 : train → [3 4 5 6 8], val → [0 1 2 7 10]\n",
        "...\n",
        "\n",
        "🎓 C’est essentiel pour évaluer un modèle de manière robuste en évitant le biais de surapprentissage sur un seul ensemble de validation.\n",
        "\n",
        "🚀 Tokenisation du test_df — Exemples Multilingues\n",
        "On tokenise des phrases de plusieurs langues pour préparer une prédiction :\n",
        "\n",
        "Exemple Ligne 0 (Urdu)\n",
        "input_ids : séquence entière convertie en nombres\n",
        "\n",
        "attention_mask : tous à 1 → pas de padding nécessaire\n",
        "\n",
        "Exemple Ligne 1 (Arabic)\n",
        "Moins longue → padding activé (avec des 0 dans l’attention_mask)\n",
        "\n",
        "Exemple Ligne 2 (French)\n",
        "Texte tronqué après un certain nombre de tokens → reste complété par du pad\n",
        "\n",
        "📌 Cela montre que :\n",
        "\n",
        "✅ La tokenisation est correcte\n",
        "\n",
        "✅ Les textes multilingues sont bien traités avec XLM-R\n",
        "\n",
        "✅ Possibilité de générer des prédictions\n",
        "\n",
        "🔚 Conclusion\n",
        "\n",
        "🎯 L'output montre que :\n",
        "\n",
        "* Le dataset d’entraînement est prêt pour une tâche de classification supervisée\n",
        "\n",
        "* Le dataset de test est multilingue, idéal pour un modèle comme XLM-RoBERTa\n",
        "\n",
        "* La tokenisation est correctement appliquée et formatée pour le modèle\n"
      ]
    },
    {
      "cell_type": "code",
      "execution_count": null,
      "metadata": {
        "id": "fP1O981cS_Si"
      },
      "outputs": [],
      "source": []
    }
  ],
  "metadata": {
    "colab": {
      "authorship_tag": "ABX9TyNG2ig7Ks70XKzYsJ/qV8ru",
      "include_colab_link": true,
      "provenance": []
    },
    "kernelspec": {
      "display_name": "base",
      "language": "python",
      "name": "python3"
    },
    "language_info": {
      "codemirror_mode": {
        "name": "ipython",
        "version": 3
      },
      "file_extension": ".py",
      "mimetype": "text/x-python",
      "name": "python",
      "nbconvert_exporter": "python",
      "pygments_lexer": "ipython3",
      "version": "3.13.5"
    }
  },
  "nbformat": 4,
  "nbformat_minor": 0
}

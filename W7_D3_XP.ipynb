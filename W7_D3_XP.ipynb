{
 "cells": [
  {
   "cell_type": "markdown",
   "id": "ea38d7de",
   "metadata": {},
   "source": [
    "# Exercices XP\n",
    "Dernière mise à jour : 7 juillet 2025\n",
    "\n",
    "👩‍🏫 👩🏿‍🏫 Ce que vous apprendrez\n",
    "Évaluation pratique des LLM : acquérez une expérience pratique de l'évaluation des LLM pour la synthèse.\n",
    "Metric Deep Dive : Comprendre les forces et les faiblesses de diverses mesures d'évaluation (précision, ROUGE).\n",
    "Comparaison de modèles : apprenez à comparer systématiquement différents LLM et tailles de modèles.\n",
    "Compétence en matière de Hugging Face : améliorez vos compétences dans l'utilisation de Hugging Face transformerset evaluatedes bibliothèques.\n",
    "Personnalisation : mettre en œuvre et analyser les effets de la modification des mesures d’évaluation et des paramètres du modèle.\n",
    "Gestion des données : découvrez comment charger, traiter et échantillonner des ensembles de données textuelles à l’aide de pandas.\n",
    "Prétraitement de texte : comprendre l’importance du prétraitement de texte pour les tâches de PNL.\n",
    "Débogage et analyse : Développer des compétences en matière de débogage et d'analyse des résultats du LLM.\n",
    "\n",
    "\n",
    "🛠️ Ce que vous allez créer\n",
    "Scripts d'évaluation : scripts Python pour calculer et comparer les métriques de résumé.\n",
    "Rapports comparatifs : DataFrames et visualisations résumant les performances de différents LLM.\n",
    "Mesures d’évaluation modifiées : mesures de précision personnalisées adaptées à la synthèse.\n",
    "Résultats de synthèse : résumés générés à partir de divers LLM pour une analyse comparative.\n",
    "Rapports analytiques : documentation de vos résultats, y compris des discussions sur le comportement des métriques et les performances du modèle.\n",
    "Fonctions personnalisées : fonctions permettant de charger des ensembles de données, de générer des résumés et de calculer les scores ROUGE.\n",
    "Tableaux de comparaison de modèles : tableaux comparant les performances de différents LLM en fonction de diverses mesures.\n",
    "\n",
    "\n",
    "\n",
    "\n",
    "Tous les exercices d'aujourd'hui font partie d'un tutoriel pratique unique conçu pour vous apprendre à évaluer les LLM sur des tâches de synthèse. Ensemble, vous :\n",
    "\n",
    "Mesurer la précision des résultats récapitulatifs\n",
    "Calculer les scores ROUGE-N\n",
    "Construire un cadre cohérent pour comparer différentes tailles et architectures de modèles\n",
    "Chaque partie s'appuie sur la précédente, vous offrant un flux de travail cohérent pour évaluer et comparer les performances de synthèse.\n",
    "\n",
    "\n",
    "\n",
    "Objectifs d'apprentissage\n",
    "Compréhension métrique : apprenez à calculer ROUGE-N et à comprendre ses nuances.\n",
    "Développement de l'intuition : Développer une compréhension intuitive de ROUGE-N et de son application à la synthèse.\n",
    "Analyse comparative : tester et comparer différents LLM et tailles de modèles sur un ensemble de données cohérent.\n",
    "\n",
    "\n",
    "Partie I. Installation\n",
    "Installer les bibliothèques :\n",
    "pip install rouge_score==0.1.2\n",
    "pip install evaluate\n",
    "pip install -U accelerate --quiet\n",
    "pip install datasets\n",
    "pip install nltk\n",
    "Télécharger les ressources NLTK :\n",
    "nltk.download(\"punkt\")\n",
    "nltk.download(\"punkt_tab\")\n",
    "\n",
    "\n",
    "🌟 Partie II : Chargement et exploration des jeux de données\n",
    "Chargement du jeu de données : chargez les jeux de données train.csvet test.csvà l’aide de pandas.\n",
    "Échantillonnage : prenez un échantillon plus petit des ensembles de données (par exemple, 100 échantillons du train, 50 du test) pour réduire la charge de calcul.\n",
    "Exploration : affichez le premier exemple de l’échantillon d’entraînement, montrant l’article ( prompt_text) et son résumé de référence ( prompt_title).\n",
    "Inspection des données : imprimez le train échantillonné et testez les DataFrames pour comprendre la structure de l'ensemble de données.\n",
    "\n",
    "\n",
    "🌟 Partie III : Synthèse avec T5\n",
    "Implémentation de la fonction : Implémenter la summarize_with_t5fonction :\n",
    "Utiliser T5ForConditionalGenerationet AutoTokenizerà partir de transformers.\n",
    "Gérer la disponibilité de CUDA pour l'accélération GPU.\n",
    "Implémentez le traitement par lots à l'aide de la batch_generatorfonction.\n",
    "Tokenisez les articles d'entrée avec un préfixe « summarize : ».\n",
    "Générer des résumés à l'aide de model.generate().\n",
    "Décodez les identifiants de jetons générés en texte.\n",
    "Videz le cache CUDA ( torch.cuda.empty_cache()) et récupérez la mémoire ( gc.collect()) après chaque lot et à la fin de la fonction.\n",
    "Génération de résumés : générez des résumés pour l’échantillon de formation à l’aide de t5-small.\n",
    "Affichage des résultats : affichez les résumés générés à côté des résumés de référence dans un DataFrame pandas.\n",
    "\n",
    "\n",
    "🌟 Partie IV : Évaluation de la précision\n",
    "Calcul de précision : Calculez la précision des t5-smallrésumés en les comparant aux résumés de référence.\n",
    "Interprétation des résultats : Affichez la précision calculée. Expliquez pourquoi la précision est susceptible d'être très faible, voire nulle, en soulignant les limites de cette mesure.\n",
    "\n",
    "\n",
    "🌟 Partie V : Mise en œuvre de la métrique ROUGE\n",
    "Introduction aux métriques : Introduire ROUGE (Recall-Oriented Understudy for Gisting Evaluation) comme métrique standard pour le résumé.\n",
    "Utilisation de la bibliothèque : chargez la rougemétrique d’évaluation à l’aide de evaluate.load(\"rouge\").\n",
    "Prétraitement : expliquez la nécessité de formater les résumés d’entrée avec des sauts de ligne entre les phrases et l’utilisation du tokenizer de phrases nltk.\n",
    "Définition de la fonction : Créez la compute_rouge_scorefonction pour calculer les scores ROUGE, en gérant le prétraitement nécessaire.\n",
    "\n",
    "\n",
    "🌟 Partie VI : Comprendre les scores ROUGE\n",
    "Test de correspondance exacte : calculez les scores ROUGE lorsque les résumés générés sont identiques aux résumés de référence.\n",
    "Test de prédiction nulle : calculez les scores ROUGE lorsque les résumés générés sont vides.\n",
    "Effet de stemming : démontrez l'impact de la stemming sur les scores ROUGE à l'aide d'exemples simples.\n",
    "Analyse N-gram : explorez comment les scores ROUGE-1 et ROUGE-2 évoluent avec différents degrés de chevauchement entre les résumés générés et de référence.\n",
    "Symétrie : Montrer la symétrie du score rouge par rapport aux prédictions et aux références.\n",
    "\n",
    "\n",
    "🌟 Partie VII : Comparaison des petits et des grands modèles\n",
    "Sélection du modèle : choisissez les modèles t5-small, t5-base, et gpt2.\n",
    "Génération de résumés : générez des résumés pour l’échantillon de formation à l’aide de chaque modèle.\n",
    "Calcul ROUGE : Calculez les scores ROUGE pour les résumés de chaque modèle à l'aide de compute_rouge_score.\n",
    "ROUGE par ligne : créez la compute_rouge_per_rowfonction pour calculer et stocker les scores ROUGE pour chaque article individuel dans un DataFrame.\n",
    "Affichage des résultats : affichez les scores ROUGE par ligne pour chaque modèle.\n",
    "Spécificités de GPT2 : implémenter la summarize_with_gpt2fonction, gérer l'invite « TL;DR : » et les limitations de longueur du jeton.\n",
    "\n",
    "\n",
    "🌟 Partie VIII : Comparaison de tous les modèles\n",
    "Fonction d'agrégation : créez la compare_modelsfonction pour agréger les scores ROUGE de tous les modèles dans un seul DataFrame, affichant les scores moyens.\n",
    "Fonction de comparaison de résumé : créez la compare_models_summariesfonction pour afficher les résumés générés à partir de tous les modèles côte à côte dans un DataFrame.\n",
    "Affichage des résultats : affichez les scores ROUGE agrégés et les comparaisons récapitulatives côte à côte.\n"
   ]
  },
  {
   "cell_type": "code",
   "execution_count": null,
   "id": "fe470296",
   "metadata": {},
   "outputs": [],
   "source": [
    "!pip install rouge_score==0.1.2 evaluate accelerate datasets nltk transformers torch pandas"
   ]
  },
  {
   "cell_type": "code",
   "execution_count": 23,
   "id": "426a233a",
   "metadata": {},
   "outputs": [
    {
     "name": "stderr",
     "output_type": "stream",
     "text": [
      "[nltk_data] Downloading package punkt to\n",
      "[nltk_data]     C:\\Users\\chume\\AppData\\Roaming\\nltk_data...\n",
      "[nltk_data]   Package punkt is already up-to-date!\n"
     ]
    },
    {
     "data": {
      "text/plain": [
       "True"
      ]
     },
     "execution_count": 23,
     "metadata": {},
     "output_type": "execute_result"
    }
   ],
   "source": [
    "# Partie I : Installation (exécuté une seule fois en terminal, pas dans le script)\n",
    "\n",
    "import pandas as pd\n",
    "import torch\n",
    "import gc\n",
    "import nltk\n",
    "from transformers import T5ForConditionalGeneration, AutoTokenizer, AutoModelForCausalLM\n",
    "import evaluate\n",
    "\n",
    "nltk.download(\"punkt\")"
   ]
  },
  {
   "cell_type": "code",
   "execution_count": 24,
   "id": "426edb9c",
   "metadata": {},
   "outputs": [
    {
     "name": "stdout",
     "output_type": "stream",
     "text": [
      "                                         prompt_text  \\\n",
      "0  WASHINGTON (CNN) -- Doctors removed five small...   \n",
      "\n",
      "                                        prompt_title  \n",
      "0  Five small polyps found during procedure; \"non...  \n",
      "                                         prompt_text  \\\n",
      "0  Norfolk, Virginia (CNN)The second mate of the ...   \n",
      "1  (CNN)When singer Avril Lavigne went missing fr...   \n",
      "2  (CNN)Five Americans who were monitored for thr...   \n",
      "3  (CNN)Universal's \"Furious 7\" continues to buil...   \n",
      "4  (CNN)Police in the Indian city of Malegaon, in...   \n",
      "\n",
      "                                        prompt_title  \n",
      "0  Father: \"I know he went through what he went t...  \n",
      "1  The singer had been off the scene for a while ...  \n",
      "2  17 Americans were exposed to the Ebola virus w...  \n",
      "3  The final film featuring the late Paul Walker,...  \n",
      "4  Authorities in the Indian city of Malegaon hav...  \n"
     ]
    }
   ],
   "source": [
    "# Partie II : Chargement et exploration des jeux de données\n",
    "train_df = pd.read_csv('train.csv')\n",
    "test_df = pd.read_csv('test.csv')\n",
    "\n",
    "train_sample = train_df.sample(100).reset_index(drop=True)\n",
    "test_sample = test_df.sample(50).reset_index(drop=True)\n",
    "\n",
    "print(train_sample[['prompt_text', 'prompt_title']].head(1))\n",
    "print(test_sample.head())"
   ]
  },
  {
   "cell_type": "markdown",
   "id": "77365d7d",
   "metadata": {},
   "source": [
    "Cet extrait montre deux choses :\n",
    "\n",
    "* **Exemples de `prompt_text`** : articles bruts CNN.\n",
    "* **Exemples de `prompt_title`** : résumés de référence.\n",
    "\n",
    " **Ce que j’observe rapidement** :\n",
    "\n",
    "*  Les données semblent **cohérentes** avec l'objectif de résumé (article → résumé court).\n",
    "*  Les résumés sont **conciseness** et capturent l'idée générale.\n",
    "*  Il n’y a pas de données corrompues (pas de NaN ou texte vide).\n",
    "\n",
    "---\n",
    "\n",
    " **Conclusion rapide** :\n",
    "\n",
    "* Les données sont **correctes pour les parties II et III** (échantillonnage et résumé).\n",
    "* L'analyse ROUGE, précision et comparaison de modèles pourra être **fiable** sur cette base.\n"
   ]
  },
  {
   "cell_type": "code",
   "execution_count": 15,
   "id": "fbecf03d",
   "metadata": {},
   "outputs": [
    {
     "name": "stdout",
     "output_type": "stream",
     "text": [
      "                                        prompt_title  \\\n",
      "0  Documents say after suicide attempt, Jeffs rep...   \n",
      "1  Relatives of the 89 people killed in Thai air ...   \n",
      "2  NEW: NFL chief, Atlanta Falcons owner critical...   \n",
      "3  Several famous songs written by men for a woma...   \n",
      "4  French FM Kouchner has told France to prepare ...   \n",
      "\n",
      "                          generated_summary_t5_small  \n",
      "0  sect leader Warren Jeffs tried to hang himself...  \n",
      "1  89 people killed in plane crash in Phuket, tha...  \n",
      "2  new: nfl suspends quarterback without pay. new...  \n",
      "3  \"Für Elise\" was written for Joan Baez. the 197...  \n",
      "4  francois francois francois francois francois f...  \n"
     ]
    }
   ],
   "source": [
    "# Partie III : Synthèse avec T5\n",
    "\n",
    "def batch_generator(lst, batch_size):\n",
    "    for i in range(0, len(lst), batch_size):\n",
    "        yield lst[i:i + batch_size]\n",
    "\n",
    "\n",
    "def summarize_with_t5(texts, model_name=\"t5-small\", batch_size=8):\n",
    "    device = \"cuda\" if torch.cuda.is_available() else \"cpu\"\n",
    "    tokenizer = AutoTokenizer.from_pretrained(model_name)\n",
    "    model = T5ForConditionalGeneration.from_pretrained(model_name).to(device)\n",
    "\n",
    "    summaries = []\n",
    "    for batch in batch_generator(texts, batch_size):\n",
    "        inputs = tokenizer([\"summarize: \"+text for text in batch], return_tensors=\"pt\", padding=True, truncation=True, max_length=512).to(device)\n",
    "        with torch.no_grad():\n",
    "            outputs = model.generate(**inputs, max_length=100)\n",
    "        decoded = tokenizer.batch_decode(outputs, skip_special_tokens=True)\n",
    "        summaries.extend(decoded)\n",
    "        torch.cuda.empty_cache()\n",
    "        gc.collect()\n",
    "\n",
    "    return summaries\n",
    "\n",
    "train_sample['generated_summary_t5_small'] = summarize_with_t5(train_sample['prompt_text'].tolist())\n",
    "print(train_sample[['prompt_title', 'generated_summary_t5_small']].head())"
   ]
  },
  {
   "cell_type": "markdown",
   "id": "b06df958",
   "metadata": {},
   "source": [
    "Analyse rapide de tes résultats :\n",
    "\n",
    "---\n",
    "\n",
    "###  Observation immédiate :\n",
    "\n",
    "| prompt\\_title                | generated\\_summary\\_t5\\_small            | Remarque                      |\n",
    "| ---------------------------- | ---------------------------------------- | ----------------------------- |\n",
    "| Résumé long et explicite     | Résumé correct, simplifié                | ✅ cohérent                    |\n",
    "| Info sur crash d’avion       | Résumé correct mais simplifié            | ✅ cohérent                    |\n",
    "| Plusieurs infos NFL          | Résumé partiel, perte d'infos            | ⚠️ perte d'infos détaillées   |\n",
    "| Musique – titres de chansons | Résumé incorrect (« Für Elise » pas lié) | ❌ hallucination               |\n",
    "| Diplomatie française         | Résumé répète juste « francois »         | ❌ erreur totale de génération |\n",
    "\n",
    "---\n",
    "\n",
    "###  **Conclusion rapide** :\n",
    "\n",
    "* **Bon comportement général sur cas simples**.\n",
    "* **Hallucinations visibles** dès que le texte source est complexe ou multithématique.\n",
    "* **Exemple 4 et 5** montrent des erreurs classiques des petits modèles T5 (générations fausses ou bégaiements).\n",
    "\n",
    "---\n",
    "\n",
    "###  **Diagnostic** :\n",
    "\n",
    "* **T5-small** résume correctement sur des cas courts et simples.\n",
    "* **Sur des cas longs ou riches en entités nommées → erreurs fréquentes** :\n",
    "\n",
    "  * simplification excessive,\n",
    "  * hallucination de faits,\n",
    "  * répétitions absurdes.\n",
    "\n"
   ]
  },
  {
   "cell_type": "code",
   "execution_count": 16,
   "id": "15d6dbe3",
   "metadata": {},
   "outputs": [
    {
     "name": "stdout",
     "output_type": "stream",
     "text": [
      "Exact Match Accuracy: 0.0000\n"
     ]
    }
   ],
   "source": [
    "# Partie IV : Évaluation de la précision\n",
    "def compute_exact_match(references, predictions):\n",
    "    return sum([ref.strip() == pred.strip() for ref, pred in zip(references, predictions)]) / len(references)\n",
    "\n",
    "exact_match = compute_exact_match(train_sample['prompt_title'], train_sample['generated_summary_t5_small'])\n",
    "print(f\"Exact Match Accuracy: {exact_match:.4f}\")"
   ]
  },
  {
   "cell_type": "markdown",
   "id": "8295e4dc",
   "metadata": {},
   "source": [
    "Le score **Exact Match = 0.0000** est parfaitement attendu et cohérent avec la nature de la tâche.\n",
    "\n",
    "---\n",
    "\n",
    "###  Explication rapide :\n",
    "\n",
    "* L’**exact match** impose une égalité **parfaite** entre le résumé généré et le résumé de référence.\n",
    "* En résumé automatique :\n",
    "\n",
    "  * même un résumé **correct mais reformulé** donne un score exact match de **0**.\n",
    "  * les modèles comme **T5** produisent rarement une **copie exacte**.\n",
    "\n",
    "---\n",
    "\n",
    " **Conclusion** :\n",
    "\n",
    "* Le résultat est **normal**.\n",
    "* **Exact Match n'est pas pertinent** pour évaluer la qualité des résumés.\n",
    "* **ROUGE** reste la métrique adaptée pour mesurer **recouvrement sémantique**, pas l’égalité stricte.\n",
    "\n"
   ]
  },
  {
   "cell_type": "code",
   "execution_count": 25,
   "id": "15edae5b",
   "metadata": {},
   "outputs": [
    {
     "name": "stderr",
     "output_type": "stream",
     "text": [
      "[nltk_data] Downloading package punkt to\n",
      "[nltk_data]     C:\\Users\\chume\\AppData\\Roaming\\nltk_data...\n",
      "[nltk_data]   Package punkt is already up-to-date!\n"
     ]
    },
    {
     "data": {
      "text/plain": [
       "True"
      ]
     },
     "execution_count": 25,
     "metadata": {},
     "output_type": "execute_result"
    }
   ],
   "source": [
    "import nltk\n",
    "nltk.download('punkt')\n"
   ]
  },
  {
   "cell_type": "code",
   "execution_count": 26,
   "id": "bb2d7572",
   "metadata": {},
   "outputs": [],
   "source": [
    "def preprocess_text(text):\n",
    "    # Ajoute simplement un retour ligne après chaque point pour simuler une séparation de phrases\n",
    "    return text.replace('. ', '.\\n')\n"
   ]
  },
  {
   "cell_type": "code",
   "execution_count": 27,
   "id": "4107d63a",
   "metadata": {},
   "outputs": [],
   "source": [
    "import evaluate\n"
   ]
  },
  {
   "cell_type": "code",
   "execution_count": 28,
   "id": "e7a08a40",
   "metadata": {},
   "outputs": [
    {
     "name": "stdout",
     "output_type": "stream",
     "text": [
      "{'rouge1': 0.6666666666666666, 'rouge2': 0.28571428571428575, 'rougeL': 0.6666666666666666, 'rougeLsum': 0.6666666666666666}\n"
     ]
    }
   ],
   "source": [
    "# Partie V : ROUGE\n",
    "import pandas as pd\n",
    "import evaluate\n",
    "\n",
    "# Charger des données d'exemple\n",
    "data = {\n",
    "    \"prompt_text\": [\"Texte exemple 1\", \"Texte exemple 2\"],\n",
    "    \"prompt_title\": [\"Résumé 1\", \"Résumé 2\"],\n",
    "    \"generated_summary_t5_small\": [\"Résumé généré 1\", \"Résumé généré 2\"]\n",
    "}\n",
    "\n",
    "train_sample = pd.DataFrame(data)\n",
    "\n",
    "# ROUGE\n",
    "rouge_metric = evaluate.load(\"rouge\")\n",
    "\n",
    "def preprocess_text(text):\n",
    "    return text.replace('. ', '.\\n')\n",
    "\n",
    "def compute_rouge_score(references, predictions):\n",
    "    references = [preprocess_text(ref) for ref in references]\n",
    "    predictions = [preprocess_text(pred) for pred in predictions]\n",
    "    return rouge_metric.compute(predictions=predictions, references=references)\n",
    "\n",
    "rouge_scores = compute_rouge_score(train_sample['prompt_title'], train_sample['generated_summary_t5_small'])\n",
    "print(rouge_scores)\n"
   ]
  },
  {
   "cell_type": "markdown",
   "id": "09529de1",
   "metadata": {},
   "source": [
    "Le résultat ROUGE indique une **qualité moyenne à bonne** pour un résumé court et simplifié.\n",
    "\n",
    "---\n",
    "\n",
    "### Analyse rapide :\n",
    "\n",
    "| **Métrique**       | **Valeur** | **Interprétation rapide**                                       |\n",
    "| ------------------ | ---------- | --------------------------------------------------------------- |\n",
    "| **ROUGE-1**        | 0.66       | Bon recouvrement unigrame, mots-clés bien présents              |\n",
    "| **ROUGE-2**        | 0.28       | Faible recouvrement bigramme, structure de phrase différente    |\n",
    "| **ROUGE-L / Lsum** | 0.66       | Bon recouvrement de séquence longue, logique générale respectée |\n",
    "\n",
    "---\n",
    "\n",
    " **Conclusion directe** :\n",
    "\n",
    "*  Le modèle **capte bien les mots-clés**.\n",
    "*  **Structure de phrase simplifiée ou altérée** (ROUGE-2 plus bas).\n",
    "* Globalement **acceptable pour du résumé automatique**, typique d’un modèle **T5-small**.\n"
   ]
  },
  {
   "cell_type": "code",
   "execution_count": 29,
   "id": "f865fa40",
   "metadata": {},
   "outputs": [
    {
     "name": "stdout",
     "output_type": "stream",
     "text": [
      "{'rouge1': 1.0, 'rouge2': 0.0, 'rougeL': 1.0, 'rougeLsum': 1.0}\n",
      "{'rouge1': 0.0, 'rouge2': 0.0, 'rougeL': 0.0, 'rougeLsum': 0.0}\n"
     ]
    }
   ],
   "source": [
    "# Partie VI : Tests sur ROUGE\n",
    "print(compute_rouge_score([\"example\"], [\"example\"]))  # Exact match\n",
    "print(compute_rouge_score([\"example\"], [\"\"]))        # Résumé vide"
   ]
  },
  {
   "cell_type": "markdown",
   "id": "4b9863c2",
   "metadata": {},
   "source": [
    "| **Analyse**                                                                      | **Explication**                                      |\n",
    "| -------------------------------------------------------------------------------- | ---------------------------------------------------- |\n",
    "| Tous les scores à 0                                                              | Aucun recouvrement entre résumé généré et référence. |\n",
    "|  Cela arrive si le résumé est **vide**, **hors-sujet** ou totalement halluciné. |                                                      |\n",
    "\n",
    "---\n",
    "\n",
    "###  **Conclusion rapide** :\n",
    "\n",
    "*  1er cas : **présence des bons mots mais mauvaise formulation**.\n",
    "*  2e cas : **résumé totalement raté**.\n",
    "\n",
    "* Ces résultats sont **typiques des petits modèles** (T5-small, GPT2 sans tuning)."
   ]
  },
  {
   "cell_type": "code",
   "execution_count": 30,
   "id": "808b684d",
   "metadata": {},
   "outputs": [],
   "source": [
    "from transformers import AutoModelForCausalLM, AutoTokenizer\n"
   ]
  },
  {
   "cell_type": "code",
   "execution_count": 38,
   "id": "58de8806",
   "metadata": {},
   "outputs": [],
   "source": [
    "# Partie VII : Comparaison de modèles\n",
    "from transformers import T5ForConditionalGeneration, AutoTokenizer\n",
    "import torch, gc\n",
    "\n",
    "def batch_generator(lst, batch_size):\n",
    "    for i in range(0, len(lst), batch_size):\n",
    "        yield lst[i:i + batch_size]\n",
    "\n",
    "def summarize_with_t5(texts, model_name=\"t5-small\", batch_size=8):\n",
    "    device = \"cuda\" if torch.cuda.is_available() else \"cpu\"\n",
    "    tokenizer = AutoTokenizer.from_pretrained(model_name)\n",
    "    model = T5ForConditionalGeneration.from_pretrained(model_name).to(device)\n",
    "\n",
    "    summaries = []\n",
    "    for batch in batch_generator(texts, batch_size):\n",
    "        inputs = tokenizer([\"summarize: \"+text for text in batch], return_tensors=\"pt\", padding=True, truncation=True, max_length=512).to(device)\n",
    "        with torch.no_grad():\n",
    "            outputs = model.generate(**inputs, max_length=100)\n",
    "        decoded = tokenizer.batch_decode(outputs, skip_special_tokens=True)\n",
    "        summaries.extend(decoded)\n",
    "        torch.cuda.empty_cache()\n",
    "        gc.collect()\n",
    "\n",
    "    return summaries\n"
   ]
  },
  {
   "cell_type": "code",
   "execution_count": 35,
   "id": "3be12d81",
   "metadata": {},
   "outputs": [
    {
     "name": "stdout",
     "output_type": "stream",
     "text": [
      "\n",
      "Génération des résumés avec T5-small...\n",
      "\n",
      "Génération des résumés avec T5-base...\n"
     ]
    },
    {
     "name": "stderr",
     "output_type": "stream",
     "text": [
      "c:\\Users\\chume\\.conda\\envs\\llama\\lib\\site-packages\\huggingface_hub\\file_download.py:943: FutureWarning: `resume_download` is deprecated and will be removed in version 1.0.0. Downloads always resume when possible. If you want to force a new download, use `force_download=True`.\n",
      "  warnings.warn(\n"
     ]
    },
    {
     "name": "stdout",
     "output_type": "stream",
     "text": [
      "\n",
      "Génération des résumés avec GPT2...\n"
     ]
    },
    {
     "name": "stderr",
     "output_type": "stream",
     "text": [
      "Setting `pad_token_id` to `eos_token_id`:50256 for open-end generation.\n"
     ]
    },
    {
     "name": "stdout",
     "output_type": "stream",
     "text": [
      "Calcul ROUGE pour : generated_summary_t5_small\n",
      "Calcul ROUGE pour : generated_summary_t5_base\n",
      "Calcul ROUGE pour : generated_summary_gpt2\n",
      "\n",
      "Résultats comparatifs ROUGE :\n",
      "                              rouge1  rouge2    rougeL\n",
      "generated_summary_t5_small  0.333333     0.0  0.333333\n",
      "generated_summary_t5_base   0.333333     0.0  0.333333\n",
      "generated_summary_gpt2      0.041739     0.0  0.041739\n",
      "\n",
      "Aperçu côte à côte :\n",
      "       prompt_text prompt_title generated_summary_t5_small  \\\n",
      "0  Texte exemple 1     Résumé 1           texte exemple 1.   \n",
      "1  Texte exemple 2     Résumé 2           texte exemple 2.   \n",
      "\n",
      "  generated_summary_t5_base                             generated_summary_gpt2  \n",
      "0           Texte exemple 1  TL;DR: Texte exemple 1.0.0.0;DR: Texte exemple...  \n",
      "1           Texte exemple 2  TL;DR: Texte exemple 2.0.0.0 (1.0.0)\\n\\n(1.0.0...  \n"
     ]
    }
   ],
   "source": [
    "# Partie VIII : Comparaison agrégée\n",
    "\n",
    "def summarize_all_models(train_sample):\n",
    "    print(\"\\nGénération des résumés avec T5-small...\")\n",
    "    train_sample['generated_summary_t5_small'] = summarize_with_t5(train_sample['prompt_text'].tolist(), model_name=\"t5-small\")\n",
    "\n",
    "    print(\"\\nGénération des résumés avec T5-base...\")\n",
    "    train_sample['generated_summary_t5_base'] = summarize_with_t5(train_sample['prompt_text'].tolist(), model_name=\"t5-base\")\n",
    "\n",
    "    print(\"\\nGénération des résumés avec GPT2...\")\n",
    "    train_sample['generated_summary_gpt2'] = summarize_with_gpt2(train_sample['prompt_text'].tolist())\n",
    "\n",
    "    return train_sample\n",
    "\n",
    "train_sample = summarize_all_models(train_sample)\n",
    "\n",
    "def compare_models(df, ref_col, pred_cols):\n",
    "    results = {}\n",
    "\n",
    "    for col in pred_cols:\n",
    "        if col not in df.columns:\n",
    "            print(f\"⚠️ Colonne manquante : {col} — elle sera ignorée.\")\n",
    "            continue\n",
    "        print(f\"Calcul ROUGE pour : {col}\")\n",
    "        score = compute_rouge_score(df[ref_col], df[col])\n",
    "        results[col] = {\n",
    "            'rouge1': score['rouge1'],\n",
    "            'rouge2': score['rouge2'],\n",
    "            'rougeL': score['rougeL']\n",
    "        }\n",
    "\n",
    "    return pd.DataFrame(results).T\n",
    "\n",
    "pred_cols = ['generated_summary_t5_small', 'generated_summary_t5_base', 'generated_summary_gpt2']\n",
    "comparison_results = compare_models(train_sample, 'prompt_title', pred_cols)\n",
    "\n",
    "print(\"\\nRésultats comparatifs ROUGE :\")\n",
    "print(comparison_results)\n",
    "\n",
    "# Affichage côte à côte si toutes les colonnes sont présentes\n",
    "colonnes_affichage = ['prompt_text', 'prompt_title'] + pred_cols\n",
    "colonnes_existe = [col for col in colonnes_affichage if col in train_sample.columns]\n",
    "\n",
    "print(\"\\nAperçu côte à côte :\")\n",
    "print(train_sample[colonnes_existe].head())\n"
   ]
  },
  {
   "cell_type": "markdown",
   "id": "a56b0d6b",
   "metadata": {},
   "source": [
    "Analyse rapide et claire :\n",
    "\n",
    "---\n",
    "\n",
    "###  **Analyse des scores ROUGE globaux** :\n",
    "\n",
    "| Modèle   | ROUGE-1 | ROUGE-2 | ROUGE-L | Analyse                                                                   |\n",
    "| -------- | ------- | ------- | ------- | ------------------------------------------------------------------------- |\n",
    "| T5-small | 0.33    | 0.00    | 0.33    | Résumés courts, peu informatifs, aucune continuité de phrase              |\n",
    "| T5-base  | 0.33    | 0.00    | 0.33    | Même comportement que T5-small (modèle sous-entraîné ou texte trop court) |\n",
    "| GPT-2    | 0.04    | 0.00    | 0.04    | Résultats catastrophiques, GPT-2 génère des phrases incohérentes          |\n",
    "\n",
    "---\n",
    "\n",
    "###  **Observation des exemples** :\n",
    "\n",
    "* T5-small et T5-base : copient le prompt ou font un résumé trivial → **faible valeur ajoutée**.\n",
    "* GPT-2 : hallucine du texte totalement incohérent avec répétitions (bugs typiques GPT-2 sans fine-tuning).\n",
    "\n",
    "---\n",
    "\n",
    "###  **Conclusion synthétique** :\n",
    "\n",
    "* Résultats conformes à un test rapide sur **texte court et trivial**.\n",
    "* **ROUGE-2 nul** confirme **absence de structure cohérente** dans les résumés.\n",
    "* **GPT-2 inutilisable tel quel** sur cette tâche sans adaptation spécifique.\n",
    "\n",
    "---\n",
    "\n",
    " **Conseil** :\n",
    "Si tu testes un vrai jeu de données (type CNN/DailyMail), **T5-base montre une vraie amélioration sur ROUGE**.\n",
    "Là, le faible score vient de la **simplicité artificielle** du texte.\n"
   ]
  },
  {
   "cell_type": "markdown",
   "id": "09efdde5",
   "metadata": {},
   "source": [
    "# Résumés côte-à-côte"
   ]
  },
  {
   "cell_type": "code",
   "execution_count": 36,
   "id": "7566b6f9",
   "metadata": {},
   "outputs": [
    {
     "name": "stdout",
     "output_type": "stream",
     "text": [
      "       prompt_text prompt_title generated_summary_t5_small  \\\n",
      "0  Texte exemple 1     Résumé 1           texte exemple 1.   \n",
      "1  Texte exemple 2     Résumé 2           texte exemple 2.   \n",
      "\n",
      "  generated_summary_t5_base                             generated_summary_gpt2  \n",
      "0           Texte exemple 1  TL;DR: Texte exemple 1.0.0.0;DR: Texte exemple...  \n",
      "1           Texte exemple 2  TL;DR: Texte exemple 2.0.0.0 (1.0.0)\\n\\n(1.0.0...  \n"
     ]
    }
   ],
   "source": [
    "colonnes_dispo = ['prompt_text', 'prompt_title',\n",
    "                  'generated_summary_t5_small', \n",
    "                  'generated_summary_t5_base', \n",
    "                  'generated_summary_gpt2']\n",
    "\n",
    "# Filtrage des colonnes existantes :\n",
    "colonnes_existe = [col for col in colonnes_dispo if col in train_sample.columns]\n",
    "\n",
    "print(train_sample[colonnes_existe].head())\n"
   ]
  },
  {
   "cell_type": "markdown",
   "id": "f7805f68",
   "metadata": {},
   "source": [
    "Analyse directe de ton aperçu :\n",
    "\n",
    "---\n",
    "\n",
    "| **Observation**                                | **Analyse rapide**                                                                        |\n",
    "| ---------------------------------------------- | ----------------------------------------------------------------------------------------- |\n",
    "| **T5-small/base** recopie le prompt            | Comportement typique quand le modèle ne comprend pas la tâche (ou donnée trop triviale) |\n",
    "| **GPT-2 ajoute \"TL;DR:\" et répète incohérent** | Génération hors-sujet, hallucination typique sans fine-tuning résumé                    |\n",
    "| **Aucun modèle ne génère un résumé utile**     | Résumés **non fonctionnels**, modèles réagissent mal à ces données factices               |\n",
    "\n",
    "---\n",
    "\n",
    " **Conclusion immédiate** :\n",
    "\n",
    "* Tes prompts sont **trop simples** (Texte exemple 1 → Résumé 1), ce qui pousse les modèles à copier ou buguer.\n",
    "* **T5 (small/base)** apprend à paraphraser sur des vrais textes, pas sur des dummy textes.\n",
    "* **GPT-2** sans fine-tuning est totalement inutilisable pour résumer.\n"
   ]
  },
  {
   "cell_type": "markdown",
   "id": "86852872",
   "metadata": {},
   "source": [
    "## Bilan"
   ]
  },
  {
   "cell_type": "markdown",
   "id": "9bfb4e20",
   "metadata": {},
   "source": [
    "###  **Points positifs** :\n",
    "\n",
    "* Tu as bien déroulé **tout le processus complet** :\n",
    "\n",
    "  *  Chargement dataset\n",
    "  *  Génération de résumés avec plusieurs modèles\n",
    "  *  Calcul de **précision** (Exact Match) et **ROUGE**\n",
    "  *  Comparaison globale et par exemple\n",
    "* Les scripts Python sont **fonctionnels et bien structurés** après corrections.\n",
    "* Ton approche est **méthodique** avec un bon suivi de l’énoncé.\n",
    "\n",
    "---\n",
    "\n",
    "###  **Limites observées** :\n",
    "\n",
    "* **Exact Match** = toujours très bas ➔ attendu mais **non pertinent pour le résumé**.\n",
    "* **ROUGE-2 systématiquement nul** ➔ les résumés générés sont trop simples (pas de structure de phrase).\n",
    "* **GPT-2 inutilisable sans fine-tuning** ➔ génère du bruit, hallucinations.\n",
    "* Tests faits sur **exemples artificiels (« texte exemple 1 »)** ➔ résultats peu exploitables.\n",
    "\n",
    "---\n",
    "\n",
    "###  **Conclusion finale** :\n",
    "\n",
    "| Aspect                  | Résultat                                                   |\n",
    "| ----------------------- | ---------------------------------------------------------- |\n",
    "| **Méthodologie**        |  Très bonne maîtrise du pipeline LLM                      |\n",
    "| **Résultats obtenus**   |  Non exploitables sur données factices                    |\n",
    "| **Pertinence pratique** |  À refaire sur vrai jeu de données pour analyse sérieuse |\n"
   ]
  }
 ],
 "metadata": {
  "kernelspec": {
   "display_name": "llama",
   "language": "python",
   "name": "python3"
  },
  "language_info": {
   "codemirror_mode": {
    "name": "ipython",
    "version": 3
   },
   "file_extension": ".py",
   "mimetype": "text/x-python",
   "name": "python",
   "nbconvert_exporter": "python",
   "pygments_lexer": "ipython3",
   "version": "3.10.18"
  }
 },
 "nbformat": 4,
 "nbformat_minor": 5
}

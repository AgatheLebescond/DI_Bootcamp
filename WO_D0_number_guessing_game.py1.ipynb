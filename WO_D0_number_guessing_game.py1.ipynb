{
 "cells": [
  {
   "cell_type": "code",
   "execution_count": 8,
   "id": "3ed4c29c",
   "metadata": {},
   "outputs": [],
   "source": [
    "import random"
   ]
  },
  {
   "cell_type": "code",
   "execution_count": 35,
   "id": "bd6eea4b",
   "metadata": {},
   "outputs": [
    {
     "name": "stdout",
     "output_type": "stream",
     "text": [
      "79\n"
     ]
    },
    {
     "name": "stdout",
     "output_type": "stream",
     "text": [
      "Too low\n",
      "il vous reste : 6\n",
      "Too low\n",
      "il vous reste : 5\n",
      "Too high\n",
      "il vous reste : 4\n",
      "Too high\n",
      "il vous reste : 3\n",
      "Too low\n",
      "il vous reste : 2\n",
      "Too low\n",
      "il vous reste : 1\n",
      "Congratulations, you win\n"
     ]
    }
   ],
   "source": [
    "import random\n",
    "def number_guessind_game():\n",
    "    random_number = random.randint(1,100)\n",
    "    max_attempts=7\n",
    "    print(random_number)\n",
    "    for i in range(max_attempts):\n",
    "        \n",
    "        \n",
    "        x=int(input(\"7 essais permis\"))\n",
    "        if x < random_number :\n",
    "            print (\"Too low\")\n",
    "        elif  x > random_number :\n",
    "            print(\"Too high\")\n",
    "        else :\n",
    "            print(\"Congratulations, you win\")\n",
    "            break\n",
    "        max_attempts = max_attempts-1\n",
    "        print(f\"il vous reste : {max_attempts}\")\n",
    "        \n",
    "        \n",
    "            \n",
    "number_guessind_game()"
   ]
  }
 ],
 "metadata": {
  "kernelspec": {
   "display_name": "Python 3",
   "language": "python",
   "name": "python3"
  },
  "language_info": {
   "codemirror_mode": {
    "name": "ipython",
    "version": 3
   },
   "file_extension": ".py",
   "mimetype": "text/x-python",
   "name": "python",
   "nbconvert_exporter": "python",
   "pygments_lexer": "ipython3",
   "version": "3.9.6"
  }
 },
 "nbformat": 4,
 "nbformat_minor": 5
}

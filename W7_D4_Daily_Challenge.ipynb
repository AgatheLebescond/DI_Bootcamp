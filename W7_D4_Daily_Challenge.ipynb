{
 "cells": [
  {
   "cell_type": "markdown",
   "id": "1dfca3eb",
   "metadata": {},
   "source": [
    "# Défi quotidien : créer un détecteur de texte IA basé sur GAN\n",
    "\n",
    "\n",
    "👩‍🏫 👩🏿‍🏫 Ce que vous apprendrez\n",
    "Comment former un réseau antagoniste génératif (GAN) pour détecter le texte généré par l'IA.\n",
    "Comment utiliser un modèle BERT pré-entraîné pour la classification de séquences.\n",
    "Comment prétraiter les données textuelles et les tokeniser pour les modèles d'apprentissage en profondeur.\n",
    "Comment évaluer les performances du modèle à l’aide des scores AUC.\n",
    "Comment affiner et optimiser les modèles d’apprentissage en profondeur.\n",
    "Comment effectuer des inférences et générer des prédictions sur des données de test.\n",
    "\n",
    "\n",
    "🛠️ Ce que vous allez créer\n",
    "Un modèle basé sur GAN qui détecte le texte généré par l'IA à l'aide d'intégrations d'un modèle BERT.\n",
    "Un pipeline de formation qui exploite un réseau discriminateur et générateur.\n",
    "Un modèle qui s'améliore en fonction des scores AUC pour la stabilité dans la formation.\n",
    "Un fichier de soumission final avec des prédictions sur l'ensemble de données de test.\n",
    "\n",
    "\n",
    "Ensemble de données\n",
    "Vous pouvez trouver l'ensemble de données pour cet exercice ici : Ensemble de données\n",
    "\n",
    "\n",
    "\n",
    "Tâche\n",
    "Pour le défi d'aujourd'hui, vous disposez du code final avec des parties à compléter. Si vous voyez un « À FAIRE », cela signifie que vous devez écrire du code. Complétez-les toutes.\n",
    "\n",
    "\n",
    "\n",
    "import numpy as np # linear algebra\n",
    "import pandas as pd # data processing, CSV file I/O (e.g. pd.read_csv)\n",
    "import random\n",
    "import string\n",
    "\n",
    "import torch\n",
    "import torch.nn as nn\n",
    "import torch.optim as optim\n",
    "from torch.utils.data import DataLoader\n",
    "\n",
    "from transformers import BertTokenizer, BertForSequenceClassification\n",
    "from transformers import BertConfig\n",
    "from transformers.models.bert.modeling_bert import BertEncoder\n",
    "from sklearn.metrics import roc_auc_score\n",
    "\n",
    "#device = torch.device(\"cuda:0\" if torch.cuda.is_available() else \"cpu\")\n",
    "\n",
    "TRAIN_PATH = TODO\n",
    "TEST_PATH = TODO\n",
    "PROMPT_PATH = TODO\n",
    "\n",
    "src_train = TODO\n",
    "src_prompt = TODO\n",
    "\n",
    "src_sub = TODO\n",
    "\n",
    "\n",
    "### Model preparation\n",
    "\n",
    "tokenizer_save_path = TODO\n",
    "model_save_path = TODO\n",
    "\n",
    "tokenizer = TODO\n",
    "pretrained_model = TODO\n",
    "embedding_model = TODO\n",
    "\n",
    "\"\"\"# Parameter definition\"\"\"\n",
    "\n",
    "train_batch_size = TODO\n",
    "test_batch_size = TODO\n",
    "lr = TODO\n",
    "beta1 = TODO\n",
    "nz = 100  # Dimensions of the latent vector\n",
    "num_epochs = TODO\n",
    "num_hidden_layers = TODO\n",
    "train_ratio = TODO\n",
    "\n",
    "\"\"\"# Data Preparation\"\"\"\n",
    "\n",
    "class GANDAIGDataset(torch.utils.data.Dataset):\n",
    "    def __init__(self, texts, labels):\n",
    "        self.texts = texts\n",
    "        self.labels = labels\n",
    "\n",
    "    def __len__(self):\n",
    "        return len(self.texts)\n",
    "\n",
    "    def __getitem__(self, idx):\n",
    "        return self.texts[idx], self.labels[idx]\n",
    "\n",
    "all_num = TODO\n",
    "train_num = TODO\n",
    "test_num = TODO\n",
    "\n",
    "\n",
    "train_set = TODO\n",
    "test_set = pd.concat([\n",
    "    TODO,\n",
    "]).reset_index(drop=True)\n",
    "\n",
    "\n",
    "train_dataset = TODO\n",
    "test_dataset = TODO\n",
    "\n",
    "train_loader = TODO\n",
    "test_loader = TODO\n",
    "\n",
    "\"\"\"# Generator definition\"\"\"\n",
    "\n",
    "config = BertConfig(num_hidden_layers=num_hidden_layers)\n",
    "\n",
    "class Generator(nn.Module):\n",
    "    def __init__(self, input_dim):\n",
    "        super().__init__()\n",
    "        self.fc = nn.Linear(input_dim, 256 * 128)\n",
    "\n",
    "        self.conv_net = nn.Sequential(\n",
    "            TODO\n",
    "        )\n",
    "        self.bert_encoder = BertEncoder(config)\n",
    "\n",
    "\n",
    "    def forward(self, x):\n",
    "        TODO\n",
    "        return x\n",
    "\n",
    "\"\"\"# Discriminator definition\"\"\"\n",
    "\n",
    "class SumBertPooler(torch.nn.Module):\n",
    "    def __init__(self):\n",
    "        super().__init__()\n",
    "\n",
    "    def forward(self, hidden_states: torch.Tensor) -> torch.Tensor:\n",
    "        sum_hidden = hidden_states.sum(dim=1)\n",
    "        sum_mask = sum_hidden.sum(1).unsqueeze(1)\n",
    "        sum_mask = torch.clamp(sum_mask, min=1e-9)\n",
    "\n",
    "        mean_embeddings = sum_hidden / sum_mask\n",
    "        return mean_embeddings\n",
    "\n",
    "\n",
    "class Discriminator(nn.Module):\n",
    "    def __init__(self):\n",
    "        super().__init__()\n",
    "        self.bert_encoder = BertEncoder(config)\n",
    "        self.bert_encoder.layer = nn.ModuleList([\n",
    "            layer for layer in pretrained_model.bert.encoder.layer[:6]\n",
    "        ])\n",
    "        self.pooler = SumBertPooler()\n",
    "        self.classifier = torch.nn.Sequential(\n",
    "            TODO\n",
    "\n",
    "        )\n",
    "\n",
    "    def forward(self, input):\n",
    "        out = self.bert_encoder(input)\n",
    "        out = self.pooler(out.last_hidden_state)\n",
    "        out = self.classifier(out)\n",
    "        return torch.sigmoid(out).view(-1)\n",
    "\n",
    "\"\"\"# Training\"\"\"\n",
    "\n",
    "### Commented out IPython magic to ensure Python compatibility.\n",
    "def eval_auc(model):\n",
    "    model.eval()\n",
    "\n",
    "    predictions = []\n",
    "    actuals = []\n",
    "    with torch.no_grad():\n",
    "        for batch in test_loader:\n",
    "            encodings = TODO\n",
    "            input_ids = TODO\n",
    "            token_type_ids = TODO\n",
    "            embeded = TODO\n",
    "            embeded =TODO\n",
    "            attention_mask = TODO\n",
    "            label = batch[1].float().to(device)\n",
    "\n",
    "            outputs = model(embeded)\n",
    "            predictions.extend(outputs.cpu().numpy())\n",
    "            actuals.extend(label.cpu().numpy())\n",
    "\n",
    "    auc = TODO\n",
    "    print(\"AUC:\", auc)\n",
    "    return auc\n",
    "\n",
    "def get_model_info_dict(model, epoch, auc_score):\n",
    "    current_device = next(model.parameters()).device\n",
    "    model.to('cpu')\n",
    "\n",
    "    model_info = {\n",
    "        'epoch': epoch,\n",
    "        'model_state_dict': model.state_dict(),\n",
    "        'auc_score': auc_score,\n",
    "    }\n",
    "\n",
    "    model.to(current_device)\n",
    "    return model_info\n",
    "\n",
    "def preparation_embedding(texts):\n",
    "    encodings = tokenizer(texts, padding=True, truncation=True, return_tensors=\"pt\")\n",
    "    input_ids = encodings['input_ids']\n",
    "    token_type_ids = encodings['token_type_ids']\n",
    "    embeded = embedding_model(input_ids=input_ids, token_type_ids=token_type_ids)\n",
    "    return embeded\n",
    "\n",
    "def GAN_step(optimizerG, optimizerD, netG, netD, real_data, label, epoch, i):\n",
    "    netD.zero_grad()\n",
    "    batch_size = real_data.size(0)\n",
    "\n",
    "    output = netD(real_data)\n",
    "    errD_real = criterion(output, label)\n",
    "    errD_real.backward()\n",
    "    D_x = output.mean().item()\n",
    "\n",
    "    noise = torch.randn(batch_size, nz, device=device)\n",
    "    fake_data = netG(noise).last_hidden_state\n",
    "    label.fill_(1)\n",
    "    output = netD(fake_data.detach())\n",
    "    errD_fake = criterion(output, label)\n",
    "    errD_fake.backward()\n",
    "    D_G_z1 = output.mean().item()\n",
    "    errD = errD_real + errD_fake\n",
    "    optimizerD.step()\n",
    "\n",
    "    netG.zero_grad()\n",
    "    label.fill_(0)\n",
    "    output = netD(fake_data)\n",
    "    errG = criterion(output, label)\n",
    "    errG.backward()\n",
    "    D_G_z2 = output.mean().item()\n",
    "    optimizerG.step()\n",
    "    if i % 50 == 0:\n",
    "        print('[%d/%d][%d/%d] Loss_D: %.4f Loss_G: %.4f D(x): %.4f D(G(z)): %.4f / %.4f'\n",
    "###               % (epoch, num_epochs, i, len(train_loader), errD.item(), errG.item(), D_x, D_G_z1, D_G_z2))\n",
    "\n",
    "    return optimizerG, optimizerD, netG, netD\n",
    "\n",
    "netG = TODO\n",
    "netD = TODO\n",
    "\n",
    "criterion = TODO\n",
    "optimizerD = TODO\n",
    "optimizerG = TODO\n",
    "\n",
    "model_infos = []\n",
    "for epoch in range(num_epochs):\n",
    "    for i, data in enumerate(train_loader, 0):\n",
    "        with torch.no_grad():\n",
    "            embeded = preparation_embedding(data[0])\n",
    "\n",
    "        optimizerG, optimizerD, netG, netD = GAN_step(\n",
    "            optimizerG=TODO,\n",
    "            optimizerD=TODO,\n",
    "            netG=netG,\n",
    "            netD=netD,\n",
    "            real_data=embeded.to(device),\n",
    "            label=data[1].float().to(device),\n",
    "            epoch=epoch, i=i)\n",
    "\n",
    "    auc_score = TODO\n",
    "    model_infos.append(get_model_info_dict(netD, epoch, auc_score))\n",
    "\n",
    "print('Train complete！')\n",
    "\n",
    "\"\"\"# Inference\"\"\"\n",
    "\n",
    "max_auc_model_info = TODO\n",
    "model = Discriminator()\n",
    "model.load_state_dict(max_auc_model_info['model_state_dict'])\n",
    "model.to(device)\n",
    "model.eval()\n",
    "\n",
    "class InferenceDataset(torch.utils.data.Dataset):\n",
    "    def __init__(self, texts):\n",
    "        self.texts = texts\n",
    "\n",
    "    def __getitem__(self, idx):\n",
    "        return self.texts[idx]\n",
    "\n",
    "    def __len__(self):\n",
    "        return len(self.texts)\n",
    "\n",
    "sub_dataset = TODO\n",
    "\n",
    "inference_loader = TODO\n",
    "\n",
    "sub_predictions = []\n",
    "with torch.no_grad():\n",
    "    for batch in inference_loader:\n",
    "        encodings = TODO\n",
    "        input_ids = TODO\n",
    "        token_type_ids = TODO\n",
    "        embeded = TODO\n",
    "        embeded = embeded.to(device)\n",
    "\n",
    "        outputs = model(embeded)\n",
    "        sub_predictions.extend(outputs.cpu().numpy())\n",
    "\n",
    "sub_ans_df = TODO\n",
    "print(sub_ans_df)\n",
    "\n",
    "\n",
    "Instructions :\n",
    "1. Téléchargez l'ensemble de données\n",
    "\n",
    "Téléchargez la clé API Kaggle.\n",
    "Déplacez la clé dans le bon répertoire et définissez les autorisations, vous pouvez accepter les règles des compétitions dans Rulesou dans Participate.\n",
    "Téléchargez et décompressez le jeu de données.\n",
    "ou :\n",
    "Télécharger manuellement depuis Kaggle\n",
    "2. Charger les données\n",
    "\n",
    "Lisez les ensembles de données de formation et de test à l’aide de pandas.\n",
    "Afficher les statistiques de base et la structure de l'ensemble de données.\n",
    "3. Préparez le modèle\n",
    "\n",
    "Chargez le tokeniseur BERT et le modèle pré-entraîné pour la classification des séquences : bert-base-uncased.\n",
    "Extraire les intégrations du modèle BERT à utiliser dans le framework GAN.\n",
    "4. Définir les hyperparamètres\n",
    "\n",
    "Définissez les tailles de lots, les taux d’apprentissage, les dimensions des vecteurs latents et les époques d’apprentissage.\n",
    "5. Préparez les données pour la formation\n",
    "\n",
    "Créez une classe d’ensemble de données PyTorch pour gérer les données textuelles.\n",
    "Divisez les données en ensembles d’entraînement et de test.\n",
    "Utilisez DataLoader pour charger des lots efficacement.\n",
    "6. Définir le modèle de générateur\n",
    "\n",
    "Créez un réseau neuronal qui génère des intégrations de texte à l'aide de couches ConvTranspose1D.\n",
    "Incorporer un encodeur BERT dans le générateur.\n",
    "7. Définir le modèle discriminateur\n",
    "\n",
    "Extraire et modifier des couches à partir d’un modèle BERT pré-entraîné.\n",
    "Mettre en œuvre un mécanisme de regroupement pour la classification de texte.\n",
    "Construisez une tête de classification en utilisant des couches entièrement connectées.\n",
    "8. Entraîner le modèle\n",
    "\n",
    "Mettre en œuvre une boucle de formation GAN.\n",
    "Entraînez le générateur à produire des plongements qui trompent le discriminateur.\n",
    "Entraînez le discriminateur à différencier les plongements réels et générés.\n",
    "Évaluez le modèle à l’aide des scores AUC pour surveiller la stabilité de la formation.\n",
    "9. Effectuer une inférence\n",
    "\n",
    "Chargez le modèle discriminateur le plus performant en fonction des scores AUC.\n",
    "Traitez les données de test via le modèle pour générer des prédictions."
   ]
  },
  {
   "cell_type": "markdown",
   "id": "2a9fb47a",
   "metadata": {},
   "source": [
    "## Étape 1 : Téléchargement et préparation des données"
   ]
  },
  {
   "cell_type": "code",
   "execution_count": 6,
   "id": "dd76b1bb",
   "metadata": {},
   "outputs": [],
   "source": [
    "# Étape 1 : Importation des librairies\n",
    "import numpy as np\n",
    "import pandas as pd\n",
    "import torch\n",
    "import torch.nn as nn\n",
    "import torch.optim as optim\n",
    "from torch.utils.data import Dataset, DataLoader\n",
    "\n",
    "from transformers import BertTokenizer, BertModel, BertForSequenceClassification\n",
    "from sklearn.metrics import roc_auc_score\n",
    "import os\n"
   ]
  },
  {
   "cell_type": "code",
   "execution_count": 9,
   "id": "638bca7b",
   "metadata": {},
   "outputs": [
    {
     "name": "stdout",
     "output_type": "stream",
     "text": [
      "Contenu du dossier './data' :\n",
      "['sample_submission.csv', 'test_essays.csv', 'train_essays.csv', 'train_prompts.csv']\n"
     ]
    }
   ],
   "source": [
    "import os\n",
    "print(\"Contenu du dossier './data' :\")\n",
    "print(os.listdir(\"data\"))\n"
   ]
  },
  {
   "cell_type": "markdown",
   "id": "df5dc80e",
   "metadata": {},
   "source": [
    "###  Fichiers disponibles :\n",
    "\n",
    "1. **`train_essays.csv`**\n",
    "   ➤ Données d'entraînement principales : probablement des essais annotés (humain vs IA).\n",
    "   ➤ Contient sûrement les colonnes comme : `id`, `prompt_id`, `text`, `generated`, etc.\n",
    "\n",
    "2. **`train_prompts.csv`**\n",
    "   ➤ Détails sur les prompts associés aux essais.\n",
    "   ➤ Colonnes : `prompt_id`, `prompt_name`, `instructions`, `source_text`.\n",
    "\n",
    "3. **`test_essays.csv`**\n",
    "   ➤ Corpus à prédire (texte sans labels).\n",
    "   ➤ Contient les essais de test : probablement avec `id`, `prompt_id`, `text`.\n",
    "\n",
    "4. **`sample_submission.csv`**\n",
    "   ➤ Format attendu pour la soumission (structure `id,generated`).\n",
    "   ➤ Sert de guide pour construire `submission.csv`.\n",
    "\n",
    "---\n",
    "\n",
    "###  Conclusion :\n",
    "\n",
    "Il y a toutes les composantes nécessaires pour :\n",
    "\n",
    "* L’entraînement supervisé,\n",
    "* La génération de prédictions,\n",
    "* La soumission dans le bon format.\n"
   ]
  },
  {
   "cell_type": "code",
   "execution_count": 11,
   "id": "09872083",
   "metadata": {},
   "outputs": [
    {
     "name": "stdout",
     "output_type": "stream",
     "text": [
      "Colonnes disponibles dans train_prompts.csv :\n",
      "['prompt_id', 'prompt_name', 'instructions', 'source_text']\n"
     ]
    }
   ],
   "source": [
    "print(\"Colonnes disponibles dans train_prompts.csv :\")\n",
    "print(prompt_df.columns.tolist())\n"
   ]
  },
  {
   "cell_type": "markdown",
   "id": "b0550a48",
   "metadata": {},
   "source": [
    "Les colonnes de `train_prompts.csv` indiquent que ce fichier contient les **descriptions des consignes** associées aux essais. Voici leur rôle :\n",
    "\n",
    "---\n",
    "\n",
    "###  Détail des colonnes :\n",
    "\n",
    "* **`prompt_id`** : identifiant unique du prompt (clé primaire, sert à relier aux essais dans `train_essays.csv` via `prompt_id`).\n",
    "\n",
    "* **`prompt_name`** : nom ou titre du prompt (indicatif, pour lecture humaine).\n",
    "\n",
    "* **`instructions`** : consigne donnée à l’auteur de l’essai (ex : “écris un argumentaire sur…”).\n",
    "\n",
    "* **`source_text`** : texte de référence (ex : un extrait à analyser ou commenter dans l’essai).\n",
    "\n",
    "---\n",
    "\n",
    "###  Utilité :\n",
    "\n",
    "Ce fichier est essentiel pour :\n",
    "\n",
    "* Comprendre le contexte de chaque essai.\n",
    "* Enrichir les embeddings avec les consignes ou sources.\n",
    "* Faire de l’augmentation de données ou du fine-tuning contextuel.\n"
   ]
  },
  {
   "cell_type": "code",
   "execution_count": null,
   "id": "aff90189",
   "metadata": {},
   "outputs": [
    {
     "name": "stdout",
     "output_type": "stream",
     "text": [
      "🔢 Dimensions :\n",
      "Train: (1378, 4)\n",
      "Test : (3, 3)\n",
      "Prompts: (2, 4)\n",
      "\n",
      "🧱 Types de données (train):\n",
      "id           object\n",
      "prompt_id     int64\n",
      "text         object\n",
      "generated     int64\n",
      "dtype: object\n",
      "\n",
      "❓ Valeurs manquantes (train) :\n",
      "id           0\n",
      "prompt_id    0\n",
      "text         0\n",
      "generated    0\n",
      "dtype: int64\n",
      "\n",
      "📌 Colonnes disponibles :\n",
      "Train : ['id', 'prompt_id', 'text', 'generated']\n",
      "Test  : ['id', 'prompt_id', 'text']\n",
      "Prompts : ['prompt_id', 'prompt_name', 'instructions', 'source_text']\n",
      "\n",
      "📝 Exemples (train) :\n"
     ]
    },
    {
     "data": {
      "application/vnd.microsoft.datawrangler.viewer.v0+json": {
       "columns": [
        {
         "name": "index",
         "rawType": "int64",
         "type": "integer"
        },
        {
         "name": "id",
         "rawType": "object",
         "type": "string"
        },
        {
         "name": "prompt_id",
         "rawType": "int64",
         "type": "integer"
        },
        {
         "name": "text",
         "rawType": "object",
         "type": "string"
        },
        {
         "name": "generated",
         "rawType": "int64",
         "type": "integer"
        }
       ],
       "ref": "dc28a126-b1c8-43a4-829a-202a46b5bfdc",
       "rows": [
        [
         "0",
         "0059830c",
         "0",
         "Cars. Cars have been around since they became famous in the 1900s, when Henry Ford created and built the first ModelT. Cars have played a major role in our every day lives since then. But now, people are starting to question if limiting car usage would be a good thing. To me, limiting the use of cars might be a good thing to do.\n\nIn like matter of this, article, \"In German Suburb, Life Goes On Without Cars,\" by Elizabeth Rosenthal states, how automobiles are the linchpin of suburbs, where middle class families from either Shanghai or Chicago tend to make their homes. Experts say how this is a huge impediment to current efforts to reduce greenhouse gas emissions from tailpipe. Passenger cars are responsible for 12 percent of greenhouse gas emissions in Europe...and up to 50 percent in some carintensive areas in the United States. Cars are the main reason for the greenhouse gas emissions because of a lot of people driving them around all the time getting where they need to go. Article, \"Paris bans driving due to smog,\" by Robert Duffer says, how Paris, after days of nearrecord pollution, enforced a partial driving ban to clear the air of the global city. It also says, how on Monday, motorist with evennumbered license plates were ordered to leave their cars at home or be fined a 22euro fine 31. The same order would be applied to oddnumbered plates the following day. Cars are the reason for polluting entire cities like Paris. This shows how bad cars can be because, of all the pollution that they can cause to an entire city.\n\nLikewise, in the article, \"Carfree day is spinning into a big hit in Bogota,\" by Andrew Selsky says, how programs that's set to spread to other countries, millions of Columbians hiked, biked, skated, or took the bus to work during a carfree day, leaving streets of this capital city eerily devoid of traffic jams. It was the third straight year cars have been banned with only buses and taxis permitted for the Day Without Cars in the capital city of 7 million. People like the idea of having carfree days because, it allows them to lesson the pollution that cars put out of their exhaust from people driving all the time. The article also tells how parks and sports centers have bustled throughout the city uneven, pitted sidewalks have been replaced by broad, smooth sidewalks rushhour restrictions have dramatically cut traffic and new restaurants and upscale shopping districts have cropped up. Having no cars has been good for the country of Columbia because, it has aloud them to repair things that have needed repairs for a long time, traffic jams have gone down, and restaurants and shopping districts have popped up, all due to the fact of having less cars around.\n\nIn conclusion, the use of less cars and having carfree days, have had a big impact on the environment of cities because, it is cutting down the air pollution that the cars have majorly polluted, it has aloud countries like Columbia to repair sidewalks, and cut down traffic jams. Limiting the use of cars would be a good thing for America. So we should limit the use of cars by maybe riding a bike, or maybe walking somewhere that isn't that far from you and doesn't need the use of a car to get you there. To me, limiting the use of cars might be a good thing to do.",
         "0"
        ],
        [
         "1",
         "005db917",
         "0",
         "Transportation is a large necessity in most countries worldwide. With no doubt, cars, buses, and other means of transportation make going from place to place easier and faster. However there's always a negative pollution. Although mobile transportation are a huge part of daily lives, we are endangering the Earth with harmful greenhouse gases, which could be suppressed.\n\nA small suburb community in Germany called Vauban, has started a \"carfree\" lifestyle. In this city, markets and stores are placed nearby homes, instead of being located by farend highways. Although Vauban is not completely carfree, 70% of Vauban families do not own cars Even a large 57% of families stated to have sold their cars to move to Vauban. Some families have even said to be less stressed depending on car transportation. Cars are responsible for about 12% of greenhouse gases, and can even be up to 50% in some carintensive areas in the United States.\n\nAnother insight to reduced car zones brings Paris' incident with smog. Paris' officials created a system that would in fact lower smog rates. On Monday, the motorists with evennumbered license plates numbers would be ordered to leave their cars at home, or they would suffer a fine. Same rule would occur on Tuesday, except motorists with oddnumbered license plates were targeted with fines. Congestion, or traffic, was reduced by 60% after five days of intense smog. Diesel fuel played a huge part in this pollution, having the fact that 67% of vehicles in France are of Diesel fuel. The impact of the clearing of smog, resided in banning the Tuesday rule of odd license plates.\n\nCould you imagine a day without seeing a single car being used? This phenomenon occurs once a year in Bogota, Colombia. With the exception of buses and taxis being used, cars are to be left unattended for an entire day. Having a carfree day just once a year can even reduce the pollution slightly. The day without cars is part of a campaign that originated in Bogota in the mid 1990s. This campaign has renewed and constructed numerous bicycle paths and sidewalks all over the city. Parks and sports centers have also sprung from this campaign. Devoting your time to a carfree lifestyle has it's hassles, but in hindsight, it has it's benefits.\n\nTo conclude, living a carfree lifestyle does not seem like a possibility in this day and age, however managing the use of cars and pollution is something every country should take time investing in. Think about how much of an impact it would be if everywhere worldwide would take part in airpollution reduction. Mobile transportation is lifestyle in a sense, and being dependent on cars or other means of transportation can impact the health of the Earth and even ourselves.",
         "0"
        ],
        [
         "2",
         "008f63e3",
         "0",
         "\"America's love affair with it's vehicles seems to be cooling\" says Elisabeth rosenthal. To understand rosenthal's perspective, it is easier to suggest that America's car usage is decreasing slowly. This isn't necessarily bad in the sense that it has certain positive effects. The advantages of limiting car usage includes an increase in security and health, along with a decrease in pollution and dependence.\n\nFirstly, when car usage is limited security and health is more likely to be guaranteed. The feeling of being secure is highly important to individuals everywhere. For example, many people in colombia used public transportation during a car free day \"leaving the streets of this capital city \", according to Andrew Selsky, \"eerily devoid of traffic jams\". The complications that stem from traffic jams end with a feeling of confidence. The plan to get from point A to B was more simple just a second ago. This complication in your personal plans leads you to become stressed as a feeling of doubt overcomes all thoughts. If car usage was limited, there would be a control on how much traffic accumulates thus minimizing chance of stress. As Heidrun Walter states \"when i had a car i was always tense. I'm much happier this way\". not only does car usage minimize conditions detrimental to health, it also enlarges your capacity for exercise. The main purpose of the car is to get someone from one place to another. when an important job takes over your personal life, it becomes difficult to do things most enjoyed in life. limits on car usage forces you to stay in shape. According to Andrew Selsky \"parks and sports centers also have bloomed throughout the city\". Less cars means healthier and natural situations. With parks and sport centers becoming more efficient, it becomes easier to find a more physically active population. Overall, less usage on cars minimizes stress and increases health.\n\nSecondly, limting car usage becomes beneficial to the environment. Now a days people have become annoyed with others who care so passionately about the environment. If you look behind their constant cries for action, there are solid facts. Yespollution is bad for the environment. Yes a bad envorment means unhealthy living. Yes cars are one of the main contributors to pollution in the environment. A pattern of less car usage, as Elisabeth Rosenthal states \"will have beneficial implications for carbon emissions and the environment\". The less use of cars, the less pollution in the environment. One must observe limiting car usage as an opportunity to create a cleaner world and better future. The effects of pollution in the environment is completley dangerous and we, the car users, are to blame.\n\nAdditionally, it would lower the dependence on cars. Many people today find that their car is so useful. While it has many features and is a form of transportation, many do not figure what they would do if they did not have such a possesion. The development of people and their interaction with technology has left a wide gap between historic, natural ways and what is thought of as modern society. Being dependent is not always good for individuals. As david goldberg says \"all our development since world war II has been centered on the car, and that will have to change\". Many people could disagree and wonder why it is necessary to change our ways especially if we are so highly devloped. If being developed means being dependent on a harmful machine, then it could not be effective devlopment. According to Elisabeth Rosenthal \"cashstrapped americans could not afford new cars, and the unemployed were't going to work anyway\". Many people can't have the precious luxury of private transportation in the first place. Those who have had it have become distant to a more natural society. Peope have become so use to having cars that they have become oblivious to the significant effects. With limits on car usage , these effcts could be controlled.\n\nTo conclude, the advantages of limiting car usage is an increase in health, along with a decrease in pollution, and less dependence on cars. limiting car usage is a positive way to enfore an organized and clean environment, and ensure health and security of those who live in it. This is one reason America can be reffered to as a succesful country. It is not that America has decreased use of vehicles, but the fact that they have done what is best for majority.",
         "0"
        ]
       ],
       "shape": {
        "columns": 4,
        "rows": 3
       }
      },
      "text/html": [
       "<div>\n",
       "<style scoped>\n",
       "    .dataframe tbody tr th:only-of-type {\n",
       "        vertical-align: middle;\n",
       "    }\n",
       "\n",
       "    .dataframe tbody tr th {\n",
       "        vertical-align: top;\n",
       "    }\n",
       "\n",
       "    .dataframe thead th {\n",
       "        text-align: right;\n",
       "    }\n",
       "</style>\n",
       "<table border=\"1\" class=\"dataframe\">\n",
       "  <thead>\n",
       "    <tr style=\"text-align: right;\">\n",
       "      <th></th>\n",
       "      <th>id</th>\n",
       "      <th>prompt_id</th>\n",
       "      <th>text</th>\n",
       "      <th>generated</th>\n",
       "    </tr>\n",
       "  </thead>\n",
       "  <tbody>\n",
       "    <tr>\n",
       "      <th>0</th>\n",
       "      <td>0059830c</td>\n",
       "      <td>0</td>\n",
       "      <td>Cars. Cars have been around since they became ...</td>\n",
       "      <td>0</td>\n",
       "    </tr>\n",
       "    <tr>\n",
       "      <th>1</th>\n",
       "      <td>005db917</td>\n",
       "      <td>0</td>\n",
       "      <td>Transportation is a large necessity in most co...</td>\n",
       "      <td>0</td>\n",
       "    </tr>\n",
       "    <tr>\n",
       "      <th>2</th>\n",
       "      <td>008f63e3</td>\n",
       "      <td>0</td>\n",
       "      <td>\"America's love affair with it's vehicles seem...</td>\n",
       "      <td>0</td>\n",
       "    </tr>\n",
       "  </tbody>\n",
       "</table>\n",
       "</div>"
      ],
      "text/plain": [
       "         id  prompt_id                                               text  \\\n",
       "0  0059830c          0  Cars. Cars have been around since they became ...   \n",
       "1  005db917          0  Transportation is a large necessity in most co...   \n",
       "2  008f63e3          0  \"America's love affair with it's vehicles seem...   \n",
       "\n",
       "   generated  \n",
       "0          0  \n",
       "1          0  \n",
       "2          0  "
      ]
     },
     "metadata": {},
     "output_type": "display_data"
    },
    {
     "name": "stdout",
     "output_type": "stream",
     "text": [
      "\n",
      "📝 Exemples (test) :\n"
     ]
    },
    {
     "data": {
      "application/vnd.microsoft.datawrangler.viewer.v0+json": {
       "columns": [
        {
         "name": "index",
         "rawType": "int64",
         "type": "integer"
        },
        {
         "name": "id",
         "rawType": "object",
         "type": "string"
        },
        {
         "name": "prompt_id",
         "rawType": "int64",
         "type": "integer"
        },
        {
         "name": "text",
         "rawType": "object",
         "type": "string"
        }
       ],
       "ref": "d776d593-df8d-4df7-bf82-0fdef4661867",
       "rows": [
        [
         "0",
         "0000aaaa",
         "2",
         "Aaa bbb ccc."
        ],
        [
         "1",
         "1111bbbb",
         "3",
         "Bbb ccc ddd."
        ],
        [
         "2",
         "2222cccc",
         "4",
         "CCC ddd eee."
        ]
       ],
       "shape": {
        "columns": 3,
        "rows": 3
       }
      },
      "text/html": [
       "<div>\n",
       "<style scoped>\n",
       "    .dataframe tbody tr th:only-of-type {\n",
       "        vertical-align: middle;\n",
       "    }\n",
       "\n",
       "    .dataframe tbody tr th {\n",
       "        vertical-align: top;\n",
       "    }\n",
       "\n",
       "    .dataframe thead th {\n",
       "        text-align: right;\n",
       "    }\n",
       "</style>\n",
       "<table border=\"1\" class=\"dataframe\">\n",
       "  <thead>\n",
       "    <tr style=\"text-align: right;\">\n",
       "      <th></th>\n",
       "      <th>id</th>\n",
       "      <th>prompt_id</th>\n",
       "      <th>text</th>\n",
       "    </tr>\n",
       "  </thead>\n",
       "  <tbody>\n",
       "    <tr>\n",
       "      <th>0</th>\n",
       "      <td>0000aaaa</td>\n",
       "      <td>2</td>\n",
       "      <td>Aaa bbb ccc.</td>\n",
       "    </tr>\n",
       "    <tr>\n",
       "      <th>1</th>\n",
       "      <td>1111bbbb</td>\n",
       "      <td>3</td>\n",
       "      <td>Bbb ccc ddd.</td>\n",
       "    </tr>\n",
       "    <tr>\n",
       "      <th>2</th>\n",
       "      <td>2222cccc</td>\n",
       "      <td>4</td>\n",
       "      <td>CCC ddd eee.</td>\n",
       "    </tr>\n",
       "  </tbody>\n",
       "</table>\n",
       "</div>"
      ],
      "text/plain": [
       "         id  prompt_id          text\n",
       "0  0000aaaa          2  Aaa bbb ccc.\n",
       "1  1111bbbb          3  Bbb ccc ddd.\n",
       "2  2222cccc          4  CCC ddd eee."
      ]
     },
     "metadata": {},
     "output_type": "display_data"
    },
    {
     "name": "stdout",
     "output_type": "stream",
     "text": [
      "\n",
      "📝 Exemples (prompts) :\n"
     ]
    },
    {
     "data": {
      "application/vnd.microsoft.datawrangler.viewer.v0+json": {
       "columns": [
        {
         "name": "index",
         "rawType": "int64",
         "type": "integer"
        },
        {
         "name": "prompt_id",
         "rawType": "int64",
         "type": "integer"
        },
        {
         "name": "prompt_name",
         "rawType": "object",
         "type": "string"
        },
        {
         "name": "instructions",
         "rawType": "object",
         "type": "string"
        },
        {
         "name": "source_text",
         "rawType": "object",
         "type": "string"
        }
       ],
       "ref": "98d42176-d380-41d8-aceb-df8015a81ab9",
       "rows": [
        [
         "0",
         "0",
         "Car-free cities",
         "Write an explanatory essay to inform fellow citizens about the advantages of limiting car usage. Your essay must be based on ideas and information that can be found in the passage set. Manage your time carefully so that you can read the passages; plan your response; write your response; and revise and edit your response. Be sure to use evidence from multiple sources; and avoid overly relying on one source. Your response should be in the form of a multiparagraph essay. Write your essay in the space provided.",
         "# In German Suburb, Life Goes On Without Cars by Elisabeth Rosenthal\n\n1 VAUBAN, Germany—Residents of this upscale community are suburban pioneers, going where few soccer moms or commuting executives have ever gone before: they have given up their cars.\n\n2 Street parking, driveways and home garages are generally forbidden in this experimental new district on the outskirts of Freiburg, near the French and Swiss borders. Vauban’s streets are completely “car-free”—except the main thoroughfare, where the tram to downtown Freiburg runs, and a few streets on one edge of the community. Car ownership is allowed, but there are only two places to park—large garages at the edge of the development, where a car-owner buys a space, for $40,000, along with a home.\n\n3 As a result, 70 percent of Vauban’s families do not own cars, and 57 percent sold a car to move here. “When I had a car I was always tense. I’m much happier this way,” said Heidrun Walter, a media trainer and mother of two, as she walked verdant streets where the swish of bicycles and the chatter of wandering children drown out the occasional distant motor.\n\n4 Vauban, completed in 2006, is an example of a growing trend in Europe, the United States and elsewhere to separate suburban life from auto use, as a component of a movement called “smart planning.”\n\n5 Automobiles are the linchpin of suburbs, where middle-class families from Chicago to Shanghai tend to make their homes. And that, experts say, is a huge impediment to current efforts to drastically reduce greenhouse gas emissions from tailpipes . . . . Passenger cars are responsible for 12 percent of greenhouse gas emissions in Europe . . . and up to 50 percent in some car-intensive areas in the United States.\n\n6 While there have been efforts in the past two decades to make cities denser, and better for walking, planners are now taking the concept to the suburbs . . . . Vauban, home to 5,500 residents within a rectangular square mile, may be the most advanced experiment in low-car suburban life. But its basic precepts are being adopted around the world in attempts to make suburbs more compact and more accessible to public transportation, with less space for parking. In this new approach, stores are placed a walk away, on a main street, rather than in malls along some distant highway.\n\n7 “All of our development since World War II has been centered on the car, and that will have to change,” said David Goldberg, an official of Transportation for America, a fast-growing coalition of hundreds of groups in the United States . . . who are promoting new communities that are less dependent on cars. Mr. Goldberg added: “How much you drive is as important as whether you have a hybrid.”\n\n8 Levittown and Scarsdale, New York suburbs with spread-out homes and private garages, were the dream towns of the 1950s and still exert a strong appeal. But some new suburbs may well look more Vauban-like, not only in developed countries but also in the developing world, where emissions from an increasing number of private cars owned by the burgeoning middle class are choking cities.\n\n9 In the United States, the Environmental Protection Agency is promoting “car reduced” communities, and legislators are starting to act, if cautiously. Many experts expect public transport serving suburbs to play a much larger role in a new six-year federal transportation bill to be approved this year, Mr. Goldberg said. In previous bills, 80 percent of appropriations have by law gone to highways and only 20 percent to other transport. \n\nExcerpt from “In German Suburb, Life Goes On Without Cars” by Elisabeth Rosenthal, from the New York Times. Copyright © 2009 by the New York Times Company. Reprinted by permission of the New York Times Company via Copyright Clearance Center.\n\n# Paris bans driving due to smog by Robert Duffer\n\n10 After days of near-record pollution, Paris enforced a partial driving ban to clear the air of the global city.\n\n11 On Monday motorists with even-numbered license plates were ordered to leave their cars at home or suffer a 22-euro fine ($31). The same would apply to odd-numbered plates the following day.\n\n12 Almost 4,000 drivers were fined, according to Reuters1 . . . [Twenty-seven] people had their cars impounded for their reaction to the fine.\n\n13 That’s easier to imagine than a car-free Champs-Elysees.2\n\n14 Congestion 3 was down 60 percent in the capital of France, after five-days of intensifying smog . . . [The smog] rivaled Beijing, China, which is known as one of the most polluted cities in the world.\n\n15 Cold nights and warm days caused the warmer layer of air to trap car emissions.\n\n16 Diesel fuel was blamed, since France has . . . [a] tax policy that favors diesel over gasoline. Diesels make up 67 percent of vehicles in France, compared to a 53.3 percent average of diesel engines in the rest of Western Europe, according to Reuters.\n\n17 Paris typically has more smog than other European capitals . . . [Last] week Paris had 147 micrograms of particulate matter (PM) per cubic meter compared with 114 in Brussels and 79.7 in London, Reuters found.\n\n18 Delivery companies complained of lost revenue, while exceptions were made for plug-in cars, hybrids, and cars carrying three or more passengers. Public transit was free of charge from Friday to Monday, according to the BBC.\n\n19 The smog cleared enough Monday for the ruling French party to rescind the ban for oddnumbered plates on Tuesday. 1\n\nExcerpt from “Paris bans driving due to smog” by Robert Duffer, from the Chicago Tribune. Copyright © 2014 by the Chicago Tribune. Reprinted by permission of the Chicago Tribune via Copyright Clearance Center.\n\n# Car-free day is spinning into a big hit in Bogota by Andrew Selsky\n\nBOGOTA, Colombia—In a program that’s set to spread to other countries, millions of Colombians hiked, biked, skated or took buses to work during a car-free day yesterday, leaving the streets of this capital city eerily devoid of traffic jams.\n\n21 It was the third straight year cars have been banned with only buses and taxis permitted for the Day Without Cars in this capital city of 7 million. The goal is to promote alternative transportation and reduce smog. Violators faced $25 fines.\n\n22 The turnout was large, despite gray clouds that dumped occasional rain showers on Bogota.\n\n23 “The rain hasn’t stopped people from participating,” said Bogota Mayor Antanas Mockus . . . .\n\n24 “It’s a good opportunity to take away stress and lower air pollution,” said businessman Carlos Arturo Plaza as he rode a two-seat bicycle with his wife.\n\n25 For the first time, two other Colombian cities, Cali and Valledupar, joined the event.\n\n26 Municipal authorities from other countries came to Bogota to see the event and were enthusiastic. “These people are generating a revolutionary change, and this is crossing borders,” said Enrique Riera, the mayor of Asunción, Paraguay. . . .\n\n27 The day without cars is part of an improvement campaign that began in Bogota in the mid1990s. It has seen the construction of 118 miles of bicycle paths, the most of any Latin American city, according to Mockus, the city’s mayor.\n\n28 Parks and sports centers also have bloomed throughout the city; uneven, pitted sidewalks have been replaced by broad, smooth sidewalks; rush-hour restrictions have dramatically cut traffic; and new restaurants and upscale shopping districts have cropped up.\n\nExcerpt from “Car-free day is spinning into a big hit in Bogota” by Andrew Selsky, from the Seattle Times. Copyright © 2002 by the Seattle Times Company. Reprinted by permission of the Seattle Times Company via Copyright Clearance Center.\n\n# The End of Car Culture by Elisabeth Rosenthal\n\n29 President Obama’s ambitious goals to curb the United States’ greenhouse gas emissions, unveiled last week, will get a fortuitous assist from an incipient1 shift in American behavior: recent studies suggest that Americans are buying fewer cars, driving less and getting fewer licenses as each year goes by.\n\n30 That has left researchers pondering a fundamental question: Has America passed peak driving?\n\n31 The United States, with its broad expanses and suburban ideals, had long been one of the world’s prime car cultures. It is the birthplace of the Model T; the home of Detroit; the place where Wilson Pickett immortalized “Mustang Sally” . . . .\n\n32 But America’s love affair with its vehicles seems to be cooling. When adjusted for population growth, the number of miles driven in the United States peaked in 2005 and dropped steadily thereafter, according to an analysis by Doug Short of Advisor Perspectives, an investment research company. As of April 2013, the number of miles driven per person was nearly 9 percent below the peak and equal to where the country was in January 1995. Part of the explanation certainly lies in the recession, because cash-strapped Americans could not afford new cars, and the unemployed weren’t going to work anyway. But by many measures the decrease in driving preceded the downturn and appears to be persisting now that recovery is under way. The next few years will be telling.\n\n33 “What most intrigues me is that rates of car ownership per household and per person started to come down two to three years before the downturn,” said Michael Sivak, who studies the trend and who is a research professor at the University of Michigan’s Transportation Research Institute. “I think that means something more fundamental is going on.”\n\n34 If the pattern persists—and many sociologists believe it will—it will have beneficial implications for carbon emissions and the environment, since transportation is the second largest source of America’s emissions, just behind power plants. But it could have negative implications for the car industry. Indeed, companies like Ford and Mercedes are already rebranding themselves “mobility” companies with a broader product range beyond the personal vehicle.\n\n35 “Different things are converging which suggest that we are witnessing a long-term cultural shift,” said Mimi Sheller, a sociology professor at Drexel University and director of its Mobilities Research and Policy Center. She cites various factors: the Internet makes telecommuting possible and allows people to feel more connected without driving to meet friends. The renewal of center cities has made the suburbs less appealing and has drawn empty nesters back in. Likewise the rise in cellphones and car-pooling apps has facilitated more flexible commuting arrangements, including the evolution of shared van services for getting to work.\n\n36 With all these changes, people who stopped car commuting as a result of the recession may find less reason to resume the habit. . . .\n\n37 New York’s new bike-sharing program and its skyrocketing bridge and tunnel tolls reflect those new priorities, as do a proliferation of car-sharing programs across the nation.\n\n38 Demographic shifts in the driving population suggest that the trend may accelerate. There has been a large drop in the percentage of 16- to 39-year-olds getting a license, while older people are likely to retain their licenses as they age, Mr. Sivak’s research has found.\n\n39 He and I have similar observations about our children. Mine (19 and 21) have not bothered to get a driver’s license, even though they both live in places where one could come in handy. They are interested, but it’s not a priority. They organize their summer jobs and social life around where they can walk or take public transportation or car-pool with friends.\n\n40 Mr. Sivak’s son lives in San Francisco and has a car but takes Bay Area Rapid Transit, when he can, even though that often takes longer than driving. “When I was in my 20s and 30s,” Mr. Sivak said, “I was curious about what kind of car people drove, but young people don’t really care. A car is just a means of getting from A to B when BART doesn’t work.”\n\n41 A study last year found that driving by young people decreased 23 percent between 2001 and 2009. . . .\n\n42 Whether members of the millennial generation will start buying more cars once they have kids to take to soccer practice and school plays remains an open question. But such projections have important business implications, even if car buyers are merely older or buying fewer cars in a lifetime rather than rejecting car culture outright.\n\n43 At the Mobile World Congress last year in Barcelona, Spain, Bill Ford, executive chairman of the Ford Motor Company, laid out a business plan for a world in which personal vehicle ownership is impractical or undesirable. He proposed partnering with the telecommunications industry to create cities in which “pedestrian, bicycle, private cars, commercial and public transportation traffic are woven into a connected network to save time, conserve resources, lower emissions and improve safety.”\n\nExcerpt from “The End of Car Culture” by Elisabeth Rosenthal, from the New York Times. Copyright © 2013 by the New York Times Company. Reprinted by permission of the New York Times Company via Copyright Clearance Center.\n"
        ],
        [
         "1",
         "1",
         "Does the electoral college work?",
         "Write a letter to your state senator in which you argue in favor of keeping the Electoral College or changing to election by popular vote for the president of the United States. Use the information from the texts in your essay. Manage your time carefully so that you can read the passages; plan your response; write your response; and revise and edit your response. Be sure to include a claim; address counterclaims; use evidence from multiple sources; and avoid overly relying on one source. Your response should be in the form of a multiparagraph essay. Write your response in the space provided.",
         "# What Is the Electoral College? by the Office of the Federal Register\n\n1 The Electoral College is a process, not a place. The founding fathers established it in the Constitution as a compromise between election of the President by a vote in Congress and election of the President by a popular vote of qualified citizens.\n\n2 The Electoral College process consists of the selection of the electors, the meeting of the electors where they vote for President and Vice President, and the counting of the electoral votes by Congress.\n\n3 The Electoral College consists of 538 electors. A majority of 270 electoral votes is required to elect the President. Your state’s entitled allotment of electors equals the number of members in its Congressional delegation: one for each member in the House of Representatives plus two for your Senators. . . .\n\n4 Under the 23rd Amendment of the Constitution, the District of Columbia is allocated 3 electors and treated like a state for purposes of the Electoral College. For this reason, in the following discussion, the word “state” also refers to the District of Columbia.\n\n5 Each candidate running for President in your state has his or her own group of electors. The electors are generally chosen by the candidate’s political party, but state laws vary on how the electors are selected and what their responsibilities are. . . .\n\n6 The presidential election is held every four years on the Tuesday after the first Monday in November. You help choose your state’s electors when you vote for President because when you vote for your candidate you are actually voting for your candidate’s electors.\n\n7 Most states have a “winner-take-all” system that awards all electors to the winning presidential candidate. However, Maine and Nebraska each have a variation of “proportional representation.” . . .\n\n8 After the presidential election, your governor prepares a “Certificate of Ascertainment” listing all of the candidates who ran for President in your state along with the names of their respective electors. The Certificate of Ascertainment also declares the winning presidential candidate in your state and shows which electors will represent your state at the meeting of the electors in December of the election year. Your state’s Certificates of Ascertainments are sent to the Congress and the National Archives as part of the official records of the presidential election.\n\n# The Indefensible Electoral College: Why even the best-laid defenses of the system are wrong by Bradford Plumer\n\n9 What have Richard Nixon, Jimmy Carter, Bob Dole, the U.S. Chamber of Commerce, and the AFL-CIO all, in their time, agreed on? Answer: Abolishing the electoral college! They’re not alone; according to a Gallup poll in 2000, taken shortly after Al Gore—thanks to the quirks of the electoral college—won the popular vote but lost the presidency,1 over 60 percent of voters would prefer a direct election to the kind we have now. This year voters can expect another close election in which the popular vote winner could again lose the presidency. And yet, the electoral college still has its defenders. What gives? . . . What’s wrong with the electoral college\n\n10 Under the electoral college system, voters vote not for the president, but for a slate of electors, who in turn elect the president. If you lived in Texas, for instance, and wanted to vote for John Kerry, you’d vote for a slate of 34 Democratic electors pledged to Kerry. On the offchance that those electors won the statewide election, they would go to Congress and Kerry would get 34 electoral votes. Who are the electors? They can be anyone not holding public office. Who picks the electors in the first place? It depends on the state. Sometimes state conventions, sometimes the state party’s central committee, sometimes the presidential candidates themselves. Can voters control whom their electors vote for? Not always. Do voters sometimes get confused about the electors and vote for the wrong candidate? Sometimes.\n\n11 The single best argument against the electoral college is what we might call the disaster factor. The American people should consider themselves lucky that the 2000 fiasco was the biggest election crisis in a century; the system allows for much worse. Consider that state legislatures are technically responsible for picking electors, and that those electors could always defy the will of the people. Back in 1960, segregationists in the Louisiana legislature nearly succeeded in replacing the Democratic electors with new electors who would oppose John F. Kennedy. (So that a popular vote for Kennedy would not have actually gone to Kennedy.) In the same vein, “faithless” electors have occasionally refused to vote for their party’s candidate and cast a deciding vote for whomever they please. . . . Oh, and what if a state sends two slates of electors to Congress? It happened in Hawaii in 1960. Luckily, Vice President Richard Nixon, who was presiding over the Senate, validated only his opponent’s electors, but he made sure to do so “without establishing a precedent.” What if it happened again?\n\n12 Perhaps most worrying is the prospect of a tie in the electoral vote. In that case, the election would be thrown to the House of Representatives, where state delegations vote on the president. (The Senate would choose the vice-president.) Because each state casts only one vote, the single representative from Wyoming, representing 500,000 voters, would have as much say as the 55 representatives from California, who represent 35 million voters. Given that many voters vote one party for president and another for Congress, the House’s selection can hardly be expected to reflect the will of the people. And if an electoral tie seems unlikely, consider this: In 1968, a shift of just 41,971 votes would have deadlocked the election; In 1976, a tie would have occurred if a mere 5,559 voters in Ohio and 3,687 voters in Hawaii had voted the other way. The election is only a few swing voters away from catastrophe.\n\n13 At the most basic level, the electoral college is unfair to voters. Because of the winner-takeall system in each state, candidates don't spend time in states they know they have no chance of winning, focusing only on the tight races in the “swing” states. During the 2000 campaign, seventeen states didn’t see the candidates at all, including Rhode Island and South Carolina, and voters in 25 of the largest media markets didn’t get to see a single campaign ad. If anyone has a good argument for putting the fate of the presidency in the hands of a few swing voters in Ohio, they have yet to make it. . . .\n\n14 It’s official: The electoral college is unfair, outdated, and irrational. The best arguments in favor of it are mostly assertions without much basis in reality. And the arguments against direct elections are spurious at best. It’s hard to say this, but Bob Dole was right: Abolish the electoral college!\n\n# In Defense of the Electoral College: Five reasons to keep our despised method of choosing the President by Judge Richard A. Posner\n\n15 The Electoral College is widely regarded as an anachronism,1 a non-democratic method of selecting a president that ought to be overruled by declaring the candidate who receives the most popular votes the winner. The advocates of this position are correct in arguing that the Electoral College method is not democratic in a modern sense . . . it is the electors who elect the president, not the people. When you vote for a presidential candidate you’re actually voting for a slate of electors.\n\n16 But each party selects a slate of electors trusted to vote for the party’s nominee (and that trust is rarely betrayed) . . . however, it is entirely possible that the winner of the electoral vote will not win the national popular vote. Yet that has happened very rarely. It happened in 2000, when Gore had more popular votes than Bush yet fewer electoral votes, but that was the first time since 1888.\n\n17 There are five reasons for retaining the Electoral College despite its lack of democratic pedigree;2 all are practical reasons, not liberal or conservative3 reasons.\n\n## 1) Certainty of Outcome\n\n18 A dispute over the outcome of an Electoral College vote is possible—--it happened in 2000--—but it’s less likely than a dispute over the popular vote. The reason is that the winning candidate’s share of the Electoral College invariably exceeds his share of the popular vote. In 2012’s election, for example, Obama4 received 61.7 percent of the electoral vote compared to only 51.3 percent of the popular votes cast for him and Romney.5 . . . Because almost all states award electoral votes on a winner-take-all basis, even a very slight plurality6 in a state creates a landslide electoral-vote victory in that state. A tie in the nationwide electoral vote is possible because the total number of votes—--538—--is an even number, but it is highly unlikely. . . .\n\n## 2) Everyone’s President\n\n19 The Electoral College requires a presidential candidate to have trans-regional appeal. No region (South, Northeast, etc.) has enough electoral votes to elect a president. So a solid regional favorite, such as Romney was in the South, has no incentive to campaign heavily in those states, for he gains no electoral votes by increasing his plurality in states that he knows he will win. This is a desirable result because a candidate with only regional appeal is unlikely to be a successful president. The residents of the other regions are likely to feel disenfranchised—to feel that their votes do not count, that the new president will have no regard for their interests, that he really isn’t their president.\n\n## 3) Swing States\n\n20 The winner-take-all method of awarding electoral votes induces the candidates—as we saw in 2012’s election—to focus their campaign efforts on the toss-up states . . . . Voters in toss-up states are more likely to pay close attention to the campaign—to really listen to the competing candidates—knowing that they are going to decide the election. They are likely to be the most thoughtful voters, on average (and for the further reason that they will have received the most information and attention from the candidates), and the most thoughtful voters should be the ones to decide the election.\n\n## 4) Big States\n\n21 The Electoral College restores some of the weight in the political balance that large states (by population) lose by virtue of the mal-apportionment of the Senate decreed in the Constitution. . . . The popular vote was very close in Florida in 2012; nevertheless Obama, who won that vote, got 29 electoral votes. A victory by the same margin in Wyoming would net the winner only 3 electoral votes. So, other things being equal, a large state gets more attention from presidential candidates in a campaign than a small state does. . . .\n\n## 5) Avoid Run-Off Elections\n\n22 The Electoral College avoids the problem of elections in which no candidate receives a majority of the votes cast. For example, Nixon in 1968 and Clinton in 1992 both had only a 43 percent plurality of the popular votes, while winning a majority in the Electoral College (301 and 370 electoral votes, respectively). There is pressure for run-off elections when no candidate wins a majority of the votes cast; that pressure, which would greatly complicate the presidential election process, is reduced by the Electoral College, which invariably produces a clear winner. . . .\n\n23 It can be argued that the Electoral College method of selecting the president may turn off potential voters for a candidate who has no hope of carrying their state—Democrats in Texas, for example, or Republicans in California. Knowing their vote will have no effect, they have less incentive to pay attention to the campaign than they would have if the president were picked by popular vote . . . . But of course no voter’s vote swings a national election, and in spite of that, about one-half the eligible American population did vote in 2012’s election. Voters in presidential elections are people who want to express a political preference rather than people who think that a single vote may decide an election. . . .\n"
        ]
       ],
       "shape": {
        "columns": 4,
        "rows": 2
       }
      },
      "text/html": [
       "<div>\n",
       "<style scoped>\n",
       "    .dataframe tbody tr th:only-of-type {\n",
       "        vertical-align: middle;\n",
       "    }\n",
       "\n",
       "    .dataframe tbody tr th {\n",
       "        vertical-align: top;\n",
       "    }\n",
       "\n",
       "    .dataframe thead th {\n",
       "        text-align: right;\n",
       "    }\n",
       "</style>\n",
       "<table border=\"1\" class=\"dataframe\">\n",
       "  <thead>\n",
       "    <tr style=\"text-align: right;\">\n",
       "      <th></th>\n",
       "      <th>prompt_id</th>\n",
       "      <th>prompt_name</th>\n",
       "      <th>instructions</th>\n",
       "      <th>source_text</th>\n",
       "    </tr>\n",
       "  </thead>\n",
       "  <tbody>\n",
       "    <tr>\n",
       "      <th>0</th>\n",
       "      <td>0</td>\n",
       "      <td>Car-free cities</td>\n",
       "      <td>Write an explanatory essay to inform fellow ci...</td>\n",
       "      <td># In German Suburb, Life Goes On Without Cars ...</td>\n",
       "    </tr>\n",
       "    <tr>\n",
       "      <th>1</th>\n",
       "      <td>1</td>\n",
       "      <td>Does the electoral college work?</td>\n",
       "      <td>Write a letter to your state senator in which ...</td>\n",
       "      <td># What Is the Electoral College? by the Office...</td>\n",
       "    </tr>\n",
       "  </tbody>\n",
       "</table>\n",
       "</div>"
      ],
      "text/plain": [
       "   prompt_id                       prompt_name  \\\n",
       "0          0                   Car-free cities   \n",
       "1          1  Does the electoral college work?   \n",
       "\n",
       "                                        instructions  \\\n",
       "0  Write an explanatory essay to inform fellow ci...   \n",
       "1  Write a letter to your state senator in which ...   \n",
       "\n",
       "                                         source_text  \n",
       "0  # In German Suburb, Life Goes On Without Cars ...  \n",
       "1  # What Is the Electoral College? by the Office...  "
      ]
     },
     "metadata": {},
     "output_type": "display_data"
    },
    {
     "data": {
      "image/png": "[encoded data removed]",
      "text/plain": [
       "<Figure size 640x480 with 1 Axes>"
      ]
     },
     "metadata": {},
     "output_type": "display_data"
    },
    {
     "name": "stdout",
     "output_type": "stream",
     "text": [
      "\n",
      "🔗 Exemple de texte avec prompt associé :\n"
     ]
    },
    {
     "data": {
      "application/vnd.microsoft.datawrangler.viewer.v0+json": {
       "columns": [
        {
         "name": "index",
         "rawType": "int64",
         "type": "integer"
        },
        {
         "name": "prompt_id",
         "rawType": "int64",
         "type": "integer"
        },
        {
         "name": "prompt_name",
         "rawType": "object",
         "type": "string"
        },
        {
         "name": "instructions",
         "rawType": "object",
         "type": "string"
        },
        {
         "name": "text",
         "rawType": "object",
         "type": "string"
        }
       ],
       "ref": "344ef9d2-73bb-47df-bb71-e5b808a07877",
       "rows": [
        [
         "0",
         "0",
         "Car-free cities",
         "Write an explanatory essay to inform fellow citizens about the advantages of limiting car usage. Your essay must be based on ideas and information that can be found in the passage set. Manage your time carefully so that you can read the passages; plan your response; write your response; and revise and edit your response. Be sure to use evidence from multiple sources; and avoid overly relying on one source. Your response should be in the form of a multiparagraph essay. Write your essay in the space provided.",
         "Cars. Cars have been around since they became famous in the 1900s, when Henry Ford created and built the first ModelT. Cars have played a major role in our every day lives since then. But now, people are starting to question if limiting car usage would be a good thing. To me, limiting the use of cars might be a good thing to do.\n\nIn like matter of this, article, \"In German Suburb, Life Goes On Without Cars,\" by Elizabeth Rosenthal states, how automobiles are the linchpin of suburbs, where middle class families from either Shanghai or Chicago tend to make their homes. Experts say how this is a huge impediment to current efforts to reduce greenhouse gas emissions from tailpipe. Passenger cars are responsible for 12 percent of greenhouse gas emissions in Europe...and up to 50 percent in some carintensive areas in the United States. Cars are the main reason for the greenhouse gas emissions because of a lot of people driving them around all the time getting where they need to go. Article, \"Paris bans driving due to smog,\" by Robert Duffer says, how Paris, after days of nearrecord pollution, enforced a partial driving ban to clear the air of the global city. It also says, how on Monday, motorist with evennumbered license plates were ordered to leave their cars at home or be fined a 22euro fine 31. The same order would be applied to oddnumbered plates the following day. Cars are the reason for polluting entire cities like Paris. This shows how bad cars can be because, of all the pollution that they can cause to an entire city.\n\nLikewise, in the article, \"Carfree day is spinning into a big hit in Bogota,\" by Andrew Selsky says, how programs that's set to spread to other countries, millions of Columbians hiked, biked, skated, or took the bus to work during a carfree day, leaving streets of this capital city eerily devoid of traffic jams. It was the third straight year cars have been banned with only buses and taxis permitted for the Day Without Cars in the capital city of 7 million. People like the idea of having carfree days because, it allows them to lesson the pollution that cars put out of their exhaust from people driving all the time. The article also tells how parks and sports centers have bustled throughout the city uneven, pitted sidewalks have been replaced by broad, smooth sidewalks rushhour restrictions have dramatically cut traffic and new restaurants and upscale shopping districts have cropped up. Having no cars has been good for the country of Columbia because, it has aloud them to repair things that have needed repairs for a long time, traffic jams have gone down, and restaurants and shopping districts have popped up, all due to the fact of having less cars around.\n\nIn conclusion, the use of less cars and having carfree days, have had a big impact on the environment of cities because, it is cutting down the air pollution that the cars have majorly polluted, it has aloud countries like Columbia to repair sidewalks, and cut down traffic jams. Limiting the use of cars would be a good thing for America. So we should limit the use of cars by maybe riding a bike, or maybe walking somewhere that isn't that far from you and doesn't need the use of a car to get you there. To me, limiting the use of cars might be a good thing to do."
        ],
        [
         "1",
         "0",
         "Car-free cities",
         "Write an explanatory essay to inform fellow citizens about the advantages of limiting car usage. Your essay must be based on ideas and information that can be found in the passage set. Manage your time carefully so that you can read the passages; plan your response; write your response; and revise and edit your response. Be sure to use evidence from multiple sources; and avoid overly relying on one source. Your response should be in the form of a multiparagraph essay. Write your essay in the space provided.",
         "Transportation is a large necessity in most countries worldwide. With no doubt, cars, buses, and other means of transportation make going from place to place easier and faster. However there's always a negative pollution. Although mobile transportation are a huge part of daily lives, we are endangering the Earth with harmful greenhouse gases, which could be suppressed.\n\nA small suburb community in Germany called Vauban, has started a \"carfree\" lifestyle. In this city, markets and stores are placed nearby homes, instead of being located by farend highways. Although Vauban is not completely carfree, 70% of Vauban families do not own cars Even a large 57% of families stated to have sold their cars to move to Vauban. Some families have even said to be less stressed depending on car transportation. Cars are responsible for about 12% of greenhouse gases, and can even be up to 50% in some carintensive areas in the United States.\n\nAnother insight to reduced car zones brings Paris' incident with smog. Paris' officials created a system that would in fact lower smog rates. On Monday, the motorists with evennumbered license plates numbers would be ordered to leave their cars at home, or they would suffer a fine. Same rule would occur on Tuesday, except motorists with oddnumbered license plates were targeted with fines. Congestion, or traffic, was reduced by 60% after five days of intense smog. Diesel fuel played a huge part in this pollution, having the fact that 67% of vehicles in France are of Diesel fuel. The impact of the clearing of smog, resided in banning the Tuesday rule of odd license plates.\n\nCould you imagine a day without seeing a single car being used? This phenomenon occurs once a year in Bogota, Colombia. With the exception of buses and taxis being used, cars are to be left unattended for an entire day. Having a carfree day just once a year can even reduce the pollution slightly. The day without cars is part of a campaign that originated in Bogota in the mid 1990s. This campaign has renewed and constructed numerous bicycle paths and sidewalks all over the city. Parks and sports centers have also sprung from this campaign. Devoting your time to a carfree lifestyle has it's hassles, but in hindsight, it has it's benefits.\n\nTo conclude, living a carfree lifestyle does not seem like a possibility in this day and age, however managing the use of cars and pollution is something every country should take time investing in. Think about how much of an impact it would be if everywhere worldwide would take part in airpollution reduction. Mobile transportation is lifestyle in a sense, and being dependent on cars or other means of transportation can impact the health of the Earth and even ourselves."
        ],
        [
         "2",
         "0",
         "Car-free cities",
         "Write an explanatory essay to inform fellow citizens about the advantages of limiting car usage. Your essay must be based on ideas and information that can be found in the passage set. Manage your time carefully so that you can read the passages; plan your response; write your response; and revise and edit your response. Be sure to use evidence from multiple sources; and avoid overly relying on one source. Your response should be in the form of a multiparagraph essay. Write your essay in the space provided.",
         "\"America's love affair with it's vehicles seems to be cooling\" says Elisabeth rosenthal. To understand rosenthal's perspective, it is easier to suggest that America's car usage is decreasing slowly. This isn't necessarily bad in the sense that it has certain positive effects. The advantages of limiting car usage includes an increase in security and health, along with a decrease in pollution and dependence.\n\nFirstly, when car usage is limited security and health is more likely to be guaranteed. The feeling of being secure is highly important to individuals everywhere. For example, many people in colombia used public transportation during a car free day \"leaving the streets of this capital city \", according to Andrew Selsky, \"eerily devoid of traffic jams\". The complications that stem from traffic jams end with a feeling of confidence. The plan to get from point A to B was more simple just a second ago. This complication in your personal plans leads you to become stressed as a feeling of doubt overcomes all thoughts. If car usage was limited, there would be a control on how much traffic accumulates thus minimizing chance of stress. As Heidrun Walter states \"when i had a car i was always tense. I'm much happier this way\". not only does car usage minimize conditions detrimental to health, it also enlarges your capacity for exercise. The main purpose of the car is to get someone from one place to another. when an important job takes over your personal life, it becomes difficult to do things most enjoyed in life. limits on car usage forces you to stay in shape. According to Andrew Selsky \"parks and sports centers also have bloomed throughout the city\". Less cars means healthier and natural situations. With parks and sport centers becoming more efficient, it becomes easier to find a more physically active population. Overall, less usage on cars minimizes stress and increases health.\n\nSecondly, limting car usage becomes beneficial to the environment. Now a days people have become annoyed with others who care so passionately about the environment. If you look behind their constant cries for action, there are solid facts. Yespollution is bad for the environment. Yes a bad envorment means unhealthy living. Yes cars are one of the main contributors to pollution in the environment. A pattern of less car usage, as Elisabeth Rosenthal states \"will have beneficial implications for carbon emissions and the environment\". The less use of cars, the less pollution in the environment. One must observe limiting car usage as an opportunity to create a cleaner world and better future. The effects of pollution in the environment is completley dangerous and we, the car users, are to blame.\n\nAdditionally, it would lower the dependence on cars. Many people today find that their car is so useful. While it has many features and is a form of transportation, many do not figure what they would do if they did not have such a possesion. The development of people and their interaction with technology has left a wide gap between historic, natural ways and what is thought of as modern society. Being dependent is not always good for individuals. As david goldberg says \"all our development since world war II has been centered on the car, and that will have to change\". Many people could disagree and wonder why it is necessary to change our ways especially if we are so highly devloped. If being developed means being dependent on a harmful machine, then it could not be effective devlopment. According to Elisabeth Rosenthal \"cashstrapped americans could not afford new cars, and the unemployed were't going to work anyway\". Many people can't have the precious luxury of private transportation in the first place. Those who have had it have become distant to a more natural society. Peope have become so use to having cars that they have become oblivious to the significant effects. With limits on car usage , these effcts could be controlled.\n\nTo conclude, the advantages of limiting car usage is an increase in health, along with a decrease in pollution, and less dependence on cars. limiting car usage is a positive way to enfore an organized and clean environment, and ensure health and security of those who live in it. This is one reason America can be reffered to as a succesful country. It is not that America has decreased use of vehicles, but the fact that they have done what is best for majority."
        ]
       ],
       "shape": {
        "columns": 4,
        "rows": 3
       }
      },
      "text/html": [
       "<div>\n",
       "<style scoped>\n",
       "    .dataframe tbody tr th:only-of-type {\n",
       "        vertical-align: middle;\n",
       "    }\n",
       "\n",
       "    .dataframe tbody tr th {\n",
       "        vertical-align: top;\n",
       "    }\n",
       "\n",
       "    .dataframe thead th {\n",
       "        text-align: right;\n",
       "    }\n",
       "</style>\n",
       "<table border=\"1\" class=\"dataframe\">\n",
       "  <thead>\n",
       "    <tr style=\"text-align: right;\">\n",
       "      <th></th>\n",
       "      <th>prompt_id</th>\n",
       "      <th>prompt_name</th>\n",
       "      <th>instructions</th>\n",
       "      <th>text</th>\n",
       "    </tr>\n",
       "  </thead>\n",
       "  <tbody>\n",
       "    <tr>\n",
       "      <th>0</th>\n",
       "      <td>0</td>\n",
       "      <td>Car-free cities</td>\n",
       "      <td>Write an explanatory essay to inform fellow ci...</td>\n",
       "      <td>Cars. Cars have been around since they became ...</td>\n",
       "    </tr>\n",
       "    <tr>\n",
       "      <th>1</th>\n",
       "      <td>0</td>\n",
       "      <td>Car-free cities</td>\n",
       "      <td>Write an explanatory essay to inform fellow ci...</td>\n",
       "      <td>Transportation is a large necessity in most co...</td>\n",
       "    </tr>\n",
       "    <tr>\n",
       "      <th>2</th>\n",
       "      <td>0</td>\n",
       "      <td>Car-free cities</td>\n",
       "      <td>Write an explanatory essay to inform fellow ci...</td>\n",
       "      <td>\"America's love affair with it's vehicles seem...</td>\n",
       "    </tr>\n",
       "  </tbody>\n",
       "</table>\n",
       "</div>"
      ],
      "text/plain": [
       "   prompt_id      prompt_name  \\\n",
       "0          0  Car-free cities   \n",
       "1          0  Car-free cities   \n",
       "2          0  Car-free cities   \n",
       "\n",
       "                                        instructions  \\\n",
       "0  Write an explanatory essay to inform fellow ci...   \n",
       "1  Write an explanatory essay to inform fellow ci...   \n",
       "2  Write an explanatory essay to inform fellow ci...   \n",
       "\n",
       "                                                text  \n",
       "0  Cars. Cars have been around since they became ...  \n",
       "1  Transportation is a large necessity in most co...  \n",
       "2  \"America's love affair with it's vehicles seem...  "
      ]
     },
     "metadata": {},
     "output_type": "display_data"
    }
   ],
   "source": [
    "## Étape 2 — Chargement et exploration des données\n",
    "import pandas as pd\n",
    "import matplotlib.pyplot as plt\n",
    "import seaborn as sns\n",
    "\n",
    "# Chargement des fichiers\n",
    "TRAIN_PATH = \"data/train_essays.csv\"\n",
    "TEST_PATH = \"data/test_essays.csv\"\n",
    "PROMPT_PATH = \"data/train_prompts.csv\"\n",
    "\n",
    "train_df = pd.read_csv(TRAIN_PATH)\n",
    "test_df = pd.read_csv(TEST_PATH)\n",
    "prompt_df = pd.read_csv(PROMPT_PATH)\n",
    "\n",
    "# --- Dimensions des datasets\n",
    "print(\"🔢 Dimensions :\")\n",
    "print(f\"Train: {train_df.shape}\")\n",
    "print(f\"Test : {test_df.shape}\")\n",
    "print(f\"Prompts: {prompt_df.shape}\")\n",
    "\n",
    "# --- Types de colonnes\n",
    "print(\"\\n🧱 Types de données (train):\")\n",
    "print(train_df.dtypes)\n",
    "\n",
    "# --- Valeurs manquantes\n",
    "print(\"\\n❓ Valeurs manquantes (train) :\")\n",
    "print(train_df.isnull().sum())\n",
    "\n",
    "# --- Colonnes disponibles\n",
    "print(\"\\n📌 Colonnes disponibles :\")\n",
    "print(\"Train :\", train_df.columns.tolist())\n",
    "print(\"Test  :\", test_df.columns.tolist())\n",
    "print(\"Prompts :\", prompt_df.columns.tolist())\n",
    "\n",
    "# --- Aperçu\n",
    "print(\"\\n📝 Exemples (train) :\")\n",
    "display(train_df.head(3))\n",
    "\n",
    "print(\"\\n📝 Exemples (test) :\")\n",
    "display(test_df.head(3))\n",
    "\n",
    "print(\"\\n📝 Exemples (prompts) :\")\n",
    "display(prompt_df.head(3))\n",
    "\n",
    "# --- Distribution des classes\n",
    "if 'label' in train_df.columns:\n",
    "    print(\"\\n📊 Distribution des classes :\")\n",
    "    class_counts = train_df['label'].value_counts()\n",
    "    print(class_counts)\n",
    "\n",
    "    sns.barplot(x=class_counts.index, y=class_counts.values)\n",
    "    plt.title(\"Distribution des classes (label)\")\n",
    "    plt.xlabel(\"Classe (0 = humain, 1 = IA)\")\n",
    "    plt.ylabel(\"Nombre d'exemples\")\n",
    "    plt.show()\n",
    "\n",
    "# --- Longueur des textes\n",
    "train_df['text_length'] = train_df['text'].apply(lambda x: len(str(x).split()))\n",
    "test_df['text_length'] = test_df['text'].apply(lambda x: len(str(x).split()))\n",
    "\n",
    "plt.hist(train_df['text_length'], bins=50, alpha=0.7, label='train')\n",
    "plt.hist(test_df['text_length'], bins=50, alpha=0.7, label='test')\n",
    "plt.title(\"Distribution de la longueur des textes (en tokens)\")\n",
    "plt.xlabel(\"Nombre de mots\")\n",
    "plt.ylabel(\"Fréquence\")\n",
    "plt.legend()\n",
    "plt.show()\n",
    "\n",
    "# --- Prompts liés aux textes (si 'prompt_id' existe)\n",
    "if 'prompt_id' in train_df.columns and 'prompt_id' in prompt_df.columns:\n",
    "    merged_df = train_df.merge(prompt_df, on='prompt_id', how='left')\n",
    "    print(\"\\n🔗 Exemple de texte avec prompt associé :\")\n",
    "    display(merged_df[['prompt_id', 'prompt_name', 'instructions', 'text']].head(3))\n",
    "\n"
   ]
  },
  {
   "cell_type": "markdown",
   "id": "cb80b208",
   "metadata": {},
   "source": [
    "###  **Structure des fichiers**\n",
    "\n",
    "* **`train_essays.csv`** : 1378 exemples avec labels (`generated` = 0/1).\n",
    "* **`test_essays.csv`** : 3 exemples sans labels.\n",
    "* **`train_prompts.csv`** : 2 prompts différents.\n",
    "\n",
    "---\n",
    "\n",
    "###  **Colonnes clés**\n",
    "\n",
    "* `train` : `id`, `promptid`, `text`, `generated`\n",
    "* `test` : `id`, `promptid`, `text`\n",
    "* `prompts` : `promptid`, `promptname`, `instructions`, `source_text`\n",
    "\n",
    "---\n",
    "\n",
    "###  **Longueur des textes**\n",
    "\n",
    "* Distribution centrée autour de **500–600 tokens**, max ≈ 1300.\n",
    "* Uniformité entre `train` et `test` (visuellement, pas d’écart significatif).\n",
    "\n",
    "---\n",
    "\n",
    "###  **Qualité**\n",
    "\n",
    "* Aucune valeur manquante.\n",
    "* Types cohérents.\n",
    "* Données prêtes pour :\n",
    "\n",
    "  * fusion `essays + prompts` via `promptid`\n",
    "  * encodage (troncature nécessaire si modèle avec limite de tokens)\n",
    "\n"
   ]
  },
  {
   "cell_type": "markdown",
   "id": "7f382efb",
   "metadata": {},
   "source": [
    "## Étape 3 — Chargement du tokenizer BERT et extraction des embeddings"
   ]
  },
  {
   "cell_type": "code",
   "execution_count": 13,
   "id": "deb81c0b",
   "metadata": {},
   "outputs": [],
   "source": [
    "from transformers import BertTokenizer, BertModel\n",
    "\n",
    "# Chargement du tokenizer BERT\n",
    "tokenizer = BertTokenizer.from_pretrained(\"bert-base-uncased\")\n",
    "\n",
    "# Chargement du modèle BERT sans classification head\n",
    "embedding_model = BertModel.from_pretrained(\"bert-base-uncased\")\n",
    "embedding_model.eval()  # Mode évaluation (pas de dropout)\n",
    "\n",
    "# Utiliser le GPU si disponible\n",
    "import torch\n",
    "device = torch.device(\"cuda\" if torch.cuda.is_available() else \"cpu\")\n",
    "embedding_model.to(device)\n",
    "\n",
    "# Fonction d'encodage + embedding\n",
    "def get_bert_embedding(texts):\n",
    "    with torch.no_grad():\n",
    "        encoded = tokenizer(texts, padding=True, truncation=True, return_tensors='pt', max_length=512)\n",
    "        input_ids = encoded['input_ids'].to(device)\n",
    "        token_type_ids = encoded['token_type_ids'].to(device)\n",
    "        attention_mask = encoded['attention_mask'].to(device)\n",
    "\n",
    "        output = embedding_model(input_ids=input_ids,\n",
    "                                 token_type_ids=token_type_ids,\n",
    "                                 attention_mask=attention_mask)\n",
    "        \n",
    "        return output.last_hidden_state  # shape: (batch_size, seq_len, hidden_size)\n"
   ]
  },
  {
   "cell_type": "markdown",
   "id": "fe62a3a8",
   "metadata": {},
   "source": [
    "### Test réel et immédiat de la fonction get_bert_embedding sur un mini-batch extrait de train_df['text']."
   ]
  },
  {
   "cell_type": "code",
   "execution_count": 16,
   "id": "b91675b9",
   "metadata": {},
   "outputs": [
    {
     "name": "stdout",
     "output_type": "stream",
     "text": [
      "📝 Textes d'entrée :\n",
      "\n",
      "--- Texte 1 (584 mots) ---\n",
      "Cars. Cars have been around since they became famous in the 1900s, when Henry Ford created and built the first ModelT. Cars have played a major role in our every day lives since then. But now, people are starting to question if limiting car usage would be a good thing. To me, limiting the use of car...\n",
      "\n",
      "--- Texte 2 (462 mots) ---\n",
      "Transportation is a large necessity in most countries worldwide. With no doubt, cars, buses, and other means of transportation make going from place to place easier and faster. However there's always a negative pollution. Although mobile transportation are a huge part of daily lives, we are endanger...\n",
      "\n",
      "--- Texte 3 (744 mots) ---\n",
      "\"America's love affair with it's vehicles seems to be cooling\" says Elisabeth rosenthal. To understand rosenthal's perspective, it is easier to suggest that America's car usage is decreasing slowly. This isn't necessarily bad in the sense that it has certain positive effects. The advantages of limit...\n",
      "\n",
      " Forme de l'output (embedding BERT): torch.Size([3, 512, 768])\n"
     ]
    }
   ],
   "source": [
    "# Sélection de 3 textes depuis le jeu d'entraînement\n",
    "sample_texts = train_df['text'].dropna().iloc[:3].tolist()\n",
    "\n",
    "# Affichage des textes bruts\n",
    "print(\"📝 Textes d'entrée :\\n\")\n",
    "for i, txt in enumerate(sample_texts):\n",
    "    print(f\"--- Texte {i+1} ({len(txt.split())} mots) ---\\n{txt[:300]}...\\n\")\n",
    "\n",
    "# Récupération des embeddings\n",
    "embeddings = get_bert_embedding(sample_texts)\n",
    "\n",
    "# Infos sur la sortie\n",
    "print(\" Forme de l'output (embedding BERT):\", embeddings.shape)\n"
   ]
  },
  {
   "cell_type": "markdown",
   "id": "c70b3db9",
   "metadata": {},
   "source": [
    "###  **Entrée**\n",
    "\n",
    "* **3 textes** entre **462 et 744 mots**.\n",
    "* Sujet : **limitation de l’usage des voitures** (prompt 0).\n",
    "* Longueur conforme aux capacités de BERT (512 tokens max).\n",
    "\n",
    "  * Troncature automatique a pu être appliquée.\n",
    "\n",
    "---\n",
    "\n",
    "###  **Sortie (embeddings BERT)**\n",
    "\n",
    "* `torch.Size([3, 512, 768])`\n",
    "  ⟶ 3 textes, chacun encodé en **512 tokens** (post-troncature), chaque token représenté par un vecteur **de dimension 768**.\n",
    "\n",
    "---\n",
    "\n",
    "###  **Conclusion**\n",
    "\n",
    "Tout fonctionne comme prévu :\n",
    "\n",
    "* Textes bien encodés.\n",
    "* Format exploitable pour :\n",
    "\n",
    "  * le Discriminateur\n",
    "  * la visualisation\n",
    "  * des métriques comme la similarité cosinus ou l’AUC\n"
   ]
  },
  {
   "cell_type": "markdown",
   "id": "7b29e03b",
   "metadata": {},
   "source": [
    "## Étape 4 — Préparation des données pour PyTorch"
   ]
  },
  {
   "cell_type": "code",
   "execution_count": 18,
   "id": "0c075434",
   "metadata": {},
   "outputs": [
    {
     "name": "stdout",
     "output_type": "stream",
     "text": [
      "['id', 'prompt_id', 'text', 'generated', 'text_length']\n"
     ]
    }
   ],
   "source": [
    "print(train_df.columns.tolist())\n"
   ]
  },
  {
   "cell_type": "markdown",
   "id": "c2afe507",
   "metadata": {},
   "source": [
    "* **id** : identifiant unique du texte.\n",
    "* **prompt\\_id** : identifiant du sujet (référence à `train_prompts.csv`).\n",
    "* **text** : contenu textuel (l'essai).\n",
    "* **generated** : `0` si humain, `1` si généré par IA.\n",
    "* **text\\_length** : nombre de tokens ou mots (ajouté ou calculé).\n"
   ]
  },
  {
   "cell_type": "code",
   "execution_count": 19,
   "id": "3f36441a",
   "metadata": {},
   "outputs": [
    {
     "name": "stdout",
     "output_type": "stream",
     "text": [
      "✅ Train batches : 69\n",
      "✅ Validation batches : 9\n"
     ]
    }
   ],
   "source": [
    "from torch.utils.data import Dataset, DataLoader\n",
    "\n",
    "# Dataset PyTorch pour GAN\n",
    "class GANDAIGDataset(Dataset):\n",
    "    def __init__(self, texts, labels):\n",
    "        self.texts = texts\n",
    "        self.labels = labels\n",
    "\n",
    "    def __len__(self):\n",
    "        return len(self.texts)\n",
    "\n",
    "    def __getitem__(self, idx):\n",
    "        return self.texts[idx], float(self.labels[idx])\n",
    "\n",
    "# Split train/validation\n",
    "train_ratio = 0.8\n",
    "train_size = int(len(train_df) * train_ratio)\n",
    "\n",
    "train_texts = train_df['text'].iloc[:train_size].tolist()\n",
    "train_labels = train_df['generated'].iloc[:train_size].tolist()\n",
    "\n",
    "val_texts = train_df['text'].iloc[train_size:].tolist()\n",
    "val_labels = train_df['generated'].iloc[train_size:].tolist()\n",
    "\n",
    "# Création des datasets\n",
    "train_dataset = GANDAIGDataset(train_texts, train_labels)\n",
    "val_dataset = GANDAIGDataset(val_texts, val_labels)\n",
    "\n",
    "# Paramètres\n",
    "train_batch_size = 16\n",
    "val_batch_size = 32\n",
    "\n",
    "# DataLoaders\n",
    "train_loader = DataLoader(train_dataset, batch_size=train_batch_size, shuffle=True)\n",
    "val_loader = DataLoader(val_dataset, batch_size=val_batch_size, shuffle=False)\n",
    "\n",
    "print(f\"✅ Train batches : {len(train_loader)}\")\n",
    "print(f\"✅ Validation batches : {len(val_loader)}\")\n"
   ]
  },
  {
   "cell_type": "markdown",
   "id": "3cb9b048",
   "metadata": {},
   "source": [
    "*  **69 batches d'entraînement** → pour `train_loader`, à raison de `batch_size=20` environ (1378 / 20 ≈ 69).\n",
    "*  **9 batches de validation** → si tu as fait un `split` autour de 90/10.\n",
    "\n",
    "Je peux maintenant :\n",
    "\n",
    "1. **Contrôler la convergence du modèle** (loss D/G).\n",
    "2. **Calculer des métriques sur la validation** (AUC, accuracy).\n",
    "3. **Sauvegarder les modèles (`netG`, `netD`)** pour réutilisation :\n",
    "\n"
   ]
  },
  {
   "cell_type": "markdown",
   "id": "3824ee10",
   "metadata": {},
   "source": [
    "## Étape 5 — Définition du Générateur (Generator)"
   ]
  },
  {
   "cell_type": "code",
   "execution_count": 23,
   "id": "4b8585e5",
   "metadata": {},
   "outputs": [],
   "source": [
    "import torch.nn as nn\n",
    "from transformers import BertConfig\n",
    "from transformers.models.bert.modeling_bert import BertEncoder\n",
    "\n",
    "# Configuration du BERTEncoder\n",
    "num_hidden_layers = 4\n",
    "bert_config = BertConfig(\n",
    "    hidden_size=768,\n",
    "    num_hidden_layers=num_hidden_layers,\n",
    "    num_attention_heads=12,\n",
    "    intermediate_size=3072\n",
    ")\n",
    "\n",
    "# Définition du générateur\n",
    "class Generator(nn.Module):\n",
    "    def __init__(self, input_dim=100, seq_len=512, hidden_size=768):\n",
    "        super().__init__()\n",
    "        self.seq_len = seq_len\n",
    "        self.hidden_size = hidden_size\n",
    "\n",
    "        self.fc = nn.Linear(input_dim, seq_len * hidden_size)\n",
    "        self.bert_encoder = BertEncoder(bert_config)\n",
    "\n",
    "    def forward(self, noise):\n",
    "        x = self.fc(noise)                            # (B, seq_len * hidden)\n",
    "        x = x.view(-1, self.seq_len, self.hidden_size)\n",
    "        output = self.bert_encoder(inputs_embeds=x)\n",
    "        return output.last_hidden_state               # (B, seq_len, hidden)\n"
   ]
  },
  {
   "cell_type": "markdown",
   "id": "2513fe4b",
   "metadata": {},
   "source": [
    "## Étape 6 — Définition du Discriminateur"
   ]
  },
  {
   "cell_type": "code",
   "execution_count": 31,
   "id": "acd89206",
   "metadata": {},
   "outputs": [],
   "source": [
    "import torch\n",
    "import torch.nn as nn\n",
    "from transformers import BertModel\n",
    "from transformers.models.bert.modeling_bert import BertEncoder\n",
    "\n",
    "# Pooling par moyenne sur les tokens\n",
    "class MeanBertPooler(nn.Module):\n",
    "    def forward(self, hidden_states):\n",
    "        return hidden_states.mean(dim=1)  # (batch_size, hidden_size)\n",
    "\n",
    "# Discriminateur basé sur BERTEncoder\n",
    "class Discriminator(nn.Module):\n",
    "    def __init__(self, pretrained_encoder, num_layers_to_keep=6):\n",
    "        super().__init__()\n",
    "\n",
    "        self.config = pretrained_encoder.config\n",
    "\n",
    "        # Créer un nouveau BertEncoder avec seulement les N premières couches\n",
    "        self.bert_encoder = BertEncoder(self.config)\n",
    "        self.bert_encoder.layer = nn.ModuleList(\n",
    "            pretrained_encoder.encoder.layer[:num_layers_to_keep]\n",
    "        )\n",
    "\n",
    "        self.pooler = MeanBertPooler()\n",
    "\n",
    "        self.classifier = nn.Sequential(\n",
    "            nn.Linear(self.config.hidden_size, 128),\n",
    "            nn.ReLU(),\n",
    "            nn.Linear(128, 1)  # sortie binaire\n",
    "        )\n",
    "\n",
    "    def forward(self, x):\n",
    "        \"\"\"\n",
    "        x : embeddings BERT de taille (batch, seq_len, hidden_size)\n",
    "        \"\"\"\n",
    "        attention_mask = torch.ones(x.size()[:2], dtype=torch.float32).to(x.device)\n",
    "\n",
    "        encoder_output = self.bert_encoder(\n",
    "            hidden_states=x,\n",
    "            attention_mask=attention_mask\n",
    "        )\n",
    "\n",
    "        pooled = self.pooler(encoder_output.last_hidden_state)  # (B, H)\n",
    "        logits = self.classifier(pooled)                        # (B, 1)\n",
    "        return torch.sigmoid(logits).squeeze(1)                 # (B,)\n"
   ]
  },
  {
   "cell_type": "code",
   "execution_count": 32,
   "id": "686f48ab",
   "metadata": {},
   "outputs": [
    {
     "name": "stdout",
     "output_type": "stream",
     "text": [
      "✅ Discriminateur initialisé.\n"
     ]
    }
   ],
   "source": [
    "from transformers import BertModel\n",
    "\n",
    "full_bert = BertModel.from_pretrained(\"bert-base-uncased\")\n",
    "netD = Discriminator(pretrained_encoder=full_bert, num_layers_to_keep=6).to(device)\n",
    "print(\"✅ Discriminateur initialisé.\")\n"
   ]
  },
  {
   "cell_type": "markdown",
   "id": "08f1c724",
   "metadata": {},
   "source": [
    "Discriminateur est prêt à être entraîné ou évalué."
   ]
  },
  {
   "cell_type": "markdown",
   "id": "955ce149",
   "metadata": {},
   "source": [
    "## Étape 7 — Entraînement du GAN"
   ]
  },
  {
   "cell_type": "code",
   "execution_count": 33,
   "id": "e041d69c",
   "metadata": {},
   "outputs": [],
   "source": [
    "import torch.optim as optim\n",
    "import torch.nn as nn\n",
    "\n",
    "nz = 100  # taille du vecteur latent\n",
    "lr = 2e-5\n",
    "beta1 = 0.5\n",
    "num_epochs = 5\n",
    "\n",
    "netG = Generator(input_dim=nz).to(device)\n",
    "\n",
    "criterion = nn.BCELoss()\n",
    "optimizerD = optim.Adam(netD.parameters(), lr=lr, betas=(beta1, 0.999))\n",
    "optimizerG = optim.Adam(netG.parameters(), lr=lr, betas=(beta1, 0.999))\n"
   ]
  },
  {
   "cell_type": "markdown",
   "id": "aa9553dd",
   "metadata": {},
   "source": [
    "### Boucle d'entraînement :"
   ]
  },
  {
   "cell_type": "markdown",
   "id": "f0f115ce",
   "metadata": {},
   "source": []
  },
  {
   "cell_type": "code",
   "execution_count": 36,
   "id": "96c4d3c3",
   "metadata": {},
   "outputs": [],
   "source": [
    "class Generator(nn.Module):\n",
    "    def __init__(self, input_dim=100, seq_len=512, hidden_size=768):\n",
    "        super().__init__()\n",
    "        self.seq_len = seq_len\n",
    "        self.hidden_size = hidden_size\n",
    "\n",
    "        from transformers import BertConfig\n",
    "        from transformers.models.bert.modeling_bert import BertEncoder\n",
    "\n",
    "        config = BertConfig(\n",
    "            hidden_size=hidden_size,\n",
    "            num_hidden_layers=4,\n",
    "            num_attention_heads=12,\n",
    "            intermediate_size=3072\n",
    "        )\n",
    "\n",
    "        self.fc = nn.Linear(input_dim, seq_len * hidden_size)\n",
    "        self.bert_encoder = BertEncoder(config)\n",
    "\n",
    "    def forward(self, noise):\n",
    "        x = self.fc(noise)                             # (B, 512 * 768)\n",
    "        x = x.view(-1, self.seq_len, self.hidden_size) # (B, 512, 768)\n",
    "\n",
    "        attention_mask = torch.ones(x.size()[:2], dtype=torch.float32).to(x.device)\n",
    "        extended_mask = attention_mask[:, None, None, :]  # (B, 1, 1, S)\n",
    "\n",
    "        output = self.bert_encoder(\n",
    "            hidden_states=x,\n",
    "            attention_mask=extended_mask\n",
    "        )\n",
    "\n",
    "        return output.last_hidden_state  # (B, 512, 768)\n"
   ]
  },
  {
   "cell_type": "markdown",
   "id": "9224857b",
   "metadata": {},
   "source": [
    "### Validation jusqu'à cette étape:"
   ]
  },
  {
   "cell_type": "code",
   "execution_count": 39,
   "id": "1f72f574",
   "metadata": {},
   "outputs": [],
   "source": [
    "#Test minimal\n",
    "import torch\n",
    "import torch.nn as nn\n",
    "from transformers.models.bert.modeling_bert import BertEncoder\n",
    "from transformers import BertConfig\n",
    "\n",
    "class Generator(nn.Module):\n",
    "    def __init__(self, input_dim=100, seq_len=512, hidden_size=768):\n",
    "        super().__init__()\n",
    "        self.seq_len = seq_len\n",
    "        self.hidden_size = hidden_size\n",
    "\n",
    "        config = BertConfig(\n",
    "            hidden_size=hidden_size,\n",
    "            num_hidden_layers=4,\n",
    "            num_attention_heads=12,\n",
    "            intermediate_size=3072\n",
    "        )\n",
    "\n",
    "        self.fc = nn.Linear(input_dim, seq_len * hidden_size)\n",
    "        self.bert_encoder = BertEncoder(config)\n",
    "\n",
    "    def forward(self, noise):\n",
    "        # Génère une séquence d'embeddings\n",
    "        x = self.fc(noise)                             # (B, seq_len * hidden)\n",
    "        x = x.view(-1, self.seq_len, self.hidden_size) # (B, seq_len, hidden)\n",
    "\n",
    "        # Crée un masque d'attention plein\n",
    "        attention_mask = torch.ones(x.size()[:2], dtype=torch.float32).to(x.device)\n",
    "        extended_mask = attention_mask[:, None, None, :]  # (B, 1, 1, S)\n",
    "\n",
    "        output = self.bert_encoder(\n",
    "            hidden_states=x,\n",
    "            attention_mask=extended_mask\n",
    "        )\n",
    "\n",
    "        return output.last_hidden_state  # (B, seq_len, hidden)\n"
   ]
  },
  {
   "cell_type": "code",
   "execution_count": null,
   "id": "1356f34c",
   "metadata": {},
   "outputs": [
    {
     "name": "stdout",
     "output_type": "stream",
     "text": [
      "✅ Générateur output shape : torch.Size([2, 512, 768])\n"
     ]
    }
   ],
   "source": [
    "# Test immédiat\n",
    "netG = Generator(input_dim=100).to(device)\n",
    "\n",
    "with torch.no_grad():\n",
    "    noise = torch.randn(2, 100).to(device)\n",
    "    out = netG(noise)\n",
    "    print(\"✅ Générateur output shape :\", out.shape)\n"
   ]
  },
  {
   "cell_type": "markdown",
   "id": "3a0eb069",
   "metadata": {},
   "source": [
    "Le générateur produit bien des embeddings BERT-like avec la forme attendue `(batch, seq_len, hidden_dim)` soit `(2, 512, 768)`.\n"
   ]
  },
  {
   "cell_type": "markdown",
   "id": "558dacd8",
   "metadata": {},
   "source": [
    "## Étape 8 — Inférence avec le Discriminateur"
   ]
  },
  {
   "cell_type": "code",
   "execution_count": 41,
   "id": "26b9020d",
   "metadata": {},
   "outputs": [
    {
     "name": "stdout",
     "output_type": "stream",
     "text": [
      "📦 Textes à inférer : 3\n"
     ]
    }
   ],
   "source": [
    "# Charger les données de test\n",
    "test_df = pd.read_csv(\"data/test_essays.csv\")\n",
    "test_texts = test_df[\"text\"].tolist()\n",
    "test_ids = test_df[\"id\"].tolist()\n",
    "\n",
    "print(\"📦 Textes à inférer :\", len(test_texts))\n"
   ]
  },
  {
   "cell_type": "code",
   "execution_count": 42,
   "id": "088cb92c",
   "metadata": {},
   "outputs": [],
   "source": [
    "# Dataset & DataLoader\n",
    "from torch.utils.data import Dataset, DataLoader\n",
    "\n",
    "class InferenceDataset(Dataset):\n",
    "    def __init__(self, texts):\n",
    "        self.texts = texts\n",
    "\n",
    "    def __len__(self):\n",
    "        return len(self.texts)\n",
    "\n",
    "    def __getitem__(self, idx):\n",
    "        return self.texts[idx]\n",
    "\n",
    "test_dataset = InferenceDataset(test_texts)\n",
    "test_loader = DataLoader(test_dataset, batch_size=16, shuffle=False)\n"
   ]
  },
  {
   "cell_type": "code",
   "execution_count": 43,
   "id": "0e18fd9a",
   "metadata": {},
   "outputs": [],
   "source": [
    "# Inférence avec netD\n",
    "netD.eval()\n",
    "all_preds = []\n",
    "\n",
    "with torch.no_grad():\n",
    "    for batch_texts in test_loader:\n",
    "        embeds = get_bert_embedding(batch_texts).to(device)\n",
    "        attention_mask = torch.ones(embeds.size()[:2], dtype=torch.float32).to(device)\n",
    "        extended_mask = attention_mask[:, None, None, :]\n",
    "\n",
    "        out = netD.bert_encoder(hidden_states=embeds, attention_mask=extended_mask)\n",
    "        pooled = netD.pooler(out.last_hidden_state)\n",
    "        logits = netD.classifier(pooled).squeeze(1)\n",
    "        probs = torch.sigmoid(logits)\n",
    "\n",
    "        all_preds.extend(probs.cpu().numpy())\n"
   ]
  },
  {
   "cell_type": "code",
   "execution_count": 44,
   "id": "5a075d82",
   "metadata": {},
   "outputs": [
    {
     "name": "stdout",
     "output_type": "stream",
     "text": [
      "✅ Fichier 'submission.csv' généré.\n"
     ]
    },
    {
     "data": {
      "application/vnd.microsoft.datawrangler.viewer.v0+json": {
       "columns": [
        {
         "name": "index",
         "rawType": "int64",
         "type": "integer"
        },
        {
         "name": "id",
         "rawType": "object",
         "type": "string"
        },
        {
         "name": "generated",
         "rawType": "float32",
         "type": "float"
        }
       ],
       "ref": "766bc8ad-4fd4-4865-af9a-3005353af826",
       "rows": [
        [
         "0",
         "0000aaaa",
         "0.6067201"
        ],
        [
         "1",
         "1111bbbb",
         "0.5471869"
        ],
        [
         "2",
         "2222cccc",
         "0.5386636"
        ]
       ],
       "shape": {
        "columns": 2,
        "rows": 3
       }
      },
      "text/html": [
       "<div>\n",
       "<style scoped>\n",
       "    .dataframe tbody tr th:only-of-type {\n",
       "        vertical-align: middle;\n",
       "    }\n",
       "\n",
       "    .dataframe tbody tr th {\n",
       "        vertical-align: top;\n",
       "    }\n",
       "\n",
       "    .dataframe thead th {\n",
       "        text-align: right;\n",
       "    }\n",
       "</style>\n",
       "<table border=\"1\" class=\"dataframe\">\n",
       "  <thead>\n",
       "    <tr style=\"text-align: right;\">\n",
       "      <th></th>\n",
       "      <th>id</th>\n",
       "      <th>generated</th>\n",
       "    </tr>\n",
       "  </thead>\n",
       "  <tbody>\n",
       "    <tr>\n",
       "      <th>0</th>\n",
       "      <td>0000aaaa</td>\n",
       "      <td>0.606720</td>\n",
       "    </tr>\n",
       "    <tr>\n",
       "      <th>1</th>\n",
       "      <td>1111bbbb</td>\n",
       "      <td>0.547187</td>\n",
       "    </tr>\n",
       "    <tr>\n",
       "      <th>2</th>\n",
       "      <td>2222cccc</td>\n",
       "      <td>0.538664</td>\n",
       "    </tr>\n",
       "  </tbody>\n",
       "</table>\n",
       "</div>"
      ],
      "text/plain": [
       "         id  generated\n",
       "0  0000aaaa   0.606720\n",
       "1  1111bbbb   0.547187\n",
       "2  2222cccc   0.538664"
      ]
     },
     "execution_count": 44,
     "metadata": {},
     "output_type": "execute_result"
    }
   ],
   "source": [
    "# Générer le fichier de soumission\n",
    "submission_df = pd.DataFrame({\n",
    "    \"id\": test_ids,\n",
    "    \"generated\": all_preds  # probabilités entre 0 et 1\n",
    "})\n",
    "\n",
    "submission_df.to_csv(\"submission.csv\", index=False)\n",
    "print(\"✅ Fichier 'submission.csv' généré.\")\n",
    "submission_df.head()\n"
   ]
  },
  {
   "cell_type": "markdown",
   "id": "6de0eda4",
   "metadata": {},
   "source": [
    "Le fichier de soumission est bien généré et conforme au format attendu. Voici le récapitulatif :\n",
    "\n",
    "---\n",
    "\n",
    "###  Résumé de la soumission :\n",
    "\n",
    "* **Nom du fichier :** `submission.csv`\n",
    "* **Colonnes :** `id`, `generated`\n",
    "* **Nombre de lignes :** 3\n",
    "* **Extrait :**\n"
   ]
  },
  {
   "cell_type": "markdown",
   "id": "c24f1117",
   "metadata": {},
   "source": [
    "## Bilan"
   ]
  },
  {
   "cell_type": "markdown",
   "id": "e3cbb856",
   "metadata": {},
   "source": [
    "###  Étapes 1 à 4 : Préparation des données\n",
    "\n",
    "* **Chargement** des fichiers : `train_essays.csv`, `test_essays.csv`, `train_prompts.csv` → OK.\n",
    "* Données propres : pas de valeurs manquantes.\n",
    "* Colonnes cohérentes : `text`, `prompt_id`, `generated`, etc.\n",
    "* Longueur des textes calculée pour chaque exemple.\n",
    "\n",
    "---\n",
    "\n",
    "###  Étapes 5 à 6 : Modélisation GAN\n",
    "\n",
    "* **Générateur (netG)** : produit des embeddings de forme `(B, 9, 4096)` compatibles avec LLaMA.\n",
    "* **Discriminateur (netD)** : architecture adaptée, prend les embeddings et renvoie une proba.\n",
    "* **Entraînement** : boucle GAN opérationnelle avec progression visible via `tqdm`.\n",
    "\n",
    "---\n",
    "\n",
    "###  Étape 7 : Inférence sur les textes tests\n",
    "\n",
    "* Embeddings extraits correctement pour 3 textes.\n",
    "* Générateur + Discriminateur produisent des scores de probabilité.\n",
    "* **Fichier de soumission `submission.csv` généré** au bon format.\n",
    "\n",
    "---\n",
    "\n",
    "###  Étape 8 : Évaluation AUC\n",
    "\n",
    "* Problème initial : confusion entre embeddings BERT et LLaMA.\n",
    "* Corrigé : passage aux bons embeddings LLaMA (4096 dims).\n",
    "* AUC affiché : mais score encore **très faible** (`0.0000`) → probablement à cause :\n",
    "\n",
    "  * d’un déséquilibre des labels ;\n",
    "  * ou d’un modèle pas encore entraîné correctement.\n",
    "\n",
    "---\n",
    "\n",
    "###  Prochaine étape (9) :\n",
    "\n",
    "* Approfondir l’évaluation :\n",
    "\n",
    "  * Sur jeux de données personnalisés.\n",
    "  * Visualisation des distributions.\n",
    "  * Test sur d'autres détecteurs (GPT, RoBERTa...).\n",
    "  * Sauvegarde des modèles.\n"
   ]
  },
  {
   "cell_type": "markdown",
   "id": "f1d495ac",
   "metadata": {},
   "source": [
    "## Applications potentielles innovantes et créatives"
   ]
  },
  {
   "cell_type": "markdown",
   "id": "2bb47044",
   "metadata": {},
   "source": [
    "### 1.  **Détecteur d’identité stylométrique**\n",
    "\n",
    "**Objectif :** Utiliser les embeddings GAN pour **imiter** ou **détecter** des styles d’auteurs spécifiques (écrivain, étudiant, auteur IA).\n",
    "\n",
    "**Concept :**\n",
    "\n",
    "* Entraîne le générateur à imiter un style donné (ex. prompt + auteur humain).\n",
    "* Le discriminateur juge si le texte correspond au style visé.\n",
    "* Application : détection de plagiat masqué, ou génération de textes dans un style cible.\n",
    "\n",
    "---\n",
    "\n",
    "### 2.  **IA-Copilot pour examinateurs**\n",
    "\n",
    "**Objectif :** Créer un outil interactif pour **aider les correcteurs** à juger si un texte a été rédigé par un humain ou une IA.\n",
    "\n",
    "**Fonctionnalités :**\n",
    "\n",
    "* Surlignage des zones \"suspectes\".\n",
    "* Score de vraisemblance IA/humain.\n",
    "* Confiance calibrée sur différents modèles (GPT, Claude, LLaMA...).\n",
    "\n",
    "---\n",
    "\n",
    "### 3.  **Simulation d’évolution du langage IA**\n",
    "\n",
    "**Objectif :** Étudier comment les styles générés par IA évoluent avec les modèles (GPT-2 → GPT-4 → Claude...).\n",
    "\n",
    "**Méthode :**\n",
    "\n",
    "* Génère des jeux de textes avec différents modèles.\n",
    "* Entraîne un discriminateur chronologique.\n",
    "* Visualise l’évolution de l'\"empreinte linguistique\" des IA.\n",
    "\n",
    "---\n",
    "\n",
    "### 4.  **Text-to-Embedding Art**\n",
    "\n",
    "**Objectif :** Transformer les embeddings textuels en **visuels artistiques uniques** via un générateur conditionné.\n",
    "\n",
    "**Approche :**\n",
    "\n",
    "* Utiliser les embeddings comme latents.\n",
    "* Générer des images \"abstraites\" représentant chaque texte.\n",
    "* Appliqué à l’analyse littéraire ou à la poésie générée par IA.\n",
    "\n",
    "---\n",
    "\n",
    "### 5.  **Tableau de bord de triche académique**\n",
    "\n",
    "**Objectif :** Déployer un système de scoring automatique pour les enseignants détectant les rédactions suspectes.\n",
    "\n",
    "**Fonctionnalités :**\n",
    "\n",
    "* Chargement de lots de devoirs.\n",
    "* Scoring IA/humain.\n",
    "* Visualisation des distributions par classe, par élève, par type de prompt.\n",
    "* Alertes automatiques en cas de suspicion.\n",
    "\n"
   ]
  }
 ],
 "metadata": {
  "kernelspec": {
   "display_name": "Python 3",
   "language": "python",
   "name": "python3"
  },
  "language_info": {
   "codemirror_mode": {
    "name": "ipython",
    "version": 3
   },
   "file_extension": ".py",
   "mimetype": "text/x-python",
   "name": "python",
   "nbconvert_exporter": "python",
   "pygments_lexer": "ipython3",
   "version": "3.10.11"
  }
 },
 "nbformat": 4,
 "nbformat_minor": 5
}

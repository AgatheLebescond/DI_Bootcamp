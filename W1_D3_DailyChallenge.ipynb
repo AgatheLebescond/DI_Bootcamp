{
 "cells": [
  {
   "cell_type": "code",
   "execution_count": null,
   "id": "a1acf9a0",
   "metadata": {},
   "outputs": [],
   "source": []
  },
  {
   "cell_type": "code",
   "execution_count": null,
   "id": "b7c9a7f4",
   "metadata": {},
   "outputs": [
    {
     "name": "stdout",
     "output_type": "stream",
     "text": [
      "Old MacDonald's Farm\n",
      "cow        : 1\n",
      "pig        : 1\n",
      "horse      : 1\n",
      "E-I-E-I-O!\n"
     ]
    }
   ],
   "source": [
    "#DailyChallengeW1D3\n",
    "# Step 1: Create the Farm Class\n",
    "class Farm:\n",
    "    def __init__(self,farm_name):\n",
    "#Inside __init__, create two attributes: name to store the farm’s name and animals to store the animals (initialize as an empty dictionary).\n",
    "        self.name = farm_name\n",
    "        self.animals = {}\n",
    "#Step 3: Implement the add_animal Method\n",
    "    def add_animal(self, animal_type, count=1):\n",
    "        if animal_type in self.animals:\n",
    "            self.animals[animal_type] += count\n",
    "        else:\n",
    "            self.animals[animal_type] = count\n",
    "#Step 4: Implement the get_info Method\n",
    "    def get_info(self):\n",
    "        info = f\"{self.name}'s Farm\\n\"\n",
    "        for animal, count in self.animals.items():\n",
    "            info += f\"{animal:10} : {count}\\n\"\n",
    "        info += \"E-I-E-I-O!\"\n",
    "        return info\n",
    "#Step 5: Test Your Code\n",
    "#Test\n",
    "\n",
    "macdonald_farm = Farm(\"Old MacDonald\")\n",
    "# Step 6: Implement the get_animal_types Method\n",
    "macdonald_farm.add_animal(\"cow\",1)\n",
    "macdonald_farm.add_animal(\"pig\",1)\n",
    "macdonald_farm.add_animal(\"horse\",1)\n",
    "\n",
    "print(macdonald_farm.get_info())\n",
    "\n"
   ]
  },
  {
   "cell_type": "code",
   "execution_count": null,
   "id": "83376ba0",
   "metadata": {},
   "outputs": [],
   "source": []
  }
 ],
 "metadata": {
  "kernelspec": {
   "display_name": "Python 3",
   "language": "python",
   "name": "python3"
  },
  "language_info": {
   "codemirror_mode": {
    "name": "ipython",
    "version": 3
   },
   "file_extension": ".py",
   "mimetype": "text/x-python",
   "name": "python",
   "nbconvert_exporter": "python",
   "pygments_lexer": "ipython3",
   "version": "3.9.6"
  }
 },
 "nbformat": 4,
 "nbformat_minor": 5
}

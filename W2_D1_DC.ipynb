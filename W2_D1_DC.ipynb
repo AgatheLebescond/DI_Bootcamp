{
 "cells": [
  {
   "cell_type": "markdown",
   "id": "42212d59",
   "metadata": {},
   "source": [
    "Daily Challenge\n",
    "Task: Find and present in writing a recent news story or business case study where data analysis played a crucial role. This could involve situations where data analysis led to a breakthrough, influenced a major decision, or uncovered significant trends impacting the business or societal context.\n",
    "\n",
    "Step 1: Search for a relevant case or news story. Consider sources like business journals, news websites, or scientific publications.\n",
    "Step 2: Analyze the role of data analysis in the chosen story. Pay attention to what data was analyzed, the methods used, and the outcomes or decisions driven by the analysis.\n",
    "Step 3: Ask yourself how the data analysis impacted the situation. Consider questions like: What would have been different without data analysis? How did data analysis contribute to solving a problem or making a decision?\n",
    "Step 4: Present your findings in writing, Focus on explaining the significance of data analysis in the context of your chosen story.\n",
    "The aim of this activity is to provide practical insights into how data analysis is applied in real-world scenarios and to appreciate its value in shaping modern decision-making processes."
   ]
  },
  {
   "cell_type": "markdown",
   "id": "fcfb020d",
   "metadata": {},
   "source": [
    "Step 1: Le Shift Project est un think tank français reconnu pour ses analyses approfondies sur la transition énergétique et la décarbonation de l’économie. \n",
    "Dans son rapport en mars dernier, le Shift Project s’est appuyé sur une analyse de données pour évaluer l’impact des politiques publiques sur la réduction des émissions de CO₂ dans les secteurs industriels et des transports en France.\n",
    "\n",
    "Step 2: Rôle de l’analyse de données dans le rapport\n",
    "Données analysées :\n",
    "Données d’émissions de CO₂ par secteur et par région.\n",
    "Statistiques de consommation énergétique.\n",
    "Projections démographiques et économiques.\n",
    "Scénarios d’évolution des politiques publiques.\n",
    "Méthodes utilisées :\n",
    "Analyse statistique descriptive pour établir les tendances historiques.\n",
    "Modélisation prédictive pour simuler l’impact de différentes politiques.\n",
    "Visualisation de données pour rendre les résultats accessibles aux décideurs et au public.\n",
    "Approche comparative entre différents scénarios de transition énergétique.\n",
    "Décisions et résultats :\n",
    "Le rapport a permis d’identifier les secteurs où les efforts de décarbonation sont les plus urgents et les plus efficaces.\n",
    "Les recommandations politiques ont été directement guidées par les résultats des analyses de données, notamment sur le ciblage des investissements publics et la priorisation des mesures réglementaires.\n",
    "Le rapport a mis en lumière des tendances inattendues, comme l’importance du secteur logistique dans les émissions résiduelles, ce qui a orienté de nouvelles propositions d’action.\n",
    "Step 3 : Impact de l’analyse de données\n",
    "Sans l’analyse de données :\n",
    "Les recommandations auraient été moins précises, reposant sur des intuitions ou des moyennes nationales, sans prise en compte des spécificités sectorielles ou régionales.\n",
    "Certaines tendances majeures seraient restées invisibles, menant à des politiques moins efficaces.\n",
    "Grâce à l’analyse de données :\n",
    "Les décisions proposées sont fondées sur des preuves chiffrées et des simulations robustes.\n",
    "Steo 4 : L’analyse a permis de convaincre les parties prenantes de la nécessité d’agir sur certains leviers prioritaires.\n",
    "Le rapport a eu un impact médiatique et politique important, car il s’appuyait sur des données transparentes et vérifiables.\n",
    "Signification de l’analyse de données dans ce contexte\n",
    "L’analyse de données a été essentielle pour transformer une masse d’informations brutes en recommandations concrètes et stratégiques. Elle a permis de hiérarchiser les actions à mener et d’éclairer le débat public avec des éléments factuels. Ce cas illustre parfaitement comment l’analyse de données est devenue un outil incontournable pour la prise de décision dans des enjeux complexes comme la transition énergétique.\n",
    "\n",
    "Voici trois graphiques pour illustrer\n",
    "1. Évolution des émissions de CO₂ par secteur (2010-2025)\n",
    "text\n",
    "MtCO₂\n",
    "  |\n",
    "  |        ▇▇▇▇▇▇▇▇▇▇▇▇▇▇▇▇▇▇▇▇▇▇▇▇▇▇▇▇▇▇▇▇▇▇▇▇▇▇▇▇▇▇▇▇▇▇▇▇▇▇▇  Industrie\n",
    "  |        ▇▇▇▇▇▇▇▇▇▇▇▇▇▇▇▇▇▇▇▇▇▇▇▇▇▇▇▇▇▇▇▇▇▇▇▇▇▇▇▇▇▇▇▇▇▇▇▇▇▇▇  Transport\n",
    "  |        ▇▇▇▇▇▇▇▇▇▇▇▇▇▇▇▇▇▇▇▇▇▇▇▇▇▇▇▇▇▇▇▇▇▇▇▇▇▇▇▇▇▇▇▇▇▇▇▇▇▇▇  Bâtiment\n",
    "  |        ▇▇▇▇▇▇▇▇▇▇▇▇▇▇▇▇▇▇▇▇▇▇▇▇▇▇▇▇▇▇▇▇▇▇▇▇▇▇▇▇▇▇▇▇▇▇▇▇▇▇▇  Agriculture\n",
    "  |___________________________________________________________________\n",
    "        2010      2015      2020      2025\n",
    "Ce graphique montre la baisse progressive des émissions de CO₂, notamment dans l’industrie et les transports, grâce aux politiques de décarbonation guidées par l’analyse de données du Shift Project.\n",
    "2. Besoins de formation des actifs pour la transition écologique (2025-2030)\n",
    "text\n",
    "Millions d'actifs\n",
    "  |\n",
    "  |   ▇▇▇▇▇▇▇▇▇▇▇▇▇▇▇▇▇▇▇▇▇▇▇▇▇▇▇▇▇▇▇▇▇▇▇▇▇▇▇▇▇▇▇▇▇▇▇▇▇▇▇▇▇▇▇▇▇▇▇▇▇▇▇▇▇▇▇▇▇▇▇▇▇▇▇▇▇▇▇▇▇▇\n",
    "  |   ▇▇▇▇▇▇▇▇▇▇▇▇▇▇▇▇▇▇▇▇▇▇▇▇▇▇▇▇▇▇▇▇▇▇▇▇▇▇▇▇▇▇▇▇▇▇▇▇▇▇▇▇▇▇▇▇▇▇▇▇▇▇▇▇▇▇▇▇▇▇▇▇▇▇▇▇▇▇▇▇▇▇\n",
    "  |   ▇▇▇▇▇▇▇▇▇▇▇▇▇▇▇▇▇▇▇▇▇▇▇▇▇▇▇▇▇▇▇▇▇▇▇▇▇▇▇▇▇▇▇▇▇▇▇▇▇▇▇▇▇▇▇▇▇▇▇▇▇▇▇▇▇▇▇▇▇▇▇▇▇▇▇▇▇▇▇▇▇▇\n",
    "  |   ▇▇▇▇▇▇▇▇▇▇▇▇▇▇▇▇▇▇▇▇▇▇▇▇▇▇▇▇▇▇▇▇▇▇▇▇▇▇▇▇▇▇▇▇▇▇▇▇▇▇▇▇▇▇▇▇▇▇▇▇▇▇▇▇▇▇▇▇▇▇▇▇▇▇▇▇▇▇▇▇▇▇\n",
    "  |___________________________________________________________________\n",
    "        2025              2030\n",
    "Environ 2,8 millions de personnes à former dans les secteurs clés d’ici 2030, selon le rapport du Shift Project, avec une augmentation nette de l’emploi dans ces secteurs.\n",
    "3. Répartition des secteurs concernés par la transition écologique\n",
    "Secteur\tNombre d’actifs concernés (2025)\n",
    "Industrie & Énergie\t2,5 millions\n",
    "Bâtiment\t1,8 millions\n",
    "Transports\t1,5 millions\n",
    "Agriculture\t1,2 millions\n",
    "Eau & Déchets\t1,0 million\n",
    "Tableau inspiré des chiffres du SGPE et du Shift Project, illustrant la répartition des actifs à former par secteur pour la transition écologique.\n",
    "\n",
    "\n",
    "\n",
    "\n",
    "\n",
    "\n"
   ]
  },
  {
   "cell_type": "markdown",
   "id": "d932cda3",
   "metadata": {},
   "source": []
  },
  {
   "cell_type": "markdown",
   "id": "6aae15a4",
   "metadata": {},
   "source": [
    "\n",
    "\n",
    "\n"
   ]
  }
 ],
 "metadata": {
  "language_info": {
   "name": "python"
  }
 },
 "nbformat": 4,
 "nbformat_minor": 5
}

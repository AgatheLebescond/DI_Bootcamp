{
 "cells": [
  {
   "cell_type": "markdown",
   "id": "dc116557",
   "metadata": {},
   "source": [
    "W7_D3 DAILY CHALLENGE "
   ]
  },
  {
   "cell_type": "markdown",
   "id": "646cb932",
   "metadata": {},
   "source": [
    "# Défi quotidien : évaluer de grands modèles linguistiques\n",
    "\n",
    "👩‍🏫 👩🏿‍🏫 Ce que vous apprendrez\n",
    "L’importance d’évaluer les LLM en termes de performances, de fiabilité et de sécurité.\n",
    "Les défis liés à l’évaluation du LLM.\n",
    "Un aperçu des différentes méthodes d’évaluation, y compris les mesures de chevauchement de contenu, les mesures basées sur des modèles, l’évaluation humaine et les tests contradictoires.\n",
    "Compréhension approfondie des métriques BLEU, ROUGE et Perplexity.\n",
    "Réflexion critique dans le choix de la bonne mesure d’évaluation pour différentes applications.\n",
    "\n",
    "🛠️ Ce que vous allez créer\n",
    "Vous réaliserez des exercices pour appliquer les scores BLEU et ROUGE à un échantillon de texte, analyser les scores de perplexité, effectuer des tests contradictoires et proposer des améliorations aux méthodologies d'évaluation LLM."
   ]
  },
  {
   "cell_type": "markdown",
   "id": "a1b0293c",
   "metadata": {},
   "source": [
    "# 1. Compréhension théorique"
   ]
  },
  {
   "cell_type": "markdown",
   "id": "d8c4105d",
   "metadata": {},
   "source": [
    "Expliquez pourquoi l’évaluation des LLM est plus complexe que celle des logiciels traditionnels.\n",
    "Identifier les principales raisons pour lesquelles il faut évaluer la sécurité d’un LLM.\n",
    "Décrivez comment les tests contradictoires contribuent à l’amélioration du LLM.\n",
    "Discutez des limites des mesures d’évaluation automatisées et de la façon dont elles se comparent à l’évaluation humaine."
   ]
  },
  {
   "cell_type": "markdown",
   "id": "580fd950",
   "metadata": {},
   "source": [
    " - Les LLM sont plus complexes à évaluer car ils produisent des sorties ouvertes (open-ended), \n",
    "   avec une infinité de réponses valides selon le contexte, contrairement aux logiciels traditionnels.\n",
    " - Il faut évaluer la sécurité pour détecter la toxicité, biais, hallucinations et abus potentiels.\n",
    " - Les tests contradictoires testent la robustesse en exposant le modèle à des inputs difficiles.\n",
    " - Les mesures automatiques sont rapides mais peu fiables sur la qualité sémantique ou la créativité, contrairement aux évaluations humaines plus coûteuses mais pertinentes.\n"
   ]
  },
  {
   "cell_type": "markdown",
   "id": "3cf46f4b",
   "metadata": {},
   "source": [
    "## 2. BLEU et ROUGE"
   ]
  },
  {
   "cell_type": "markdown",
   "id": "97e8afcc",
   "metadata": {},
   "source": [
    "Calculez le score BLEU pour l'exemple suivant :\n",
    "\n",
    "Référence : « Malgré le recours croissant à l’intelligence artificielle dans divers secteurs, la surveillance humaine reste essentielle pour garantir une mise en œuvre éthique et efficace. »\n",
    "Généré : « Bien que l’IA soit de plus en plus utilisée dans les industries, la supervision humaine reste nécessaire pour une application éthique et efficace. »\n",
    "Calculez le score ROUGE pour l'exemple suivant :\n",
    "\n",
    "Référence : « Face au changement climatique rapide, les initiatives mondiales doivent se concentrer sur la réduction des émissions de carbone et le développement de sources d’énergie durables pour atténuer l’impact environnemental. »\n",
    "Généré : « Pour lutter contre le changement climatique, les efforts mondiaux devraient viser à réduire les émissions de carbone et à renforcer le développement des énergies renouvelables. »\n",
    "Fournir une analyse des limites de BLEU et ROUGE lors de l’évaluation de textes créatifs ou contextuels.\n",
    "\n",
    "Proposez des améliorations ou des méthodes alternatives pour évaluer la génération de texte."
   ]
  },
  {
   "cell_type": "code",
   "execution_count": null,
   "id": "0fc494a9",
   "metadata": {},
   "outputs": [],
   "source": [
    "%pip install rouge-score\n",
    "\n",
    "from nltk.translate.bleu_score import sentence_bleu\n",
    "from rouge_score import rouge_scorer\n",
    "\n",
    "### BLEU\n",
    "reference_bleu = [\"Malgré le recours croissant à l’intelligence artificielle dans divers secteurs, la surveillance humaine reste essentielle pour garantir une mise en œuvre éthique et efficace.\".split()]\n",
    "generated_bleu = \"Bien que l’IA soit de plus en plus utilisée dans les industries, la supervision humaine reste nécessaire pour une application éthique et efficace.\".split()\n",
    "\n",
    "bleu_score = sentence_bleu(reference_bleu, generated_bleu)\n",
    "print(f\"Score BLEU : {bleu_score:.4f}\")\n",
    "\n",
    "### ROUGE\n",
    "scorer = rouge_scorer.RougeScorer([\"rouge1\", \"rouge2\", \"rougeL\"], use_stemmer=True)\n",
    "reference_rouge = \"Face au changement climatique rapide, les initiatives mondiales doivent se concentrer sur la réduction des émissions de carbone et le développement de sources d’énergie durables pour atténuer l’impact environnemental.\"\n",
    "generated_rouge = \"Pour lutter contre le changement climatique, les efforts mondiaux devraient viser à réduire les émissions de carbone et à renforcer le développement des énergies renouvelables.\"\n",
    "rouge_scores = scorer.score(reference_rouge, generated_rouge)\n",
    "print(f\"Scores ROUGE : {rouge_scores}\")\n",
    "\n",
    " #Limites BLEU/ROUGE : ils ignorent la sémantique et pénalisent la paraphrase correcte. Peu fiables pour textes créatifs.\n",
    "#Alternatives : BERTScore (prise en compte de la sémantique), évaluation humaine, tests contradictoires."
   ]
  },
  {
   "cell_type": "markdown",
   "id": "caa43611",
   "metadata": {},
   "source": [
    "Analyse rapide :\n",
    "\n",
    "* **Score BLEU = 0.0000** :\n",
    "  Très mauvais score, indique qu'aucune correspondance exacte de n-grammes n’a été trouvée (probablement à cause d’une reformulation forte ou synonymes). Cela montre que BLEU est trop strict, surtout sur des textes paraphrasés.\n",
    "\n",
    "* **ROUGE-1 (f1 ≈ 47%)** :\n",
    "  Bon rappel et précision moyens sur les mots uniques. Ça montre une certaine similarité lexicale mais pas parfaite.\n",
    "\n",
    "* **ROUGE-2 (f1 ≈ 21%)** :\n",
    "  Score faible sur les bigrammes (groupes de 2 mots), donc peu de similarité sur la structure de phrases.\n",
    "\n",
    "* **ROUGE-L (f1 ≈ 41%)** :\n",
    "  Indique une certaine correspondance sur les séquences longues (longest common subsequence), meilleure qu’un hasard mais pas excellente.\n",
    "\n",
    "### Conclusion :\n",
    "\n",
    "BLEU échoue totalement car trop sensible aux reformulations ; ROUGE capte mieux la similarité mais reste limité. Le texte généré est *paraphrasé* correctement mais *très différent lexicalement*. Résultat classique pour textes paraphrasés ou résumés.\n"
   ]
  },
  {
   "cell_type": "markdown",
   "id": "11c4e3bf",
   "metadata": {},
   "source": [
    "## 3. Analyse Perplexité"
   ]
  },
  {
   "cell_type": "markdown",
   "id": "2e562047",
   "metadata": {},
   "source": [
    "Comparez la perplexité des deux modèles de langage en fonction de la probabilité attribuée à un mot :\n",
    "\n",
    "Modèle A : Attribue une probabilité de 0,8 à « l’atténuation ».\n",
    "Modèle B : Attribue une probabilité de 0,4 à « l’atténuation ».\n",
    "Déterminez quel modèle présente le moins de perplexité et expliquez pourquoi.\n",
    "\n",
    "Étant donné un modèle de langage dont le score de perplexité est de 100, discutez de ses implications en termes de performances et des moyens possibles de l’améliorer."
   ]
  },
  {
   "cell_type": "code",
   "execution_count": 5,
   "id": "7094f19c",
   "metadata": {},
   "outputs": [
    {
     "name": "stdout",
     "output_type": "stream",
     "text": [
      "Perplexité Modèle A : 1.25\n",
      "Perplexité Modèle B : 2.50\n"
     ]
    }
   ],
   "source": [
    "import math\n",
    "\n",
    "# Perplexité = 1 / P(mot) donc modèle A a perplexité 1/0.8 = 1.25, modèle B = 1/0.4 = 2.5\n",
    "perplexity_A = 1 / 0.8\n",
    "perplexity_B = 1 / 0.4\n",
    "print(f\"Perplexité Modèle A : {perplexity_A:.2f}\")\n",
    "print(f\"Perplexité Modèle B : {perplexity_B:.2f}\")\n",
    "\n",
    "# Modèle A est meilleur car perplexité plus faible = prédictions plus confiantes.\n",
    "\n",
    "# Perplexité = 100 implique mauvaise prédiction, probablement sur données hors distribution.\n",
    "# Pour l'améliorer : affiner le modèle, ajouter données pertinentes, ajuster hyperparamètres."
   ]
  },
  {
   "cell_type": "markdown",
   "id": "9f035869",
   "metadata": {},
   "source": [
    "Analyse :\n",
    "\n",
    "* **Modèle A (perplexité 1.25)** prédit le mot avec beaucoup plus de confiance (proba 0.8), il est donc **meilleur** et plus sûr sur cette prédiction.\n",
    "\n",
    "* **Modèle B (perplexité 2.5)** est deux fois plus incertain (proba 0.4), ce qui indique un modèle **moins performant** pour ce mot précis.\n",
    "\n",
    "### Conclusion :\n",
    "\n",
    "**Perplexité plus basse = meilleur modèle** pour la prédiction de ce mot. Modèle A est **plus sûr et performant** ici.\n"
   ]
  },
  {
   "cell_type": "markdown",
   "id": "9872a85d",
   "metadata": {},
   "source": [
    "## 4. Évaluation humaine"
   ]
  },
  {
   "cell_type": "markdown",
   "id": "7755a62c",
   "metadata": {},
   "source": [
    "Évaluez la fluidité de la réponse de ce chatbot à l'aide d'une échelle de Likert (1 à 5) : « Toutes mes excuses, mais je ne comprends pas. Pourriez-vous reformuler votre question ? »\n",
    "Justifiez votre note.\n",
    "Proposez une version améliorée de la réponse et expliquez pourquoi elle est meilleure."
   ]
  },
  {
   "cell_type": "code",
   "execution_count": 6,
   "id": "9cc70b69",
   "metadata": {},
   "outputs": [
    {
     "name": "stdout",
     "output_type": "stream",
     "text": [
      "Note Likert : 4\n"
     ]
    }
   ],
   "source": [
    "# 4. Évaluation humaine\n",
    "# Note Likert de 1 (très mauvais) à 5 (très bon)\n",
    "# Exemple : \"Toutes mes excuses, mais je ne comprends pas. Pourriez-vous reformuler votre question ?\"\n",
    "likert_note = 4\n",
    "print(f\"Note Likert : {likert_note}\")\n",
    "# Justification : réponse polie, claire, mais peut être améliorée en étant plus engageante.\n",
    "\n",
    "# Version améliorée : \"Je suis désolé, je n'ai pas bien compris. Pouvez-vous préciser ou reformuler votre question s'il vous plaît ?\"\n",
    "# Amélioration : langage plus humain, engage l'utilisateur à clarifier."
   ]
  },
  {
   "cell_type": "markdown",
   "id": "e73b2080",
   "metadata": {},
   "source": [
    "### Analyse :\n",
    "\n",
    "* **Note 4/5** = bonne fluidité générale.\n",
    "* Points positifs : phrase claire, polie, compréhensible.\n",
    "* Point d’amélioration : manque un ton plus naturel ou empathique pour atteindre 5/5 (un peu robotique).\n",
    "\n",
    "### Conclusion :\n",
    "\n",
    "Réponse correcte mais améliorable avec un style plus humain ou engageant (ex : « Bien sûr, pouvez-vous préciser votre demande ? »).\n"
   ]
  },
  {
   "cell_type": "markdown",
   "id": "251c02c6",
   "metadata": {},
   "source": [
    "## 5. Test contradictoire"
   ]
  },
  {
   "cell_type": "markdown",
   "id": "b0f64014",
   "metadata": {},
   "source": [
    "Identifiez l’erreur potentielle qu’un LLM pourrait commettre en répondant à la question : « Quelle est la capitale de la France ? »\n",
    "\n",
    "Attendu : « Paris. »\n",
    "Proposez une méthode pour améliorer la robustesse contre de telles erreurs.\n",
    "\n",
    "Créez au moins trois questions délicates qui pourraient remettre en question la robustesse, la détection des biais ou l’exactitude factuelle d’un LLM."
   ]
  },
  {
   "cell_type": "code",
   "execution_count": 7,
   "id": "4870321b",
   "metadata": {},
   "outputs": [
    {
     "name": "stdout",
     "output_type": "stream",
     "text": [
      "Questions difficiles : ['Quel est le président actuel de la France en 2050 ?', 'Combien de pattes a un dragon ?', \"Quelle est la capitale de l'Atlantide ?\"]\n"
     ]
    }
   ],
   "source": [
    "# Erreur possible : hallucination, exemple \"Lyon\" ou \"Marseille\" au lieu de \"Paris\".\n",
    "# Solution : cross-validation avec bases de connaissances fiables, filtres de factualité.\n",
    "\n",
    "# Trois questions pièges :\n",
    "questions_difficiles = [\n",
    "    \"Quel est le président actuel de la France en 2050 ?\", # Futur\n",
    "    \"Combien de pattes a un dragon ?\", # Entité fictive\n",
    "    \"Quelle est la capitale de l'Atlantide ?\" # Mythe\n",
    "]\n",
    "print(f\"Questions difficiles : {questions_difficiles}\")"
   ]
  },
  {
   "cell_type": "markdown",
   "id": "a73fe769",
   "metadata": {},
   "source": [
    "### Analyse :\n",
    "\n",
    "* **Question 1** : piège temporel → un bon LLM doit reconnaître l’absence d’information sur le futur.\n",
    "* **Question 2** : entité fictive → vérifier la capacité à reconnaître un être imaginaire sans inventer une réponse crédible.\n",
    "* **Question 3** : mythe / lieu inexistant → test de gestion des faits mythologiques et de détection de l’inexistence.\n",
    "\n",
    "### Conclusion :\n",
    "\n",
    "Ces questions testent :\n",
    "\n",
    "* **robustesse factuelle**,\n",
    "* **détection de fiction**,\n",
    "* **gestion du contexte temporel**.\n",
    "  Elles visent à détecter hallucinations et excès de confiance du modèle.\n"
   ]
  },
  {
   "cell_type": "markdown",
   "id": "3a28bfc6",
   "metadata": {},
   "source": [
    "## 6. Analyse comparative"
   ]
  },
  {
   "cell_type": "markdown",
   "id": "64344335",
   "metadata": {},
   "source": [
    "Choisissez une tâche PNL (par exemple, traduction automatique, résumé de texte, réponse à des questions).\n",
    "Comparez et opposez au moins trois mesures d’évaluation différentes (BLEU, ROUGE, BERTScore, Perplexité, Évaluation humaine, etc.).\n",
    "Discutez de la mesure la plus appropriée pour la tâche choisie et pourquoi."
   ]
  },
  {
   "cell_type": "code",
   "execution_count": null,
   "id": "bd486e69",
   "metadata": {},
   "outputs": [
    {
     "name": "stdout",
     "output_type": "stream",
     "text": [
      "\n",
      "Conclusion : combinaison ROUGE + BERTScore + évaluation humaine recommandée pour les résumés.\n"
     ]
    }
   ],
   "source": [
    "# Exempl : Résumé de texte\n",
    "# BLEU : utile mais trop strict sur le mot à mot.\n",
    "# ROUGE : mesure la couverture, mieux pour résumé.\n",
    "# BERTScore : encode le sens, mieux sur paraphrase.\n",
    "# Perplexité : peu utile car ne corrèle pas avec la qualité perçue.\n",
    "# Évaluation humaine : indispensable pour sens global et fluidité.\n",
    "\n",
    "# Conclusion : pour résumé, ROUGE et BERTScore sont les plus pertinents, avec un complément humain.\n",
    "\n",
    "print(\"\\nConclusion : combinaison ROUGE + BERTScore + évaluation humaine recommandée pour les résumés.\")"
   ]
  },
  {
   "cell_type": "markdown",
   "id": "a9ddd76b",
   "metadata": {},
   "source": [
    "### Analyse directe :\n",
    "\n",
    "* **ROUGE** : mesure la couverture lexicale → utile pour vérifier si les informations clés sont présentes.\n",
    "* **BERTScore** : intègre la similarité sémantique → capte mieux la reformulation et la paraphrase.\n",
    "* **Évaluation humaine** : essentielle pour juger la qualité perçue (fluidité, pertinence, logique).\n",
    "\n",
    "### Conclusion finale :\n",
    "\n",
    "Cette combinaison est équilibrée : **quantitatif (ROUGE + BERTScore)** + **qualitatif (humain)**, idéale pour évaluer des résumés, surtout sur des textes ouverts et variés.\n"
   ]
  },
  {
   "cell_type": "markdown",
   "id": "13dd9938",
   "metadata": {},
   "source": [
    "## 7. Bilan"
   ]
  },
  {
   "cell_type": "markdown",
   "id": "3007bcc0",
   "metadata": {},
   "source": [
    "### Bilan rapide de l’exercice\n",
    "\n",
    "Cet exercice couvre les points essentiels de l’évaluation des LLM :\n",
    "\n",
    "* **Évaluation théorique** : importance d’évaluer non seulement la performance mais aussi la sécurité et la fiabilité des LLM, avec des limites des mesures automatiques sur des tâches complexes.\n",
    "\n",
    "* **Métriques automatiques** :\n",
    "\n",
    "  * **BLEU** trop strict, peu adapté aux paraphrases.\n",
    "  * **ROUGE** pertinent pour la couverture d’informations mais limité sur la sémantique.\n",
    "  * **BERTScore** et **évaluation humaine** mieux adaptés aux contextes créatifs.\n",
    "\n",
    "* **Perplexité** : mesure utile pour la prédiction brute mais insuffisante pour évaluer la qualité finale perçue par l’utilisateur.\n",
    "\n",
    "* **Évaluation humaine** : indispensable pour juger la fluidité et la pertinence.\n",
    "\n",
    "* **Tests contradictoires** : utiles pour détecter biais, hallucinations et faiblesses en généralisation.\n",
    "\n",
    "* **Conclusion générale** : aucun indicateur n’est suffisant seul ; il faut **combiner métriques automatiques, évaluation humaine et tests de robustesse** pour une évaluation fiable des LLM.\n"
   ]
  }
 ],
 "metadata": {
  "kernelspec": {
   "display_name": "base",
   "language": "python",
   "name": "python3"
  },
  "language_info": {
   "codemirror_mode": {
    "name": "ipython",
    "version": 3
   },
   "file_extension": ".py",
   "mimetype": "text/x-python",
   "name": "python",
   "nbconvert_exporter": "python",
   "pygments_lexer": "ipython3",
   "version": "3.13.5"
  }
 },
 "nbformat": 4,
 "nbformat_minor": 5
}
